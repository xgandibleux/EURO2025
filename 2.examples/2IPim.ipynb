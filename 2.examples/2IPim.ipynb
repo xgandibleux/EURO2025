{
 "cells": [
  {
   "cell_type": "markdown",
   "id": "9e36126e-bb05-4dab-ab51-8732768f5ed8",
   "metadata": {},
   "source": [
    "# The 2-IP model (implicit formulation)"
   ]
  },
  {
   "cell_type": "markdown",
   "id": "96c7ff9b-1358-442b-83bc-4aca9579b52b",
   "metadata": {},
   "source": [
    "$$\n",
    "\\begin{array}{crrcrrrl}\n",
    "\\max z_1 & = & x_1 & + & x_2  \\\\\n",
    "\\min z_2 & = & x_1 & + & 3x_2 \\\\\n",
    "s.t. & \\\\\n",
    "    &&  2x_1 & + &  3x_2 & \\le & 30 \\\\\n",
    "    &&  3x_1 & + &  2x_2 & \\le & 30 \\\\\n",
    "    &&   x_1 & - &   x_2 & \\le & 5.5 \\\\\n",
    "    &&   x_1 & , &   x_2 & \\in & \\mathbb{N}\n",
    "\\end{array}\n",
    "$$"
   ]
  },
  {
   "cell_type": "markdown",
   "id": "97022a29-6561-4836-815a-35b1444fbb09",
   "metadata": {},
   "source": [
    "------"
   ]
  },
  {
   "cell_type": "markdown",
   "id": "c7572bbf-4e5d-466d-8f4a-553261530d77",
   "metadata": {},
   "source": [
    "# The JuMP model"
   ]
  },
  {
   "cell_type": "code",
   "execution_count": null,
   "id": "6102637f-c3ec-46cb-81d4-7c0f8fda8a49",
   "metadata": {},
   "outputs": [],
   "source": [
    "using JuMP, HiGHS\n",
    "import MultiObjectiveAlgorithms as MOA"
   ]
  },
  {
   "cell_type": "code",
   "execution_count": null,
   "id": "45c9396f",
   "metadata": {},
   "outputs": [],
   "source": [
    "c1 = [1,1]; c2 = -1 * [1,3]; c = vcat(c1',c2')\n",
    "a = [2 3; 3 2; 1 -1]\n",
    "b = [30, 30, 5.5]\n",
    "m,n = size(a)\n",
    "p = size(c,1)"
   ]
  },
  {
   "cell_type": "code",
   "execution_count": null,
   "id": "9aaef370-1723-4ffe-a23a-cc886a915c13",
   "metadata": {},
   "outputs": [],
   "source": [
    "md = Model( )\n",
    "\n",
    "@variable(md, x[1:n]≥0, Int)\n",
    "@expression(md, z[k=1:p], sum(c[k,j]*x[j] for j=1:n))\n",
    "@objective(md, Max, [z[k] for k=1:p])\n",
    "@constraint(md, ct[i=1:m], sum(a[i,j]*x[j] for j=1:n) ≤ b[i])\n",
    "\n",
    "print(md)"
   ]
  },
  {
   "cell_type": "code",
   "execution_count": null,
   "id": "5d584dd2-d62e-4291-a482-9eafbda70c80",
   "metadata": {},
   "outputs": [],
   "source": [
    "set_optimizer(md,()->MOA.Optimizer(HiGHS.Optimizer))\n",
    "set_attribute(md, MOA.Algorithm(), MOA.EpsilonConstraint())\n",
    "set_silent(md)\n",
    "optimize!(md)"
   ]
  },
  {
   "cell_type": "code",
   "execution_count": null,
   "id": "39a2a25f-ee71-402e-be29-ad0f4ba1bd3c",
   "metadata": {},
   "outputs": [],
   "source": [
    "for i in 1:result_count(md)\n",
    "    z_opt = [objective_value(md; result = i)[k] for k=1:p]\n",
    "    x_opt = value.(x; result = i)\n",
    "end"
   ]
  },
  {
   "cell_type": "markdown",
   "id": "a8151f19-0cff-4848-8912-1461ba8df144",
   "metadata": {},
   "source": [
    "## Plotting $Y_N$"
   ]
  },
  {
   "cell_type": "code",
   "execution_count": null,
   "id": "4e1d5aa5-9118-4a0c-abb5-f615efacafe9",
   "metadata": {},
   "outputs": [],
   "source": [
    "using Plots"
   ]
  },
  {
   "cell_type": "code",
   "execution_count": null,
   "id": "c5cf48cb-ea36-4b42-8221-6902fb7e2d6c",
   "metadata": {},
   "outputs": [],
   "source": [
    "Plots.scatter(\n",
    "    [value(z[1]; result = i) for i in 1:result_count(md)],\n",
    "    [-1 * value(z[2]; result = i) for i in 1:result_count(md)];\n",
    "    xlabel = \"objective 1\",\n",
    "    ylabel = \"objective 2\",\n",
    "    title = \"objective space\",\n",
    "    legend = false,\n",
    "    xlims = (0,25),\n",
    "    ylims = (0,25),\n",
    "    aspect_ratio=:equal,\n",
    ")"
   ]
  }
 ],
 "metadata": {
  "kernelspec": {
   "display_name": "Julia 1.10.5",
   "language": "julia",
   "name": "julia-1.10"
  },
  "language_info": {
   "file_extension": ".jl",
   "mimetype": "application/julia",
   "name": "julia",
   "version": "1.10.5"
  }
 },
 "nbformat": 4,
 "nbformat_minor": 5
}
