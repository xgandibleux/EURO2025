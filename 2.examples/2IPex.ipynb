{
 "cells": [
  {
   "cell_type": "markdown",
   "id": "9e36126e-bb05-4dab-ab51-8732768f5ed8",
   "metadata": {},
   "source": [
    "# The 2-IP model (explicit formulation)"
   ]
  },
  {
   "cell_type": "markdown",
   "id": "96c7ff9b-1358-442b-83bc-4aca9579b52b",
   "metadata": {},
   "source": [
    "$$\n",
    "\\begin{array}{crrcrrrl}\n",
    "\\max z_1 & = & x_1 & + & x_2  \\\\\n",
    "\\min z_2 & = & x_1 & + & 3x_2 \\\\\n",
    "s.t. & \\\\\n",
    "    &&  2x_1 & + &  3x_2 & \\le & 30 \\\\\n",
    "    &&  3x_1 & + &  2x_2 & \\le & 30 \\\\\n",
    "    &&   x_1 & - &   x_2 & \\le & 5.5 \\\\\n",
    "    &&   x_1 & , &   x_2 & \\in & \\mathbb{N}\n",
    "\\end{array}\n",
    "$$"
   ]
  },
  {
   "cell_type": "markdown",
   "id": "97022a29-6561-4836-815a-35b1444fbb09",
   "metadata": {},
   "source": [
    "------"
   ]
  },
  {
   "cell_type": "markdown",
   "id": "c7572bbf-4e5d-466d-8f4a-553261530d77",
   "metadata": {},
   "source": [
    "# The JuMP model"
   ]
  },
  {
   "cell_type": "code",
   "execution_count": null,
   "id": "6102637f-c3ec-46cb-81d4-7c0f8fda8a49",
   "metadata": {},
   "outputs": [],
   "source": [
    "using JuMP, HiGHS\n",
    "import MultiObjectiveAlgorithms as MOA"
   ]
  },
  {
   "cell_type": "code",
   "execution_count": null,
   "id": "9aaef370-1723-4ffe-a23a-cc886a915c13",
   "metadata": {},
   "outputs": [],
   "source": [
    "model = Model( )\n",
    "@variable(model, x1≥0, Int)\n",
    "@variable(model, x2≥0, Int)\n",
    "@expression(model, fct1, x1 + x2)\n",
    "@expression(model, fct2, x1 + 3 * x2)\n",
    "@objective(model, Max, [fct1, (-1) * fct2])\n",
    "@constraint(model, 2*x1 + 3*x2 ≤ 30)\n",
    "@constraint(model, 3*x1 + 2*x2 ≤ 30)\n",
    "@constraint(model, x1 - x2 ≤ 5.5)\n",
    "print(model)"
   ]
  },
  {
   "cell_type": "code",
   "execution_count": null,
   "id": "5d584dd2-d62e-4291-a482-9eafbda70c80",
   "metadata": {},
   "outputs": [],
   "source": [
    "set_optimizer(model,()->MOA.Optimizer(HiGHS.Optimizer))\n",
    "set_attribute(model, MOA.Algorithm(), MOA.EpsilonConstraint())\n",
    "set_silent(model)\n",
    "optimize!(model)"
   ]
  },
  {
   "cell_type": "code",
   "execution_count": null,
   "id": "39a2a25f-ee71-402e-be29-ad0f4ba1bd3c",
   "metadata": {},
   "outputs": [],
   "source": [
    "for i in 1:result_count(model)\n",
    "    z1_opt = objective_value(model; result = i)[1]\n",
    "    z2_opt = -1 * objective_value(model; result = i)[2]\n",
    "    x1_opt = value(x1; result = i)\n",
    "    x2_opt = value(x2; result = i)\n",
    "    println(\"$i: x=($x1_opt, $x2_opt) || y=f(x)=( $z1_opt , $z2_opt)\")\n",
    "end"
   ]
  },
  {
   "cell_type": "code",
   "execution_count": null,
   "id": "7ed6c361-8a20-4ac8-a8f7-60225ef8909d",
   "metadata": {},
   "outputs": [],
   "source": []
  }
 ],
 "metadata": {
  "kernelspec": {
   "display_name": "Julia 1.10.5",
   "language": "julia",
   "name": "julia-1.10"
  },
  "language_info": {
   "file_extension": ".jl",
   "mimetype": "application/julia",
   "name": "julia",
   "version": "1.10.5"
  }
 },
 "nbformat": 4,
 "nbformat_minor": 5
}
