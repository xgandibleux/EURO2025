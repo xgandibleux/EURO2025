{
 "cells": [
  {
   "cell_type": "markdown",
   "id": "9e36126e-bb05-4dab-ab51-8732768f5ed8",
   "metadata": {},
   "source": [
    "# The 1-LP model"
   ]
  },
  {
   "cell_type": "markdown",
   "id": "96c7ff9b-1358-442b-83bc-4aca9579b52b",
   "metadata": {},
   "source": [
    "$$\n",
    "\\begin{array}{crrcrrrl}\n",
    "\\max z & = & x_1 & + & 3x_2  \\\\\n",
    "s.t. & \\\\\n",
    "    &&  x_1 & + &  x_2 & \\le & 14 \\\\\n",
    "    &&  -2x_1 & + &  3x_2 & \\le & 12 \\\\\n",
    "    &&   2x_1 & - &   x_2 & \\le & 12 \\\\\n",
    "    &&   x_1 & , &   x_2 & \\ge & 0\n",
    "\\end{array}\n",
    "$$"
   ]
  },
  {
   "cell_type": "code",
   "execution_count": null,
   "id": "1588ef63",
   "metadata": {},
   "outputs": [],
   "source": []
  },
  {
   "cell_type": "markdown",
   "id": "97022a29-6561-4836-815a-35b1444fbb09",
   "metadata": {},
   "source": [
    "------"
   ]
  },
  {
   "cell_type": "markdown",
   "id": "c7572bbf-4e5d-466d-8f4a-553261530d77",
   "metadata": {},
   "source": [
    "# The JuMP model"
   ]
  },
  {
   "cell_type": "code",
   "execution_count": null,
   "id": "6102637f-c3ec-46cb-81d4-7c0f8fda8a49",
   "metadata": {},
   "outputs": [],
   "source": [
    "using JuMP, HiGHS"
   ]
  },
  {
   "cell_type": "code",
   "execution_count": null,
   "id": "9aaef370-1723-4ffe-a23a-cc886a915c13",
   "metadata": {},
   "outputs": [],
   "source": [
    "modLP = Model( )\n",
    "\n",
    "@variable(modLP, x1 >= 0)\n",
    "@variable(modLP, x2 >= 0)\n",
    "@objective(modLP, Max, x1 + 3x2)\n",
    "@constraint(modLP, cst1, x1 + x2 <= 14)\n",
    "@constraint(modLP, cst2, -2x1 + 3x2 <= 12)\n",
    "@constraint(modLP, cst3, 2x1 - x2 <= 12)\n",
    "\n",
    "print(modLP)"
   ]
  },
  {
   "cell_type": "code",
   "execution_count": null,
   "id": "5d584dd2-d62e-4291-a482-9eafbda70c80",
   "metadata": {},
   "outputs": [],
   "source": [
    "set_optimizer(modLP, HiGHS.Optimizer)\n",
    "set_silent(modLP)\n",
    "optimize!(modLP)"
   ]
  },
  {
   "cell_type": "code",
   "execution_count": null,
   "id": "39a2a25f-ee71-402e-be29-ad0f4ba1bd3c",
   "metadata": {},
   "outputs": [],
   "source": [
    "@show is_solved_and_feasible(modLP)\n",
    "@show objective_value(modLP)\n",
    "@show value(x1), value(x2)"
   ]
  }
 ],
 "metadata": {
  "kernelspec": {
   "display_name": "Julia 1.10.5",
   "language": "julia",
   "name": "julia-1.10"
  },
  "language_info": {
   "file_extension": ".jl",
   "mimetype": "application/julia",
   "name": "julia",
   "version": "1.10.5"
  }
 },
 "nbformat": 4,
 "nbformat_minor": 5
}
