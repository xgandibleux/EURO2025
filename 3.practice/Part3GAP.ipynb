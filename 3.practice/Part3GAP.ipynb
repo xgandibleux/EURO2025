{
 "cells": [
  {
   "cell_type": "markdown",
   "metadata": {},
   "source": [
    "## Disclaimer\n",
    "\n",
    "**Environment:** This notebook has been tested with:\n",
    "\n",
    "- Julia v1.11.x\n",
    "- JuMP.jl v1.26.x\n",
    "- HiGHS v1.18.1\n",
    "\n",
    "**Author:** Xavier Gandibleux, Nantes (France)\n"
   ]
  },
  {
   "cell_type": "markdown",
   "metadata": {},
   "source": [
    "----"
   ]
  },
  {
   "cell_type": "markdown",
   "metadata": {},
   "source": [
    "## Part 3: Multi-Objective Optimization\n",
    "\n",
    "Given the bi-objective 01 Unidimensional Knapsack Problem (bi-01UKP) formulated by \n",
    "$$z=\\max\\big\\{(p^1x,\\ p^2x) \\mid wx \\le c, \\ x\\in\\{0,1\\}^n\\big\\}$$\n",
    "\n",
    "and the numerical instance corresponding to \n",
    "$$n=5$$\n",
    "$$p^1=(6, \\ 4, \\ 4, \\ 4, \\ 3)$$\n",
    "$$p^2=(12, 10, \\ 5, \\ 3, \\ 1)$$\n",
    "$$w=(\\ 8, \\ 6, \\ 4, \\ 3, \\ 2)$$\n",
    "$$c=15$$\n",
    "\n",
    "answer to the following questions:\n",
    "\n",
    "1. using the package `JuMP`, implement an implicit formulation of the bi-01UKP and display the model.\n",
    "2. using the package `MultiObjectiveAlgorithms`, compute and display $X_E$ and $Y_N$, a set of efficient solutions and the set of non-dominated points.\n",
    "3. using the package `Plots`, display $Y_N$ in the objective space $Y$\n",
    "4. using this learning, implement the required codes to solve instances of the bi-objective General Assignment Problem (biGAP).\n"
   ]
  },
  {
   "cell_type": "markdown",
   "metadata": {},
   "source": [
    "## Answers:\n",
    "\n",
    "----\n",
    "### 1. using the package `JuMP`, implement an implicit formulation of the bi-01UKP and display the model."
   ]
  },
  {
   "cell_type": "markdown",
   "metadata": {},
   "source": [
    "#### declare the package(s) to use:"
   ]
  },
  {
   "cell_type": "code",
   "execution_count": null,
   "metadata": {},
   "outputs": [],
   "source": []
  },
  {
   "cell_type": "markdown",
   "metadata": {},
   "source": [
    "#### setup the instance to solve"
   ]
  },
  {
   "cell_type": "code",
   "execution_count": null,
   "metadata": {},
   "outputs": [],
   "source": []
  },
  {
   "cell_type": "markdown",
   "metadata": {},
   "source": [
    "#### setup the formulation"
   ]
  },
  {
   "cell_type": "code",
   "execution_count": null,
   "metadata": {},
   "outputs": [],
   "source": []
  },
  {
   "cell_type": "markdown",
   "metadata": {},
   "source": [
    "---- \n",
    "### 2. using the package `MultiObjectiveAlgorithms`, compute $Y_N$, the set of non-dominated points."
   ]
  },
  {
   "cell_type": "markdown",
   "metadata": {},
   "source": [
    "#### setup the MIP solver to use"
   ]
  },
  {
   "cell_type": "code",
   "execution_count": null,
   "metadata": {},
   "outputs": [],
   "source": []
  },
  {
   "cell_type": "markdown",
   "metadata": {},
   "source": [
    "#### setup the algorithm to use"
   ]
  },
  {
   "cell_type": "code",
   "execution_count": null,
   "metadata": {},
   "outputs": [],
   "source": []
  },
  {
   "cell_type": "markdown",
   "metadata": {},
   "source": [
    "#### solve the problem"
   ]
  },
  {
   "cell_type": "code",
   "execution_count": null,
   "metadata": {},
   "outputs": [],
   "source": []
  },
  {
   "cell_type": "markdown",
   "metadata": {},
   "source": [
    "#### query the number of points in $Y_N$"
   ]
  },
  {
   "cell_type": "code",
   "execution_count": null,
   "metadata": {},
   "outputs": [],
   "source": []
  },
  {
   "cell_type": "markdown",
   "metadata": {},
   "source": [
    "#### query the summary of the 3rd point"
   ]
  },
  {
   "cell_type": "code",
   "execution_count": null,
   "metadata": {},
   "outputs": [],
   "source": []
  },
  {
   "cell_type": "markdown",
   "metadata": {},
   "source": [
    "#### query the vector values of the 3rd point"
   ]
  },
  {
   "cell_type": "code",
   "execution_count": null,
   "metadata": {},
   "outputs": [],
   "source": []
  },
  {
   "cell_type": "markdown",
   "metadata": {},
   "source": [
    "#### query the value for the first objective of the 3rd point"
   ]
  },
  {
   "cell_type": "code",
   "execution_count": null,
   "metadata": {},
   "outputs": [],
   "source": []
  },
  {
   "cell_type": "markdown",
   "metadata": {},
   "source": [
    "#### display $X_E$ and $Y_N$"
   ]
  },
  {
   "cell_type": "code",
   "execution_count": null,
   "metadata": {},
   "outputs": [],
   "source": []
  },
  {
   "cell_type": "markdown",
   "metadata": {},
   "source": [
    "----\n",
    "### 3. using the package `Plots`, display $Y_N$ in the objective space $Y$"
   ]
  },
  {
   "cell_type": "markdown",
   "metadata": {},
   "source": [
    "#### declare the package(s) to use:"
   ]
  },
  {
   "cell_type": "code",
   "execution_count": null,
   "metadata": {},
   "outputs": [],
   "source": []
  },
  {
   "cell_type": "markdown",
   "metadata": {},
   "source": [
    "#### plot $Y_N$ in $Y$:"
   ]
  },
  {
   "cell_type": "code",
   "execution_count": null,
   "metadata": {},
   "outputs": [],
   "source": []
  },
  {
   "cell_type": "markdown",
   "metadata": {},
   "source": [
    "----\n",
    "### 4. using this learning, implement the required codes to solve instances of the bi-objective General Assignment Problem (biGAP)."
   ]
  },
  {
   "cell_type": "markdown",
   "metadata": {},
   "source": [
    "#### formulation"
   ]
  },
  {
   "cell_type": "markdown",
   "metadata": {},
   "source": [
    "Consider the following bi-objective generalized assignment (biGAP) problem:\n",
    "\n",
    "$$\\big ( \\ \\max \\sum_{i=1}^{m} \\sum_{j=1}^{n} p^1_{ij} x_{ij} \\ , \\\n",
    "\\max \\sum_{i=1}^{m} \\sum_{j=1}^{n} p^2_{ij} x_{ij} \\ , \\\n",
    "\\max \\sum_{i=1}^{m} \\sum_{j=1}^{n} p^3_{ij} x_{ij} \\ \\big )$$\n",
    "\n",
    "$$ s.t \\qquad \\sum_{j=1}^{n} w_{ij} x_{ij} \\le b_i, \\quad \\forall i \\in \\{1, \\dots, m \\}$$\n",
    "\n",
    "$$ \\qquad \\qquad \\sum_{i=1}^{m} x_{ij} = 1, \\quad \\forall j \\in \\{1, \\dots, n \\}$$\n",
    "\n",
    "\n",
    "$$x_{ij}\\in\\{0,1\\}, \\ \\forall i \\in \\{1, \\dots, m \\}, \\  \\forall j \\in \\{1, \\dots, n \\}$$"
   ]
  },
  {
   "cell_type": "markdown",
   "metadata": {},
   "source": [
    "#### generator of instances\n",
    "\n",
    "Generate an instance $m\\times n$ with coefficients randomly generated as follow:\n",
    "- $1 \\le p^1_{ij}, \\ p^2_{ij}, \\ p^3_{ij}, \\ w_{ij} \\le 10$ \n",
    "- $b_i = \\lfloor  \\frac{\\sum_{j=1}^{m}w_{ij}}{2} \\rfloor$ \n",
    "\n",
    "#### questions\n",
    "\n",
    "- generate a numerical instance\n",
    "- compute $Y_N$, the set of non-dominated points, using HiGHS as MIP solver\n",
    "- compute $U$, an upper bound set of $Y_N$, using HiGHS as MIP solver\n",
    "- plot on a same figure $Y_N$ and $U$"
   ]
  },
  {
   "cell_type": "code",
   "execution_count": 1,
   "metadata": {},
   "outputs": [],
   "source": [
    "m=3; n=10\n",
    "p1 = rand(1:10,m,n)\n",
    "p2 = rand(1:10,m,n)\n",
    "p3 = rand(1:10,m,n)\n",
    "w  = rand(1:10,m,n)\n",
    "b  = Vector{Int64}(undef,m)\n",
    "for i=1:m\n",
    "    b[i] = floor(Int64,sum(w[i,:])/2.0) \n",
    "end"
   ]
  },
  {
   "cell_type": "code",
   "execution_count": 2,
   "metadata": {},
   "outputs": [
    {
     "name": "stdout",
     "output_type": "stream",
     "text": [
      "p1 = [5 1 10 8 3 5 3 3 7 2; 10 6 1 6 8 3 2 10 6 1; 2 3 1 6 9 7 1 5 4 8]\n",
      "p2 = [4 6 4 3 1 6 8 2 9 7; 8 8 8 2 4 8 8 1 10 1; 8 7 8 5 9 2 2 7 10 10]\n",
      "p3 = [4 3 6 4 7 5 9 5 8 4; 8 6 2 2 6 8 5 2 2 3; 2 8 10 3 5 7 5 9 5 5]\n",
      "w = [5 9 3 5 10 5 7 10 7 8; 4 8 8 6 10 8 10 7 5 1; 10 7 5 8 8 2 8 1 10 3]\n",
      "b = [34, 33, 31]\n"
     ]
    },
    {
     "data": {
      "text/plain": [
       "3-element Vector{Int64}:\n",
       " 34\n",
       " 33\n",
       " 31"
      ]
     },
     "execution_count": 2,
     "metadata": {},
     "output_type": "execute_result"
    }
   ],
   "source": [
    "@show p1\n",
    "@show p2\n",
    "@show p3\n",
    "@show w\n",
    "@show b"
   ]
  },
  {
   "cell_type": "markdown",
   "metadata": {},
   "source": [
    "3-GAP with variables in $\\{0,1\\}$ solved with the epsilon-constraint method using HiGHS: "
   ]
  },
  {
   "cell_type": "code",
   "execution_count": 30,
   "metadata": {},
   "outputs": [],
   "source": [
    "using JuMP\n",
    "using CPLEX\n",
    "import MultiObjectiveAlgorithms as MOA\n",
    "\n",
    "GAP = Model()\n",
    "@variable(GAP, x[1:m, 1:n], Bin)\n",
    "@expression(GAP, objective1, sum(p1[i,j]*x[i,j] for i = 1:m, j = 1:n) )\n",
    "@expression(GAP, objective2, sum(p2[i,j]*x[i,j] for i = 1:m, j = 1:n) )\n",
    "@expression(GAP, objective3, sum(p3[i,j]*x[i,j] for i = 1:m, j = 1:n) )\n",
    "@objective(GAP, Max, [objective1,objective2,objective3])\n",
    "@constraint(GAP, [i=1:m], sum(w[i,j]*x[i,j] for j = 1:n) <= b[i])\n",
    "@constraint(GAP, [j=1:n], sum(x[i,j] for i = 1:m) == 1)\n",
    "\n",
    "set_optimizer(GAP, () -> MOA.Optimizer(CPLEX.Optimizer))\n",
    "set_attribute(GAP, MOA.Algorithm(), MOA.KirlikSayin())\n",
    "#set_attribute(GAP, MOA.Algorithm(), MOA.DominguezRios())\n",
    "#set_attribute(GAP, MOA.Algorithm(), MOA.TambyVanderpooten())\n",
    "set_silent(GAP)\n",
    "optimize!(GAP)\n",
    "\n",
    "YN = []\n",
    "for i in 1:result_count(GAP)\n",
    "    y = round.(Int, objective_value(GAP; result = i))\n",
    "    push!(YN,y)\n",
    "    println(i, \": z = \", y)\n",
    "end"
   ]
  },
  {
   "cell_type": "code",
   "execution_count": 31,
   "metadata": {},
   "outputs": [
    {
     "name": "stdout",
     "output_type": "stream",
     "text": [
      "result_count(GAP) = 0\n"
     ]
    },
    {
     "data": {
      "text/plain": [
       "0"
      ]
     },
     "execution_count": 31,
     "metadata": {},
     "output_type": "execute_result"
    }
   ],
   "source": [
    "@show result_count(GAP)"
   ]
  },
  {
   "cell_type": "code",
   "execution_count": null,
   "metadata": {},
   "outputs": [],
   "source": []
  }
 ],
 "metadata": {
  "celltoolbar": "Raw Cell Format",
  "kernelspec": {
   "display_name": "Julia 1.10.5",
   "language": "julia",
   "name": "julia-1.10"
  },
  "language_info": {
   "file_extension": ".jl",
   "mimetype": "application/julia",
   "name": "julia",
   "version": "1.10.5"
  }
 },
 "nbformat": 4,
 "nbformat_minor": 4
}
