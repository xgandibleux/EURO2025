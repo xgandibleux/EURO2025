{
 "cells": [
  {
   "cell_type": "markdown",
   "metadata": {},
   "source": [
    "## Disclaimer\n",
    "\n",
    "**Environment:** This notebook has been developped for running with:\n",
    "\n",
    "- Julia v1.11.x\n",
    "- JuMP.jl v1.23.x\n",
    "- GLPK.jl v1.2.1\n",
    "- HiGHS v1.12.1\n",
    "\n",
    "**Author:** Xavier Gandibleux, Nantes (France)\n"
   ]
  },
  {
   "cell_type": "markdown",
   "metadata": {},
   "source": [
    "----"
   ]
  },
  {
   "cell_type": "markdown",
   "metadata": {},
   "source": [
    "## Exercise 1\n",
    "\n",
    "Given the 01 Unidimensional Knapsack Problem (01UKP) formulated by \n",
    "$$z=\\max\\big\\{px \\mid wx \\le c, \\ x\\in\\{0,1\\}^n\\big\\}$$\n",
    "\n",
    "and the numerical instance corresponding to \n",
    "$$n=5$$\n",
    "$$p=(5, 3, 2, 7, 4)$$\n",
    "$$w=(2, 8, 4, 2, 5)$$\n",
    "$$c=10$$\n",
    "\n",
    "answer to the following questions:\n",
    "\n",
    "1. implement an explicit formulation of the 01UKP with JuMP and display the model.\n",
    "2. compute the optimal solution using GLPK as MIP solver and display the solution.\n",
    "3. compute the linear relaxation using GLPK as LP solver and display the solution.\n",
    "4. extract the data from the numerical instance and initialize vectors `p` and `w`, and the scalar `c` with these data.\n",
    "5. given `p`, `w`, and `c`, implement an implicit formulation of the 01UKP with JuMP, compute and display the optimal solution.\n",
    "6. write a function `setup01UKP` which return a JuMP model corresponding to a 01UKP for a given instance described by `p`, `w`, and `c`.\n",
    "7. write a function `displayRes01UKP` which display for of a 01UKP the optimal solution $x^*$ and $z^*=f(x^*)$ on screen.\n",
    "8. using functions `setup01UKP` and `displayRes01UKP`, compute and display (if it is available) the optimal solution using GLPK as MIP solver.\n",
    "9. same question as before but using HiGHS as MIP solver.\n",
    "10. same question as before but turn off the printing output from the solver.\n",
    "11. save the 01UKP model with their data on a file named `my01UKP.lp`\n",
    "12. for the function `setup01UKP`, add the type to each parameters.\n",
    "13. for the function `displayRes01UKP`, add the type to the parameter.\n",
    "14. write a structure `kpData`gathering together the data of a 01UKP.\n",
    "15. create an instance `kpData` named `kpInstance` with the data from the numerical instance.\n",
    "16. write a function `displayDat01UKP` which display for a given instance `kpData` of 01UKP the data on screen.\n",
    "17. revise the function `setup01UKP` using as parameter a variable of type `kpData`\n",
    "18. using the function `displayDat01UKP`, display the data of a 01UKP stored in a variable of type `kpData`.\n",
    "19. write a structure `kpSol`gathering together the solution of a 01UKP.\n",
    "20. store in the variable `kpLP` and `kpIP` of type `kpSol` respectively the LP and IP optimal solution.\n",
    "21. using these codes, write a main program named `mySolverKP`devoted to solve the 01UKP."
   ]
  },
  {
   "cell_type": "markdown",
   "metadata": {},
   "source": [
    "## Answers:"
   ]
  },
  {
   "cell_type": "markdown",
   "metadata": {},
   "source": [
    "----\n",
    "### 1. implement and display an explicit formulation of the 01UKP with JuMP.\n",
    "*Notions: definition of an explicit model with JuMP*\n",
    "\n",
    "<ins>indications:</ins> an explicit formulation is a description in extension of a mathematical model (composed of variable(s), function(s), constraint(s)), and data. \n",
    "<br>\n",
    "<ins>Hints:</ins> the formulation to implement in JuMP is the following:\n",
    "$$ \\begin{aligned}\n",
    "\\max\\quad & 5 x_1 + 3 x_2 + 2 x_3 + 7 x_4 + 4 x_5\\\\\n",
    "\\text{Subject to} \\quad & 2 x_1 + 8 x_2 + 4 x_3 + 2 x_4 + 5 x_5 \\leq 10\\\\\n",
    " & x_1, x_2, x_3, x_4, x_5 \\in \\{0, 1\\}\\\\\n",
    "\\end{aligned} $$"
   ]
  },
  {
   "cell_type": "code",
   "execution_count": 1,
   "metadata": {},
   "outputs": [
    {
     "data": {
      "text/latex": [
       "$$ \\begin{aligned}\n",
       "\\max\\quad & 5 x1 + 3 x2 + 2 x3 + 7 x4 + 4 x5\\\\\n",
       "\\text{Subject to} \\quad & 2 x1 + 8 x2 + 4 x3 + 2 x4 + 5 x5 \\leq 10\\\\\n",
       " & x1 \\in \\{0, 1\\}\\\\\n",
       " & x2 \\in \\{0, 1\\}\\\\\n",
       " & x3 \\in \\{0, 1\\}\\\\\n",
       " & x4 \\in \\{0, 1\\}\\\\\n",
       " & x5 \\in \\{0, 1\\}\\\\\n",
       "\\end{aligned} $$"
      ]
     },
     "metadata": {},
     "output_type": "display_data"
    }
   ],
   "source": [
    "using JuMP, GLPK\n",
    "\n",
    "kp = Model(GLPK.Optimizer)\n",
    "@variable(kp, x1, Bin)\n",
    "@variable(kp, x2, Bin)\n",
    "@variable(kp, x3, Bin)\n",
    "@variable(kp, x4, Bin)\n",
    "@variable(kp, x5, Bin)\n",
    "@objective(kp, Max, 5x1 + 3x2 + 2x3 + 7x4 + 4x5)\n",
    "@constraint(kp, 2x1 + 8x2 + 4x3 + 2x4 + 5x5 ≤ 10)\n",
    "\n",
    "print(kp)"
   ]
  },
  {
   "cell_type": "markdown",
   "metadata": {},
   "source": [
    "----\n",
    "### 2. Compute and display the optimal solution of the 01UKP solved using GLPK as MIP solver. \n",
    "*Notions: optimizing a JuMP model, getting and displaying the results*"
   ]
  },
  {
   "cell_type": "code",
   "execution_count": 2,
   "metadata": {},
   "outputs": [
    {
     "name": "stdout",
     "output_type": "stream",
     "text": [
      "zOpt: 16.0\n",
      "xOpt: 1.0|1  0.0|2  0.0|3  1.0|4  1.0|5\n"
     ]
    }
   ],
   "source": [
    "optimize!(kp)\n",
    "\n",
    "println(\"zOpt: \", objective_value(kp))\n",
    "println(\"xOpt: \", value(x1),\"|1  \", value(x2),\"|2  \", value(x3),\"|3  \", value(x4),\"|4  \", value(x5),\"|5\")"
   ]
  },
  {
   "cell_type": "markdown",
   "metadata": {},
   "source": [
    "<br>\n",
    "<ins> Remark:</ins> in general, a MIP solver manages all decision variables as floating type variables. The values returned may be an approximation of integer values. Refine the output consequently. \n",
    "\n",
    "<ins> Hints:</ins> see functions `convert` and `round`."
   ]
  },
  {
   "cell_type": "code",
   "execution_count": 3,
   "metadata": {},
   "outputs": [
    {
     "data": {
      "text/plain": [
       "1"
      ]
     },
     "execution_count": 3,
     "metadata": {},
     "output_type": "execute_result"
    }
   ],
   "source": [
    "convert(Int,value(x1))"
   ]
  },
  {
   "cell_type": "code",
   "execution_count": 4,
   "metadata": {},
   "outputs": [
    {
     "ename": "LoadError",
     "evalue": "InexactError: Int64(0.999)",
     "output_type": "error",
     "traceback": [
      "InexactError: Int64(0.999)",
      "",
      "Stacktrace:",
      " [1] Int64",
      "   @ ./float.jl:912 [inlined]",
      " [2] convert(::Type{Int64}, x::Float64)",
      "   @ Base ./number.jl:7",
      " [3] top-level scope",
      "   @ In[4]:1"
     ]
    }
   ],
   "source": [
    "convert(Int,0.999)"
   ]
  },
  {
   "cell_type": "code",
   "execution_count": 5,
   "metadata": {},
   "outputs": [
    {
     "data": {
      "text/plain": [
       "1.0"
      ]
     },
     "execution_count": 5,
     "metadata": {},
     "output_type": "execute_result"
    }
   ],
   "source": [
    "round(0.999,digits=0)"
   ]
  },
  {
   "cell_type": "code",
   "execution_count": 6,
   "metadata": {},
   "outputs": [
    {
     "data": {
      "text/plain": [
       "1"
      ]
     },
     "execution_count": 6,
     "metadata": {},
     "output_type": "execute_result"
    }
   ],
   "source": [
    "convert(Int, round(0.999,digits=0))"
   ]
  },
  {
   "cell_type": "markdown",
   "metadata": {},
   "source": [
    "----\n",
    "### 3. compute the linear relaxation using GLPK as LP solver and display the solution.\n",
    "*Notions: relaxing all discrete variables of a JuMP model*\n",
    "\n",
    "<ins>Hints:</ins> see `relax_integrality`"
   ]
  },
  {
   "cell_type": "code",
   "execution_count": 7,
   "metadata": {},
   "outputs": [
    {
     "data": {
      "text/latex": [
       "$$ \\begin{aligned}\n",
       "\\max\\quad & 5 x1 + 3 x2 + 2 x3 + 7 x4 + 4 x5\\\\\n",
       "\\text{Subject to} \\quad & 2 x1 + 8 x2 + 4 x3 + 2 x4 + 5 x5 \\leq 10\\\\\n",
       " & x1 \\geq 0\\\\\n",
       " & x2 \\geq 0\\\\\n",
       " & x3 \\geq 0\\\\\n",
       " & x4 \\geq 0\\\\\n",
       " & x5 \\geq 0\\\\\n",
       " & x1 \\leq 1\\\\\n",
       " & x2 \\leq 1\\\\\n",
       " & x3 \\leq 1\\\\\n",
       " & x4 \\leq 1\\\\\n",
       " & x5 \\leq 1\\\\\n",
       "\\end{aligned} $$"
      ]
     },
     "metadata": {},
     "output_type": "display_data"
    },
    {
     "name": "stdout",
     "output_type": "stream",
     "text": [
      "zOpt: 16.5\n",
      "xOpt:  1| 1.0  2| 0.0  3| 0.25  4| 1.0  5| 1.0\n"
     ]
    }
   ],
   "source": [
    "relax = relax_integrality(kp) # all variables are continuous\n",
    "print(kp)\n",
    "\n",
    "optimize!(kp)\n",
    "println(\"zOpt: \", objective_value(kp))\n",
    "println(\"xOpt:  1| \", value(x1),\"  2| \", value(x2),\"  3| \", value(x3),\"  4| \", value(x4),\"  5| \", value(x5))\n",
    "\n",
    "relax() # restore the definition of variables"
   ]
  },
  {
   "cell_type": "markdown",
   "metadata": {},
   "source": [
    "----\n",
    "### 4. extract the data from the numerical instance and initialize vectors `p` and `w`, and the scalar `c` with these data.\n",
    "*Notions: handling vectors in Julia*"
   ]
  },
  {
   "cell_type": "code",
   "execution_count": 8,
   "metadata": {},
   "outputs": [
    {
     "data": {
      "text/plain": [
       "10"
      ]
     },
     "execution_count": 8,
     "metadata": {},
     "output_type": "execute_result"
    }
   ],
   "source": [
    "p = [ 5, 3, 2, 7, 4 ]\n",
    "w = [ 2, 8, 4, 2, 5 ]\n",
    "c = 10"
   ]
  },
  {
   "cell_type": "markdown",
   "metadata": {},
   "source": [
    "----\n",
    "### 5. implement an implicit formulation of the 01UKP with JuMP, compute and display the optimal solution.\n",
    "*Notions: definition of an implicit model with JuMP, resolution, getting the results; \"for\" instruction in Julia*\n",
    "\n",
    "<ins>indications:</ins> an implicit formulation is a compact description of a mathematical model (composed of variable(s), function(s), constraint(s)), without data (they are externalized and represented in the formulation by parameters).\n",
    "<br>\n",
    "<ins>Hints:</ins> the formulation to implement in JuMP is the following:\n",
    "$$ \\begin{aligned}\n",
    "\\max\\quad & \\sum_{j=1}^{n} p_{j} x_{j}\\\\\n",
    "\\text{Subject to} \\quad & \\sum_{j=1}^{n} w_{j} x_{j} \\leq c\\\\\n",
    " & x_{j} \\in \\{0, 1\\} \\qquad  j=1,\\dots ,n\\\\\n",
    "\\end{aligned} $$"
   ]
  },
  {
   "cell_type": "code",
   "execution_count": 9,
   "metadata": {},
   "outputs": [
    {
     "name": "stdout",
     "output_type": "stream",
     "text": [
      "zOpt: 16.0\n",
      "xOpt: 1|1  0|2  0|3  1|4  1|5  "
     ]
    }
   ],
   "source": [
    "using Printf\n",
    "\n",
    "kp = Model(GLPK.Optimizer)\n",
    "n = length(p)\n",
    "@variable(kp, x[1:n], Bin)\n",
    "@objective(kp, Max, sum(p[j]*x[j] for j=1:n))\n",
    "@constraint(kp, sum(w[j]*x[j] for j=1:n) ≤ c)\n",
    "\n",
    "optimize!(kp)\n",
    "\n",
    "println(\"zOpt: \", objective_value(kp))\n",
    "print(\"xOpt: \")\n",
    "for i = 1:n\n",
    "    @printf(\"%1.0f|%1d  \",value(x[i]),i)\n",
    "end"
   ]
  },
  {
   "cell_type": "markdown",
   "metadata": {},
   "source": [
    "----\n",
    "### 6. write a function `setup01UKP` which return a JuMP model corresponding to a 01UKP for a given instance described by `p`, `w`, and `c`, without specifying the solver to use.\n",
    "*Notions: handling functions in Julia*"
   ]
  },
  {
   "cell_type": "code",
   "execution_count": 10,
   "metadata": {},
   "outputs": [
    {
     "data": {
      "text/plain": [
       "setup01UKP (generic function with 1 method)"
      ]
     },
     "execution_count": 10,
     "metadata": {},
     "output_type": "execute_result"
    }
   ],
   "source": [
    "function setup01UKP( p, w, c )\n",
    "    \n",
    "    kp = Model( )\n",
    "    n = length(p)\n",
    "    @variable(kp, x[1:n], Bin)\n",
    "    @objective(kp, Max, sum(p[j]*x[j] for j=1:n))\n",
    "    @constraint(kp, sum(w[j]*x[j] for j=1:n) ≤ c)\n",
    "    \n",
    "    return kp\n",
    "end"
   ]
  },
  {
   "cell_type": "markdown",
   "metadata": {},
   "source": [
    "----\n",
    "### 7. write a function `displayRes01UKP` which display for of a 01UKP the optimal solution $x^*$ and $z^*=f(x^*)$ on screen.\n",
    "*Notions: refering the variables of a JuMP model* "
   ]
  },
  {
   "cell_type": "code",
   "execution_count": 11,
   "metadata": {},
   "outputs": [
    {
     "data": {
      "text/plain": [
       "displayRes01UKP (generic function with 1 method)"
      ]
     },
     "execution_count": 11,
     "metadata": {},
     "output_type": "execute_result"
    }
   ],
   "source": [
    "function displayRes01UKP(kp)\n",
    "    \n",
    "    println(\"zOpt: \", objective_value( kp ))\n",
    "    print(\"xOpt: \")\n",
    "    for i = 1:n\n",
    "        @printf(\"%1.0f|%1d  \",value( kp[:x][i]),i)\n",
    "    end\n",
    "    \n",
    "    return nothing\n",
    "end"
   ]
  },
  {
   "cell_type": "markdown",
   "metadata": {},
   "source": [
    "----\n",
    "### 8. using functions `setup01UKP` and `displayRes01UKP`, compute and display the optimal solution (if it is available) using GLPK as MIP solver.\n",
    "*Notions: using user-defined functions; \"if\" instruction in Julia*"
   ]
  },
  {
   "cell_type": "code",
   "execution_count": 12,
   "metadata": {},
   "outputs": [
    {
     "data": {
      "text/latex": [
       "$$ \\begin{aligned}\n",
       "\\max\\quad & 5 x_{1} + 3 x_{2} + 2 x_{3} + 7 x_{4} + 4 x_{5}\\\\\n",
       "\\text{Subject to} \\quad & 2 x_{1} + 8 x_{2} + 4 x_{3} + 2 x_{4} + 5 x_{5} \\leq 10\\\\\n",
       " & x_{1} \\in \\{0, 1\\}\\\\\n",
       " & x_{2} \\in \\{0, 1\\}\\\\\n",
       " & x_{3} \\in \\{0, 1\\}\\\\\n",
       " & x_{4} \\in \\{0, 1\\}\\\\\n",
       " & x_{5} \\in \\{0, 1\\}\\\\\n",
       "\\end{aligned} $$"
      ]
     },
     "metadata": {},
     "output_type": "display_data"
    },
    {
     "name": "stdout",
     "output_type": "stream",
     "text": [
      "zOpt: 16.0\n",
      "xOpt: 1|1  0|2  0|3  1|4  1|5  "
     ]
    }
   ],
   "source": [
    "kp = setup01UKP( p, w, c )\n",
    "print(kp)\n",
    "\n",
    "set_optimizer(kp, GLPK.Optimizer)\n",
    "optimize!(kp)\n",
    "\n",
    "if is_solved_and_feasible(kp)\n",
    "    displayRes01UKP(kp)\n",
    "else\n",
    "    println(\"No solution available\")\n",
    "end"
   ]
  },
  {
   "cell_type": "markdown",
   "metadata": {},
   "source": [
    "----\n",
    "### 9. same question as before but using HiGHS as MIP solver.\n",
    "*Notions: changing the MIP solver to use by JuMP*"
   ]
  },
  {
   "cell_type": "code",
   "execution_count": 13,
   "metadata": {},
   "outputs": [
    {
     "name": "stdout",
     "output_type": "stream",
     "text": [
      "Running HiGHS 1.9.0 (git hash: 66f735e60): Copyright (c) 2024 HiGHS under MIT licence terms\n",
      "Coefficient ranges:\n",
      "  Matrix [2e+00, 8e+00]\n",
      "  Cost   [2e+00, 7e+00]\n",
      "  Bound  [1e+00, 1e+00]\n",
      "  RHS    [1e+01, 1e+01]\n",
      "Presolving model\n",
      "1 rows, 5 cols, 5 nonzeros  0s\n",
      "1 rows, 4 cols, 4 nonzeros  0s\n",
      "Objective function is integral with scale 1\n",
      "\n",
      "Solving MIP model with:\n",
      "   1 rows\n",
      "   4 cols (4 binary, 0 integer, 0 implied int., 0 continuous)\n",
      "   4 nonzeros\n",
      "\n",
      "Src: B => Branching; C => Central rounding; F => Feasibility pump; H => Heuristic; L => Sub-MIP;\n",
      "     P => Empty MIP; R => Randomized rounding; S => Solve LP; T => Evaluate node; U => Unbounded;\n",
      "     z => Trivial zero; l => Trivial lower; u => Trivial upper; p => Trivial point\n",
      "\n",
      "        Nodes      |    B&B Tree     |            Objective Bounds              |  Dynamic Constraints |       Work      \n",
      "Src  Proc. InQueue |  Leaves   Expl. | BestBound       BestSol              Gap |   Cuts   InLp Confl. | LpIters     Time\n",
      "\n",
      " z       0       0         0   0.00%   inf             -0                 Large        0     -1      0         0     0.0s\n",
      " T       0       0         0 100.00%   18              16                12.50%        0      0      0         1     0.0s\n",
      "         1       0         1 100.00%   16              16                 0.00%        0      0      0         1     0.0s\n",
      "\n",
      "Solving report\n",
      "  Status            Optimal\n",
      "  Primal bound      16\n",
      "  Dual bound        16\n",
      "  Gap               0% (tolerance: 0.01%)\n",
      "  P-D integral      6.77304342389e-07\n",
      "  Solution status   feasible\n",
      "                    16 (objective)\n",
      "                    0 (bound viol.)\n",
      "                    0 (int. viol.)\n",
      "                    0 (row viol.)\n",
      "  Timing            0.00 (total)\n",
      "                    0.00 (presolve)\n",
      "                    0.00 (solve)\n",
      "                    0.00 (postsolve)\n",
      "  Max sub-MIP depth 0\n",
      "  Nodes             1\n",
      "  Repair LPs        0 (0 feasible; 0 iterations)\n",
      "  LP iterations     1 (total)\n",
      "                    0 (strong br.)\n",
      "                    0 (separation)\n",
      "                    0 (heuristics)\n",
      "zOpt: 16.0\n",
      "xOpt: 1|1  0|2  -0|3  1|4  1|5  "
     ]
    }
   ],
   "source": [
    "using HiGHS\n",
    "\n",
    "set_optimizer(kp, HiGHS.Optimizer)\n",
    "optimize!(kp)\n",
    "\n",
    "if is_solved_and_feasible(kp)\n",
    "    displayRes01UKP(kp)\n",
    "else\n",
    "    println(\"No solution available\")\n",
    "end"
   ]
  },
  {
   "cell_type": "markdown",
   "metadata": {},
   "source": [
    "----\n",
    "### 10. same question as before but turn off the printing output from the solver.\n",
    "*Notions: general options given to the MIP solver*"
   ]
  },
  {
   "cell_type": "code",
   "execution_count": 14,
   "metadata": {},
   "outputs": [
    {
     "name": "stdout",
     "output_type": "stream",
     "text": [
      "zOpt: 16.0\n",
      "xOpt: 1|1  0|2  -0|3  1|4  1|5  "
     ]
    }
   ],
   "source": [
    "set_silent(kp)\n",
    "optimize!(kp)\n",
    "\n",
    "if is_solved_and_feasible(kp)\n",
    "    displayRes01UKP(kp)\n",
    "else\n",
    "    println(\"No solution available\")\n",
    "end"
   ]
  },
  {
   "cell_type": "markdown",
   "metadata": {},
   "source": [
    "----\n",
    "### 11. save the 01UKP model with their data on a file named `my01UKP.lp`\n",
    "*Notions: saving a JuMP model on a file*"
   ]
  },
  {
   "cell_type": "code",
   "execution_count": 15,
   "metadata": {},
   "outputs": [],
   "source": [
    "write_to_file(kp,\"my01UKP.lp\")"
   ]
  },
  {
   "cell_type": "markdown",
   "metadata": {},
   "source": [
    "----\n",
    "### 12. for the function `setup01UKP`, add the type to each parameters.\n",
    "*Notions: types in Julia; typing a variable in Julia*\n",
    "\n",
    "<ins> Hints:</ins> see the function `typeof`"
   ]
  },
  {
   "cell_type": "code",
   "execution_count": 16,
   "metadata": {},
   "outputs": [
    {
     "data": {
      "text/plain": [
       "Vector{Int64}\u001b[90m (alias for \u001b[39m\u001b[90mArray{Int64, 1}\u001b[39m\u001b[90m)\u001b[39m"
      ]
     },
     "execution_count": 16,
     "metadata": {},
     "output_type": "execute_result"
    }
   ],
   "source": [
    "typeof(p)"
   ]
  },
  {
   "cell_type": "code",
   "execution_count": 17,
   "metadata": {},
   "outputs": [
    {
     "data": {
      "text/plain": [
       "Vector{Int64}\u001b[90m (alias for \u001b[39m\u001b[90mArray{Int64, 1}\u001b[39m\u001b[90m)\u001b[39m"
      ]
     },
     "execution_count": 17,
     "metadata": {},
     "output_type": "execute_result"
    }
   ],
   "source": [
    "typeof(w)"
   ]
  },
  {
   "cell_type": "code",
   "execution_count": 18,
   "metadata": {},
   "outputs": [
    {
     "data": {
      "text/plain": [
       "Int64"
      ]
     },
     "execution_count": 18,
     "metadata": {},
     "output_type": "execute_result"
    }
   ],
   "source": [
    "typeof(c)"
   ]
  },
  {
   "cell_type": "code",
   "execution_count": 19,
   "metadata": {},
   "outputs": [
    {
     "data": {
      "text/plain": [
       "setup01UKP (generic function with 2 methods)"
      ]
     },
     "execution_count": 19,
     "metadata": {},
     "output_type": "execute_result"
    }
   ],
   "source": [
    "function setup01UKP( p::Vector{Int64}, w::Vector{Int64}, c::Int64 )\n",
    "    \n",
    "    kp = Model( )\n",
    "    n = length(p)\n",
    "    @variable(kp, x[1:n], Bin)\n",
    "    @objective(kp, Max, sum(p[j]*x[j] for j=1:n))\n",
    "    @constraint(kp, sum(w[j]*x[j] for j=1:n) ≤ c)\n",
    "    \n",
    "    return kp\n",
    "end"
   ]
  },
  {
   "cell_type": "markdown",
   "metadata": {},
   "source": [
    "----\n",
    "### 13. for the function `displayRes01UKP`, add the type to the parameter.\n",
    "*Notions: type of a JuMP model*"
   ]
  },
  {
   "cell_type": "code",
   "execution_count": 20,
   "metadata": {},
   "outputs": [
    {
     "data": {
      "text/plain": [
       "Model\u001b[90m (alias for \u001b[39m\u001b[90mGenericModel{Float64}\u001b[39m\u001b[90m)\u001b[39m"
      ]
     },
     "execution_count": 20,
     "metadata": {},
     "output_type": "execute_result"
    }
   ],
   "source": [
    "typeof(kp)"
   ]
  },
  {
   "cell_type": "code",
   "execution_count": 21,
   "metadata": {},
   "outputs": [
    {
     "data": {
      "text/plain": [
       "displayRes01UKP (generic function with 2 methods)"
      ]
     },
     "execution_count": 21,
     "metadata": {},
     "output_type": "execute_result"
    }
   ],
   "source": [
    "function displayRes01UKP(kp::Model)\n",
    "    \n",
    "    println(\"zOpt: \", objective_value( kp ))\n",
    "    print(\"xOpt: \")\n",
    "    for i = 1:n\n",
    "        @printf(\" %1d|%1.0f \",i, value( kp[:x][i]) )\n",
    "    end\n",
    "    \n",
    "    return nothing\n",
    "end"
   ]
  },
  {
   "cell_type": "markdown",
   "metadata": {},
   "source": [
    "----\n",
    "### 14. write a structure `kpData`gathering together the data of a 01UKP.\n",
    "*Notions: structures (objects) in Julia*"
   ]
  },
  {
   "cell_type": "code",
   "execution_count": 22,
   "metadata": {},
   "outputs": [],
   "source": [
    "mutable struct kpData\n",
    "    p::Vector{Int64}\n",
    "    w::Vector{Int64}\n",
    "    c::Int64\n",
    "end"
   ]
  },
  {
   "cell_type": "markdown",
   "metadata": {},
   "source": [
    "----\n",
    "### 15. create an instance `kpData` named `kpInstance` with the data from the numerical instance.\n",
    "*Notions: variable instanciated from a structure (object)*"
   ]
  },
  {
   "cell_type": "code",
   "execution_count": 23,
   "metadata": {},
   "outputs": [
    {
     "data": {
      "text/plain": [
       "kpData([5, 3, 2, 7, 4], [2, 8, 4, 2, 5], 10)"
      ]
     },
     "execution_count": 23,
     "metadata": {},
     "output_type": "execute_result"
    }
   ],
   "source": [
    "kpInstance = kpData([5, 3, 2, 7, 4], [2, 8, 4, 2, 5], 10)"
   ]
  },
  {
   "cell_type": "markdown",
   "metadata": {},
   "source": [
    "----\n",
    "### 16. write a function `displayDat01UKP` which display for of a 01UKP the data on screen.\n",
    "*Notions: accessing to a member of a structure*"
   ]
  },
  {
   "cell_type": "code",
   "execution_count": 24,
   "metadata": {},
   "outputs": [
    {
     "data": {
      "text/plain": [
       "displayDat01UKP (generic function with 1 method)"
      ]
     },
     "execution_count": 24,
     "metadata": {},
     "output_type": "execute_result"
    }
   ],
   "source": [
    "function displayDat01UKP(instance::kpData)\n",
    "\n",
    "    n = length(instance.p)\n",
    "    \n",
    "    print(\"i: \")\n",
    "    for i = 1:n\n",
    "        @printf(\"%3.0f \", i)\n",
    "    end\n",
    "    print(\"\\np: \")\n",
    "    for i = 1:n\n",
    "        @printf(\"%3.0f \", instance.p[i])\n",
    "    end\n",
    "    print(\"\\nw: \")\n",
    "    for i = 1:n\n",
    "        @printf(\"%3.0f \", instance.w[i])\n",
    "    end    \n",
    "    println(\"  |  c:  \",instance.c)\n",
    "    \n",
    "    return nothing\n",
    "end"
   ]
  },
  {
   "cell_type": "markdown",
   "metadata": {},
   "source": [
    "----\n",
    "### 17. revise the function `setup01UKP` using as parameter a variable of type `kpData`\n",
    "*Notions: function and methods; multiple dispatch*"
   ]
  },
  {
   "cell_type": "code",
   "execution_count": 25,
   "metadata": {},
   "outputs": [
    {
     "data": {
      "text/plain": [
       "setup01UKP (generic function with 3 methods)"
      ]
     },
     "execution_count": 25,
     "metadata": {},
     "output_type": "execute_result"
    }
   ],
   "source": [
    "function setup01UKP(instance::kpData)\n",
    "    \n",
    "    kp = Model( )\n",
    "    n = length(instance.p)\n",
    "    @variable(kp, x[1:n], Bin)\n",
    "    @objective(kp, Max, sum(instance.p[j]*x[j] for j=1:n))\n",
    "    @constraint(kp, sum(instance.w[j]*x[j] for j=1:n) ≤ instance.c)\n",
    "    \n",
    "    return kp\n",
    "end"
   ]
  },
  {
   "cell_type": "markdown",
   "metadata": {},
   "source": [
    "----\n",
    "### 18. using the function `displayDat01UKP`, display the data of a 01UKP stored in a variable of type `kpData`."
   ]
  },
  {
   "cell_type": "code",
   "execution_count": 26,
   "metadata": {},
   "outputs": [
    {
     "name": "stdout",
     "output_type": "stream",
     "text": [
      "i:   1   2   3   4   5 \n",
      "p:   5   3   2   7   4 \n",
      "w:   2   8   4   2   5   |  c:  10\n"
     ]
    }
   ],
   "source": [
    "displayDat01UKP(kpInstance)"
   ]
  },
  {
   "cell_type": "markdown",
   "metadata": {},
   "source": [
    "----\n",
    "### 19. write a structure `kpSol`gathering together the solution of a 01UKP.\n",
    "*Notions: hierarchy of types; parametric structure*\n",
    "\n",
    "<ins> Hints:</ins> see functions `supertype` and `subtypes`"
   ]
  },
  {
   "cell_type": "code",
   "execution_count": 27,
   "metadata": {},
   "outputs": [
    {
     "data": {
      "text/plain": [
       "Number"
      ]
     },
     "execution_count": 27,
     "metadata": {},
     "output_type": "execute_result"
    }
   ],
   "source": [
    "supertype(Real)"
   ]
  },
  {
   "cell_type": "code",
   "execution_count": 28,
   "metadata": {},
   "outputs": [
    {
     "data": {
      "text/plain": [
       "5-element Vector{Any}:\n",
       " AbstractFloat\n",
       " AbstractIrrational\n",
       " ForwardDiff.Dual\n",
       " Integer\n",
       " Rational"
      ]
     },
     "execution_count": 28,
     "metadata": {},
     "output_type": "execute_result"
    }
   ],
   "source": [
    "subtypes(Real)"
   ]
  },
  {
   "cell_type": "code",
   "execution_count": 29,
   "metadata": {},
   "outputs": [],
   "source": [
    "mutable struct kpSol{T<:Real}\n",
    "    z::T\n",
    "    x::Vector{T}\n",
    "end"
   ]
  },
  {
   "cell_type": "markdown",
   "metadata": {},
   "source": [
    "----\n",
    "### 20. store in the variable `kpLP` and `kpIP` of type `kpSol` respectively the LP and IP optimal solution.\n",
    "*Notions: casting to a given type*"
   ]
  },
  {
   "cell_type": "code",
   "execution_count": 30,
   "metadata": {},
   "outputs": [
    {
     "data": {
      "text/plain": [
       "5"
      ]
     },
     "execution_count": 30,
     "metadata": {},
     "output_type": "execute_result"
    }
   ],
   "source": [
    "convert(Int,5.0)"
   ]
  },
  {
   "cell_type": "code",
   "execution_count": 31,
   "metadata": {},
   "outputs": [
    {
     "data": {
      "text/plain": [
       "2-element Vector{Int64}:\n",
       " 5\n",
       " 3"
      ]
     },
     "execution_count": 31,
     "metadata": {},
     "output_type": "execute_result"
    }
   ],
   "source": [
    "convert.(Int, [5.0,3.0])"
   ]
  },
  {
   "cell_type": "code",
   "execution_count": 32,
   "metadata": {},
   "outputs": [],
   "source": [
    "kp = setup01UKP( p, w, c )\n",
    "n = length(kpInstance.p)\n",
    "set_optimizer(kp, GLPK.Optimizer)"
   ]
  },
  {
   "cell_type": "code",
   "execution_count": 33,
   "metadata": {},
   "outputs": [
    {
     "name": "stdout",
     "output_type": "stream",
     "text": [
      "kpOpt = kpSol{Float64}(16.5, [1.0, 0.0, 0.25, 1.0, 1.0])\n"
     ]
    },
    {
     "data": {
      "text/plain": [
       "kpSol{Float64}(16.5, [1.0, 0.0, 0.25, 1.0, 1.0])"
      ]
     },
     "execution_count": 33,
     "metadata": {},
     "output_type": "execute_result"
    }
   ],
   "source": [
    "# 0≤x≤1\n",
    "relax = relax_integrality(kp) \n",
    "optimize!(kp)\n",
    "\n",
    "kpOpt = kpSol(0.0,zeros(n))\n",
    "kpOpt.z = objective_value(kp)\n",
    "kpOpt.x = value.(kp[:x])\n",
    "\n",
    "relax()\n",
    "\n",
    "@show kpOpt"
   ]
  },
  {
   "cell_type": "code",
   "execution_count": 34,
   "metadata": {},
   "outputs": [
    {
     "name": "stdout",
     "output_type": "stream",
     "text": [
      "kpOpt = kpSol{Int64}(16, [1, 0, 0, 1, 1])\n"
     ]
    },
    {
     "data": {
      "text/plain": [
       "kpSol{Int64}(16, [1, 0, 0, 1, 1])"
      ]
     },
     "execution_count": 34,
     "metadata": {},
     "output_type": "execute_result"
    }
   ],
   "source": [
    "# x ∈ {0,1}\n",
    "optimize!(kp)\n",
    "\n",
    "kpOpt = kpSol(0,zeros(Int,n))\n",
    "kpOpt.z = convert(Int, objective_value(kp))\n",
    "kpOpt.x = convert.(Int,value.(kp[:x]))\n",
    "\n",
    "@show kpOpt"
   ]
  },
  {
   "cell_type": "code",
   "execution_count": 35,
   "metadata": {},
   "outputs": [
    {
     "data": {
      "text/plain": [
       "getSolution (generic function with 1 method)"
      ]
     },
     "execution_count": 35,
     "metadata": {},
     "output_type": "execute_result"
    }
   ],
   "source": [
    "function getSolution(kp::Model)\n",
    "    \n",
    "    n = length(all_variables(kp))\n",
    "\n",
    "    if is_binary(kp[:x][1])        \n",
    "        kpOpt = kpSol(0, zeros(Int,n))\n",
    "        kpOpt.z = convert(Int, objective_value(kp))\n",
    "        kpOpt.x = convert.(Int,value.(kp[:x]))\n",
    "        return kpOpt\n",
    "    else\n",
    "        kpOpt = kpSol(0.0, zeros(n))\n",
    "        kpOpt.z = objective_value(kp)\n",
    "        kpOpt.x = value.(kp[:x])\n",
    "        return kpOpt\n",
    "    end\n",
    "end        "
   ]
  },
  {
   "cell_type": "code",
   "execution_count": 36,
   "metadata": {},
   "outputs": [
    {
     "data": {
      "text/plain": [
       "displayRes01UKP (generic function with 3 methods)"
      ]
     },
     "execution_count": 36,
     "metadata": {},
     "output_type": "execute_result"
    }
   ],
   "source": [
    "function displayRes01UKP(solution::kpSol)\n",
    "    \n",
    "    println(\"zOpt: \", solution.z)\n",
    "    print(\"xOpt: \")\n",
    "    for i = 1:length(solution.x)\n",
    "        @printf(\"%1.0f|%1d  \",solution.x[i],i)\n",
    "    end\n",
    "    \n",
    "    return nothing\n",
    "end"
   ]
  },
  {
   "cell_type": "markdown",
   "metadata": {},
   "source": [
    "----\n",
    "### 21. using this learning, implement the required codes to solve instances of the Linear Assignment Problem (LAP).\n"
   ]
  },
  {
   "cell_type": "code",
   "execution_count": 37,
   "metadata": {},
   "outputs": [
    {
     "name": "stdout",
     "output_type": "stream",
     "text": [
      "zOpt: 6.0\n",
      "xOpt: x[1,4]=1  x[2,2]=1  x[3,1]=1  x[4,5]=1  x[5,3]=1  "
     ]
    }
   ],
   "source": [
    "using Printf, JuMP, GLPK\n",
    "function mySolverLAP()\n",
    "\n",
    "    c  = [ 3 9 0 0 6 ; 16 0 6 12 19 ; 2 7 11 15 8 ; 4 11 7 16 3 ; 2 5 1 9 0 ]\n",
    "    n = size(c,1)\n",
    "\n",
    "    lap = Model( )\n",
    "    @variable( lap, x[1:n,1:n] , Bin )\n",
    "    @objective( lap, Min, sum( c[i,j]*x[i,j] for i=1:n,j=1:n ))\n",
    "    @constraint( lap, cols[i=1:n], sum(x[i,j] for j=1:n) == 1 )\n",
    "    @constraint( lap, rows[j=1:n], sum(x[i,j] for i=1:n) == 1 )\n",
    "    \n",
    "    set_optimizer(lap, GLPK.Optimizer)\n",
    "    optimize!(lap)\n",
    "  \n",
    "    if is_solved_and_feasible(lap)\n",
    "        println(\"zOpt: \", objective_value( lap ))\n",
    "        print(\"xOpt: \")\n",
    "        for i = 1:n, j =1:n\n",
    "            if value(lap[:x][i,j]) > 0.5 \n",
    "                @printf(\"x[%1d,%1d]=1  \", i, j)\n",
    "            end\n",
    "        end\n",
    "    end\n",
    "\n",
    "    return nothing\n",
    "end\n",
    "mySolverLAP()"
   ]
  },
  {
   "cell_type": "markdown",
   "metadata": {},
   "source": [
    "----\n",
    "----"
   ]
  },
  {
   "cell_type": "markdown",
   "metadata": {},
   "source": [
    "## Exercise 2 \n",
    "For \n",
    "- the unidimensional 01 knapsack problem, and\n",
    "- the corresponding numerical instance\n",
    "  \n",
    "from Exercise 1, \n",
    "1. Write a function in Julia which computes the linear relaxation of the problem using the Dantzig bound.\n",
    "2. Compute the linear relaxation for this instance.\n",
    "\n",
    "<ins>Reminder:</ins> \n",
    "\n",
    "Compute:\n",
    "$$ \n",
    "\\begin{aligned}\n",
    "\\max\\quad & \\sum_{j=1}^{n} p_{j} x_{j}\\\\\n",
    "\\text{Subject to} \\quad & \\sum_{j=1}^{n} w_{j} x_{j} \\leq c\\\\\n",
    " & 0 \\le x_j \\le 1 \\qquad  j=1,\\dots ,n\\\\\n",
    "\\end{aligned} \n",
    "$$\n",
    "I.e., with the following non-restrictive hypotheses:\n",
    "- $p_j$, $w_j$ et $C$ : positive integers\n",
    "- $\\displaystyle{\\sum_{j=1}^{n} w_j> C}$\n",
    "-  $w_j \\le C, \\ j=1, \\dots , n$\n",
    "- $ \\frac{p_1}{w_1} \\ge  \\frac{p_2}{w_2} \\ge  \\frac{p_3}{w_3} \\ge ...  \\ge \\frac{p_n}{w_n} $\n",
    "\n",
    "compute:\n",
    "- $s = \\min \\Big\\{ j  \\ \\mid \\ \\displaystyle{\\sum_{i=1}^{j} w_i > C} \\Big\\}$\n",
    "- $\n",
    "\\left\\{\\begin{array}{ccc}\n",
    " \\bar{x}_j = 1 \\hspace{7mm} \\mbox{for } j=1, ... , \\ s-1   \\\\\n",
    " \\bar{x}_j = 0 \\hspace{7mm} \\mbox{for } j=s+1, \\dots ,n  \\\\\n",
    " \\ \\ \\ \\ \\bar{x}_s = \\frac{\\bar{C}}{w_s} \\hspace{5mm} \\mbox{avec } \\bar{C} = C - \\displaystyle{\\sum_{j=1}^{s-1} w_j}\\\\\n",
    "\\end{array}\\right.\n",
    "$\n"
   ]
  },
  {
   "cell_type": "markdown",
   "metadata": {},
   "source": [
    "## Answers:\n",
    "\n",
    "----\n",
    "### 1. Function which computes the linear relaxation of the problem using the Dantzig bound."
   ]
  },
  {
   "cell_type": "code",
   "execution_count": 38,
   "metadata": {},
   "outputs": [
    {
     "data": {
      "text/plain": [
       "computeLP_U01KP (generic function with 1 method)"
      ]
     },
     "execution_count": 38,
     "metadata": {},
     "output_type": "execute_result"
    }
   ],
   "source": [
    "using Printf\n",
    "\n",
    "function computeLP_U01KP( p::Vector{Int64}, w::Vector{Int64}, c::Int64 )\n",
    "\n",
    "    n = length( p )\n",
    "    xLP = zeros( Float64, n )\n",
    "    \n",
    "    # compute the utilities and reorder the items accordingly\n",
    "    u = p ./ w\n",
    "    reord = sortperm( u, rev=true )\n",
    "\n",
    "    # identify the last item integrally selected\n",
    "    zLP = 0 ; bar_c = c; s = 1 \n",
    "    while ( s <= n ) && ( bar_c - w[reord[s]]  >= 0 )\n",
    "         xLP[reord[s]] = 1.0\n",
    "         zLP = zLP + p[reord[s]]   \n",
    "         bar_c = bar_c - w[reord[s]] \n",
    "         s = s + 1\n",
    "    end\n",
    "    s = s - 1\n",
    "                \n",
    "    # constraint not saturated => add the fractionnal part of the blocking item valuated\n",
    "    if ( bar_c > 0 ) && ( s < n )\n",
    "        xLP[reord[s+1]] = bar_c / w[reord[s+1]]        \n",
    "        zLP = zLP + xLP[reord[s+1]] * p[reord[s+1]]  \n",
    "    end\n",
    "    \n",
    "    for i = 1:n\n",
    "        @printf(\" %d (%d %d %.2f) %4.2f \\n\", reord[i], p[reord[i]], w[reord[i]], u[reord[i]], xLP[reord[i]])\n",
    "    end\n",
    "       \n",
    "    return zLP, xLP\n",
    "end"
   ]
  },
  {
   "cell_type": "markdown",
   "metadata": {},
   "source": [
    "----\n",
    "### 2. Compute the linear relaxation for an instance."
   ]
  },
  {
   "cell_type": "code",
   "execution_count": 39,
   "metadata": {},
   "outputs": [
    {
     "name": "stdout",
     "output_type": "stream",
     "text": [
      " 4 (7 2 3.50) 1.00 \n",
      " 1 (5 2 2.50) 1.00 \n",
      " 5 (4 5 0.80) 1.00 \n",
      " 3 (2 4 0.50) 0.25 \n",
      " 2 (3 8 0.38) 0.00 \n"
     ]
    },
    {
     "data": {
      "text/plain": [
       "(16.5, [1.0, 0.0, 0.25, 1.0, 1.0])"
      ]
     },
     "execution_count": 39,
     "metadata": {},
     "output_type": "execute_result"
    }
   ],
   "source": [
    "p = [ 5, 3, 2, 7, 4 ]\n",
    "w = [ 2, 8, 4, 2, 5 ]\n",
    "c = 10\n",
    "\n",
    "computeLP_U01KP( p, w, c )"
   ]
  },
  {
   "cell_type": "markdown",
   "metadata": {},
   "source": [
    "-----\n",
    "-----"
   ]
  },
  {
   "cell_type": "markdown",
   "metadata": {},
   "source": [
    "## Exercise 3\n",
    "\n",
    "Given the bi-objective 01 Unidimensional Knapsack Problem (bi-01UKP) formulated by \n",
    "$$z=\\max\\big\\{(p^1x,\\ p^2x) \\mid wx \\le c, \\ x\\in\\{0,1\\}^n\\big\\}$$\n",
    "\n",
    "and the numerical instance corresponding to \n",
    "$$n=5$$\n",
    "$$p^1=(\\ 6, \\ 4, \\ 4, \\ 4, \\ 3)$$\n",
    "$$p^2=(12, 10, \\ 5, \\ 3, \\ 1)$$\n",
    "$$w=(\\ 8, \\ 6, \\ 4, \\ 3, \\ 2)$$\n",
    "$$c=15$$\n",
    "\n",
    "answer to the following questions:\n",
    "\n",
    "1. implement an implicit formulation of the bi-01UKP with JuMP and display the model.\n",
    "2. using the package `MultiObjectiveAlgorithms`, compute and display $X_E$ and $Y_N$, the set of efficient solutions and the set of non-dominated points.\n",
    "3. plot $Y_N$\n",
    "4. using this learning, implement the required codes to solve instances of the bi-objective General Assignment Problem (biGAP).\n"
   ]
  },
  {
   "cell_type": "markdown",
   "metadata": {},
   "source": [
    "## Answers:\n",
    "\n",
    "----\n",
    "### 1. implement an implicit formulation of the bi-01UKP with JuMP and display the model."
   ]
  },
  {
   "cell_type": "markdown",
   "metadata": {},
   "source": [
    "#### declare the packages to use:"
   ]
  },
  {
   "cell_type": "code",
   "execution_count": 40,
   "metadata": {},
   "outputs": [],
   "source": [
    "using JuMP\n",
    "using GLPK\n",
    "import MultiObjectiveAlgorithms as MOA"
   ]
  },
  {
   "cell_type": "markdown",
   "metadata": {},
   "source": [
    "#### setup the instance to solve"
   ]
  },
  {
   "cell_type": "code",
   "execution_count": 41,
   "metadata": {},
   "outputs": [
    {
     "data": {
      "text/plain": [
       "10"
      ]
     },
     "execution_count": 41,
     "metadata": {},
     "output_type": "execute_result"
    }
   ],
   "source": [
    "p1 = [ 13, 10, 3, 16, 12, 11,  1,  9, 19, 13 ] # profit 1\n",
    "p2 = [  1, 10, 3, 13, 12, 19, 16, 13, 11,  9 ] # profit 2\n",
    "w  = [  4,  4, 3,  5,  5,  3,  2,  3,  5,  4 ] # weight\n",
    "c  = 19                                        # capacity\n",
    "n  = length(p1)           # number of items"
   ]
  },
  {
   "cell_type": "code",
   "execution_count": 42,
   "metadata": {},
   "outputs": [
    {
     "data": {
      "text/plain": [
       "0.5"
      ]
     },
     "execution_count": 42,
     "metadata": {},
     "output_type": "execute_result"
    }
   ],
   "source": [
    "c/sum(w)"
   ]
  },
  {
   "cell_type": "markdown",
   "metadata": {},
   "source": [
    "#### setup the formulation"
   ]
  },
  {
   "cell_type": "code",
   "execution_count": 43,
   "metadata": {},
   "outputs": [
    {
     "data": {
      "text/latex": [
       "$$ \\begin{aligned}\n",
       "\\max\\quad & [13 x_{1} + 10 x_{2} + 3 x_{3} + 16 x_{4} + 12 x_{5} + 11 x_{6} + x_{7} + 9 x_{8} + 19 x_{9} + 13 x_{10}, x_{1} + 10 x_{2} + 3 x_{3} + 13 x_{4} + 12 x_{5} + 19 x_{6} + 16 x_{7} + 13 x_{8} + 11 x_{9} + 9 x_{10}]\\\\\n",
       "\\text{Subject to} \\quad & 4 x_{1} + 4 x_{2} + 3 x_{3} + 5 x_{4} + 5 x_{5} + 3 x_{6} + 2 x_{7} + 3 x_{8} + 5 x_{9} + 4 x_{10} \\leq 19\\\\\n",
       " & x_{1} \\in \\{0, 1\\}\\\\\n",
       " & x_{2} \\in \\{0, 1\\}\\\\\n",
       " & x_{3} \\in \\{0, 1\\}\\\\\n",
       " & x_{4} \\in \\{0, 1\\}\\\\\n",
       " & x_{5} \\in \\{0, 1\\}\\\\\n",
       " & x_{6} \\in \\{0, 1\\}\\\\\n",
       " & x_{7} \\in \\{0, 1\\}\\\\\n",
       " & x_{8} \\in \\{0, 1\\}\\\\\n",
       " & x_{9} \\in \\{0, 1\\}\\\\\n",
       " & x_{10} \\in \\{0, 1\\}\\\\\n",
       "\\end{aligned} $$"
      ]
     },
     "metadata": {},
     "output_type": "display_data"
    }
   ],
   "source": [
    "bi01UKP = Model( )\n",
    "\n",
    "@variable(bi01UKP, x[1:n], Bin)\n",
    "\n",
    "@expression(bi01UKP, objective1, sum(p1[i] * x[i] for i in 1:n))\n",
    "@expression(bi01UKP, objective2, sum(p2[i] * x[i] for i in 1:n))\n",
    "@objective(bi01UKP, Max, [objective1, objective2])\n",
    "\n",
    "@constraint(bi01UKP, sum(w[i] * x[i] for i in 1:n) ≤ c)\n",
    "\n",
    "print(bi01UKP)"
   ]
  },
  {
   "cell_type": "markdown",
   "metadata": {},
   "source": [
    "---- \n",
    "### 2. using the package `MultiObjectiveAlgorithms`, compute $Y_N$, the set of non-dominated points."
   ]
  },
  {
   "cell_type": "markdown",
   "metadata": {},
   "source": [
    "#### setup the MIP solver to use"
   ]
  },
  {
   "cell_type": "code",
   "execution_count": 44,
   "metadata": {},
   "outputs": [],
   "source": [
    "set_optimizer(bi01UKP, () -> MOA.Optimizer(GLPK.Optimizer))"
   ]
  },
  {
   "cell_type": "markdown",
   "metadata": {},
   "source": [
    "#### setup the algorithm to use"
   ]
  },
  {
   "cell_type": "code",
   "execution_count": 45,
   "metadata": {},
   "outputs": [],
   "source": [
    "set_attribute(bi01UKP, MOA.Algorithm(), MOA.EpsilonConstraint())"
   ]
  },
  {
   "cell_type": "markdown",
   "metadata": {},
   "source": [
    "#### solve the problem"
   ]
  },
  {
   "cell_type": "code",
   "execution_count": 46,
   "metadata": {},
   "outputs": [
    {
     "data": {
      "text/plain": [
       "* Solver : MOA[algorithm=MultiObjectiveAlgorithms.EpsilonConstraint, optimizer=GLPK]\n",
       "\n",
       "* Status\n",
       "  Result count       : 6\n",
       "  Termination status : OPTIMAL\n",
       "  Message from the solver:\n",
       "  \"Solve complete. Found 6 solution(s)\"\n",
       "\n",
       "* Candidate solution (result #1)\n",
       "  Primal status      : FEASIBLE_POINT\n",
       "  Dual status        : NO_SOLUTION\n",
       "  Objective value    : [4.90000e+01,7.30000e+01]\n",
       "  Objective bound    : [6.50000e+01,7.30000e+01]\n",
       "\n",
       "* Work counters\n",
       "  Solve time (sec)   : 9.00643e-01\n"
      ]
     },
     "execution_count": 46,
     "metadata": {},
     "output_type": "execute_result"
    }
   ],
   "source": [
    "optimize!(bi01UKP)\n",
    "@assert termination_status(bi01UKP) == OPTIMAL\n",
    "solution_summary(bi01UKP)"
   ]
  },
  {
   "cell_type": "markdown",
   "metadata": {},
   "source": [
    "#### query the cardinality of $Y_N$"
   ]
  },
  {
   "cell_type": "code",
   "execution_count": 47,
   "metadata": {},
   "outputs": [
    {
     "data": {
      "text/plain": [
       "6"
      ]
     },
     "execution_count": 47,
     "metadata": {},
     "output_type": "execute_result"
    }
   ],
   "source": [
    "result_count(bi01UKP)"
   ]
  },
  {
   "cell_type": "code",
   "execution_count": 48,
   "metadata": {},
   "outputs": [
    {
     "data": {
      "text/plain": [
       "5-element Vector{Int64}:\n",
       " 2\n",
       " 4\n",
       " 6\n",
       " 7\n",
       " 9"
      ]
     },
     "execution_count": 48,
     "metadata": {},
     "output_type": "execute_result"
    }
   ],
   "source": [
    "items_selected = [i for i in 1:n if value(x[i]; result = 3) > 0.9]"
   ]
  },
  {
   "cell_type": "markdown",
   "metadata": {},
   "source": [
    "#### query the summary of the 3rd point"
   ]
  },
  {
   "cell_type": "code",
   "execution_count": 49,
   "metadata": {},
   "outputs": [
    {
     "data": {
      "text/plain": [
       "* Solver : MOA[algorithm=MultiObjectiveAlgorithms.EpsilonConstraint, optimizer=GLPK]\n",
       "\n",
       "* Status\n",
       "  Result count       : 6\n",
       "  Termination status : OPTIMAL\n",
       "\n",
       "* Candidate solution (result #3)\n",
       "  Primal status      : FEASIBLE_POINT\n",
       "  Dual status        : NO_SOLUTION\n",
       "  Objective value    : [5.70000e+01,6.90000e+01]\n"
      ]
     },
     "execution_count": 49,
     "metadata": {},
     "output_type": "execute_result"
    }
   ],
   "source": [
    "solution_summary(bi01UKP; result = 3)"
   ]
  },
  {
   "cell_type": "markdown",
   "metadata": {},
   "source": [
    "#### query the vector values of the 3rd point"
   ]
  },
  {
   "cell_type": "code",
   "execution_count": 50,
   "metadata": {},
   "outputs": [
    {
     "data": {
      "text/plain": [
       "2-element Vector{Float64}:\n",
       " 57.0\n",
       " 69.0"
      ]
     },
     "execution_count": 50,
     "metadata": {},
     "output_type": "execute_result"
    }
   ],
   "source": [
    "objective_value(bi01UKP; result = 3)"
   ]
  },
  {
   "cell_type": "markdown",
   "metadata": {},
   "source": [
    "#### query the value for the first objective of the 3rd point"
   ]
  },
  {
   "cell_type": "code",
   "execution_count": 51,
   "metadata": {},
   "outputs": [
    {
     "data": {
      "text/plain": [
       "57.0"
      ]
     },
     "execution_count": 51,
     "metadata": {},
     "output_type": "execute_result"
    }
   ],
   "source": [
    "value(objective1; result = 3)"
   ]
  },
  {
   "cell_type": "markdown",
   "metadata": {},
   "source": [
    "#### display $X_E$ and $Y_N$"
   ]
  },
  {
   "cell_type": "code",
   "execution_count": 52,
   "metadata": {},
   "outputs": [
    {
     "name": "stdout",
     "output_type": "stream",
     "text": [
      "1: x = [0, 0, 0, 1, 1, 1, 1, 1, 0, 0] | z = [49, 73]\n",
      "2: x = [0, 0, 0, 1, 0, 1, 1, 1, 1, 0] | z = [56, 72]\n",
      "3: x = [0, 1, 0, 1, 0, 1, 1, 0, 1, 0] | z = [57, 69]\n",
      "4: x = [0, 0, 0, 1, 0, 1, 1, 0, 1, 1] | z = [60, 68]\n",
      "5: x = [0, 1, 0, 0, 0, 1, 0, 1, 1, 1] | z = [62, 62]\n",
      "6: x = [1, 0, 0, 0, 0, 1, 0, 1, 1, 1] | z = [65, 53]\n"
     ]
    }
   ],
   "source": [
    "for i in 1:result_count(bi01UKP)\n",
    "    @assert is_solved_and_feasible(bi01UKP; result = i)\n",
    "    print(i, \": x = \", round.(Int, value.(x; result = i)), \" | \")\n",
    "    println(\"z = \", round.(Int, objective_value(bi01UKP; result = i)))\n",
    "end"
   ]
  },
  {
   "cell_type": "markdown",
   "metadata": {},
   "source": [
    "----\n",
    "### 3. plot $Y_N$ "
   ]
  },
  {
   "cell_type": "code",
   "execution_count": 53,
   "metadata": {},
   "outputs": [],
   "source": [
    "import Plots"
   ]
  },
  {
   "cell_type": "code",
   "execution_count": 54,
   "metadata": {},
   "outputs": [
    {
     "data": {
      "image/png": "[encoded data removed]",
      "image/svg+xml": [
       "<?xml version=\"1.0\" encoding=\"utf-8\"?>\n",
       "<svg xmlns=\"http://www.w3.org/2000/svg\" xmlns:xlink=\"http://www.w3.org/1999/xlink\" width=\"600\" height=\"400\" viewBox=\"0 0 2400 1600\">\n",
       "<defs>\n",
       "  <clipPath id=\"clip100\">\n",
       "    <rect x=\"0\" y=\"0\" width=\"2400\" height=\"1600\"/>\n",
       "  </clipPath>\n",
       "</defs>\n",
       "<path clip-path=\"url(#clip100)\" d=\"M0 1600 L2400 1600 L2400 8.88178e-14 L0 8.88178e-14  Z\" fill=\"#ffffff\" fill-rule=\"evenodd\" fill-opacity=\"1\"/>\n",
       "<defs>\n",
       "  <clipPath id=\"clip101\">\n",
       "    <rect x=\"480\" y=\"0\" width=\"1681\" height=\"1600\"/>\n",
       "  </clipPath>\n",
       "</defs>\n",
       "<path clip-path=\"url(#clip100)\" d=\"M628.633 1423.18 L1928.34 1423.18 L1928.34 123.472 L628.633 123.472  Z\" fill=\"#ffffff\" fill-rule=\"evenodd\" fill-opacity=\"1\"/>\n",
       "<defs>\n",
       "  <clipPath id=\"clip102\">\n",
       "    <rect x=\"628\" y=\"123\" width=\"1301\" height=\"1301\"/>\n",
       "  </clipPath>\n",
       "</defs>\n",
       "<polyline clip-path=\"url(#clip102)\" style=\"stroke:#000000; stroke-linecap:round; stroke-linejoin:round; stroke-width:2; stroke-opacity:0.1; fill:none\" points=\"628.633,1423.18 628.633,123.472 \"/>\n",
       "<polyline clip-path=\"url(#clip102)\" style=\"stroke:#000000; stroke-linecap:round; stroke-linejoin:round; stroke-width:2; stroke-opacity:0.1; fill:none\" points=\"1061.87,1423.18 1061.87,123.472 \"/>\n",
       "<polyline clip-path=\"url(#clip102)\" style=\"stroke:#000000; stroke-linecap:round; stroke-linejoin:round; stroke-width:2; stroke-opacity:0.1; fill:none\" points=\"1495.11,1423.18 1495.11,123.472 \"/>\n",
       "<polyline clip-path=\"url(#clip102)\" style=\"stroke:#000000; stroke-linecap:round; stroke-linejoin:round; stroke-width:2; stroke-opacity:0.1; fill:none\" points=\"1928.34,1423.18 1928.34,123.472 \"/>\n",
       "<polyline clip-path=\"url(#clip102)\" style=\"stroke:#000000; stroke-linecap:round; stroke-linejoin:round; stroke-width:2; stroke-opacity:0.1; fill:none\" points=\"628.633,1423.18 1928.34,1423.18 \"/>\n",
       "<polyline clip-path=\"url(#clip102)\" style=\"stroke:#000000; stroke-linecap:round; stroke-linejoin:round; stroke-width:2; stroke-opacity:0.1; fill:none\" points=\"628.633,989.944 1928.34,989.944 \"/>\n",
       "<polyline clip-path=\"url(#clip102)\" style=\"stroke:#000000; stroke-linecap:round; stroke-linejoin:round; stroke-width:2; stroke-opacity:0.1; fill:none\" points=\"628.633,556.708 1928.34,556.708 \"/>\n",
       "<polyline clip-path=\"url(#clip102)\" style=\"stroke:#000000; stroke-linecap:round; stroke-linejoin:round; stroke-width:2; stroke-opacity:0.1; fill:none\" points=\"628.633,123.472 1928.34,123.472 \"/>\n",
       "<polyline clip-path=\"url(#clip100)\" style=\"stroke:#000000; stroke-linecap:round; stroke-linejoin:round; stroke-width:4; stroke-opacity:1; fill:none\" points=\"628.633,1423.18 1928.34,1423.18 \"/>\n",
       "<polyline clip-path=\"url(#clip100)\" style=\"stroke:#000000; stroke-linecap:round; stroke-linejoin:round; stroke-width:4; stroke-opacity:1; fill:none\" points=\"628.633,1423.18 628.633,1404.28 \"/>\n",
       "<polyline clip-path=\"url(#clip100)\" style=\"stroke:#000000; stroke-linecap:round; stroke-linejoin:round; stroke-width:4; stroke-opacity:1; fill:none\" points=\"1061.87,1423.18 1061.87,1404.28 \"/>\n",
       "<polyline clip-path=\"url(#clip100)\" style=\"stroke:#000000; stroke-linecap:round; stroke-linejoin:round; stroke-width:4; stroke-opacity:1; fill:none\" points=\"1495.11,1423.18 1495.11,1404.28 \"/>\n",
       "<polyline clip-path=\"url(#clip100)\" style=\"stroke:#000000; stroke-linecap:round; stroke-linejoin:round; stroke-width:4; stroke-opacity:1; fill:none\" points=\"1928.34,1423.18 1928.34,1404.28 \"/>\n",
       "<path clip-path=\"url(#clip100)\" d=\"M616.805 1455.09 L604.999 1473.54 L616.805 1473.54 L616.805 1455.09 M615.578 1451.02 L621.457 1451.02 L621.457 1473.54 L626.388 1473.54 L626.388 1477.43 L621.457 1477.43 L621.457 1485.58 L616.805 1485.58 L616.805 1477.43 L601.203 1477.43 L601.203 1472.92 L615.578 1451.02 Z\" fill=\"#000000\" fill-rule=\"nonzero\" fill-opacity=\"1\" /><path clip-path=\"url(#clip100)\" d=\"M644.119 1454.1 Q640.508 1454.1 638.679 1457.66 Q636.874 1461.2 636.874 1468.33 Q636.874 1475.44 638.679 1479.01 Q640.508 1482.55 644.119 1482.55 Q647.753 1482.55 649.559 1479.01 Q651.388 1475.44 651.388 1468.33 Q651.388 1461.2 649.559 1457.66 Q647.753 1454.1 644.119 1454.1 M644.119 1450.39 Q649.929 1450.39 652.985 1455 Q656.064 1459.58 656.064 1468.33 Q656.064 1477.06 652.985 1481.67 Q649.929 1486.25 644.119 1486.25 Q638.309 1486.25 635.23 1481.67 Q632.175 1477.06 632.175 1468.33 Q632.175 1459.58 635.23 1455 Q638.309 1450.39 644.119 1450.39 Z\" fill=\"#000000\" fill-rule=\"nonzero\" fill-opacity=\"1\" /><path clip-path=\"url(#clip100)\" d=\"M1036.57 1451.02 L1054.92 1451.02 L1054.92 1454.96 L1040.85 1454.96 L1040.85 1463.43 Q1041.87 1463.08 1042.89 1462.92 Q1043.91 1462.73 1044.92 1462.73 Q1050.71 1462.73 1054.09 1465.9 Q1057.47 1469.08 1057.47 1474.49 Q1057.47 1480.07 1054 1483.17 Q1050.53 1486.25 1044.21 1486.25 Q1042.03 1486.25 1039.76 1485.88 Q1037.52 1485.51 1035.11 1484.77 L1035.11 1480.07 Q1037.19 1481.2 1039.42 1481.76 Q1041.64 1482.32 1044.11 1482.32 Q1048.12 1482.32 1050.46 1480.21 Q1052.8 1478.1 1052.8 1474.49 Q1052.8 1470.88 1050.46 1468.77 Q1048.12 1466.67 1044.11 1466.67 Q1042.24 1466.67 1040.36 1467.08 Q1038.51 1467.5 1036.57 1468.38 L1036.57 1451.02 Z\" fill=\"#000000\" fill-rule=\"nonzero\" fill-opacity=\"1\" /><path clip-path=\"url(#clip100)\" d=\"M1076.68 1454.1 Q1073.07 1454.1 1071.24 1457.66 Q1069.44 1461.2 1069.44 1468.33 Q1069.44 1475.44 1071.24 1479.01 Q1073.07 1482.55 1076.68 1482.55 Q1080.32 1482.55 1082.12 1479.01 Q1083.95 1475.44 1083.95 1468.33 Q1083.95 1461.2 1082.12 1457.66 Q1080.32 1454.1 1076.68 1454.1 M1076.68 1450.39 Q1082.49 1450.39 1085.55 1455 Q1088.63 1459.58 1088.63 1468.33 Q1088.63 1477.06 1085.55 1481.67 Q1082.49 1486.25 1076.68 1486.25 Q1070.87 1486.25 1067.79 1481.67 Q1064.74 1477.06 1064.74 1468.33 Q1064.74 1459.58 1067.79 1455 Q1070.87 1450.39 1076.68 1450.39 Z\" fill=\"#000000\" fill-rule=\"nonzero\" fill-opacity=\"1\" /><path clip-path=\"url(#clip100)\" d=\"M1480.51 1466.44 Q1477.36 1466.44 1475.51 1468.59 Q1473.68 1470.74 1473.68 1474.49 Q1473.68 1478.22 1475.51 1480.39 Q1477.36 1482.55 1480.51 1482.55 Q1483.66 1482.55 1485.49 1480.39 Q1487.34 1478.22 1487.34 1474.49 Q1487.34 1470.74 1485.49 1468.59 Q1483.66 1466.44 1480.51 1466.44 M1489.79 1451.78 L1489.79 1456.04 Q1488.03 1455.21 1486.23 1454.77 Q1484.45 1454.33 1482.69 1454.33 Q1478.06 1454.33 1475.6 1457.45 Q1473.17 1460.58 1472.83 1466.9 Q1474.19 1464.89 1476.25 1463.82 Q1478.31 1462.73 1480.79 1462.73 Q1486 1462.73 1489.01 1465.9 Q1492.04 1469.05 1492.04 1474.49 Q1492.04 1479.82 1488.89 1483.03 Q1485.74 1486.25 1480.51 1486.25 Q1474.51 1486.25 1471.34 1481.67 Q1468.17 1477.06 1468.17 1468.33 Q1468.17 1460.14 1472.06 1455.28 Q1475.95 1450.39 1482.5 1450.39 Q1484.26 1450.39 1486.04 1450.74 Q1487.85 1451.09 1489.79 1451.78 Z\" fill=\"#000000\" fill-rule=\"nonzero\" fill-opacity=\"1\" /><path clip-path=\"url(#clip100)\" d=\"M1510.09 1454.1 Q1506.48 1454.1 1504.65 1457.66 Q1502.85 1461.2 1502.85 1468.33 Q1502.85 1475.44 1504.65 1479.01 Q1506.48 1482.55 1510.09 1482.55 Q1513.73 1482.55 1515.53 1479.01 Q1517.36 1475.44 1517.36 1468.33 Q1517.36 1461.2 1515.53 1457.66 Q1513.73 1454.1 1510.09 1454.1 M1510.09 1450.39 Q1515.9 1450.39 1518.96 1455 Q1522.04 1459.58 1522.04 1468.33 Q1522.04 1477.06 1518.96 1481.67 Q1515.9 1486.25 1510.09 1486.25 Q1504.28 1486.25 1501.2 1481.67 Q1498.15 1477.06 1498.15 1468.33 Q1498.15 1459.58 1501.2 1455 Q1504.28 1450.39 1510.09 1450.39 Z\" fill=\"#000000\" fill-rule=\"nonzero\" fill-opacity=\"1\" /><path clip-path=\"url(#clip100)\" d=\"M1901.7 1451.02 L1923.92 1451.02 L1923.92 1453.01 L1911.37 1485.58 L1906.49 1485.58 L1918.29 1454.96 L1901.7 1454.96 L1901.7 1451.02 Z\" fill=\"#000000\" fill-rule=\"nonzero\" fill-opacity=\"1\" /><path clip-path=\"url(#clip100)\" d=\"M1943.04 1454.1 Q1939.43 1454.1 1937.6 1457.66 Q1935.79 1461.2 1935.79 1468.33 Q1935.79 1475.44 1937.6 1479.01 Q1939.43 1482.55 1943.04 1482.55 Q1946.67 1482.55 1948.48 1479.01 Q1950.31 1475.44 1950.31 1468.33 Q1950.31 1461.2 1948.48 1457.66 Q1946.67 1454.1 1943.04 1454.1 M1943.04 1450.39 Q1948.85 1450.39 1951.91 1455 Q1954.98 1459.58 1954.98 1468.33 Q1954.98 1477.06 1951.91 1481.67 Q1948.85 1486.25 1943.04 1486.25 Q1937.23 1486.25 1934.15 1481.67 Q1931.1 1477.06 1931.1 1468.33 Q1931.1 1459.58 1934.15 1455 Q1937.23 1450.39 1943.04 1450.39 Z\" fill=\"#000000\" fill-rule=\"nonzero\" fill-opacity=\"1\" /><path clip-path=\"url(#clip100)\" d=\"M1235.59 1526.02 Q1235.59 1526.25 1235.04 1527.22 Q1234.53 1528.15 1232.63 1530.5 Q1230.73 1532.85 1227.89 1535.59 Q1226.83 1536.65 1225.22 1538.13 Q1223.61 1539.62 1222.52 1540.58 L1221.42 1541.55 Q1217.23 1545.09 1213.56 1549.05 Q1213.82 1548.95 1214.27 1548.92 Q1214.72 1548.86 1215.04 1548.86 L1215.37 1548.86 Q1217.04 1548.86 1219.97 1549.99 Q1222.55 1550.82 1223.87 1550.82 Q1225.16 1550.82 1226.57 1550.37 Q1227.99 1549.92 1229.54 1548.6 Q1231.08 1547.28 1231.79 1545.28 Q1231.92 1544.96 1231.98 1544.86 Q1232.05 1544.74 1232.24 1544.61 Q1232.43 1544.45 1232.69 1544.45 Q1233.05 1544.45 1233.27 1544.64 Q1233.5 1544.83 1233.5 1545.09 Q1233.5 1545.67 1233.05 1546.83 Q1232.63 1547.99 1231.69 1549.44 Q1230.79 1550.89 1229.6 1552.21 Q1228.44 1553.5 1226.7 1554.4 Q1224.96 1555.27 1223.13 1555.27 Q1221.81 1555.27 1220.84 1554.62 Q1219.87 1554.01 1218.91 1552.82 Q1217.59 1551.31 1216.88 1550.82 Q1216.17 1550.31 1215.08 1550.31 Q1212.15 1550.31 1209.47 1554.4 Q1209.18 1554.98 1208.99 1555.11 Q1208.83 1555.27 1208.44 1555.27 Q1207.64 1555.23 1207.64 1554.59 Q1207.64 1554.33 1208.34 1553.21 Q1209.09 1552.05 1210.73 1550.02 Q1212.4 1547.99 1214.43 1545.96 L1220.36 1540.42 Q1226.93 1534.88 1229.54 1531.76 Q1228.44 1531.76 1227.96 1531.72 Q1227.51 1531.69 1226.61 1531.5 Q1225.7 1531.27 1224.45 1530.79 Q1221.52 1529.79 1220.29 1529.79 Q1219.97 1529.79 1219.62 1529.82 Q1219.26 1529.86 1218.46 1530.02 Q1217.68 1530.18 1217.04 1530.5 Q1216.4 1530.79 1215.72 1531.43 Q1215.04 1532.05 1214.69 1532.88 Q1214.59 1533.14 1214.53 1533.27 Q1214.46 1533.4 1214.27 1533.53 Q1214.11 1533.62 1213.85 1533.62 Q1213.47 1533.62 1213.24 1533.4 Q1213.05 1533.17 1213.05 1532.88 Q1213.05 1532.3 1213.63 1531.11 Q1214.21 1529.92 1215.17 1528.63 Q1216.14 1527.31 1217.72 1526.35 Q1219.29 1525.38 1221.03 1525.38 Q1222.06 1525.38 1222.93 1525.83 Q1223.84 1526.28 1224.29 1526.76 Q1224.77 1527.22 1225.58 1528.21 Q1226.25 1528.99 1226.57 1529.31 Q1226.9 1529.63 1227.54 1529.99 Q1228.22 1530.31 1228.96 1530.31 Q1230.18 1530.31 1231.31 1529.37 Q1232.43 1528.41 1233.88 1526.09 Q1234.27 1525.38 1234.88 1525.38 Q1235.59 1525.38 1235.59 1526.02 Z\" fill=\"#000000\" fill-rule=\"nonzero\" fill-opacity=\"1\" /><path clip-path=\"url(#clip100)\" d=\"M1242.36 1547.18 L1242.36 1545.74 Q1247.91 1545.74 1250.77 1542.79 Q1251.56 1542.79 1251.7 1542.97 Q1251.83 1543.15 1251.83 1543.98 L1251.83 1569.89 Q1251.83 1571.26 1252.51 1571.69 Q1253.19 1572.12 1256.14 1572.12 L1257.6 1572.12 L1257.6 1573.54 Q1255.98 1573.4 1250.12 1573.4 Q1244.26 1573.4 1242.66 1573.54 L1242.66 1572.12 L1244.12 1572.12 Q1247.03 1572.12 1247.73 1571.71 Q1248.43 1571.28 1248.43 1569.89 L1248.43 1545.97 Q1246.02 1547.18 1242.36 1547.18 Z\" fill=\"#000000\" fill-rule=\"nonzero\" fill-opacity=\"1\" /><path clip-path=\"url(#clip100)\" d=\"M1264.5 1538.04 Q1264.5 1526.89 1268.65 1517.91 Q1270.42 1514.14 1272.9 1510.98 Q1275.38 1507.83 1277.03 1506.44 Q1278.67 1505.06 1279.12 1505.06 Q1279.76 1505.06 1279.8 1505.7 Q1279.8 1506.02 1278.93 1506.83 Q1268.3 1517.65 1268.33 1538.04 Q1268.33 1558.49 1278.67 1568.89 Q1279.8 1570.02 1279.8 1570.37 Q1279.8 1571.02 1279.12 1571.02 Q1278.67 1571.02 1277.09 1569.7 Q1275.51 1568.37 1273.06 1565.35 Q1270.62 1562.32 1268.85 1558.62 Q1264.5 1549.63 1264.5 1538.04 Z\" fill=\"#000000\" fill-rule=\"nonzero\" fill-opacity=\"1\" /><path clip-path=\"url(#clip100)\" d=\"M1317.66 1529.73 Q1317.66 1531.53 1316.53 1532.56 Q1315.4 1533.56 1314.12 1533.56 Q1312.89 1533.56 1312.25 1532.85 Q1311.6 1532.14 1311.6 1531.24 Q1311.6 1530.02 1312.51 1528.95 Q1313.41 1527.89 1314.76 1527.67 Q1313.44 1526.83 1311.48 1526.83 Q1310.19 1526.83 1309.06 1527.51 Q1307.97 1528.18 1307.29 1529.05 Q1306.64 1529.92 1306.06 1531.18 Q1305.52 1532.4 1305.29 1533.14 Q1305.1 1533.85 1304.94 1534.62 L1302.68 1543.64 Q1301.59 1547.92 1301.59 1549.44 Q1301.59 1551.31 1302.49 1552.56 Q1303.39 1553.79 1305.2 1553.79 Q1305.9 1553.79 1306.71 1553.59 Q1307.51 1553.37 1308.54 1552.79 Q1309.61 1552.18 1310.54 1551.27 Q1311.51 1550.34 1312.44 1548.76 Q1313.38 1547.18 1313.99 1545.15 Q1314.18 1544.45 1314.82 1544.45 Q1315.63 1544.45 1315.63 1545.09 Q1315.63 1545.64 1315.18 1546.8 Q1314.76 1547.92 1313.83 1549.41 Q1312.92 1550.85 1311.73 1552.18 Q1310.54 1553.46 1308.77 1554.37 Q1307 1555.27 1305.07 1555.27 Q1302.3 1555.27 1300.46 1553.79 Q1298.63 1552.3 1297.95 1550.24 Q1297.79 1550.53 1297.56 1550.92 Q1297.34 1551.31 1296.66 1552.18 Q1296.02 1553.01 1295.28 1553.66 Q1294.54 1554.27 1293.38 1554.75 Q1292.25 1555.27 1291.02 1555.27 Q1289.48 1555.27 1288.09 1554.82 Q1286.74 1554.37 1285.78 1553.33 Q1284.81 1552.3 1284.81 1550.89 Q1284.81 1549.31 1285.87 1548.21 Q1286.97 1547.09 1288.45 1547.09 Q1289.38 1547.09 1290.12 1547.63 Q1290.9 1548.18 1290.9 1549.37 Q1290.9 1550.69 1289.99 1551.69 Q1289.09 1552.69 1287.8 1552.95 Q1289.12 1553.79 1291.09 1553.79 Q1293.21 1553.79 1294.89 1551.92 Q1296.56 1550.05 1297.37 1546.93 Q1299.37 1539.42 1300.14 1536.07 Q1300.91 1532.69 1300.91 1531.24 Q1300.91 1529.89 1300.56 1528.95 Q1300.2 1528.02 1299.59 1527.6 Q1299.01 1527.15 1298.46 1526.99 Q1297.95 1526.83 1297.37 1526.83 Q1296.4 1526.83 1295.31 1527.22 Q1294.25 1527.6 1292.96 1528.5 Q1291.7 1529.37 1290.51 1531.18 Q1289.32 1532.98 1288.51 1535.46 Q1288.35 1536.2 1287.64 1536.2 Q1286.87 1536.17 1286.87 1535.52 Q1286.87 1534.98 1287.29 1533.85 Q1287.74 1532.69 1288.64 1531.24 Q1289.58 1529.79 1290.77 1528.5 Q1291.99 1527.18 1293.76 1526.28 Q1295.57 1525.38 1297.5 1525.38 Q1298.37 1525.38 1299.21 1525.57 Q1300.07 1525.73 1301.11 1526.22 Q1302.17 1526.7 1303.1 1527.76 Q1304.04 1528.83 1304.62 1530.37 Q1305 1529.63 1305.52 1528.92 Q1306.06 1528.21 1306.9 1527.34 Q1307.77 1526.44 1308.96 1525.93 Q1310.19 1525.38 1311.54 1525.38 Q1312.86 1525.38 1314.15 1525.73 Q1315.44 1526.06 1316.53 1527.12 Q1317.66 1528.15 1317.66 1529.73 Z\" fill=\"#000000\" fill-rule=\"nonzero\" fill-opacity=\"1\" /><path clip-path=\"url(#clip100)\" d=\"M1324.01 1570.37 Q1324.01 1570.05 1324.85 1569.24 Q1335.48 1558.42 1335.48 1538.04 Q1335.48 1517.59 1325.27 1507.25 Q1324.01 1506.06 1324.01 1505.7 Q1324.01 1505.06 1324.65 1505.06 Q1325.11 1505.06 1326.68 1506.38 Q1328.29 1507.7 1330.71 1510.73 Q1333.16 1513.75 1334.96 1517.46 Q1339.31 1526.44 1339.31 1538.04 Q1339.31 1549.18 1335.15 1558.17 Q1333.38 1561.93 1330.9 1565.09 Q1328.42 1568.25 1326.78 1569.63 Q1325.14 1571.02 1324.65 1571.02 Q1324.01 1571.02 1324.01 1570.37 Z\" fill=\"#000000\" fill-rule=\"nonzero\" fill-opacity=\"1\" /><polyline clip-path=\"url(#clip100)\" style=\"stroke:#000000; stroke-linecap:round; stroke-linejoin:round; stroke-width:4; stroke-opacity:1; fill:none\" points=\"628.633,1423.18 628.633,123.472 \"/>\n",
       "<polyline clip-path=\"url(#clip100)\" style=\"stroke:#000000; stroke-linecap:round; stroke-linejoin:round; stroke-width:4; stroke-opacity:1; fill:none\" points=\"628.633,1423.18 640.065,1423.18 \"/>\n",
       "<polyline clip-path=\"url(#clip100)\" style=\"stroke:#000000; stroke-linecap:round; stroke-linejoin:round; stroke-width:4; stroke-opacity:1; fill:none\" points=\"628.633,989.944 640.065,989.944 \"/>\n",
       "<polyline clip-path=\"url(#clip100)\" style=\"stroke:#000000; stroke-linecap:round; stroke-linejoin:round; stroke-width:4; stroke-opacity:1; fill:none\" points=\"628.633,556.708 640.065,556.708 \"/>\n",
       "<polyline clip-path=\"url(#clip100)\" style=\"stroke:#000000; stroke-linecap:round; stroke-linejoin:round; stroke-width:4; stroke-opacity:1; fill:none\" points=\"628.633,123.472 640.065,123.472 \"/>\n",
       "<path clip-path=\"url(#clip100)\" d=\"M540.573 1405.9 L558.93 1405.9 L558.93 1409.84 L544.856 1409.84 L544.856 1418.31 Q545.874 1417.96 546.893 1417.8 Q547.911 1417.61 548.93 1417.61 Q554.717 1417.61 558.096 1420.78 Q561.476 1423.96 561.476 1429.37 Q561.476 1434.95 558.004 1438.05 Q554.532 1441.13 548.212 1441.13 Q546.036 1441.13 543.768 1440.76 Q541.522 1440.39 539.115 1439.65 L539.115 1434.95 Q541.198 1436.08 543.42 1436.64 Q545.643 1437.2 548.12 1437.2 Q552.124 1437.2 554.462 1435.09 Q556.8 1432.98 556.8 1429.37 Q556.8 1425.76 554.462 1423.65 Q552.124 1421.55 548.12 1421.55 Q546.245 1421.55 544.37 1421.96 Q542.518 1422.38 540.573 1423.26 L540.573 1405.9 Z\" fill=\"#000000\" fill-rule=\"nonzero\" fill-opacity=\"1\" /><path clip-path=\"url(#clip100)\" d=\"M580.689 1408.98 Q577.078 1408.98 575.249 1412.54 Q573.443 1416.08 573.443 1423.21 Q573.443 1430.32 575.249 1433.89 Q577.078 1437.43 580.689 1437.43 Q584.323 1437.43 586.129 1433.89 Q587.957 1430.32 587.957 1423.21 Q587.957 1416.08 586.129 1412.54 Q584.323 1408.98 580.689 1408.98 M580.689 1405.27 Q586.499 1405.27 589.555 1409.88 Q592.633 1414.46 592.633 1423.21 Q592.633 1431.94 589.555 1436.55 Q586.499 1441.13 580.689 1441.13 Q574.879 1441.13 571.8 1436.55 Q568.744 1431.94 568.744 1423.21 Q568.744 1414.46 571.8 1409.88 Q574.879 1405.27 580.689 1405.27 Z\" fill=\"#000000\" fill-rule=\"nonzero\" fill-opacity=\"1\" /><path clip-path=\"url(#clip100)\" d=\"M551.106 988.081 Q547.958 988.081 546.106 990.233 Q544.277 992.386 544.277 996.136 Q544.277 999.863 546.106 1002.04 Q547.958 1004.19 551.106 1004.19 Q554.254 1004.19 556.082 1002.04 Q557.934 999.863 557.934 996.136 Q557.934 992.386 556.082 990.233 Q554.254 988.081 551.106 988.081 M560.388 973.428 L560.388 977.687 Q558.629 976.854 556.823 976.414 Q555.041 975.974 553.282 975.974 Q548.652 975.974 546.198 979.099 Q543.768 982.224 543.42 988.543 Q544.786 986.53 546.846 985.465 Q548.907 984.377 551.383 984.377 Q556.592 984.377 559.601 987.548 Q562.633 990.696 562.633 996.136 Q562.633 1001.46 559.485 1004.68 Q556.337 1007.9 551.106 1007.9 Q545.11 1007.9 541.939 1003.31 Q538.768 998.705 538.768 989.979 Q538.768 981.784 542.657 976.923 Q546.545 972.039 553.096 972.039 Q554.856 972.039 556.638 972.386 Q558.444 972.733 560.388 973.428 Z\" fill=\"#000000\" fill-rule=\"nonzero\" fill-opacity=\"1\" /><path clip-path=\"url(#clip100)\" d=\"M580.689 975.743 Q577.078 975.743 575.249 979.307 Q573.443 982.849 573.443 989.979 Q573.443 997.085 575.249 1000.65 Q577.078 1004.19 580.689 1004.19 Q584.323 1004.19 586.129 1000.65 Q587.957 997.085 587.957 989.979 Q587.957 982.849 586.129 979.307 Q584.323 975.743 580.689 975.743 M580.689 972.039 Q586.499 972.039 589.555 976.645 Q592.633 981.229 592.633 989.979 Q592.633 998.705 589.555 1003.31 Q586.499 1007.9 580.689 1007.9 Q574.879 1007.9 571.8 1003.31 Q568.744 998.705 568.744 989.979 Q568.744 981.229 571.8 976.645 Q574.879 972.039 580.689 972.039 Z\" fill=\"#000000\" fill-rule=\"nonzero\" fill-opacity=\"1\" /><path clip-path=\"url(#clip100)\" d=\"M539.346 539.428 L561.569 539.428 L561.569 541.419 L549.022 573.988 L544.138 573.988 L555.944 543.363 L539.346 543.363 L539.346 539.428 Z\" fill=\"#000000\" fill-rule=\"nonzero\" fill-opacity=\"1\" /><path clip-path=\"url(#clip100)\" d=\"M580.689 542.507 Q577.078 542.507 575.249 546.072 Q573.443 549.613 573.443 556.743 Q573.443 563.849 575.249 567.414 Q577.078 570.956 580.689 570.956 Q584.323 570.956 586.129 567.414 Q587.957 563.849 587.957 556.743 Q587.957 549.613 586.129 546.072 Q584.323 542.507 580.689 542.507 M580.689 538.803 Q586.499 538.803 589.555 543.409 Q592.633 547.993 592.633 556.743 Q592.633 565.47 589.555 570.076 Q586.499 574.659 580.689 574.659 Q574.879 574.659 571.8 570.076 Q568.744 565.47 568.744 556.743 Q568.744 547.993 571.8 543.409 Q574.879 538.803 580.689 538.803 Z\" fill=\"#000000\" fill-rule=\"nonzero\" fill-opacity=\"1\" /><path clip-path=\"url(#clip100)\" d=\"M550.527 124.34 Q547.194 124.34 545.272 126.123 Q543.374 127.905 543.374 131.03 Q543.374 134.155 545.272 135.937 Q547.194 137.72 550.527 137.72 Q553.86 137.72 555.782 135.937 Q557.703 134.132 557.703 131.03 Q557.703 127.905 555.782 126.123 Q553.883 124.34 550.527 124.34 M545.851 122.349 Q542.842 121.609 541.152 119.549 Q539.485 117.488 539.485 114.525 Q539.485 110.382 542.425 107.975 Q545.388 105.567 550.527 105.567 Q555.689 105.567 558.629 107.975 Q561.569 110.382 561.569 114.525 Q561.569 117.488 559.879 119.549 Q558.212 121.609 555.226 122.349 Q558.606 123.136 560.481 125.428 Q562.379 127.72 562.379 131.03 Q562.379 136.053 559.3 138.738 Q556.245 141.423 550.527 141.423 Q544.809 141.423 541.731 138.738 Q538.675 136.053 538.675 131.03 Q538.675 127.72 540.573 125.428 Q542.471 123.136 545.851 122.349 M544.138 114.965 Q544.138 117.65 545.805 119.155 Q547.495 120.66 550.527 120.66 Q553.536 120.66 555.226 119.155 Q556.939 117.65 556.939 114.965 Q556.939 112.28 555.226 110.775 Q553.536 109.271 550.527 109.271 Q547.495 109.271 545.805 110.775 Q544.138 112.28 544.138 114.965 Z\" fill=\"#000000\" fill-rule=\"nonzero\" fill-opacity=\"1\" /><path clip-path=\"url(#clip100)\" d=\"M580.689 109.271 Q577.078 109.271 575.249 112.836 Q573.443 116.377 573.443 123.507 Q573.443 130.613 575.249 134.178 Q577.078 137.72 580.689 137.72 Q584.323 137.72 586.129 134.178 Q587.957 130.613 587.957 123.507 Q587.957 116.377 586.129 112.836 Q584.323 109.271 580.689 109.271 M580.689 105.567 Q586.499 105.567 589.555 110.174 Q592.633 114.757 592.633 123.507 Q592.633 132.234 589.555 136.84 Q586.499 141.423 580.689 141.423 Q574.879 141.423 571.8 136.84 Q568.744 132.234 568.744 123.507 Q568.744 114.757 571.8 110.174 Q574.879 105.567 580.689 105.567 Z\" fill=\"#000000\" fill-rule=\"nonzero\" fill-opacity=\"1\" /><path clip-path=\"url(#clip100)\" d=\"M460.655 817.802 Q460.881 817.802 461.847 818.35 Q462.781 818.865 465.132 820.765 Q467.483 822.665 470.221 825.5 Q471.283 826.562 472.765 828.173 Q474.246 829.783 475.213 830.878 L476.179 831.973 Q479.721 836.16 483.683 839.831 Q483.586 839.574 483.554 839.123 Q483.489 838.672 483.489 838.35 L483.489 838.028 Q483.489 836.353 484.617 833.422 Q485.454 830.846 485.454 829.525 Q485.454 828.237 485.003 826.82 Q484.552 825.403 483.232 823.857 Q481.911 822.311 479.915 821.603 Q479.593 821.474 479.496 821.409 Q479.367 821.345 479.238 821.152 Q479.077 820.959 479.077 820.701 Q479.077 820.347 479.27 820.121 Q479.464 819.896 479.721 819.896 Q480.301 819.896 481.46 820.347 Q482.62 820.765 484.069 821.699 Q485.518 822.601 486.839 823.793 Q488.127 824.952 489.029 826.691 Q489.898 828.43 489.898 830.266 Q489.898 831.586 489.254 832.553 Q488.642 833.519 487.451 834.485 Q485.937 835.805 485.454 836.514 Q484.939 837.222 484.939 838.317 Q484.939 841.248 489.029 843.921 Q489.609 844.211 489.737 844.404 Q489.898 844.565 489.898 844.952 Q489.866 845.757 489.222 845.757 Q488.964 845.757 487.837 845.049 Q486.678 844.308 484.649 842.665 Q482.62 840.991 480.591 838.962 L475.052 833.036 Q469.512 826.466 466.388 823.857 Q466.388 824.952 466.356 825.435 Q466.324 825.886 466.13 826.788 Q465.905 827.69 465.422 828.946 Q464.424 831.876 464.424 833.1 Q464.424 833.422 464.456 833.776 Q464.488 834.131 464.649 834.936 Q464.81 835.709 465.132 836.353 Q465.422 836.997 466.066 837.673 Q466.678 838.35 467.515 838.704 Q467.773 838.801 467.902 838.865 Q468.031 838.929 468.159 839.123 Q468.256 839.284 468.256 839.541 Q468.256 839.928 468.031 840.153 Q467.805 840.346 467.515 840.346 Q466.936 840.346 465.744 839.767 Q464.552 839.187 463.264 838.221 Q461.944 837.255 460.978 835.677 Q460.011 834.099 460.011 832.359 Q460.011 831.329 460.462 830.459 Q460.913 829.558 461.396 829.107 Q461.847 828.624 462.845 827.818 Q463.618 827.142 463.94 826.82 Q464.263 826.498 464.617 825.854 Q464.939 825.178 464.939 824.437 Q464.939 823.213 464.005 822.086 Q463.039 820.959 460.72 819.509 Q460.011 819.123 460.011 818.511 Q460.011 817.802 460.655 817.802 Z\" fill=\"#000000\" fill-rule=\"nonzero\" fill-opacity=\"1\" /><path clip-path=\"url(#clip100)\" d=\"M508.169 811.03 Q507.334 811.03 507.087 810.962 Q506.839 810.872 506.455 810.511 L496.581 801.651 Q491.125 796.804 486.368 796.804 Q483.28 796.804 481.071 798.427 Q478.861 800.028 478.861 802.981 Q478.861 805.01 480.101 806.724 Q481.341 808.437 483.55 809.226 Q483.505 809.091 483.505 808.617 Q483.505 807.468 484.227 806.836 Q484.948 806.183 485.918 806.183 Q487.158 806.183 487.766 806.994 Q488.352 807.783 488.352 808.572 Q488.352 808.888 488.285 809.316 Q488.217 809.722 487.586 810.376 Q486.932 811.03 485.782 811.03 Q482.559 811.03 479.988 808.595 Q477.418 806.137 477.418 802.395 Q477.418 798.157 479.943 795.384 Q482.446 792.588 486.368 792.588 Q487.744 792.588 489.006 793.017 Q490.246 793.423 491.215 793.986 Q492.185 794.527 493.74 796.015 Q495.296 797.503 496.401 798.698 Q497.505 799.893 499.85 802.576 L504.607 807.468 L504.607 799.149 Q504.607 795.091 504.246 794.775 Q503.592 794.324 500.143 793.761 L500.143 792.588 L508.169 793.896 L508.169 811.03 Z\" fill=\"#000000\" fill-rule=\"nonzero\" fill-opacity=\"1\" /><path clip-path=\"url(#clip100)\" d=\"M472.668 785.735 Q461.525 785.735 452.54 781.58 Q448.772 779.809 445.615 777.329 Q442.459 774.849 441.074 773.207 Q439.689 771.564 439.689 771.113 Q439.689 770.469 440.334 770.437 Q440.656 770.437 441.461 771.307 Q452.282 781.935 472.668 781.902 Q493.119 781.902 503.521 771.564 Q504.649 770.437 505.003 770.437 Q505.647 770.437 505.647 771.113 Q505.647 771.564 504.327 773.142 Q503.006 774.72 499.979 777.168 Q496.952 779.616 493.248 781.387 Q484.262 785.735 472.668 785.735 Z\" fill=\"#000000\" fill-rule=\"nonzero\" fill-opacity=\"1\" /><path clip-path=\"url(#clip100)\" d=\"M464.359 732.573 Q466.163 732.573 467.193 733.701 Q468.192 734.828 468.192 736.116 Q468.192 737.34 467.483 737.984 Q466.775 738.628 465.873 738.628 Q464.649 738.628 463.586 737.726 Q462.523 736.825 462.298 735.472 Q461.461 736.792 461.461 738.757 Q461.461 740.045 462.137 741.172 Q462.813 742.267 463.683 742.944 Q464.552 743.588 465.808 744.168 Q467.032 744.715 467.773 744.941 Q468.482 745.134 469.254 745.295 L478.272 747.549 Q482.555 748.644 484.069 748.644 Q485.937 748.644 487.193 747.742 Q488.417 746.841 488.417 745.037 Q488.417 744.329 488.224 743.523 Q487.998 742.718 487.419 741.688 Q486.807 740.625 485.905 739.691 Q484.971 738.725 483.393 737.791 Q481.815 736.857 479.786 736.245 Q479.077 736.052 479.077 735.408 Q479.077 734.602 479.721 734.602 Q480.269 734.602 481.428 735.053 Q482.555 735.472 484.037 736.406 Q485.486 737.308 486.807 738.499 Q488.095 739.691 488.997 741.462 Q489.898 743.234 489.898 745.166 Q489.898 747.936 488.417 749.771 Q486.935 751.607 484.874 752.283 Q485.164 752.444 485.551 752.67 Q485.937 752.895 486.807 753.572 Q487.644 754.216 488.288 754.957 Q488.9 755.697 489.383 756.857 Q489.898 757.984 489.898 759.208 Q489.898 760.754 489.448 762.138 Q488.997 763.491 487.966 764.457 Q486.935 765.423 485.518 765.423 Q483.94 765.423 482.845 764.361 Q481.718 763.266 481.718 761.784 Q481.718 760.85 482.266 760.109 Q482.813 759.337 484.005 759.337 Q485.325 759.337 486.324 760.238 Q487.322 761.14 487.58 762.428 Q488.417 761.108 488.417 759.143 Q488.417 757.018 486.549 755.343 Q484.681 753.668 481.557 752.863 Q474.053 750.866 470.704 750.093 Q467.322 749.321 465.873 749.321 Q464.52 749.321 463.586 749.675 Q462.652 750.029 462.234 750.641 Q461.783 751.221 461.622 751.768 Q461.461 752.283 461.461 752.863 Q461.461 753.829 461.847 754.924 Q462.234 755.987 463.135 757.275 Q464.005 758.531 465.808 759.723 Q467.612 760.915 470.092 761.72 Q470.833 761.881 470.833 762.589 Q470.8 763.362 470.156 763.362 Q469.609 763.362 468.482 762.944 Q467.322 762.493 465.873 761.591 Q464.424 760.657 463.135 759.465 Q461.815 758.242 460.913 756.47 Q460.011 754.667 460.011 752.734 Q460.011 751.865 460.205 751.027 Q460.366 750.158 460.849 749.127 Q461.332 748.064 462.395 747.131 Q463.457 746.197 465.003 745.617 Q464.263 745.23 463.554 744.715 Q462.845 744.168 461.976 743.33 Q461.074 742.461 460.559 741.269 Q460.011 740.045 460.011 738.693 Q460.011 737.372 460.366 736.084 Q460.688 734.796 461.75 733.701 Q462.781 732.573 464.359 732.573 Z\" fill=\"#000000\" fill-rule=\"nonzero\" fill-opacity=\"1\" /><path clip-path=\"url(#clip100)\" d=\"M505.003 726.222 Q504.681 726.222 503.876 725.385 Q493.055 714.757 472.668 714.757 Q452.218 714.757 441.879 724.966 Q440.688 726.222 440.334 726.222 Q439.689 726.222 439.689 725.578 Q439.689 725.127 441.01 723.549 Q442.33 721.939 445.358 719.524 Q448.385 717.076 452.089 715.272 Q461.074 710.925 472.668 710.925 Q483.812 710.925 492.797 715.079 Q496.565 716.85 499.721 719.33 Q502.877 721.81 504.262 723.453 Q505.647 725.095 505.647 725.578 Q505.647 726.222 505.003 726.222 Z\" fill=\"#000000\" fill-rule=\"nonzero\" fill-opacity=\"1\" /><path clip-path=\"url(#clip100)\" d=\"M687.408 22.3504 L695.591 22.3504 L695.591 47.9116 L722.732 22.3504 L733.265 22.3504 L703.247 50.5447 L735.412 82.8304 L724.636 82.8304 L695.591 53.7044 L695.591 82.8304 L687.408 82.8304 L687.408 22.3504 Z\" fill=\"#000000\" fill-rule=\"nonzero\" fill-opacity=\"1\" /><path clip-path=\"url(#clip100)\" d=\"M779.202 55.4463 L779.202 82.8304 L771.748 82.8304 L771.748 55.6894 Q771.748 49.2484 769.237 46.0482 Q766.725 42.848 761.702 42.848 Q755.666 42.848 752.182 46.6964 Q748.699 50.5447 748.699 57.1882 L748.699 82.8304 L741.204 82.8304 L741.204 37.4603 L748.699 37.4603 L748.699 44.5089 Q751.372 40.4175 754.978 38.392 Q758.623 36.3666 763.363 36.3666 Q771.181 36.3666 775.192 41.2277 Q779.202 46.0482 779.202 55.4463 Z\" fill=\"#000000\" fill-rule=\"nonzero\" fill-opacity=\"1\" /><path clip-path=\"url(#clip100)\" d=\"M814.688 60.0238 Q805.654 60.0238 802.171 62.0898 Q798.687 64.1558 798.687 69.1384 Q798.687 73.1083 801.279 75.4578 Q803.912 77.7668 808.409 77.7668 Q814.607 77.7668 818.334 73.3918 Q822.101 68.9763 822.101 61.6847 L822.101 60.0238 L814.688 60.0238 M829.555 56.9452 L829.555 82.8304 L822.101 82.8304 L822.101 75.9439 Q819.549 80.0758 815.741 82.0608 Q811.933 84.0052 806.424 84.0052 Q799.456 84.0052 795.325 80.1163 Q791.233 76.187 791.233 69.6245 Q791.233 61.9683 796.337 58.0794 Q801.482 54.1905 811.65 54.1905 L822.101 54.1905 L822.101 53.4614 Q822.101 48.3167 818.698 45.5216 Q815.336 42.686 809.219 42.686 Q805.33 42.686 801.644 43.6177 Q797.958 44.5494 794.555 46.4128 L794.555 39.5263 Q798.646 37.9464 802.495 37.1767 Q806.343 36.3666 809.989 36.3666 Q819.832 36.3666 824.694 41.4707 Q829.555 46.5748 829.555 56.9452 Z\" fill=\"#000000\" fill-rule=\"nonzero\" fill-opacity=\"1\" /><path clip-path=\"url(#clip100)\" d=\"M852.118 76.0249 L852.118 100.087 L844.624 100.087 L844.624 37.4603 L852.118 37.4603 L852.118 44.3468 Q854.468 40.2959 858.033 38.3515 Q861.638 36.3666 866.62 36.3666 Q874.884 36.3666 880.029 42.929 Q885.214 49.4915 885.214 60.1859 Q885.214 70.8803 880.029 77.4427 Q874.884 84.0052 866.62 84.0052 Q861.638 84.0052 858.033 82.0608 Q854.468 80.0758 852.118 76.0249 M877.477 60.1859 Q877.477 51.9625 874.074 47.304 Q870.712 42.605 864.798 42.605 Q858.883 42.605 855.48 47.304 Q852.118 51.9625 852.118 60.1859 Q852.118 68.4092 855.48 73.1083 Q858.883 77.7668 864.798 77.7668 Q870.712 77.7668 874.074 73.1083 Q877.477 68.4092 877.477 60.1859 Z\" fill=\"#000000\" fill-rule=\"nonzero\" fill-opacity=\"1\" /><path clip-path=\"url(#clip100)\" d=\"M926.493 38.7971 L926.493 45.8457 Q923.333 44.2253 919.93 43.4151 Q916.528 42.605 912.882 42.605 Q907.332 42.605 904.537 44.3063 Q901.782 46.0077 901.782 49.4105 Q901.782 52.0031 903.767 53.5019 Q905.752 54.9602 911.748 56.297 L914.3 56.8641 Q922.239 58.5655 925.561 61.6847 Q928.923 64.7634 928.923 70.3131 Q928.923 76.6326 923.9 80.3189 Q918.918 84.0052 910.168 84.0052 Q906.522 84.0052 902.552 83.276 Q898.623 82.5874 894.248 81.1696 L894.248 73.4728 Q898.38 75.6198 902.39 76.7136 Q906.4 77.7668 910.33 77.7668 Q915.596 77.7668 918.431 75.9844 Q921.267 74.1615 921.267 70.8803 Q921.267 67.8421 919.201 66.2217 Q917.176 64.6014 910.249 63.1025 L907.656 62.4949 Q900.729 61.0366 897.65 58.0389 Q894.572 55.0007 894.572 49.7346 Q894.572 43.3341 899.109 39.8503 Q903.646 36.3666 911.991 36.3666 Q916.122 36.3666 919.768 36.9742 Q923.414 37.5818 926.493 38.7971 Z\" fill=\"#000000\" fill-rule=\"nonzero\" fill-opacity=\"1\" /><path clip-path=\"url(#clip100)\" d=\"M961.412 60.0238 Q952.378 60.0238 948.894 62.0898 Q945.411 64.1558 945.411 69.1384 Q945.411 73.1083 948.003 75.4578 Q950.636 77.7668 955.133 77.7668 Q961.331 77.7668 965.057 73.3918 Q968.825 68.9763 968.825 61.6847 L968.825 60.0238 L961.412 60.0238 M976.278 56.9452 L976.278 82.8304 L968.825 82.8304 L968.825 75.9439 Q966.273 80.0758 962.465 82.0608 Q958.657 84.0052 953.148 84.0052 Q946.18 84.0052 942.048 80.1163 Q937.957 76.187 937.957 69.6245 Q937.957 61.9683 943.061 58.0794 Q948.206 54.1905 958.373 54.1905 L968.825 54.1905 L968.825 53.4614 Q968.825 48.3167 965.422 45.5216 Q962.06 42.686 955.943 42.686 Q952.054 42.686 948.368 43.6177 Q944.681 44.5494 941.279 46.4128 L941.279 39.5263 Q945.37 37.9464 949.218 37.1767 Q953.067 36.3666 956.713 36.3666 Q966.556 36.3666 971.417 41.4707 Q976.278 46.5748 976.278 56.9452 Z\" fill=\"#000000\" fill-rule=\"nonzero\" fill-opacity=\"1\" /><path clip-path=\"url(#clip100)\" d=\"M1024.28 39.2022 L1024.28 46.1698 Q1021.12 44.4279 1017.92 43.5772 Q1014.76 42.686 1011.52 42.686 Q1004.27 42.686 1000.26 47.304 Q996.249 51.8815 996.249 60.1859 Q996.249 68.4902 1000.26 73.1083 Q1004.27 77.6858 1011.52 77.6858 Q1014.76 77.6858 1017.92 76.8351 Q1021.12 75.9439 1024.28 74.202 L1024.28 81.0885 Q1021.16 82.5469 1017.8 83.276 Q1014.48 84.0052 1010.71 84.0052 Q1000.46 84.0052 994.426 77.5643 Q988.391 71.1233 988.391 60.1859 Q988.391 49.0864 994.467 42.7265 Q1000.58 36.3666 1011.2 36.3666 Q1014.64 36.3666 1017.92 37.0957 Q1021.2 37.7844 1024.28 39.2022 Z\" fill=\"#000000\" fill-rule=\"nonzero\" fill-opacity=\"1\" /><path clip-path=\"url(#clip100)\" d=\"M1036.96 19.7984 L1044.46 19.7984 L1044.46 57.0262 L1066.69 37.4603 L1076.21 37.4603 L1052.15 58.687 L1077.23 82.8304 L1067.5 82.8304 L1044.46 60.672 L1044.46 82.8304 L1036.96 82.8304 L1036.96 19.7984 Z\" fill=\"#000000\" fill-rule=\"nonzero\" fill-opacity=\"1\" /><path clip-path=\"url(#clip100)\" d=\"M1087.19 72.5411 L1095.74 72.5411 L1095.74 82.8304 L1087.19 82.8304 L1087.19 72.5411 M1087.19 39.9314 L1095.74 39.9314 L1095.74 50.2207 L1087.19 50.2207 L1087.19 39.9314 Z\" fill=\"#000000\" fill-rule=\"nonzero\" fill-opacity=\"1\" /><path clip-path=\"url(#clip100)\" d=\"M1164.48 27.9002 Q1155.57 27.9002 1150.31 34.5437 Q1145.08 41.1871 1145.08 52.6512 Q1145.08 64.0748 1150.31 70.7182 Q1155.57 77.3617 1164.48 77.3617 Q1173.4 77.3617 1178.58 70.7182 Q1183.81 64.0748 1183.81 52.6512 Q1183.81 41.1871 1178.58 34.5437 Q1173.4 27.9002 1164.48 27.9002 M1164.48 21.2567 Q1177.2 21.2567 1184.82 29.8041 Q1192.43 38.311 1192.43 52.6512 Q1192.43 66.9509 1184.82 75.4983 Q1177.2 84.0052 1164.48 84.0052 Q1151.72 84.0052 1144.07 75.4983 Q1136.45 66.9914 1136.45 52.6512 Q1136.45 38.311 1144.07 29.8041 Q1151.72 21.2567 1164.48 21.2567 Z\" fill=\"#000000\" fill-rule=\"nonzero\" fill-opacity=\"1\" /><path clip-path=\"url(#clip100)\" d=\"M1237.48 60.1859 Q1237.48 51.9625 1234.08 47.304 Q1230.72 42.605 1224.8 42.605 Q1218.89 42.605 1215.48 47.304 Q1212.12 51.9625 1212.12 60.1859 Q1212.12 68.4092 1215.48 73.1083 Q1218.89 77.7668 1224.8 77.7668 Q1230.72 77.7668 1234.08 73.1083 Q1237.48 68.4092 1237.48 60.1859 M1212.12 44.3468 Q1214.47 40.2959 1218.04 38.3515 Q1221.64 36.3666 1226.62 36.3666 Q1234.89 36.3666 1240.03 42.929 Q1245.22 49.4915 1245.22 60.1859 Q1245.22 70.8803 1240.03 77.4427 Q1234.89 84.0052 1226.62 84.0052 Q1221.64 84.0052 1218.04 82.0608 Q1214.47 80.0758 1212.12 76.0249 L1212.12 82.8304 L1204.63 82.8304 L1204.63 19.7984 L1212.12 19.7984 L1212.12 44.3468 Z\" fill=\"#000000\" fill-rule=\"nonzero\" fill-opacity=\"1\" /><path clip-path=\"url(#clip100)\" d=\"M1257.57 37.4603 L1265.03 37.4603 L1265.03 83.6406 Q1265.03 92.3096 1261.71 96.1984 Q1258.42 100.087 1251.09 100.087 L1248.26 100.087 L1248.26 93.7679 L1250.24 93.7679 Q1254.49 93.7679 1256.03 91.7829 Q1257.57 89.8385 1257.57 83.6406 L1257.57 37.4603 M1257.57 19.7984 L1265.03 19.7984 L1265.03 29.237 L1257.57 29.237 L1257.57 19.7984 Z\" fill=\"#000000\" fill-rule=\"nonzero\" fill-opacity=\"1\" /><path clip-path=\"url(#clip100)\" d=\"M1319.43 58.282 L1319.43 61.9278 L1285.16 61.9278 Q1285.65 69.6245 1289.78 73.6754 Q1293.95 77.6858 1301.36 77.6858 Q1305.66 77.6858 1309.67 76.6326 Q1313.72 75.5793 1317.69 73.4728 L1317.69 80.5214 Q1313.68 82.2228 1309.47 83.114 Q1305.25 84.0052 1300.92 84.0052 Q1290.06 84.0052 1283.7 77.6858 Q1277.38 71.3664 1277.38 60.591 Q1277.38 49.451 1283.38 42.929 Q1289.41 36.3666 1299.62 36.3666 Q1308.78 36.3666 1314.08 42.2809 Q1319.43 48.1547 1319.43 58.282 M1311.98 56.0945 Q1311.9 49.9776 1308.53 46.3318 Q1305.21 42.686 1299.7 42.686 Q1293.46 42.686 1289.7 46.2103 Q1285.97 49.7346 1285.4 56.135 L1311.98 56.0945 Z\" fill=\"#000000\" fill-rule=\"nonzero\" fill-opacity=\"1\" /><path clip-path=\"url(#clip100)\" d=\"M1364.31 39.2022 L1364.31 46.1698 Q1361.15 44.4279 1357.95 43.5772 Q1354.79 42.686 1351.55 42.686 Q1344.3 42.686 1340.29 47.304 Q1336.28 51.8815 1336.28 60.1859 Q1336.28 68.4902 1340.29 73.1083 Q1344.3 77.6858 1351.55 77.6858 Q1354.79 77.6858 1357.95 76.8351 Q1361.15 75.9439 1364.31 74.202 L1364.31 81.0885 Q1361.2 82.5469 1357.83 83.276 Q1354.51 84.0052 1350.74 84.0052 Q1340.5 84.0052 1334.46 77.5643 Q1328.42 71.1233 1328.42 60.1859 Q1328.42 49.0864 1334.5 42.7265 Q1340.62 36.3666 1351.23 36.3666 Q1354.67 36.3666 1357.95 37.0957 Q1361.24 37.7844 1364.31 39.2022 Z\" fill=\"#000000\" fill-rule=\"nonzero\" fill-opacity=\"1\" /><path clip-path=\"url(#clip100)\" d=\"M1384.65 24.5784 L1384.65 37.4603 L1400 37.4603 L1400 43.2531 L1384.65 43.2531 L1384.65 67.8826 Q1384.65 73.4323 1386.15 75.0122 Q1387.69 76.592 1392.35 76.592 L1400 76.592 L1400 82.8304 L1392.35 82.8304 Q1383.72 82.8304 1380.44 79.6302 Q1377.16 76.3895 1377.16 67.8826 L1377.16 43.2531 L1371.69 43.2531 L1371.69 37.4603 L1377.16 37.4603 L1377.16 24.5784 L1384.65 24.5784 Z\" fill=\"#000000\" fill-rule=\"nonzero\" fill-opacity=\"1\" /><path clip-path=\"url(#clip100)\" d=\"M1409.81 37.4603 L1417.26 37.4603 L1417.26 82.8304 L1409.81 82.8304 L1409.81 37.4603 M1409.81 19.7984 L1417.26 19.7984 L1417.26 29.237 L1409.81 29.237 L1409.81 19.7984 Z\" fill=\"#000000\" fill-rule=\"nonzero\" fill-opacity=\"1\" /><path clip-path=\"url(#clip100)\" d=\"M1427.51 37.4603 L1435.41 37.4603 L1449.59 75.5388 L1463.76 37.4603 L1471.66 37.4603 L1454.65 82.8304 L1444.52 82.8304 L1427.51 37.4603 Z\" fill=\"#000000\" fill-rule=\"nonzero\" fill-opacity=\"1\" /><path clip-path=\"url(#clip100)\" d=\"M1520.76 58.282 L1520.76 61.9278 L1486.49 61.9278 Q1486.98 69.6245 1491.11 73.6754 Q1495.28 77.6858 1502.69 77.6858 Q1506.99 77.6858 1511 76.6326 Q1515.05 75.5793 1519.02 73.4728 L1519.02 80.5214 Q1515.01 82.2228 1510.8 83.114 Q1506.58 84.0052 1502.25 84.0052 Q1491.39 84.0052 1485.03 77.6858 Q1478.71 71.3664 1478.71 60.591 Q1478.71 49.451 1484.71 42.929 Q1490.74 36.3666 1500.95 36.3666 Q1510.11 36.3666 1515.41 42.2809 Q1520.76 48.1547 1520.76 58.282 M1513.31 56.0945 Q1513.23 49.9776 1509.86 46.3318 Q1506.54 42.686 1501.03 42.686 Q1494.79 42.686 1491.03 46.2103 Q1487.3 49.7346 1486.73 56.135 L1513.31 56.0945 Z\" fill=\"#000000\" fill-rule=\"nonzero\" fill-opacity=\"1\" /><path clip-path=\"url(#clip100)\" d=\"M1588.29 38.7971 L1588.29 45.8457 Q1585.13 44.2253 1581.73 43.4151 Q1578.32 42.605 1574.68 42.605 Q1569.13 42.605 1566.33 44.3063 Q1563.58 46.0077 1563.58 49.4105 Q1563.58 52.0031 1565.56 53.5019 Q1567.55 54.9602 1573.54 56.297 L1576.1 56.8641 Q1584.04 58.5655 1587.36 61.6847 Q1590.72 64.7634 1590.72 70.3131 Q1590.72 76.6326 1585.7 80.3189 Q1580.71 84.0052 1571.96 84.0052 Q1568.32 84.0052 1564.35 83.276 Q1560.42 82.5874 1556.04 81.1696 L1556.04 73.4728 Q1560.18 75.6198 1564.19 76.7136 Q1568.2 77.7668 1572.13 77.7668 Q1577.39 77.7668 1580.23 75.9844 Q1583.06 74.1615 1583.06 70.8803 Q1583.06 67.8421 1581 66.2217 Q1578.97 64.6014 1572.04 63.1025 L1569.45 62.4949 Q1562.53 61.0366 1559.45 58.0389 Q1556.37 55.0007 1556.37 49.7346 Q1556.37 43.3341 1560.9 39.8503 Q1565.44 36.3666 1573.79 36.3666 Q1577.92 36.3666 1581.56 36.9742 Q1585.21 37.5818 1588.29 38.7971 Z\" fill=\"#000000\" fill-rule=\"nonzero\" fill-opacity=\"1\" /><path clip-path=\"url(#clip100)\" d=\"M1609.8 76.0249 L1609.8 100.087 L1602.31 100.087 L1602.31 37.4603 L1609.8 37.4603 L1609.8 44.3468 Q1612.15 40.2959 1615.71 38.3515 Q1619.32 36.3666 1624.3 36.3666 Q1632.57 36.3666 1637.71 42.929 Q1642.9 49.4915 1642.9 60.1859 Q1642.9 70.8803 1637.71 77.4427 Q1632.57 84.0052 1624.3 84.0052 Q1619.32 84.0052 1615.71 82.0608 Q1612.15 80.0758 1609.8 76.0249 M1635.16 60.1859 Q1635.16 51.9625 1631.76 47.304 Q1628.39 42.605 1622.48 42.605 Q1616.56 42.605 1613.16 47.304 Q1609.8 51.9625 1609.8 60.1859 Q1609.8 68.4092 1613.16 73.1083 Q1616.56 77.7668 1622.48 77.7668 Q1628.39 77.7668 1631.76 73.1083 Q1635.16 68.4092 1635.16 60.1859 Z\" fill=\"#000000\" fill-rule=\"nonzero\" fill-opacity=\"1\" /><path clip-path=\"url(#clip100)\" d=\"M1675.87 60.0238 Q1666.84 60.0238 1663.35 62.0898 Q1659.87 64.1558 1659.87 69.1384 Q1659.87 73.1083 1662.46 75.4578 Q1665.09 77.7668 1669.59 77.7668 Q1675.79 77.7668 1679.52 73.3918 Q1683.28 68.9763 1683.28 61.6847 L1683.28 60.0238 L1675.87 60.0238 M1690.74 56.9452 L1690.74 82.8304 L1683.28 82.8304 L1683.28 75.9439 Q1680.73 80.0758 1676.92 82.0608 Q1673.11 84.0052 1667.61 84.0052 Q1660.64 84.0052 1656.51 80.1163 Q1652.41 76.187 1652.41 69.6245 Q1652.41 61.9683 1657.52 58.0794 Q1662.66 54.1905 1672.83 54.1905 L1683.28 54.1905 L1683.28 53.4614 Q1683.28 48.3167 1679.88 45.5216 Q1676.52 42.686 1670.4 42.686 Q1666.51 42.686 1662.83 43.6177 Q1659.14 44.5494 1655.74 46.4128 L1655.74 39.5263 Q1659.83 37.9464 1663.68 37.1767 Q1667.52 36.3666 1671.17 36.3666 Q1681.01 36.3666 1685.88 41.4707 Q1690.74 46.5748 1690.74 56.9452 Z\" fill=\"#000000\" fill-rule=\"nonzero\" fill-opacity=\"1\" /><path clip-path=\"url(#clip100)\" d=\"M1738.74 39.2022 L1738.74 46.1698 Q1735.58 44.4279 1732.38 43.5772 Q1729.22 42.686 1725.98 42.686 Q1718.73 42.686 1714.72 47.304 Q1710.71 51.8815 1710.71 60.1859 Q1710.71 68.4902 1714.72 73.1083 Q1718.73 77.6858 1725.98 77.6858 Q1729.22 77.6858 1732.38 76.8351 Q1735.58 75.9439 1738.74 74.202 L1738.74 81.0885 Q1735.62 82.5469 1732.26 83.276 Q1728.94 84.0052 1725.17 84.0052 Q1714.92 84.0052 1708.88 77.5643 Q1702.85 71.1233 1702.85 60.1859 Q1702.85 49.0864 1708.92 42.7265 Q1715.04 36.3666 1725.66 36.3666 Q1729.1 36.3666 1732.38 37.0957 Q1735.66 37.7844 1738.74 39.2022 Z\" fill=\"#000000\" fill-rule=\"nonzero\" fill-opacity=\"1\" /><path clip-path=\"url(#clip100)\" d=\"M1790.51 58.282 L1790.51 61.9278 L1756.24 61.9278 Q1756.73 69.6245 1760.86 73.6754 Q1765.03 77.6858 1772.44 77.6858 Q1776.74 77.6858 1780.75 76.6326 Q1784.8 75.5793 1788.77 73.4728 L1788.77 80.5214 Q1784.76 82.2228 1780.54 83.114 Q1776.33 84.0052 1772 84.0052 Q1761.14 84.0052 1754.78 77.6858 Q1748.46 71.3664 1748.46 60.591 Q1748.46 49.451 1754.46 42.929 Q1760.49 36.3666 1770.7 36.3666 Q1779.86 36.3666 1785.16 42.2809 Q1790.51 48.1547 1790.51 58.282 M1783.06 56.0945 Q1782.98 49.9776 1779.61 46.3318 Q1776.29 42.686 1770.78 42.686 Q1764.54 42.686 1760.78 46.2103 Q1757.05 49.7346 1756.48 56.135 L1783.06 56.0945 Z\" fill=\"#000000\" fill-rule=\"nonzero\" fill-opacity=\"1\" /><path clip-path=\"url(#clip100)\" d=\"M1882.33 26.5112 Q1882.33 27.044 1882.21 27.3719 Q1882.13 27.6999 1881.8 27.8638 Q1881.51 27.9868 1881.31 28.0278 Q1881.14 28.0688 1880.65 28.1098 Q1878.64 28.2737 1876.96 28.8066 Q1875.28 29.2984 1873.85 30.2822 Q1872.45 31.2659 1871.67 31.9218 Q1870.94 32.5776 1869.62 33.8892 L1868.48 35.0779 L1847.65 58.9747 Q1846.92 59.7945 1846.46 61.598 L1843.51 73.4439 Q1842.37 78.3626 1842.37 78.7315 Q1842.37 79.4693 1842.78 79.7153 Q1843.23 79.9202 1844.62 80.0432 L1847.82 80.2481 Q1849.7 80.2481 1849.99 80.576 Q1850.15 80.781 1850.15 81.1499 Q1850.15 81.9287 1849.83 82.3386 Q1849.54 82.7075 1849.25 82.7894 Q1849.01 82.8304 1848.55 82.8304 L1837.82 82.5845 L1827.24 82.8304 Q1826.05 82.8304 1826.05 81.8877 Q1826.05 81.2728 1826.13 80.9449 Q1826.26 80.576 1826.63 80.4531 Q1826.99 80.2891 1827.28 80.2891 Q1827.57 80.2481 1828.35 80.2481 Q1830.23 80.2071 1831.18 80.2071 Q1832.16 80.1661 1833.1 79.9202 Q1834.04 79.6743 1834.37 79.5103 Q1834.74 79.3054 1835.15 78.6085 Q1835.6 77.8707 1835.73 77.2969 Q1835.89 76.723 1836.22 75.2884 Q1836.55 74.0177 1838.27 67.0906 Q1839.99 60.1634 1839.99 59.9994 Q1839.99 59.5485 1839.66 58.5648 L1829.33 30.938 Q1828.88 29.7083 1828.51 29.2165 Q1828.14 28.7246 1826.91 28.4377 Q1825.68 28.1098 1823.22 28.1098 Q1822.53 28.1098 1822.2 28.0688 Q1821.87 28.0278 1821.58 27.8228 Q1821.3 27.6179 1821.3 27.167 Q1821.3 26.3882 1821.62 26.0193 Q1821.95 25.6094 1822.2 25.5684 Q1822.49 25.4864 1822.9 25.4864 Q1823.92 25.4864 1827.57 25.6094 Q1831.22 25.7324 1832.28 25.7324 L1842.86 25.4864 Q1844.13 25.4864 1844.13 26.4292 Q1844.13 27.5769 1843.68 27.8638 Q1843.23 28.1098 1842.12 28.1098 Q1837.16 28.1098 1837.16 30.1182 Q1837.16 30.3642 1837.65 31.5529 L1846.87 56.4743 L1866.34 34.0532 L1866.63 33.7253 Q1866.88 33.3974 1867.08 33.1514 Q1867.29 32.9055 1867.61 32.4546 Q1867.94 32.0037 1868.11 31.6348 Q1868.31 31.2659 1868.48 30.815 Q1868.64 30.3642 1868.64 30.0362 Q1868.64 29.4214 1868.27 29.0115 Q1867.9 28.5606 1867.33 28.3967 Q1866.75 28.2327 1866.34 28.1917 Q1865.93 28.1098 1865.61 28.1098 Q1864.34 28.1098 1864.34 27.085 Q1864.34 26.3472 1864.66 25.9783 Q1864.99 25.5684 1865.24 25.5274 Q1865.52 25.4864 1865.93 25.4864 Q1867.29 25.4864 1870.12 25.6094 Q1872.94 25.7324 1874.34 25.7324 Q1875.48 25.7324 1877.82 25.6094 Q1880.16 25.4864 1881.22 25.4864 Q1882.33 25.4864 1882.33 26.5112 Z\" fill=\"#000000\" fill-rule=\"nonzero\" fill-opacity=\"1\" /><circle clip-path=\"url(#clip102)\" cx=\"1018.55\" cy=\"426.737\" r=\"14.4\" fill=\"#009af9\" fill-rule=\"evenodd\" fill-opacity=\"1\" stroke=\"#000000\" stroke-opacity=\"1\" stroke-width=\"3.2\"/>\n",
       "<circle clip-path=\"url(#clip102)\" cx=\"1321.81\" cy=\"470.061\" r=\"14.4\" fill=\"#009af9\" fill-rule=\"evenodd\" fill-opacity=\"1\" stroke=\"#000000\" stroke-opacity=\"1\" stroke-width=\"3.2\"/>\n",
       "<circle clip-path=\"url(#clip102)\" cx=\"1365.13\" cy=\"600.032\" r=\"14.4\" fill=\"#009af9\" fill-rule=\"evenodd\" fill-opacity=\"1\" stroke=\"#000000\" stroke-opacity=\"1\" stroke-width=\"3.2\"/>\n",
       "<circle clip-path=\"url(#clip102)\" cx=\"1495.11\" cy=\"643.355\" r=\"14.4\" fill=\"#009af9\" fill-rule=\"evenodd\" fill-opacity=\"1\" stroke=\"#000000\" stroke-opacity=\"1\" stroke-width=\"3.2\"/>\n",
       "<circle clip-path=\"url(#clip102)\" cx=\"1581.75\" cy=\"903.297\" r=\"14.4\" fill=\"#009af9\" fill-rule=\"evenodd\" fill-opacity=\"1\" stroke=\"#000000\" stroke-opacity=\"1\" stroke-width=\"3.2\"/>\n",
       "<circle clip-path=\"url(#clip102)\" cx=\"1711.72\" cy=\"1293.21\" r=\"14.4\" fill=\"#009af9\" fill-rule=\"evenodd\" fill-opacity=\"1\" stroke=\"#000000\" stroke-opacity=\"1\" stroke-width=\"3.2\"/>\n",
       "<circle clip-path=\"url(#clip102)\" cx=\"1711.72\" cy=\"426.737\" r=\"14.4\" fill=\"#e26f46\" fill-rule=\"evenodd\" fill-opacity=\"1\" stroke=\"#000000\" stroke-opacity=\"1\" stroke-width=\"3.2\"/>\n",
       "<path clip-path=\"url(#clip100)\" d=\"M700.251 270.476 L1160.75 270.476 L1160.75 166.796 L700.251 166.796  Z\" fill=\"#ffffff\" fill-rule=\"evenodd\" fill-opacity=\"1\"/>\n",
       "<polyline clip-path=\"url(#clip100)\" style=\"stroke:#000000; stroke-linecap:round; stroke-linejoin:round; stroke-width:4; stroke-opacity:1; fill:none\" points=\"700.251,270.476 1160.75,270.476 1160.75,166.796 700.251,166.796 700.251,270.476 \"/>\n",
       "<circle clip-path=\"url(#clip100)\" cx=\"795.742\" cy=\"218.636\" r=\"20.48\" fill=\"#e26f46\" fill-rule=\"evenodd\" fill-opacity=\"1\" stroke=\"#000000\" stroke-opacity=\"1\" stroke-width=\"4.55111\"/>\n",
       "<path clip-path=\"url(#clip100)\" d=\"M891.232 201.356 L895.908 201.356 L895.908 235.916 L891.232 235.916 L891.232 201.356 Z\" fill=\"#000000\" fill-rule=\"nonzero\" fill-opacity=\"1\" /><path clip-path=\"url(#clip100)\" d=\"M922.089 213.925 L922.089 199.897 L926.348 199.897 L926.348 235.916 L922.089 235.916 L922.089 232.027 Q920.746 234.342 918.686 235.476 Q916.649 236.587 913.778 236.587 Q909.079 236.587 906.116 232.837 Q903.177 229.087 903.177 222.976 Q903.177 216.865 906.116 213.115 Q909.079 209.365 913.778 209.365 Q916.649 209.365 918.686 210.499 Q920.746 211.61 922.089 213.925 M907.575 222.976 Q907.575 227.675 909.496 230.36 Q911.44 233.022 914.82 233.022 Q918.2 233.022 920.144 230.36 Q922.089 227.675 922.089 222.976 Q922.089 218.277 920.144 215.615 Q918.2 212.93 914.82 212.93 Q911.44 212.93 909.496 215.615 Q907.575 218.277 907.575 222.976 Z\" fill=\"#000000\" fill-rule=\"nonzero\" fill-opacity=\"1\" /><path clip-path=\"url(#clip100)\" d=\"M957.297 221.888 L957.297 223.971 L937.713 223.971 Q937.991 228.369 940.352 230.684 Q942.737 232.976 946.973 232.976 Q949.426 232.976 951.718 232.374 Q954.033 231.772 956.301 230.569 L956.301 234.596 Q954.01 235.568 951.602 236.078 Q949.195 236.587 946.718 236.587 Q940.514 236.587 936.88 232.976 Q933.269 229.365 933.269 223.207 Q933.269 216.842 936.695 213.115 Q940.144 209.365 945.977 209.365 Q951.209 209.365 954.241 212.745 Q957.297 216.101 957.297 221.888 M953.037 220.638 Q952.991 217.143 951.07 215.059 Q949.172 212.976 946.024 212.976 Q942.459 212.976 940.306 214.99 Q938.176 217.004 937.852 220.661 L953.037 220.638 Z\" fill=\"#000000\" fill-rule=\"nonzero\" fill-opacity=\"1\" /><path clip-path=\"url(#clip100)\" d=\"M976.07 222.883 Q970.908 222.883 968.917 224.064 Q966.926 225.244 966.926 228.092 Q966.926 230.36 968.408 231.703 Q969.912 233.022 972.482 233.022 Q976.023 233.022 978.153 230.522 Q980.306 227.999 980.306 223.832 L980.306 222.883 L976.07 222.883 M984.565 221.124 L984.565 235.916 L980.306 235.916 L980.306 231.981 Q978.848 234.342 976.672 235.476 Q974.496 236.587 971.348 236.587 Q967.366 236.587 965.005 234.365 Q962.667 232.119 962.667 228.369 Q962.667 223.994 965.584 221.772 Q968.524 219.55 974.334 219.55 L980.306 219.55 L980.306 219.133 Q980.306 216.194 978.361 214.596 Q976.44 212.976 972.945 212.976 Q970.723 212.976 968.616 213.508 Q966.51 214.041 964.565 215.106 L964.565 211.17 Q966.903 210.268 969.102 209.828 Q971.301 209.365 973.385 209.365 Q979.01 209.365 981.787 212.282 Q984.565 215.198 984.565 221.124 Z\" fill=\"#000000\" fill-rule=\"nonzero\" fill-opacity=\"1\" /><path clip-path=\"url(#clip100)\" d=\"M993.338 199.897 L997.597 199.897 L997.597 235.916 L993.338 235.916 L993.338 199.897 Z\" fill=\"#000000\" fill-rule=\"nonzero\" fill-opacity=\"1\" /><path clip-path=\"url(#clip100)\" d=\"M1025.7 232.027 L1025.7 245.777 L1021.42 245.777 L1021.42 209.99 L1025.7 209.99 L1025.7 213.925 Q1027.04 211.61 1029.08 210.499 Q1031.14 209.365 1033.99 209.365 Q1038.71 209.365 1041.65 213.115 Q1044.61 216.865 1044.61 222.976 Q1044.61 229.087 1041.65 232.837 Q1038.71 236.587 1033.99 236.587 Q1031.14 236.587 1029.08 235.476 Q1027.04 234.342 1025.7 232.027 M1040.19 222.976 Q1040.19 218.277 1038.25 215.615 Q1036.32 212.93 1032.94 212.93 Q1029.56 212.93 1027.62 215.615 Q1025.7 218.277 1025.7 222.976 Q1025.7 227.675 1027.62 230.36 Q1029.56 233.022 1032.94 233.022 Q1036.32 233.022 1038.25 230.36 Q1040.19 227.675 1040.19 222.976 Z\" fill=\"#000000\" fill-rule=\"nonzero\" fill-opacity=\"1\" /><path clip-path=\"url(#clip100)\" d=\"M1061.72 212.976 Q1058.29 212.976 1056.3 215.661 Q1054.31 218.323 1054.31 222.976 Q1054.31 227.629 1056.28 230.314 Q1058.27 232.976 1061.72 232.976 Q1065.12 232.976 1067.11 230.291 Q1069.1 227.606 1069.1 222.976 Q1069.1 218.37 1067.11 215.684 Q1065.12 212.976 1061.72 212.976 M1061.72 209.365 Q1067.27 209.365 1070.44 212.976 Q1073.62 216.587 1073.62 222.976 Q1073.62 229.342 1070.44 232.976 Q1067.27 236.587 1061.72 236.587 Q1056.14 236.587 1052.97 232.976 Q1049.82 229.342 1049.82 222.976 Q1049.82 216.587 1052.97 212.976 Q1056.14 209.365 1061.72 209.365 Z\" fill=\"#000000\" fill-rule=\"nonzero\" fill-opacity=\"1\" /><path clip-path=\"url(#clip100)\" d=\"M1080.68 209.99 L1084.93 209.99 L1084.93 235.916 L1080.68 235.916 L1080.68 209.99 M1080.68 199.897 L1084.93 199.897 L1084.93 205.291 L1080.68 205.291 L1080.68 199.897 Z\" fill=\"#000000\" fill-rule=\"nonzero\" fill-opacity=\"1\" /><path clip-path=\"url(#clip100)\" d=\"M1115.4 220.268 L1115.4 235.916 L1111.14 235.916 L1111.14 220.407 Q1111.14 216.726 1109.7 214.897 Q1108.27 213.069 1105.4 213.069 Q1101.95 213.069 1099.96 215.268 Q1097.97 217.467 1097.97 221.263 L1097.97 235.916 L1093.68 235.916 L1093.68 209.99 L1097.97 209.99 L1097.97 214.018 Q1099.5 211.68 1101.56 210.522 Q1103.64 209.365 1106.35 209.365 Q1110.81 209.365 1113.11 212.143 Q1115.4 214.897 1115.4 220.268 Z\" fill=\"#000000\" fill-rule=\"nonzero\" fill-opacity=\"1\" /><path clip-path=\"url(#clip100)\" d=\"M1128.11 202.629 L1128.11 209.99 L1136.88 209.99 L1136.88 213.3 L1128.11 213.3 L1128.11 227.374 Q1128.11 230.545 1128.96 231.448 Q1129.84 232.351 1132.5 232.351 L1136.88 232.351 L1136.88 235.916 L1132.5 235.916 Q1127.57 235.916 1125.7 234.087 Q1123.82 232.235 1123.82 227.374 L1123.82 213.3 L1120.7 213.3 L1120.7 209.99 L1123.82 209.99 L1123.82 202.629 L1128.11 202.629 Z\" fill=\"#000000\" fill-rule=\"nonzero\" fill-opacity=\"1\" /><path clip-path=\"url(#clip100)\" d=\"M976.435 472.575 L984.074 472.575 L984.074 446.209 L975.764 447.876 L975.764 443.617 L984.027 441.95 L988.703 441.95 L988.703 472.575 L996.342 472.575 L996.342 476.51 L976.435 476.51 L976.435 472.575 Z\" fill=\"#000000\" fill-rule=\"nonzero\" fill-opacity=\"1\" /><path clip-path=\"url(#clip100)\" d=\"M1283.97 515.898 L1300.29 515.898 L1300.29 519.834 L1278.35 519.834 L1278.35 515.898 Q1281.01 513.144 1285.59 508.514 Q1290.2 503.861 1291.38 502.519 Q1293.62 499.996 1294.5 498.26 Q1295.41 496.5 1295.41 494.811 Q1295.41 492.056 1293.46 490.32 Q1291.54 488.584 1288.44 488.584 Q1286.24 488.584 1283.79 489.348 Q1281.36 490.111 1278.58 491.662 L1278.58 486.94 Q1281.4 485.806 1283.86 485.227 Q1286.31 484.649 1288.35 484.649 Q1293.72 484.649 1296.91 487.334 Q1300.1 490.019 1300.1 494.51 Q1300.1 496.639 1299.29 498.561 Q1298.51 500.459 1296.4 503.051 Q1295.82 503.723 1292.72 506.94 Q1289.62 510.135 1283.97 515.898 Z\" fill=\"#000000\" fill-rule=\"nonzero\" fill-opacity=\"1\" /><path clip-path=\"url(#clip100)\" d=\"M1336.89 631.17 Q1340.25 631.888 1342.12 634.156 Q1344.02 636.425 1344.02 639.758 Q1344.02 644.874 1340.5 647.675 Q1336.98 650.476 1330.5 650.476 Q1328.32 650.476 1326.01 650.036 Q1323.72 649.619 1321.26 648.763 L1321.26 644.249 Q1323.21 645.383 1325.52 645.962 Q1327.84 646.54 1330.36 646.54 Q1334.76 646.54 1337.05 644.804 Q1339.37 643.068 1339.37 639.758 Q1339.37 636.703 1337.21 634.99 Q1335.08 633.253 1331.26 633.253 L1327.24 633.253 L1327.24 629.411 L1331.45 629.411 Q1334.9 629.411 1336.73 628.045 Q1338.56 626.656 1338.56 624.064 Q1338.56 621.402 1336.66 619.99 Q1334.78 618.554 1331.26 618.554 Q1329.34 618.554 1327.14 618.971 Q1324.94 619.388 1322.31 620.267 L1322.31 616.101 Q1324.97 615.36 1327.28 614.99 Q1329.62 614.619 1331.68 614.619 Q1337 614.619 1340.11 617.05 Q1343.21 619.457 1343.21 623.578 Q1343.21 626.448 1341.57 628.439 Q1339.92 630.406 1336.89 631.17 Z\" fill=\"#000000\" fill-rule=\"nonzero\" fill-opacity=\"1\" /><path clip-path=\"url(#clip100)\" d=\"M1465.62 662.642 L1453.82 681.091 L1465.62 681.091 L1465.62 662.642 M1464.39 658.568 L1470.27 658.568 L1470.27 681.091 L1475.2 681.091 L1475.2 684.98 L1470.27 684.98 L1470.27 693.128 L1465.62 693.128 L1465.62 684.98 L1450.02 684.98 L1450.02 680.466 L1464.39 658.568 Z\" fill=\"#000000\" fill-rule=\"nonzero\" fill-opacity=\"1\" /><path clip-path=\"url(#clip100)\" d=\"M1539.54 918.509 L1557.89 918.509 L1557.89 922.445 L1543.82 922.445 L1543.82 930.917 Q1544.84 930.57 1545.86 930.408 Q1546.88 930.222 1547.89 930.222 Q1553.68 930.222 1557.06 933.394 Q1560.44 936.565 1560.44 941.982 Q1560.44 947.56 1556.97 950.662 Q1553.5 953.741 1547.18 953.741 Q1545 953.741 1542.73 953.37 Q1540.49 953 1538.08 952.259 L1538.08 947.56 Q1540.16 948.694 1542.38 949.25 Q1544.61 949.806 1547.08 949.806 Q1551.09 949.806 1553.43 947.699 Q1555.76 945.593 1555.76 941.982 Q1555.76 938.37 1553.43 936.264 Q1551.09 934.158 1547.08 934.158 Q1545.21 934.158 1543.33 934.574 Q1541.48 934.991 1539.54 935.87 L1539.54 918.509 Z\" fill=\"#000000\" fill-rule=\"nonzero\" fill-opacity=\"1\" /><path clip-path=\"url(#clip100)\" d=\"M1679.64 1323.84 Q1676.49 1323.84 1674.64 1325.99 Q1672.81 1328.14 1672.81 1331.89 Q1672.81 1335.62 1674.64 1337.8 Q1676.49 1339.95 1679.64 1339.95 Q1682.78 1339.95 1684.61 1337.8 Q1686.46 1335.62 1686.46 1331.89 Q1686.46 1328.14 1684.61 1325.99 Q1682.78 1323.84 1679.64 1323.84 M1688.92 1309.19 L1688.92 1313.44 Q1687.16 1312.61 1685.35 1312.17 Q1683.57 1311.73 1681.81 1311.73 Q1677.18 1311.73 1674.73 1314.86 Q1672.3 1317.98 1671.95 1324.3 Q1673.32 1322.29 1675.38 1321.22 Q1677.44 1320.13 1679.91 1320.13 Q1685.12 1320.13 1688.13 1323.31 Q1691.16 1326.45 1691.16 1331.89 Q1691.16 1337.22 1688.01 1340.44 Q1684.87 1343.65 1679.64 1343.65 Q1673.64 1343.65 1670.47 1339.07 Q1667.3 1334.46 1667.3 1325.74 Q1667.3 1317.54 1671.19 1312.68 Q1675.08 1307.8 1681.63 1307.8 Q1683.39 1307.8 1685.17 1308.14 Q1686.97 1308.49 1688.92 1309.19 Z\" fill=\"#000000\" fill-rule=\"nonzero\" fill-opacity=\"1\" /></svg>\n"
      ],
      "text/html": [
       "<?xml version=\"1.0\" encoding=\"utf-8\"?>\n",
       "<svg xmlns=\"http://www.w3.org/2000/svg\" xmlns:xlink=\"http://www.w3.org/1999/xlink\" width=\"600\" height=\"400\" viewBox=\"0 0 2400 1600\">\n",
       "<defs>\n",
       "  <clipPath id=\"clip150\">\n",
       "    <rect x=\"0\" y=\"0\" width=\"2400\" height=\"1600\"/>\n",
       "  </clipPath>\n",
       "</defs>\n",
       "<path clip-path=\"url(#clip150)\" d=\"M0 1600 L2400 1600 L2400 8.88178e-14 L0 8.88178e-14  Z\" fill=\"#ffffff\" fill-rule=\"evenodd\" fill-opacity=\"1\"/>\n",
       "<defs>\n",
       "  <clipPath id=\"clip151\">\n",
       "    <rect x=\"480\" y=\"0\" width=\"1681\" height=\"1600\"/>\n",
       "  </clipPath>\n",
       "</defs>\n",
       "<path clip-path=\"url(#clip150)\" d=\"M628.633 1423.18 L1928.34 1423.18 L1928.34 123.472 L628.633 123.472  Z\" fill=\"#ffffff\" fill-rule=\"evenodd\" fill-opacity=\"1\"/>\n",
       "<defs>\n",
       "  <clipPath id=\"clip152\">\n",
       "    <rect x=\"628\" y=\"123\" width=\"1301\" height=\"1301\"/>\n",
       "  </clipPath>\n",
       "</defs>\n",
       "<polyline clip-path=\"url(#clip152)\" style=\"stroke:#000000; stroke-linecap:round; stroke-linejoin:round; stroke-width:2; stroke-opacity:0.1; fill:none\" points=\"628.633,1423.18 628.633,123.472 \"/>\n",
       "<polyline clip-path=\"url(#clip152)\" style=\"stroke:#000000; stroke-linecap:round; stroke-linejoin:round; stroke-width:2; stroke-opacity:0.1; fill:none\" points=\"1061.87,1423.18 1061.87,123.472 \"/>\n",
       "<polyline clip-path=\"url(#clip152)\" style=\"stroke:#000000; stroke-linecap:round; stroke-linejoin:round; stroke-width:2; stroke-opacity:0.1; fill:none\" points=\"1495.11,1423.18 1495.11,123.472 \"/>\n",
       "<polyline clip-path=\"url(#clip152)\" style=\"stroke:#000000; stroke-linecap:round; stroke-linejoin:round; stroke-width:2; stroke-opacity:0.1; fill:none\" points=\"1928.34,1423.18 1928.34,123.472 \"/>\n",
       "<polyline clip-path=\"url(#clip152)\" style=\"stroke:#000000; stroke-linecap:round; stroke-linejoin:round; stroke-width:2; stroke-opacity:0.1; fill:none\" points=\"628.633,1423.18 1928.34,1423.18 \"/>\n",
       "<polyline clip-path=\"url(#clip152)\" style=\"stroke:#000000; stroke-linecap:round; stroke-linejoin:round; stroke-width:2; stroke-opacity:0.1; fill:none\" points=\"628.633,989.944 1928.34,989.944 \"/>\n",
       "<polyline clip-path=\"url(#clip152)\" style=\"stroke:#000000; stroke-linecap:round; stroke-linejoin:round; stroke-width:2; stroke-opacity:0.1; fill:none\" points=\"628.633,556.708 1928.34,556.708 \"/>\n",
       "<polyline clip-path=\"url(#clip152)\" style=\"stroke:#000000; stroke-linecap:round; stroke-linejoin:round; stroke-width:2; stroke-opacity:0.1; fill:none\" points=\"628.633,123.472 1928.34,123.472 \"/>\n",
       "<polyline clip-path=\"url(#clip150)\" style=\"stroke:#000000; stroke-linecap:round; stroke-linejoin:round; stroke-width:4; stroke-opacity:1; fill:none\" points=\"628.633,1423.18 1928.34,1423.18 \"/>\n",
       "<polyline clip-path=\"url(#clip150)\" style=\"stroke:#000000; stroke-linecap:round; stroke-linejoin:round; stroke-width:4; stroke-opacity:1; fill:none\" points=\"628.633,1423.18 628.633,1404.28 \"/>\n",
       "<polyline clip-path=\"url(#clip150)\" style=\"stroke:#000000; stroke-linecap:round; stroke-linejoin:round; stroke-width:4; stroke-opacity:1; fill:none\" points=\"1061.87,1423.18 1061.87,1404.28 \"/>\n",
       "<polyline clip-path=\"url(#clip150)\" style=\"stroke:#000000; stroke-linecap:round; stroke-linejoin:round; stroke-width:4; stroke-opacity:1; fill:none\" points=\"1495.11,1423.18 1495.11,1404.28 \"/>\n",
       "<polyline clip-path=\"url(#clip150)\" style=\"stroke:#000000; stroke-linecap:round; stroke-linejoin:round; stroke-width:4; stroke-opacity:1; fill:none\" points=\"1928.34,1423.18 1928.34,1404.28 \"/>\n",
       "<path clip-path=\"url(#clip150)\" d=\"M616.805 1455.09 L604.999 1473.54 L616.805 1473.54 L616.805 1455.09 M615.578 1451.02 L621.457 1451.02 L621.457 1473.54 L626.388 1473.54 L626.388 1477.43 L621.457 1477.43 L621.457 1485.58 L616.805 1485.58 L616.805 1477.43 L601.203 1477.43 L601.203 1472.92 L615.578 1451.02 Z\" fill=\"#000000\" fill-rule=\"nonzero\" fill-opacity=\"1\" /><path clip-path=\"url(#clip150)\" d=\"M644.119 1454.1 Q640.508 1454.1 638.679 1457.66 Q636.874 1461.2 636.874 1468.33 Q636.874 1475.44 638.679 1479.01 Q640.508 1482.55 644.119 1482.55 Q647.753 1482.55 649.559 1479.01 Q651.388 1475.44 651.388 1468.33 Q651.388 1461.2 649.559 1457.66 Q647.753 1454.1 644.119 1454.1 M644.119 1450.39 Q649.929 1450.39 652.985 1455 Q656.064 1459.58 656.064 1468.33 Q656.064 1477.06 652.985 1481.67 Q649.929 1486.25 644.119 1486.25 Q638.309 1486.25 635.23 1481.67 Q632.175 1477.06 632.175 1468.33 Q632.175 1459.58 635.23 1455 Q638.309 1450.39 644.119 1450.39 Z\" fill=\"#000000\" fill-rule=\"nonzero\" fill-opacity=\"1\" /><path clip-path=\"url(#clip150)\" d=\"M1036.57 1451.02 L1054.92 1451.02 L1054.92 1454.96 L1040.85 1454.96 L1040.85 1463.43 Q1041.87 1463.08 1042.89 1462.92 Q1043.91 1462.73 1044.92 1462.73 Q1050.71 1462.73 1054.09 1465.9 Q1057.47 1469.08 1057.47 1474.49 Q1057.47 1480.07 1054 1483.17 Q1050.53 1486.25 1044.21 1486.25 Q1042.03 1486.25 1039.76 1485.88 Q1037.52 1485.51 1035.11 1484.77 L1035.11 1480.07 Q1037.19 1481.2 1039.42 1481.76 Q1041.64 1482.32 1044.11 1482.32 Q1048.12 1482.32 1050.46 1480.21 Q1052.8 1478.1 1052.8 1474.49 Q1052.8 1470.88 1050.46 1468.77 Q1048.12 1466.67 1044.11 1466.67 Q1042.24 1466.67 1040.36 1467.08 Q1038.51 1467.5 1036.57 1468.38 L1036.57 1451.02 Z\" fill=\"#000000\" fill-rule=\"nonzero\" fill-opacity=\"1\" /><path clip-path=\"url(#clip150)\" d=\"M1076.68 1454.1 Q1073.07 1454.1 1071.24 1457.66 Q1069.44 1461.2 1069.44 1468.33 Q1069.44 1475.44 1071.24 1479.01 Q1073.07 1482.55 1076.68 1482.55 Q1080.32 1482.55 1082.12 1479.01 Q1083.95 1475.44 1083.95 1468.33 Q1083.95 1461.2 1082.12 1457.66 Q1080.32 1454.1 1076.68 1454.1 M1076.68 1450.39 Q1082.49 1450.39 1085.55 1455 Q1088.63 1459.58 1088.63 1468.33 Q1088.63 1477.06 1085.55 1481.67 Q1082.49 1486.25 1076.68 1486.25 Q1070.87 1486.25 1067.79 1481.67 Q1064.74 1477.06 1064.74 1468.33 Q1064.74 1459.58 1067.79 1455 Q1070.87 1450.39 1076.68 1450.39 Z\" fill=\"#000000\" fill-rule=\"nonzero\" fill-opacity=\"1\" /><path clip-path=\"url(#clip150)\" d=\"M1480.51 1466.44 Q1477.36 1466.44 1475.51 1468.59 Q1473.68 1470.74 1473.68 1474.49 Q1473.68 1478.22 1475.51 1480.39 Q1477.36 1482.55 1480.51 1482.55 Q1483.66 1482.55 1485.49 1480.39 Q1487.34 1478.22 1487.34 1474.49 Q1487.34 1470.74 1485.49 1468.59 Q1483.66 1466.44 1480.51 1466.44 M1489.79 1451.78 L1489.79 1456.04 Q1488.03 1455.21 1486.23 1454.77 Q1484.45 1454.33 1482.69 1454.33 Q1478.06 1454.33 1475.6 1457.45 Q1473.17 1460.58 1472.83 1466.9 Q1474.19 1464.89 1476.25 1463.82 Q1478.31 1462.73 1480.79 1462.73 Q1486 1462.73 1489.01 1465.9 Q1492.04 1469.05 1492.04 1474.49 Q1492.04 1479.82 1488.89 1483.03 Q1485.74 1486.25 1480.51 1486.25 Q1474.51 1486.25 1471.34 1481.67 Q1468.17 1477.06 1468.17 1468.33 Q1468.17 1460.14 1472.06 1455.28 Q1475.95 1450.39 1482.5 1450.39 Q1484.26 1450.39 1486.04 1450.74 Q1487.85 1451.09 1489.79 1451.78 Z\" fill=\"#000000\" fill-rule=\"nonzero\" fill-opacity=\"1\" /><path clip-path=\"url(#clip150)\" d=\"M1510.09 1454.1 Q1506.48 1454.1 1504.65 1457.66 Q1502.85 1461.2 1502.85 1468.33 Q1502.85 1475.44 1504.65 1479.01 Q1506.48 1482.55 1510.09 1482.55 Q1513.73 1482.55 1515.53 1479.01 Q1517.36 1475.44 1517.36 1468.33 Q1517.36 1461.2 1515.53 1457.66 Q1513.73 1454.1 1510.09 1454.1 M1510.09 1450.39 Q1515.9 1450.39 1518.96 1455 Q1522.04 1459.58 1522.04 1468.33 Q1522.04 1477.06 1518.96 1481.67 Q1515.9 1486.25 1510.09 1486.25 Q1504.28 1486.25 1501.2 1481.67 Q1498.15 1477.06 1498.15 1468.33 Q1498.15 1459.58 1501.2 1455 Q1504.28 1450.39 1510.09 1450.39 Z\" fill=\"#000000\" fill-rule=\"nonzero\" fill-opacity=\"1\" /><path clip-path=\"url(#clip150)\" d=\"M1901.7 1451.02 L1923.92 1451.02 L1923.92 1453.01 L1911.37 1485.58 L1906.49 1485.58 L1918.29 1454.96 L1901.7 1454.96 L1901.7 1451.02 Z\" fill=\"#000000\" fill-rule=\"nonzero\" fill-opacity=\"1\" /><path clip-path=\"url(#clip150)\" d=\"M1943.04 1454.1 Q1939.43 1454.1 1937.6 1457.66 Q1935.79 1461.2 1935.79 1468.33 Q1935.79 1475.44 1937.6 1479.01 Q1939.43 1482.55 1943.04 1482.55 Q1946.67 1482.55 1948.48 1479.01 Q1950.31 1475.44 1950.31 1468.33 Q1950.31 1461.2 1948.48 1457.66 Q1946.67 1454.1 1943.04 1454.1 M1943.04 1450.39 Q1948.85 1450.39 1951.91 1455 Q1954.98 1459.58 1954.98 1468.33 Q1954.98 1477.06 1951.91 1481.67 Q1948.85 1486.25 1943.04 1486.25 Q1937.23 1486.25 1934.15 1481.67 Q1931.1 1477.06 1931.1 1468.33 Q1931.1 1459.58 1934.15 1455 Q1937.23 1450.39 1943.04 1450.39 Z\" fill=\"#000000\" fill-rule=\"nonzero\" fill-opacity=\"1\" /><path clip-path=\"url(#clip150)\" d=\"M1235.59 1526.02 Q1235.59 1526.25 1235.04 1527.22 Q1234.53 1528.15 1232.63 1530.5 Q1230.73 1532.85 1227.89 1535.59 Q1226.83 1536.65 1225.22 1538.13 Q1223.61 1539.62 1222.52 1540.58 L1221.42 1541.55 Q1217.23 1545.09 1213.56 1549.05 Q1213.82 1548.95 1214.27 1548.92 Q1214.72 1548.86 1215.04 1548.86 L1215.37 1548.86 Q1217.04 1548.86 1219.97 1549.99 Q1222.55 1550.82 1223.87 1550.82 Q1225.16 1550.82 1226.57 1550.37 Q1227.99 1549.92 1229.54 1548.6 Q1231.08 1547.28 1231.79 1545.28 Q1231.92 1544.96 1231.98 1544.86 Q1232.05 1544.74 1232.24 1544.61 Q1232.43 1544.45 1232.69 1544.45 Q1233.05 1544.45 1233.27 1544.64 Q1233.5 1544.83 1233.5 1545.09 Q1233.5 1545.67 1233.05 1546.83 Q1232.63 1547.99 1231.69 1549.44 Q1230.79 1550.89 1229.6 1552.21 Q1228.44 1553.5 1226.7 1554.4 Q1224.96 1555.27 1223.13 1555.27 Q1221.81 1555.27 1220.84 1554.62 Q1219.87 1554.01 1218.91 1552.82 Q1217.59 1551.31 1216.88 1550.82 Q1216.17 1550.31 1215.08 1550.31 Q1212.15 1550.31 1209.47 1554.4 Q1209.18 1554.98 1208.99 1555.11 Q1208.83 1555.27 1208.44 1555.27 Q1207.64 1555.23 1207.64 1554.59 Q1207.64 1554.33 1208.34 1553.21 Q1209.09 1552.05 1210.73 1550.02 Q1212.4 1547.99 1214.43 1545.96 L1220.36 1540.42 Q1226.93 1534.88 1229.54 1531.76 Q1228.44 1531.76 1227.96 1531.72 Q1227.51 1531.69 1226.61 1531.5 Q1225.7 1531.27 1224.45 1530.79 Q1221.52 1529.79 1220.29 1529.79 Q1219.97 1529.79 1219.62 1529.82 Q1219.26 1529.86 1218.46 1530.02 Q1217.68 1530.18 1217.04 1530.5 Q1216.4 1530.79 1215.72 1531.43 Q1215.04 1532.05 1214.69 1532.88 Q1214.59 1533.14 1214.53 1533.27 Q1214.46 1533.4 1214.27 1533.53 Q1214.11 1533.62 1213.85 1533.62 Q1213.47 1533.62 1213.24 1533.4 Q1213.05 1533.17 1213.05 1532.88 Q1213.05 1532.3 1213.63 1531.11 Q1214.21 1529.92 1215.17 1528.63 Q1216.14 1527.31 1217.72 1526.35 Q1219.29 1525.38 1221.03 1525.38 Q1222.06 1525.38 1222.93 1525.83 Q1223.84 1526.28 1224.29 1526.76 Q1224.77 1527.22 1225.58 1528.21 Q1226.25 1528.99 1226.57 1529.31 Q1226.9 1529.63 1227.54 1529.99 Q1228.22 1530.31 1228.96 1530.31 Q1230.18 1530.31 1231.31 1529.37 Q1232.43 1528.41 1233.88 1526.09 Q1234.27 1525.38 1234.88 1525.38 Q1235.59 1525.38 1235.59 1526.02 Z\" fill=\"#000000\" fill-rule=\"nonzero\" fill-opacity=\"1\" /><path clip-path=\"url(#clip150)\" d=\"M1242.36 1547.18 L1242.36 1545.74 Q1247.91 1545.74 1250.77 1542.79 Q1251.56 1542.79 1251.7 1542.97 Q1251.83 1543.15 1251.83 1543.98 L1251.83 1569.89 Q1251.83 1571.26 1252.51 1571.69 Q1253.19 1572.12 1256.14 1572.12 L1257.6 1572.12 L1257.6 1573.54 Q1255.98 1573.4 1250.12 1573.4 Q1244.26 1573.4 1242.66 1573.54 L1242.66 1572.12 L1244.12 1572.12 Q1247.03 1572.12 1247.73 1571.71 Q1248.43 1571.28 1248.43 1569.89 L1248.43 1545.97 Q1246.02 1547.18 1242.36 1547.18 Z\" fill=\"#000000\" fill-rule=\"nonzero\" fill-opacity=\"1\" /><path clip-path=\"url(#clip150)\" d=\"M1264.5 1538.04 Q1264.5 1526.89 1268.65 1517.91 Q1270.42 1514.14 1272.9 1510.98 Q1275.38 1507.83 1277.03 1506.44 Q1278.67 1505.06 1279.12 1505.06 Q1279.76 1505.06 1279.8 1505.7 Q1279.8 1506.02 1278.93 1506.83 Q1268.3 1517.65 1268.33 1538.04 Q1268.33 1558.49 1278.67 1568.89 Q1279.8 1570.02 1279.8 1570.37 Q1279.8 1571.02 1279.12 1571.02 Q1278.67 1571.02 1277.09 1569.7 Q1275.51 1568.37 1273.06 1565.35 Q1270.62 1562.32 1268.85 1558.62 Q1264.5 1549.63 1264.5 1538.04 Z\" fill=\"#000000\" fill-rule=\"nonzero\" fill-opacity=\"1\" /><path clip-path=\"url(#clip150)\" d=\"M1317.66 1529.73 Q1317.66 1531.53 1316.53 1532.56 Q1315.4 1533.56 1314.12 1533.56 Q1312.89 1533.56 1312.25 1532.85 Q1311.6 1532.14 1311.6 1531.24 Q1311.6 1530.02 1312.51 1528.95 Q1313.41 1527.89 1314.76 1527.67 Q1313.44 1526.83 1311.48 1526.83 Q1310.19 1526.83 1309.06 1527.51 Q1307.97 1528.18 1307.29 1529.05 Q1306.64 1529.92 1306.06 1531.18 Q1305.52 1532.4 1305.29 1533.14 Q1305.1 1533.85 1304.94 1534.62 L1302.68 1543.64 Q1301.59 1547.92 1301.59 1549.44 Q1301.59 1551.31 1302.49 1552.56 Q1303.39 1553.79 1305.2 1553.79 Q1305.9 1553.79 1306.71 1553.59 Q1307.51 1553.37 1308.54 1552.79 Q1309.61 1552.18 1310.54 1551.27 Q1311.51 1550.34 1312.44 1548.76 Q1313.38 1547.18 1313.99 1545.15 Q1314.18 1544.45 1314.82 1544.45 Q1315.63 1544.45 1315.63 1545.09 Q1315.63 1545.64 1315.18 1546.8 Q1314.76 1547.92 1313.83 1549.41 Q1312.92 1550.85 1311.73 1552.18 Q1310.54 1553.46 1308.77 1554.37 Q1307 1555.27 1305.07 1555.27 Q1302.3 1555.27 1300.46 1553.79 Q1298.63 1552.3 1297.95 1550.24 Q1297.79 1550.53 1297.56 1550.92 Q1297.34 1551.31 1296.66 1552.18 Q1296.02 1553.01 1295.28 1553.66 Q1294.54 1554.27 1293.38 1554.75 Q1292.25 1555.27 1291.02 1555.27 Q1289.48 1555.27 1288.09 1554.82 Q1286.74 1554.37 1285.78 1553.33 Q1284.81 1552.3 1284.81 1550.89 Q1284.81 1549.31 1285.87 1548.21 Q1286.97 1547.09 1288.45 1547.09 Q1289.38 1547.09 1290.12 1547.63 Q1290.9 1548.18 1290.9 1549.37 Q1290.9 1550.69 1289.99 1551.69 Q1289.09 1552.69 1287.8 1552.95 Q1289.12 1553.79 1291.09 1553.79 Q1293.21 1553.79 1294.89 1551.92 Q1296.56 1550.05 1297.37 1546.93 Q1299.37 1539.42 1300.14 1536.07 Q1300.91 1532.69 1300.91 1531.24 Q1300.91 1529.89 1300.56 1528.95 Q1300.2 1528.02 1299.59 1527.6 Q1299.01 1527.15 1298.46 1526.99 Q1297.95 1526.83 1297.37 1526.83 Q1296.4 1526.83 1295.31 1527.22 Q1294.25 1527.6 1292.96 1528.5 Q1291.7 1529.37 1290.51 1531.18 Q1289.32 1532.98 1288.51 1535.46 Q1288.35 1536.2 1287.64 1536.2 Q1286.87 1536.17 1286.87 1535.52 Q1286.87 1534.98 1287.29 1533.85 Q1287.74 1532.69 1288.64 1531.24 Q1289.58 1529.79 1290.77 1528.5 Q1291.99 1527.18 1293.76 1526.28 Q1295.57 1525.38 1297.5 1525.38 Q1298.37 1525.38 1299.21 1525.57 Q1300.07 1525.73 1301.11 1526.22 Q1302.17 1526.7 1303.1 1527.76 Q1304.04 1528.83 1304.62 1530.37 Q1305 1529.63 1305.52 1528.92 Q1306.06 1528.21 1306.9 1527.34 Q1307.77 1526.44 1308.96 1525.93 Q1310.19 1525.38 1311.54 1525.38 Q1312.86 1525.38 1314.15 1525.73 Q1315.44 1526.06 1316.53 1527.12 Q1317.66 1528.15 1317.66 1529.73 Z\" fill=\"#000000\" fill-rule=\"nonzero\" fill-opacity=\"1\" /><path clip-path=\"url(#clip150)\" d=\"M1324.01 1570.37 Q1324.01 1570.05 1324.85 1569.24 Q1335.48 1558.42 1335.48 1538.04 Q1335.48 1517.59 1325.27 1507.25 Q1324.01 1506.06 1324.01 1505.7 Q1324.01 1505.06 1324.65 1505.06 Q1325.11 1505.06 1326.68 1506.38 Q1328.29 1507.7 1330.71 1510.73 Q1333.16 1513.75 1334.96 1517.46 Q1339.31 1526.44 1339.31 1538.04 Q1339.31 1549.18 1335.15 1558.17 Q1333.38 1561.93 1330.9 1565.09 Q1328.42 1568.25 1326.78 1569.63 Q1325.14 1571.02 1324.65 1571.02 Q1324.01 1571.02 1324.01 1570.37 Z\" fill=\"#000000\" fill-rule=\"nonzero\" fill-opacity=\"1\" /><polyline clip-path=\"url(#clip150)\" style=\"stroke:#000000; stroke-linecap:round; stroke-linejoin:round; stroke-width:4; stroke-opacity:1; fill:none\" points=\"628.633,1423.18 628.633,123.472 \"/>\n",
       "<polyline clip-path=\"url(#clip150)\" style=\"stroke:#000000; stroke-linecap:round; stroke-linejoin:round; stroke-width:4; stroke-opacity:1; fill:none\" points=\"628.633,1423.18 640.065,1423.18 \"/>\n",
       "<polyline clip-path=\"url(#clip150)\" style=\"stroke:#000000; stroke-linecap:round; stroke-linejoin:round; stroke-width:4; stroke-opacity:1; fill:none\" points=\"628.633,989.944 640.065,989.944 \"/>\n",
       "<polyline clip-path=\"url(#clip150)\" style=\"stroke:#000000; stroke-linecap:round; stroke-linejoin:round; stroke-width:4; stroke-opacity:1; fill:none\" points=\"628.633,556.708 640.065,556.708 \"/>\n",
       "<polyline clip-path=\"url(#clip150)\" style=\"stroke:#000000; stroke-linecap:round; stroke-linejoin:round; stroke-width:4; stroke-opacity:1; fill:none\" points=\"628.633,123.472 640.065,123.472 \"/>\n",
       "<path clip-path=\"url(#clip150)\" d=\"M540.573 1405.9 L558.93 1405.9 L558.93 1409.84 L544.856 1409.84 L544.856 1418.31 Q545.874 1417.96 546.893 1417.8 Q547.911 1417.61 548.93 1417.61 Q554.717 1417.61 558.096 1420.78 Q561.476 1423.96 561.476 1429.37 Q561.476 1434.95 558.004 1438.05 Q554.532 1441.13 548.212 1441.13 Q546.036 1441.13 543.768 1440.76 Q541.522 1440.39 539.115 1439.65 L539.115 1434.95 Q541.198 1436.08 543.42 1436.64 Q545.643 1437.2 548.12 1437.2 Q552.124 1437.2 554.462 1435.09 Q556.8 1432.98 556.8 1429.37 Q556.8 1425.76 554.462 1423.65 Q552.124 1421.55 548.12 1421.55 Q546.245 1421.55 544.37 1421.96 Q542.518 1422.38 540.573 1423.26 L540.573 1405.9 Z\" fill=\"#000000\" fill-rule=\"nonzero\" fill-opacity=\"1\" /><path clip-path=\"url(#clip150)\" d=\"M580.689 1408.98 Q577.078 1408.98 575.249 1412.54 Q573.443 1416.08 573.443 1423.21 Q573.443 1430.32 575.249 1433.89 Q577.078 1437.43 580.689 1437.43 Q584.323 1437.43 586.129 1433.89 Q587.957 1430.32 587.957 1423.21 Q587.957 1416.08 586.129 1412.54 Q584.323 1408.98 580.689 1408.98 M580.689 1405.27 Q586.499 1405.27 589.555 1409.88 Q592.633 1414.46 592.633 1423.21 Q592.633 1431.94 589.555 1436.55 Q586.499 1441.13 580.689 1441.13 Q574.879 1441.13 571.8 1436.55 Q568.744 1431.94 568.744 1423.21 Q568.744 1414.46 571.8 1409.88 Q574.879 1405.27 580.689 1405.27 Z\" fill=\"#000000\" fill-rule=\"nonzero\" fill-opacity=\"1\" /><path clip-path=\"url(#clip150)\" d=\"M551.106 988.081 Q547.958 988.081 546.106 990.233 Q544.277 992.386 544.277 996.136 Q544.277 999.863 546.106 1002.04 Q547.958 1004.19 551.106 1004.19 Q554.254 1004.19 556.082 1002.04 Q557.934 999.863 557.934 996.136 Q557.934 992.386 556.082 990.233 Q554.254 988.081 551.106 988.081 M560.388 973.428 L560.388 977.687 Q558.629 976.854 556.823 976.414 Q555.041 975.974 553.282 975.974 Q548.652 975.974 546.198 979.099 Q543.768 982.224 543.42 988.543 Q544.786 986.53 546.846 985.465 Q548.907 984.377 551.383 984.377 Q556.592 984.377 559.601 987.548 Q562.633 990.696 562.633 996.136 Q562.633 1001.46 559.485 1004.68 Q556.337 1007.9 551.106 1007.9 Q545.11 1007.9 541.939 1003.31 Q538.768 998.705 538.768 989.979 Q538.768 981.784 542.657 976.923 Q546.545 972.039 553.096 972.039 Q554.856 972.039 556.638 972.386 Q558.444 972.733 560.388 973.428 Z\" fill=\"#000000\" fill-rule=\"nonzero\" fill-opacity=\"1\" /><path clip-path=\"url(#clip150)\" d=\"M580.689 975.743 Q577.078 975.743 575.249 979.307 Q573.443 982.849 573.443 989.979 Q573.443 997.085 575.249 1000.65 Q577.078 1004.19 580.689 1004.19 Q584.323 1004.19 586.129 1000.65 Q587.957 997.085 587.957 989.979 Q587.957 982.849 586.129 979.307 Q584.323 975.743 580.689 975.743 M580.689 972.039 Q586.499 972.039 589.555 976.645 Q592.633 981.229 592.633 989.979 Q592.633 998.705 589.555 1003.31 Q586.499 1007.9 580.689 1007.9 Q574.879 1007.9 571.8 1003.31 Q568.744 998.705 568.744 989.979 Q568.744 981.229 571.8 976.645 Q574.879 972.039 580.689 972.039 Z\" fill=\"#000000\" fill-rule=\"nonzero\" fill-opacity=\"1\" /><path clip-path=\"url(#clip150)\" d=\"M539.346 539.428 L561.569 539.428 L561.569 541.419 L549.022 573.988 L544.138 573.988 L555.944 543.363 L539.346 543.363 L539.346 539.428 Z\" fill=\"#000000\" fill-rule=\"nonzero\" fill-opacity=\"1\" /><path clip-path=\"url(#clip150)\" d=\"M580.689 542.507 Q577.078 542.507 575.249 546.072 Q573.443 549.613 573.443 556.743 Q573.443 563.849 575.249 567.414 Q577.078 570.956 580.689 570.956 Q584.323 570.956 586.129 567.414 Q587.957 563.849 587.957 556.743 Q587.957 549.613 586.129 546.072 Q584.323 542.507 580.689 542.507 M580.689 538.803 Q586.499 538.803 589.555 543.409 Q592.633 547.993 592.633 556.743 Q592.633 565.47 589.555 570.076 Q586.499 574.659 580.689 574.659 Q574.879 574.659 571.8 570.076 Q568.744 565.47 568.744 556.743 Q568.744 547.993 571.8 543.409 Q574.879 538.803 580.689 538.803 Z\" fill=\"#000000\" fill-rule=\"nonzero\" fill-opacity=\"1\" /><path clip-path=\"url(#clip150)\" d=\"M550.527 124.34 Q547.194 124.34 545.272 126.123 Q543.374 127.905 543.374 131.03 Q543.374 134.155 545.272 135.937 Q547.194 137.72 550.527 137.72 Q553.86 137.72 555.782 135.937 Q557.703 134.132 557.703 131.03 Q557.703 127.905 555.782 126.123 Q553.883 124.34 550.527 124.34 M545.851 122.349 Q542.842 121.609 541.152 119.549 Q539.485 117.488 539.485 114.525 Q539.485 110.382 542.425 107.975 Q545.388 105.567 550.527 105.567 Q555.689 105.567 558.629 107.975 Q561.569 110.382 561.569 114.525 Q561.569 117.488 559.879 119.549 Q558.212 121.609 555.226 122.349 Q558.606 123.136 560.481 125.428 Q562.379 127.72 562.379 131.03 Q562.379 136.053 559.3 138.738 Q556.245 141.423 550.527 141.423 Q544.809 141.423 541.731 138.738 Q538.675 136.053 538.675 131.03 Q538.675 127.72 540.573 125.428 Q542.471 123.136 545.851 122.349 M544.138 114.965 Q544.138 117.65 545.805 119.155 Q547.495 120.66 550.527 120.66 Q553.536 120.66 555.226 119.155 Q556.939 117.65 556.939 114.965 Q556.939 112.28 555.226 110.775 Q553.536 109.271 550.527 109.271 Q547.495 109.271 545.805 110.775 Q544.138 112.28 544.138 114.965 Z\" fill=\"#000000\" fill-rule=\"nonzero\" fill-opacity=\"1\" /><path clip-path=\"url(#clip150)\" d=\"M580.689 109.271 Q577.078 109.271 575.249 112.836 Q573.443 116.377 573.443 123.507 Q573.443 130.613 575.249 134.178 Q577.078 137.72 580.689 137.72 Q584.323 137.72 586.129 134.178 Q587.957 130.613 587.957 123.507 Q587.957 116.377 586.129 112.836 Q584.323 109.271 580.689 109.271 M580.689 105.567 Q586.499 105.567 589.555 110.174 Q592.633 114.757 592.633 123.507 Q592.633 132.234 589.555 136.84 Q586.499 141.423 580.689 141.423 Q574.879 141.423 571.8 136.84 Q568.744 132.234 568.744 123.507 Q568.744 114.757 571.8 110.174 Q574.879 105.567 580.689 105.567 Z\" fill=\"#000000\" fill-rule=\"nonzero\" fill-opacity=\"1\" /><path clip-path=\"url(#clip150)\" d=\"M460.655 817.802 Q460.881 817.802 461.847 818.35 Q462.781 818.865 465.132 820.765 Q467.483 822.665 470.221 825.5 Q471.283 826.562 472.765 828.173 Q474.246 829.783 475.213 830.878 L476.179 831.973 Q479.721 836.16 483.683 839.831 Q483.586 839.574 483.554 839.123 Q483.489 838.672 483.489 838.35 L483.489 838.028 Q483.489 836.353 484.617 833.422 Q485.454 830.846 485.454 829.525 Q485.454 828.237 485.003 826.82 Q484.552 825.403 483.232 823.857 Q481.911 822.311 479.915 821.603 Q479.593 821.474 479.496 821.409 Q479.367 821.345 479.238 821.152 Q479.077 820.959 479.077 820.701 Q479.077 820.347 479.27 820.121 Q479.464 819.896 479.721 819.896 Q480.301 819.896 481.46 820.347 Q482.62 820.765 484.069 821.699 Q485.518 822.601 486.839 823.793 Q488.127 824.952 489.029 826.691 Q489.898 828.43 489.898 830.266 Q489.898 831.586 489.254 832.553 Q488.642 833.519 487.451 834.485 Q485.937 835.805 485.454 836.514 Q484.939 837.222 484.939 838.317 Q484.939 841.248 489.029 843.921 Q489.609 844.211 489.737 844.404 Q489.898 844.565 489.898 844.952 Q489.866 845.757 489.222 845.757 Q488.964 845.757 487.837 845.049 Q486.678 844.308 484.649 842.665 Q482.62 840.991 480.591 838.962 L475.052 833.036 Q469.512 826.466 466.388 823.857 Q466.388 824.952 466.356 825.435 Q466.324 825.886 466.13 826.788 Q465.905 827.69 465.422 828.946 Q464.424 831.876 464.424 833.1 Q464.424 833.422 464.456 833.776 Q464.488 834.131 464.649 834.936 Q464.81 835.709 465.132 836.353 Q465.422 836.997 466.066 837.673 Q466.678 838.35 467.515 838.704 Q467.773 838.801 467.902 838.865 Q468.031 838.929 468.159 839.123 Q468.256 839.284 468.256 839.541 Q468.256 839.928 468.031 840.153 Q467.805 840.346 467.515 840.346 Q466.936 840.346 465.744 839.767 Q464.552 839.187 463.264 838.221 Q461.944 837.255 460.978 835.677 Q460.011 834.099 460.011 832.359 Q460.011 831.329 460.462 830.459 Q460.913 829.558 461.396 829.107 Q461.847 828.624 462.845 827.818 Q463.618 827.142 463.94 826.82 Q464.263 826.498 464.617 825.854 Q464.939 825.178 464.939 824.437 Q464.939 823.213 464.005 822.086 Q463.039 820.959 460.72 819.509 Q460.011 819.123 460.011 818.511 Q460.011 817.802 460.655 817.802 Z\" fill=\"#000000\" fill-rule=\"nonzero\" fill-opacity=\"1\" /><path clip-path=\"url(#clip150)\" d=\"M508.169 811.03 Q507.334 811.03 507.087 810.962 Q506.839 810.872 506.455 810.511 L496.581 801.651 Q491.125 796.804 486.368 796.804 Q483.28 796.804 481.071 798.427 Q478.861 800.028 478.861 802.981 Q478.861 805.01 480.101 806.724 Q481.341 808.437 483.55 809.226 Q483.505 809.091 483.505 808.617 Q483.505 807.468 484.227 806.836 Q484.948 806.183 485.918 806.183 Q487.158 806.183 487.766 806.994 Q488.352 807.783 488.352 808.572 Q488.352 808.888 488.285 809.316 Q488.217 809.722 487.586 810.376 Q486.932 811.03 485.782 811.03 Q482.559 811.03 479.988 808.595 Q477.418 806.137 477.418 802.395 Q477.418 798.157 479.943 795.384 Q482.446 792.588 486.368 792.588 Q487.744 792.588 489.006 793.017 Q490.246 793.423 491.215 793.986 Q492.185 794.527 493.74 796.015 Q495.296 797.503 496.401 798.698 Q497.505 799.893 499.85 802.576 L504.607 807.468 L504.607 799.149 Q504.607 795.091 504.246 794.775 Q503.592 794.324 500.143 793.761 L500.143 792.588 L508.169 793.896 L508.169 811.03 Z\" fill=\"#000000\" fill-rule=\"nonzero\" fill-opacity=\"1\" /><path clip-path=\"url(#clip150)\" d=\"M472.668 785.735 Q461.525 785.735 452.54 781.58 Q448.772 779.809 445.615 777.329 Q442.459 774.849 441.074 773.207 Q439.689 771.564 439.689 771.113 Q439.689 770.469 440.334 770.437 Q440.656 770.437 441.461 771.307 Q452.282 781.935 472.668 781.902 Q493.119 781.902 503.521 771.564 Q504.649 770.437 505.003 770.437 Q505.647 770.437 505.647 771.113 Q505.647 771.564 504.327 773.142 Q503.006 774.72 499.979 777.168 Q496.952 779.616 493.248 781.387 Q484.262 785.735 472.668 785.735 Z\" fill=\"#000000\" fill-rule=\"nonzero\" fill-opacity=\"1\" /><path clip-path=\"url(#clip150)\" d=\"M464.359 732.573 Q466.163 732.573 467.193 733.701 Q468.192 734.828 468.192 736.116 Q468.192 737.34 467.483 737.984 Q466.775 738.628 465.873 738.628 Q464.649 738.628 463.586 737.726 Q462.523 736.825 462.298 735.472 Q461.461 736.792 461.461 738.757 Q461.461 740.045 462.137 741.172 Q462.813 742.267 463.683 742.944 Q464.552 743.588 465.808 744.168 Q467.032 744.715 467.773 744.941 Q468.482 745.134 469.254 745.295 L478.272 747.549 Q482.555 748.644 484.069 748.644 Q485.937 748.644 487.193 747.742 Q488.417 746.841 488.417 745.037 Q488.417 744.329 488.224 743.523 Q487.998 742.718 487.419 741.688 Q486.807 740.625 485.905 739.691 Q484.971 738.725 483.393 737.791 Q481.815 736.857 479.786 736.245 Q479.077 736.052 479.077 735.408 Q479.077 734.602 479.721 734.602 Q480.269 734.602 481.428 735.053 Q482.555 735.472 484.037 736.406 Q485.486 737.308 486.807 738.499 Q488.095 739.691 488.997 741.462 Q489.898 743.234 489.898 745.166 Q489.898 747.936 488.417 749.771 Q486.935 751.607 484.874 752.283 Q485.164 752.444 485.551 752.67 Q485.937 752.895 486.807 753.572 Q487.644 754.216 488.288 754.957 Q488.9 755.697 489.383 756.857 Q489.898 757.984 489.898 759.208 Q489.898 760.754 489.448 762.138 Q488.997 763.491 487.966 764.457 Q486.935 765.423 485.518 765.423 Q483.94 765.423 482.845 764.361 Q481.718 763.266 481.718 761.784 Q481.718 760.85 482.266 760.109 Q482.813 759.337 484.005 759.337 Q485.325 759.337 486.324 760.238 Q487.322 761.14 487.58 762.428 Q488.417 761.108 488.417 759.143 Q488.417 757.018 486.549 755.343 Q484.681 753.668 481.557 752.863 Q474.053 750.866 470.704 750.093 Q467.322 749.321 465.873 749.321 Q464.52 749.321 463.586 749.675 Q462.652 750.029 462.234 750.641 Q461.783 751.221 461.622 751.768 Q461.461 752.283 461.461 752.863 Q461.461 753.829 461.847 754.924 Q462.234 755.987 463.135 757.275 Q464.005 758.531 465.808 759.723 Q467.612 760.915 470.092 761.72 Q470.833 761.881 470.833 762.589 Q470.8 763.362 470.156 763.362 Q469.609 763.362 468.482 762.944 Q467.322 762.493 465.873 761.591 Q464.424 760.657 463.135 759.465 Q461.815 758.242 460.913 756.47 Q460.011 754.667 460.011 752.734 Q460.011 751.865 460.205 751.027 Q460.366 750.158 460.849 749.127 Q461.332 748.064 462.395 747.131 Q463.457 746.197 465.003 745.617 Q464.263 745.23 463.554 744.715 Q462.845 744.168 461.976 743.33 Q461.074 742.461 460.559 741.269 Q460.011 740.045 460.011 738.693 Q460.011 737.372 460.366 736.084 Q460.688 734.796 461.75 733.701 Q462.781 732.573 464.359 732.573 Z\" fill=\"#000000\" fill-rule=\"nonzero\" fill-opacity=\"1\" /><path clip-path=\"url(#clip150)\" d=\"M505.003 726.222 Q504.681 726.222 503.876 725.385 Q493.055 714.757 472.668 714.757 Q452.218 714.757 441.879 724.966 Q440.688 726.222 440.334 726.222 Q439.689 726.222 439.689 725.578 Q439.689 725.127 441.01 723.549 Q442.33 721.939 445.358 719.524 Q448.385 717.076 452.089 715.272 Q461.074 710.925 472.668 710.925 Q483.812 710.925 492.797 715.079 Q496.565 716.85 499.721 719.33 Q502.877 721.81 504.262 723.453 Q505.647 725.095 505.647 725.578 Q505.647 726.222 505.003 726.222 Z\" fill=\"#000000\" fill-rule=\"nonzero\" fill-opacity=\"1\" /><path clip-path=\"url(#clip150)\" d=\"M687.408 22.3504 L695.591 22.3504 L695.591 47.9116 L722.732 22.3504 L733.265 22.3504 L703.247 50.5447 L735.412 82.8304 L724.636 82.8304 L695.591 53.7044 L695.591 82.8304 L687.408 82.8304 L687.408 22.3504 Z\" fill=\"#000000\" fill-rule=\"nonzero\" fill-opacity=\"1\" /><path clip-path=\"url(#clip150)\" d=\"M779.202 55.4463 L779.202 82.8304 L771.748 82.8304 L771.748 55.6894 Q771.748 49.2484 769.237 46.0482 Q766.725 42.848 761.702 42.848 Q755.666 42.848 752.182 46.6964 Q748.699 50.5447 748.699 57.1882 L748.699 82.8304 L741.204 82.8304 L741.204 37.4603 L748.699 37.4603 L748.699 44.5089 Q751.372 40.4175 754.978 38.392 Q758.623 36.3666 763.363 36.3666 Q771.181 36.3666 775.192 41.2277 Q779.202 46.0482 779.202 55.4463 Z\" fill=\"#000000\" fill-rule=\"nonzero\" fill-opacity=\"1\" /><path clip-path=\"url(#clip150)\" d=\"M814.688 60.0238 Q805.654 60.0238 802.171 62.0898 Q798.687 64.1558 798.687 69.1384 Q798.687 73.1083 801.279 75.4578 Q803.912 77.7668 808.409 77.7668 Q814.607 77.7668 818.334 73.3918 Q822.101 68.9763 822.101 61.6847 L822.101 60.0238 L814.688 60.0238 M829.555 56.9452 L829.555 82.8304 L822.101 82.8304 L822.101 75.9439 Q819.549 80.0758 815.741 82.0608 Q811.933 84.0052 806.424 84.0052 Q799.456 84.0052 795.325 80.1163 Q791.233 76.187 791.233 69.6245 Q791.233 61.9683 796.337 58.0794 Q801.482 54.1905 811.65 54.1905 L822.101 54.1905 L822.101 53.4614 Q822.101 48.3167 818.698 45.5216 Q815.336 42.686 809.219 42.686 Q805.33 42.686 801.644 43.6177 Q797.958 44.5494 794.555 46.4128 L794.555 39.5263 Q798.646 37.9464 802.495 37.1767 Q806.343 36.3666 809.989 36.3666 Q819.832 36.3666 824.694 41.4707 Q829.555 46.5748 829.555 56.9452 Z\" fill=\"#000000\" fill-rule=\"nonzero\" fill-opacity=\"1\" /><path clip-path=\"url(#clip150)\" d=\"M852.118 76.0249 L852.118 100.087 L844.624 100.087 L844.624 37.4603 L852.118 37.4603 L852.118 44.3468 Q854.468 40.2959 858.033 38.3515 Q861.638 36.3666 866.62 36.3666 Q874.884 36.3666 880.029 42.929 Q885.214 49.4915 885.214 60.1859 Q885.214 70.8803 880.029 77.4427 Q874.884 84.0052 866.62 84.0052 Q861.638 84.0052 858.033 82.0608 Q854.468 80.0758 852.118 76.0249 M877.477 60.1859 Q877.477 51.9625 874.074 47.304 Q870.712 42.605 864.798 42.605 Q858.883 42.605 855.48 47.304 Q852.118 51.9625 852.118 60.1859 Q852.118 68.4092 855.48 73.1083 Q858.883 77.7668 864.798 77.7668 Q870.712 77.7668 874.074 73.1083 Q877.477 68.4092 877.477 60.1859 Z\" fill=\"#000000\" fill-rule=\"nonzero\" fill-opacity=\"1\" /><path clip-path=\"url(#clip150)\" d=\"M926.493 38.7971 L926.493 45.8457 Q923.333 44.2253 919.93 43.4151 Q916.528 42.605 912.882 42.605 Q907.332 42.605 904.537 44.3063 Q901.782 46.0077 901.782 49.4105 Q901.782 52.0031 903.767 53.5019 Q905.752 54.9602 911.748 56.297 L914.3 56.8641 Q922.239 58.5655 925.561 61.6847 Q928.923 64.7634 928.923 70.3131 Q928.923 76.6326 923.9 80.3189 Q918.918 84.0052 910.168 84.0052 Q906.522 84.0052 902.552 83.276 Q898.623 82.5874 894.248 81.1696 L894.248 73.4728 Q898.38 75.6198 902.39 76.7136 Q906.4 77.7668 910.33 77.7668 Q915.596 77.7668 918.431 75.9844 Q921.267 74.1615 921.267 70.8803 Q921.267 67.8421 919.201 66.2217 Q917.176 64.6014 910.249 63.1025 L907.656 62.4949 Q900.729 61.0366 897.65 58.0389 Q894.572 55.0007 894.572 49.7346 Q894.572 43.3341 899.109 39.8503 Q903.646 36.3666 911.991 36.3666 Q916.122 36.3666 919.768 36.9742 Q923.414 37.5818 926.493 38.7971 Z\" fill=\"#000000\" fill-rule=\"nonzero\" fill-opacity=\"1\" /><path clip-path=\"url(#clip150)\" d=\"M961.412 60.0238 Q952.378 60.0238 948.894 62.0898 Q945.411 64.1558 945.411 69.1384 Q945.411 73.1083 948.003 75.4578 Q950.636 77.7668 955.133 77.7668 Q961.331 77.7668 965.057 73.3918 Q968.825 68.9763 968.825 61.6847 L968.825 60.0238 L961.412 60.0238 M976.278 56.9452 L976.278 82.8304 L968.825 82.8304 L968.825 75.9439 Q966.273 80.0758 962.465 82.0608 Q958.657 84.0052 953.148 84.0052 Q946.18 84.0052 942.048 80.1163 Q937.957 76.187 937.957 69.6245 Q937.957 61.9683 943.061 58.0794 Q948.206 54.1905 958.373 54.1905 L968.825 54.1905 L968.825 53.4614 Q968.825 48.3167 965.422 45.5216 Q962.06 42.686 955.943 42.686 Q952.054 42.686 948.368 43.6177 Q944.681 44.5494 941.279 46.4128 L941.279 39.5263 Q945.37 37.9464 949.218 37.1767 Q953.067 36.3666 956.713 36.3666 Q966.556 36.3666 971.417 41.4707 Q976.278 46.5748 976.278 56.9452 Z\" fill=\"#000000\" fill-rule=\"nonzero\" fill-opacity=\"1\" /><path clip-path=\"url(#clip150)\" d=\"M1024.28 39.2022 L1024.28 46.1698 Q1021.12 44.4279 1017.92 43.5772 Q1014.76 42.686 1011.52 42.686 Q1004.27 42.686 1000.26 47.304 Q996.249 51.8815 996.249 60.1859 Q996.249 68.4902 1000.26 73.1083 Q1004.27 77.6858 1011.52 77.6858 Q1014.76 77.6858 1017.92 76.8351 Q1021.12 75.9439 1024.28 74.202 L1024.28 81.0885 Q1021.16 82.5469 1017.8 83.276 Q1014.48 84.0052 1010.71 84.0052 Q1000.46 84.0052 994.426 77.5643 Q988.391 71.1233 988.391 60.1859 Q988.391 49.0864 994.467 42.7265 Q1000.58 36.3666 1011.2 36.3666 Q1014.64 36.3666 1017.92 37.0957 Q1021.2 37.7844 1024.28 39.2022 Z\" fill=\"#000000\" fill-rule=\"nonzero\" fill-opacity=\"1\" /><path clip-path=\"url(#clip150)\" d=\"M1036.96 19.7984 L1044.46 19.7984 L1044.46 57.0262 L1066.69 37.4603 L1076.21 37.4603 L1052.15 58.687 L1077.23 82.8304 L1067.5 82.8304 L1044.46 60.672 L1044.46 82.8304 L1036.96 82.8304 L1036.96 19.7984 Z\" fill=\"#000000\" fill-rule=\"nonzero\" fill-opacity=\"1\" /><path clip-path=\"url(#clip150)\" d=\"M1087.19 72.5411 L1095.74 72.5411 L1095.74 82.8304 L1087.19 82.8304 L1087.19 72.5411 M1087.19 39.9314 L1095.74 39.9314 L1095.74 50.2207 L1087.19 50.2207 L1087.19 39.9314 Z\" fill=\"#000000\" fill-rule=\"nonzero\" fill-opacity=\"1\" /><path clip-path=\"url(#clip150)\" d=\"M1164.48 27.9002 Q1155.57 27.9002 1150.31 34.5437 Q1145.08 41.1871 1145.08 52.6512 Q1145.08 64.0748 1150.31 70.7182 Q1155.57 77.3617 1164.48 77.3617 Q1173.4 77.3617 1178.58 70.7182 Q1183.81 64.0748 1183.81 52.6512 Q1183.81 41.1871 1178.58 34.5437 Q1173.4 27.9002 1164.48 27.9002 M1164.48 21.2567 Q1177.2 21.2567 1184.82 29.8041 Q1192.43 38.311 1192.43 52.6512 Q1192.43 66.9509 1184.82 75.4983 Q1177.2 84.0052 1164.48 84.0052 Q1151.72 84.0052 1144.07 75.4983 Q1136.45 66.9914 1136.45 52.6512 Q1136.45 38.311 1144.07 29.8041 Q1151.72 21.2567 1164.48 21.2567 Z\" fill=\"#000000\" fill-rule=\"nonzero\" fill-opacity=\"1\" /><path clip-path=\"url(#clip150)\" d=\"M1237.48 60.1859 Q1237.48 51.9625 1234.08 47.304 Q1230.72 42.605 1224.8 42.605 Q1218.89 42.605 1215.48 47.304 Q1212.12 51.9625 1212.12 60.1859 Q1212.12 68.4092 1215.48 73.1083 Q1218.89 77.7668 1224.8 77.7668 Q1230.72 77.7668 1234.08 73.1083 Q1237.48 68.4092 1237.48 60.1859 M1212.12 44.3468 Q1214.47 40.2959 1218.04 38.3515 Q1221.64 36.3666 1226.62 36.3666 Q1234.89 36.3666 1240.03 42.929 Q1245.22 49.4915 1245.22 60.1859 Q1245.22 70.8803 1240.03 77.4427 Q1234.89 84.0052 1226.62 84.0052 Q1221.64 84.0052 1218.04 82.0608 Q1214.47 80.0758 1212.12 76.0249 L1212.12 82.8304 L1204.63 82.8304 L1204.63 19.7984 L1212.12 19.7984 L1212.12 44.3468 Z\" fill=\"#000000\" fill-rule=\"nonzero\" fill-opacity=\"1\" /><path clip-path=\"url(#clip150)\" d=\"M1257.57 37.4603 L1265.03 37.4603 L1265.03 83.6406 Q1265.03 92.3096 1261.71 96.1984 Q1258.42 100.087 1251.09 100.087 L1248.26 100.087 L1248.26 93.7679 L1250.24 93.7679 Q1254.49 93.7679 1256.03 91.7829 Q1257.57 89.8385 1257.57 83.6406 L1257.57 37.4603 M1257.57 19.7984 L1265.03 19.7984 L1265.03 29.237 L1257.57 29.237 L1257.57 19.7984 Z\" fill=\"#000000\" fill-rule=\"nonzero\" fill-opacity=\"1\" /><path clip-path=\"url(#clip150)\" d=\"M1319.43 58.282 L1319.43 61.9278 L1285.16 61.9278 Q1285.65 69.6245 1289.78 73.6754 Q1293.95 77.6858 1301.36 77.6858 Q1305.66 77.6858 1309.67 76.6326 Q1313.72 75.5793 1317.69 73.4728 L1317.69 80.5214 Q1313.68 82.2228 1309.47 83.114 Q1305.25 84.0052 1300.92 84.0052 Q1290.06 84.0052 1283.7 77.6858 Q1277.38 71.3664 1277.38 60.591 Q1277.38 49.451 1283.38 42.929 Q1289.41 36.3666 1299.62 36.3666 Q1308.78 36.3666 1314.08 42.2809 Q1319.43 48.1547 1319.43 58.282 M1311.98 56.0945 Q1311.9 49.9776 1308.53 46.3318 Q1305.21 42.686 1299.7 42.686 Q1293.46 42.686 1289.7 46.2103 Q1285.97 49.7346 1285.4 56.135 L1311.98 56.0945 Z\" fill=\"#000000\" fill-rule=\"nonzero\" fill-opacity=\"1\" /><path clip-path=\"url(#clip150)\" d=\"M1364.31 39.2022 L1364.31 46.1698 Q1361.15 44.4279 1357.95 43.5772 Q1354.79 42.686 1351.55 42.686 Q1344.3 42.686 1340.29 47.304 Q1336.28 51.8815 1336.28 60.1859 Q1336.28 68.4902 1340.29 73.1083 Q1344.3 77.6858 1351.55 77.6858 Q1354.79 77.6858 1357.95 76.8351 Q1361.15 75.9439 1364.31 74.202 L1364.31 81.0885 Q1361.2 82.5469 1357.83 83.276 Q1354.51 84.0052 1350.74 84.0052 Q1340.5 84.0052 1334.46 77.5643 Q1328.42 71.1233 1328.42 60.1859 Q1328.42 49.0864 1334.5 42.7265 Q1340.62 36.3666 1351.23 36.3666 Q1354.67 36.3666 1357.95 37.0957 Q1361.24 37.7844 1364.31 39.2022 Z\" fill=\"#000000\" fill-rule=\"nonzero\" fill-opacity=\"1\" /><path clip-path=\"url(#clip150)\" d=\"M1384.65 24.5784 L1384.65 37.4603 L1400 37.4603 L1400 43.2531 L1384.65 43.2531 L1384.65 67.8826 Q1384.65 73.4323 1386.15 75.0122 Q1387.69 76.592 1392.35 76.592 L1400 76.592 L1400 82.8304 L1392.35 82.8304 Q1383.72 82.8304 1380.44 79.6302 Q1377.16 76.3895 1377.16 67.8826 L1377.16 43.2531 L1371.69 43.2531 L1371.69 37.4603 L1377.16 37.4603 L1377.16 24.5784 L1384.65 24.5784 Z\" fill=\"#000000\" fill-rule=\"nonzero\" fill-opacity=\"1\" /><path clip-path=\"url(#clip150)\" d=\"M1409.81 37.4603 L1417.26 37.4603 L1417.26 82.8304 L1409.81 82.8304 L1409.81 37.4603 M1409.81 19.7984 L1417.26 19.7984 L1417.26 29.237 L1409.81 29.237 L1409.81 19.7984 Z\" fill=\"#000000\" fill-rule=\"nonzero\" fill-opacity=\"1\" /><path clip-path=\"url(#clip150)\" d=\"M1427.51 37.4603 L1435.41 37.4603 L1449.59 75.5388 L1463.76 37.4603 L1471.66 37.4603 L1454.65 82.8304 L1444.52 82.8304 L1427.51 37.4603 Z\" fill=\"#000000\" fill-rule=\"nonzero\" fill-opacity=\"1\" /><path clip-path=\"url(#clip150)\" d=\"M1520.76 58.282 L1520.76 61.9278 L1486.49 61.9278 Q1486.98 69.6245 1491.11 73.6754 Q1495.28 77.6858 1502.69 77.6858 Q1506.99 77.6858 1511 76.6326 Q1515.05 75.5793 1519.02 73.4728 L1519.02 80.5214 Q1515.01 82.2228 1510.8 83.114 Q1506.58 84.0052 1502.25 84.0052 Q1491.39 84.0052 1485.03 77.6858 Q1478.71 71.3664 1478.71 60.591 Q1478.71 49.451 1484.71 42.929 Q1490.74 36.3666 1500.95 36.3666 Q1510.11 36.3666 1515.41 42.2809 Q1520.76 48.1547 1520.76 58.282 M1513.31 56.0945 Q1513.23 49.9776 1509.86 46.3318 Q1506.54 42.686 1501.03 42.686 Q1494.79 42.686 1491.03 46.2103 Q1487.3 49.7346 1486.73 56.135 L1513.31 56.0945 Z\" fill=\"#000000\" fill-rule=\"nonzero\" fill-opacity=\"1\" /><path clip-path=\"url(#clip150)\" d=\"M1588.29 38.7971 L1588.29 45.8457 Q1585.13 44.2253 1581.73 43.4151 Q1578.32 42.605 1574.68 42.605 Q1569.13 42.605 1566.33 44.3063 Q1563.58 46.0077 1563.58 49.4105 Q1563.58 52.0031 1565.56 53.5019 Q1567.55 54.9602 1573.54 56.297 L1576.1 56.8641 Q1584.04 58.5655 1587.36 61.6847 Q1590.72 64.7634 1590.72 70.3131 Q1590.72 76.6326 1585.7 80.3189 Q1580.71 84.0052 1571.96 84.0052 Q1568.32 84.0052 1564.35 83.276 Q1560.42 82.5874 1556.04 81.1696 L1556.04 73.4728 Q1560.18 75.6198 1564.19 76.7136 Q1568.2 77.7668 1572.13 77.7668 Q1577.39 77.7668 1580.23 75.9844 Q1583.06 74.1615 1583.06 70.8803 Q1583.06 67.8421 1581 66.2217 Q1578.97 64.6014 1572.04 63.1025 L1569.45 62.4949 Q1562.53 61.0366 1559.45 58.0389 Q1556.37 55.0007 1556.37 49.7346 Q1556.37 43.3341 1560.9 39.8503 Q1565.44 36.3666 1573.79 36.3666 Q1577.92 36.3666 1581.56 36.9742 Q1585.21 37.5818 1588.29 38.7971 Z\" fill=\"#000000\" fill-rule=\"nonzero\" fill-opacity=\"1\" /><path clip-path=\"url(#clip150)\" d=\"M1609.8 76.0249 L1609.8 100.087 L1602.31 100.087 L1602.31 37.4603 L1609.8 37.4603 L1609.8 44.3468 Q1612.15 40.2959 1615.71 38.3515 Q1619.32 36.3666 1624.3 36.3666 Q1632.57 36.3666 1637.71 42.929 Q1642.9 49.4915 1642.9 60.1859 Q1642.9 70.8803 1637.71 77.4427 Q1632.57 84.0052 1624.3 84.0052 Q1619.32 84.0052 1615.71 82.0608 Q1612.15 80.0758 1609.8 76.0249 M1635.16 60.1859 Q1635.16 51.9625 1631.76 47.304 Q1628.39 42.605 1622.48 42.605 Q1616.56 42.605 1613.16 47.304 Q1609.8 51.9625 1609.8 60.1859 Q1609.8 68.4092 1613.16 73.1083 Q1616.56 77.7668 1622.48 77.7668 Q1628.39 77.7668 1631.76 73.1083 Q1635.16 68.4092 1635.16 60.1859 Z\" fill=\"#000000\" fill-rule=\"nonzero\" fill-opacity=\"1\" /><path clip-path=\"url(#clip150)\" d=\"M1675.87 60.0238 Q1666.84 60.0238 1663.35 62.0898 Q1659.87 64.1558 1659.87 69.1384 Q1659.87 73.1083 1662.46 75.4578 Q1665.09 77.7668 1669.59 77.7668 Q1675.79 77.7668 1679.52 73.3918 Q1683.28 68.9763 1683.28 61.6847 L1683.28 60.0238 L1675.87 60.0238 M1690.74 56.9452 L1690.74 82.8304 L1683.28 82.8304 L1683.28 75.9439 Q1680.73 80.0758 1676.92 82.0608 Q1673.11 84.0052 1667.61 84.0052 Q1660.64 84.0052 1656.51 80.1163 Q1652.41 76.187 1652.41 69.6245 Q1652.41 61.9683 1657.52 58.0794 Q1662.66 54.1905 1672.83 54.1905 L1683.28 54.1905 L1683.28 53.4614 Q1683.28 48.3167 1679.88 45.5216 Q1676.52 42.686 1670.4 42.686 Q1666.51 42.686 1662.83 43.6177 Q1659.14 44.5494 1655.74 46.4128 L1655.74 39.5263 Q1659.83 37.9464 1663.68 37.1767 Q1667.52 36.3666 1671.17 36.3666 Q1681.01 36.3666 1685.88 41.4707 Q1690.74 46.5748 1690.74 56.9452 Z\" fill=\"#000000\" fill-rule=\"nonzero\" fill-opacity=\"1\" /><path clip-path=\"url(#clip150)\" d=\"M1738.74 39.2022 L1738.74 46.1698 Q1735.58 44.4279 1732.38 43.5772 Q1729.22 42.686 1725.98 42.686 Q1718.73 42.686 1714.72 47.304 Q1710.71 51.8815 1710.71 60.1859 Q1710.71 68.4902 1714.72 73.1083 Q1718.73 77.6858 1725.98 77.6858 Q1729.22 77.6858 1732.38 76.8351 Q1735.58 75.9439 1738.74 74.202 L1738.74 81.0885 Q1735.62 82.5469 1732.26 83.276 Q1728.94 84.0052 1725.17 84.0052 Q1714.92 84.0052 1708.88 77.5643 Q1702.85 71.1233 1702.85 60.1859 Q1702.85 49.0864 1708.92 42.7265 Q1715.04 36.3666 1725.66 36.3666 Q1729.1 36.3666 1732.38 37.0957 Q1735.66 37.7844 1738.74 39.2022 Z\" fill=\"#000000\" fill-rule=\"nonzero\" fill-opacity=\"1\" /><path clip-path=\"url(#clip150)\" d=\"M1790.51 58.282 L1790.51 61.9278 L1756.24 61.9278 Q1756.73 69.6245 1760.86 73.6754 Q1765.03 77.6858 1772.44 77.6858 Q1776.74 77.6858 1780.75 76.6326 Q1784.8 75.5793 1788.77 73.4728 L1788.77 80.5214 Q1784.76 82.2228 1780.54 83.114 Q1776.33 84.0052 1772 84.0052 Q1761.14 84.0052 1754.78 77.6858 Q1748.46 71.3664 1748.46 60.591 Q1748.46 49.451 1754.46 42.929 Q1760.49 36.3666 1770.7 36.3666 Q1779.86 36.3666 1785.16 42.2809 Q1790.51 48.1547 1790.51 58.282 M1783.06 56.0945 Q1782.98 49.9776 1779.61 46.3318 Q1776.29 42.686 1770.78 42.686 Q1764.54 42.686 1760.78 46.2103 Q1757.05 49.7346 1756.48 56.135 L1783.06 56.0945 Z\" fill=\"#000000\" fill-rule=\"nonzero\" fill-opacity=\"1\" /><path clip-path=\"url(#clip150)\" d=\"M1882.33 26.5112 Q1882.33 27.044 1882.21 27.3719 Q1882.13 27.6999 1881.8 27.8638 Q1881.51 27.9868 1881.31 28.0278 Q1881.14 28.0688 1880.65 28.1098 Q1878.64 28.2737 1876.96 28.8066 Q1875.28 29.2984 1873.85 30.2822 Q1872.45 31.2659 1871.67 31.9218 Q1870.94 32.5776 1869.62 33.8892 L1868.48 35.0779 L1847.65 58.9747 Q1846.92 59.7945 1846.46 61.598 L1843.51 73.4439 Q1842.37 78.3626 1842.37 78.7315 Q1842.37 79.4693 1842.78 79.7153 Q1843.23 79.9202 1844.62 80.0432 L1847.82 80.2481 Q1849.7 80.2481 1849.99 80.576 Q1850.15 80.781 1850.15 81.1499 Q1850.15 81.9287 1849.83 82.3386 Q1849.54 82.7075 1849.25 82.7894 Q1849.01 82.8304 1848.55 82.8304 L1837.82 82.5845 L1827.24 82.8304 Q1826.05 82.8304 1826.05 81.8877 Q1826.05 81.2728 1826.13 80.9449 Q1826.26 80.576 1826.63 80.4531 Q1826.99 80.2891 1827.28 80.2891 Q1827.57 80.2481 1828.35 80.2481 Q1830.23 80.2071 1831.18 80.2071 Q1832.16 80.1661 1833.1 79.9202 Q1834.04 79.6743 1834.37 79.5103 Q1834.74 79.3054 1835.15 78.6085 Q1835.6 77.8707 1835.73 77.2969 Q1835.89 76.723 1836.22 75.2884 Q1836.55 74.0177 1838.27 67.0906 Q1839.99 60.1634 1839.99 59.9994 Q1839.99 59.5485 1839.66 58.5648 L1829.33 30.938 Q1828.88 29.7083 1828.51 29.2165 Q1828.14 28.7246 1826.91 28.4377 Q1825.68 28.1098 1823.22 28.1098 Q1822.53 28.1098 1822.2 28.0688 Q1821.87 28.0278 1821.58 27.8228 Q1821.3 27.6179 1821.3 27.167 Q1821.3 26.3882 1821.62 26.0193 Q1821.95 25.6094 1822.2 25.5684 Q1822.49 25.4864 1822.9 25.4864 Q1823.92 25.4864 1827.57 25.6094 Q1831.22 25.7324 1832.28 25.7324 L1842.86 25.4864 Q1844.13 25.4864 1844.13 26.4292 Q1844.13 27.5769 1843.68 27.8638 Q1843.23 28.1098 1842.12 28.1098 Q1837.16 28.1098 1837.16 30.1182 Q1837.16 30.3642 1837.65 31.5529 L1846.87 56.4743 L1866.34 34.0532 L1866.63 33.7253 Q1866.88 33.3974 1867.08 33.1514 Q1867.29 32.9055 1867.61 32.4546 Q1867.94 32.0037 1868.11 31.6348 Q1868.31 31.2659 1868.48 30.815 Q1868.64 30.3642 1868.64 30.0362 Q1868.64 29.4214 1868.27 29.0115 Q1867.9 28.5606 1867.33 28.3967 Q1866.75 28.2327 1866.34 28.1917 Q1865.93 28.1098 1865.61 28.1098 Q1864.34 28.1098 1864.34 27.085 Q1864.34 26.3472 1864.66 25.9783 Q1864.99 25.5684 1865.24 25.5274 Q1865.52 25.4864 1865.93 25.4864 Q1867.29 25.4864 1870.12 25.6094 Q1872.94 25.7324 1874.34 25.7324 Q1875.48 25.7324 1877.82 25.6094 Q1880.16 25.4864 1881.22 25.4864 Q1882.33 25.4864 1882.33 26.5112 Z\" fill=\"#000000\" fill-rule=\"nonzero\" fill-opacity=\"1\" /><circle clip-path=\"url(#clip152)\" cx=\"1018.55\" cy=\"426.737\" r=\"14.4\" fill=\"#009af9\" fill-rule=\"evenodd\" fill-opacity=\"1\" stroke=\"#000000\" stroke-opacity=\"1\" stroke-width=\"3.2\"/>\n",
       "<circle clip-path=\"url(#clip152)\" cx=\"1321.81\" cy=\"470.061\" r=\"14.4\" fill=\"#009af9\" fill-rule=\"evenodd\" fill-opacity=\"1\" stroke=\"#000000\" stroke-opacity=\"1\" stroke-width=\"3.2\"/>\n",
       "<circle clip-path=\"url(#clip152)\" cx=\"1365.13\" cy=\"600.032\" r=\"14.4\" fill=\"#009af9\" fill-rule=\"evenodd\" fill-opacity=\"1\" stroke=\"#000000\" stroke-opacity=\"1\" stroke-width=\"3.2\"/>\n",
       "<circle clip-path=\"url(#clip152)\" cx=\"1495.11\" cy=\"643.355\" r=\"14.4\" fill=\"#009af9\" fill-rule=\"evenodd\" fill-opacity=\"1\" stroke=\"#000000\" stroke-opacity=\"1\" stroke-width=\"3.2\"/>\n",
       "<circle clip-path=\"url(#clip152)\" cx=\"1581.75\" cy=\"903.297\" r=\"14.4\" fill=\"#009af9\" fill-rule=\"evenodd\" fill-opacity=\"1\" stroke=\"#000000\" stroke-opacity=\"1\" stroke-width=\"3.2\"/>\n",
       "<circle clip-path=\"url(#clip152)\" cx=\"1711.72\" cy=\"1293.21\" r=\"14.4\" fill=\"#009af9\" fill-rule=\"evenodd\" fill-opacity=\"1\" stroke=\"#000000\" stroke-opacity=\"1\" stroke-width=\"3.2\"/>\n",
       "<circle clip-path=\"url(#clip152)\" cx=\"1711.72\" cy=\"426.737\" r=\"14.4\" fill=\"#e26f46\" fill-rule=\"evenodd\" fill-opacity=\"1\" stroke=\"#000000\" stroke-opacity=\"1\" stroke-width=\"3.2\"/>\n",
       "<path clip-path=\"url(#clip150)\" d=\"M700.251 270.476 L1160.75 270.476 L1160.75 166.796 L700.251 166.796  Z\" fill=\"#ffffff\" fill-rule=\"evenodd\" fill-opacity=\"1\"/>\n",
       "<polyline clip-path=\"url(#clip150)\" style=\"stroke:#000000; stroke-linecap:round; stroke-linejoin:round; stroke-width:4; stroke-opacity:1; fill:none\" points=\"700.251,270.476 1160.75,270.476 1160.75,166.796 700.251,166.796 700.251,270.476 \"/>\n",
       "<circle clip-path=\"url(#clip150)\" cx=\"795.742\" cy=\"218.636\" r=\"20.48\" fill=\"#e26f46\" fill-rule=\"evenodd\" fill-opacity=\"1\" stroke=\"#000000\" stroke-opacity=\"1\" stroke-width=\"4.55111\"/>\n",
       "<path clip-path=\"url(#clip150)\" d=\"M891.232 201.356 L895.908 201.356 L895.908 235.916 L891.232 235.916 L891.232 201.356 Z\" fill=\"#000000\" fill-rule=\"nonzero\" fill-opacity=\"1\" /><path clip-path=\"url(#clip150)\" d=\"M922.089 213.925 L922.089 199.897 L926.348 199.897 L926.348 235.916 L922.089 235.916 L922.089 232.027 Q920.746 234.342 918.686 235.476 Q916.649 236.587 913.778 236.587 Q909.079 236.587 906.116 232.837 Q903.177 229.087 903.177 222.976 Q903.177 216.865 906.116 213.115 Q909.079 209.365 913.778 209.365 Q916.649 209.365 918.686 210.499 Q920.746 211.61 922.089 213.925 M907.575 222.976 Q907.575 227.675 909.496 230.36 Q911.44 233.022 914.82 233.022 Q918.2 233.022 920.144 230.36 Q922.089 227.675 922.089 222.976 Q922.089 218.277 920.144 215.615 Q918.2 212.93 914.82 212.93 Q911.44 212.93 909.496 215.615 Q907.575 218.277 907.575 222.976 Z\" fill=\"#000000\" fill-rule=\"nonzero\" fill-opacity=\"1\" /><path clip-path=\"url(#clip150)\" d=\"M957.297 221.888 L957.297 223.971 L937.713 223.971 Q937.991 228.369 940.352 230.684 Q942.737 232.976 946.973 232.976 Q949.426 232.976 951.718 232.374 Q954.033 231.772 956.301 230.569 L956.301 234.596 Q954.01 235.568 951.602 236.078 Q949.195 236.587 946.718 236.587 Q940.514 236.587 936.88 232.976 Q933.269 229.365 933.269 223.207 Q933.269 216.842 936.695 213.115 Q940.144 209.365 945.977 209.365 Q951.209 209.365 954.241 212.745 Q957.297 216.101 957.297 221.888 M953.037 220.638 Q952.991 217.143 951.07 215.059 Q949.172 212.976 946.024 212.976 Q942.459 212.976 940.306 214.99 Q938.176 217.004 937.852 220.661 L953.037 220.638 Z\" fill=\"#000000\" fill-rule=\"nonzero\" fill-opacity=\"1\" /><path clip-path=\"url(#clip150)\" d=\"M976.07 222.883 Q970.908 222.883 968.917 224.064 Q966.926 225.244 966.926 228.092 Q966.926 230.36 968.408 231.703 Q969.912 233.022 972.482 233.022 Q976.023 233.022 978.153 230.522 Q980.306 227.999 980.306 223.832 L980.306 222.883 L976.07 222.883 M984.565 221.124 L984.565 235.916 L980.306 235.916 L980.306 231.981 Q978.848 234.342 976.672 235.476 Q974.496 236.587 971.348 236.587 Q967.366 236.587 965.005 234.365 Q962.667 232.119 962.667 228.369 Q962.667 223.994 965.584 221.772 Q968.524 219.55 974.334 219.55 L980.306 219.55 L980.306 219.133 Q980.306 216.194 978.361 214.596 Q976.44 212.976 972.945 212.976 Q970.723 212.976 968.616 213.508 Q966.51 214.041 964.565 215.106 L964.565 211.17 Q966.903 210.268 969.102 209.828 Q971.301 209.365 973.385 209.365 Q979.01 209.365 981.787 212.282 Q984.565 215.198 984.565 221.124 Z\" fill=\"#000000\" fill-rule=\"nonzero\" fill-opacity=\"1\" /><path clip-path=\"url(#clip150)\" d=\"M993.338 199.897 L997.597 199.897 L997.597 235.916 L993.338 235.916 L993.338 199.897 Z\" fill=\"#000000\" fill-rule=\"nonzero\" fill-opacity=\"1\" /><path clip-path=\"url(#clip150)\" d=\"M1025.7 232.027 L1025.7 245.777 L1021.42 245.777 L1021.42 209.99 L1025.7 209.99 L1025.7 213.925 Q1027.04 211.61 1029.08 210.499 Q1031.14 209.365 1033.99 209.365 Q1038.71 209.365 1041.65 213.115 Q1044.61 216.865 1044.61 222.976 Q1044.61 229.087 1041.65 232.837 Q1038.71 236.587 1033.99 236.587 Q1031.14 236.587 1029.08 235.476 Q1027.04 234.342 1025.7 232.027 M1040.19 222.976 Q1040.19 218.277 1038.25 215.615 Q1036.32 212.93 1032.94 212.93 Q1029.56 212.93 1027.62 215.615 Q1025.7 218.277 1025.7 222.976 Q1025.7 227.675 1027.62 230.36 Q1029.56 233.022 1032.94 233.022 Q1036.32 233.022 1038.25 230.36 Q1040.19 227.675 1040.19 222.976 Z\" fill=\"#000000\" fill-rule=\"nonzero\" fill-opacity=\"1\" /><path clip-path=\"url(#clip150)\" d=\"M1061.72 212.976 Q1058.29 212.976 1056.3 215.661 Q1054.31 218.323 1054.31 222.976 Q1054.31 227.629 1056.28 230.314 Q1058.27 232.976 1061.72 232.976 Q1065.12 232.976 1067.11 230.291 Q1069.1 227.606 1069.1 222.976 Q1069.1 218.37 1067.11 215.684 Q1065.12 212.976 1061.72 212.976 M1061.72 209.365 Q1067.27 209.365 1070.44 212.976 Q1073.62 216.587 1073.62 222.976 Q1073.62 229.342 1070.44 232.976 Q1067.27 236.587 1061.72 236.587 Q1056.14 236.587 1052.97 232.976 Q1049.82 229.342 1049.82 222.976 Q1049.82 216.587 1052.97 212.976 Q1056.14 209.365 1061.72 209.365 Z\" fill=\"#000000\" fill-rule=\"nonzero\" fill-opacity=\"1\" /><path clip-path=\"url(#clip150)\" d=\"M1080.68 209.99 L1084.93 209.99 L1084.93 235.916 L1080.68 235.916 L1080.68 209.99 M1080.68 199.897 L1084.93 199.897 L1084.93 205.291 L1080.68 205.291 L1080.68 199.897 Z\" fill=\"#000000\" fill-rule=\"nonzero\" fill-opacity=\"1\" /><path clip-path=\"url(#clip150)\" d=\"M1115.4 220.268 L1115.4 235.916 L1111.14 235.916 L1111.14 220.407 Q1111.14 216.726 1109.7 214.897 Q1108.27 213.069 1105.4 213.069 Q1101.95 213.069 1099.96 215.268 Q1097.97 217.467 1097.97 221.263 L1097.97 235.916 L1093.68 235.916 L1093.68 209.99 L1097.97 209.99 L1097.97 214.018 Q1099.5 211.68 1101.56 210.522 Q1103.64 209.365 1106.35 209.365 Q1110.81 209.365 1113.11 212.143 Q1115.4 214.897 1115.4 220.268 Z\" fill=\"#000000\" fill-rule=\"nonzero\" fill-opacity=\"1\" /><path clip-path=\"url(#clip150)\" d=\"M1128.11 202.629 L1128.11 209.99 L1136.88 209.99 L1136.88 213.3 L1128.11 213.3 L1128.11 227.374 Q1128.11 230.545 1128.96 231.448 Q1129.84 232.351 1132.5 232.351 L1136.88 232.351 L1136.88 235.916 L1132.5 235.916 Q1127.57 235.916 1125.7 234.087 Q1123.82 232.235 1123.82 227.374 L1123.82 213.3 L1120.7 213.3 L1120.7 209.99 L1123.82 209.99 L1123.82 202.629 L1128.11 202.629 Z\" fill=\"#000000\" fill-rule=\"nonzero\" fill-opacity=\"1\" /><path clip-path=\"url(#clip150)\" d=\"M976.435 472.575 L984.074 472.575 L984.074 446.209 L975.764 447.876 L975.764 443.617 L984.027 441.95 L988.703 441.95 L988.703 472.575 L996.342 472.575 L996.342 476.51 L976.435 476.51 L976.435 472.575 Z\" fill=\"#000000\" fill-rule=\"nonzero\" fill-opacity=\"1\" /><path clip-path=\"url(#clip150)\" d=\"M1283.97 515.898 L1300.29 515.898 L1300.29 519.834 L1278.35 519.834 L1278.35 515.898 Q1281.01 513.144 1285.59 508.514 Q1290.2 503.861 1291.38 502.519 Q1293.62 499.996 1294.5 498.26 Q1295.41 496.5 1295.41 494.811 Q1295.41 492.056 1293.46 490.32 Q1291.54 488.584 1288.44 488.584 Q1286.24 488.584 1283.79 489.348 Q1281.36 490.111 1278.58 491.662 L1278.58 486.94 Q1281.4 485.806 1283.86 485.227 Q1286.31 484.649 1288.35 484.649 Q1293.72 484.649 1296.91 487.334 Q1300.1 490.019 1300.1 494.51 Q1300.1 496.639 1299.29 498.561 Q1298.51 500.459 1296.4 503.051 Q1295.82 503.723 1292.72 506.94 Q1289.62 510.135 1283.97 515.898 Z\" fill=\"#000000\" fill-rule=\"nonzero\" fill-opacity=\"1\" /><path clip-path=\"url(#clip150)\" d=\"M1336.89 631.17 Q1340.25 631.888 1342.12 634.156 Q1344.02 636.425 1344.02 639.758 Q1344.02 644.874 1340.5 647.675 Q1336.98 650.476 1330.5 650.476 Q1328.32 650.476 1326.01 650.036 Q1323.72 649.619 1321.26 648.763 L1321.26 644.249 Q1323.21 645.383 1325.52 645.962 Q1327.84 646.54 1330.36 646.54 Q1334.76 646.54 1337.05 644.804 Q1339.37 643.068 1339.37 639.758 Q1339.37 636.703 1337.21 634.99 Q1335.08 633.253 1331.26 633.253 L1327.24 633.253 L1327.24 629.411 L1331.45 629.411 Q1334.9 629.411 1336.73 628.045 Q1338.56 626.656 1338.56 624.064 Q1338.56 621.402 1336.66 619.99 Q1334.78 618.554 1331.26 618.554 Q1329.34 618.554 1327.14 618.971 Q1324.94 619.388 1322.31 620.267 L1322.31 616.101 Q1324.97 615.36 1327.28 614.99 Q1329.62 614.619 1331.68 614.619 Q1337 614.619 1340.11 617.05 Q1343.21 619.457 1343.21 623.578 Q1343.21 626.448 1341.57 628.439 Q1339.92 630.406 1336.89 631.17 Z\" fill=\"#000000\" fill-rule=\"nonzero\" fill-opacity=\"1\" /><path clip-path=\"url(#clip150)\" d=\"M1465.62 662.642 L1453.82 681.091 L1465.62 681.091 L1465.62 662.642 M1464.39 658.568 L1470.27 658.568 L1470.27 681.091 L1475.2 681.091 L1475.2 684.98 L1470.27 684.98 L1470.27 693.128 L1465.62 693.128 L1465.62 684.98 L1450.02 684.98 L1450.02 680.466 L1464.39 658.568 Z\" fill=\"#000000\" fill-rule=\"nonzero\" fill-opacity=\"1\" /><path clip-path=\"url(#clip150)\" d=\"M1539.54 918.509 L1557.89 918.509 L1557.89 922.445 L1543.82 922.445 L1543.82 930.917 Q1544.84 930.57 1545.86 930.408 Q1546.88 930.222 1547.89 930.222 Q1553.68 930.222 1557.06 933.394 Q1560.44 936.565 1560.44 941.982 Q1560.44 947.56 1556.97 950.662 Q1553.5 953.741 1547.18 953.741 Q1545 953.741 1542.73 953.37 Q1540.49 953 1538.08 952.259 L1538.08 947.56 Q1540.16 948.694 1542.38 949.25 Q1544.61 949.806 1547.08 949.806 Q1551.09 949.806 1553.43 947.699 Q1555.76 945.593 1555.76 941.982 Q1555.76 938.37 1553.43 936.264 Q1551.09 934.158 1547.08 934.158 Q1545.21 934.158 1543.33 934.574 Q1541.48 934.991 1539.54 935.87 L1539.54 918.509 Z\" fill=\"#000000\" fill-rule=\"nonzero\" fill-opacity=\"1\" /><path clip-path=\"url(#clip150)\" d=\"M1679.64 1323.84 Q1676.49 1323.84 1674.64 1325.99 Q1672.81 1328.14 1672.81 1331.89 Q1672.81 1335.62 1674.64 1337.8 Q1676.49 1339.95 1679.64 1339.95 Q1682.78 1339.95 1684.61 1337.8 Q1686.46 1335.62 1686.46 1331.89 Q1686.46 1328.14 1684.61 1325.99 Q1682.78 1323.84 1679.64 1323.84 M1688.92 1309.19 L1688.92 1313.44 Q1687.16 1312.61 1685.35 1312.17 Q1683.57 1311.73 1681.81 1311.73 Q1677.18 1311.73 1674.73 1314.86 Q1672.3 1317.98 1671.95 1324.3 Q1673.32 1322.29 1675.38 1321.22 Q1677.44 1320.13 1679.91 1320.13 Q1685.12 1320.13 1688.13 1323.31 Q1691.16 1326.45 1691.16 1331.89 Q1691.16 1337.22 1688.01 1340.44 Q1684.87 1343.65 1679.64 1343.65 Q1673.64 1343.65 1670.47 1339.07 Q1667.3 1334.46 1667.3 1325.74 Q1667.3 1317.54 1671.19 1312.68 Q1675.08 1307.8 1681.63 1307.8 Q1683.39 1307.8 1685.17 1308.14 Q1686.97 1308.49 1688.92 1309.19 Z\" fill=\"#000000\" fill-rule=\"nonzero\" fill-opacity=\"1\" /></svg>\n"
      ]
     },
     "execution_count": 54,
     "metadata": {},
     "output_type": "execute_result"
    }
   ],
   "source": [
    "Plots.scatter(\n",
    "      [value(objective1; result = i) for i in 1:result_count(bi01UKP)],\n",
    "      [value(objective2; result = i) for i in 1:result_count(bi01UKP)];\n",
    "      xlabel = \"\\$z_1(x)\\$\",\n",
    "      ylabel = \"\\$z_2(x)\\$\",\n",
    "      title  = \"Knapsack: Objective space \\$Y\\$\",\n",
    "      label  = \"\",\n",
    "      xlims  = (40, 70),\n",
    "      ylims  = (50, 80),\n",
    "      aspect_ratio=:equal\n",
    ")\n",
    "\n",
    "for i in 1:result_count(bi01UKP)\n",
    "    y = objective_value(bi01UKP; result = i)\n",
    "    Plots.annotate!(y[1] - 0.75, y[2] - 0.75, (i, 8))\n",
    "end\n",
    "\n",
    "ideal_point = objective_bound(bi01UKP)\n",
    "Plots.scatter!([ideal_point[1]], [ideal_point[2]]; label = \"Ideal point\")"
   ]
  },
  {
   "cell_type": "markdown",
   "metadata": {},
   "source": [
    "----\n",
    "### 4. using this learning, implement the required codes to solve instances of the bi-objective General Assignment Problem (biGAP)."
   ]
  },
  {
   "cell_type": "markdown",
   "metadata": {},
   "source": [
    "#### formulation"
   ]
  },
  {
   "cell_type": "markdown",
   "metadata": {},
   "source": [
    "Consider the following bi-objective generalized assignment (biGAP) problem:\n",
    "\n",
    "$$\\big ( \\ \\max \\sum_{i=1}^{m} \\sum_{j=1}^{n} p^1_{ij} x_{ij} \\ , \\\n",
    "\\max \\sum_{i=1}^{m} \\sum_{j=1}^{n} p^2_{ij} x_{ij} \\ \\big )$$\n",
    "\n",
    "$$ s.t \\qquad \\sum_{j=1}^{n} w_{ij} x_{ij} \\le b_i, \\quad \\forall i \\in \\{1, \\dots, m \\}$$\n",
    "\n",
    "$$ \\qquad \\qquad \\sum_{i=1}^{m} x_{ij} = 1, \\quad \\forall j \\in \\{1, \\dots, n \\}$$\n",
    "\n",
    "\n",
    "$$x_{ij}\\in\\{0,1\\}, \\ \\forall i \\in \\{1, \\dots, m \\}, \\  \\forall j \\in \\{1, \\dots, n \\}$$"
   ]
  },
  {
   "cell_type": "markdown",
   "metadata": {},
   "source": [
    "#### generator of instances\n",
    "\n",
    "Generate an instance $m\\times n$ with coefficients randomly generated as follow:\n",
    "- $1 \\le p^1_{ij}, \\ p^2_{ij}, \\ w_{ij} \\le 10$ \n",
    "- $b_i = \\lfloor  \\frac{\\sum_{j=1}^{m}w_{ij}}{2} \\rfloor$ \n",
    "\n",
    "#### questions\n",
    "\n",
    "- generate a numerical instance\n",
    "- compute $Y_N$, the set of non-dominated points, using HiGHS as MIP solver\n",
    "- compute $U$, an upper bound set of $Y_N$, using HiGHS as MIP solver\n",
    "- plot on a same figure $Y_N$ and $U$"
   ]
  },
  {
   "cell_type": "code",
   "execution_count": 55,
   "metadata": {},
   "outputs": [],
   "source": [
    "m=3; n=10\n",
    "p1 = rand(1:10,m,n)\n",
    "p2 = rand(1:10,m,n)\n",
    "w  = rand(1:10,m,n)\n",
    "b  = Vector{Int64}(undef,m)\n",
    "for i=1:m\n",
    "    b[i] = floor(Int64,sum(w[i,:])/2.0) \n",
    "end"
   ]
  },
  {
   "cell_type": "markdown",
   "metadata": {},
   "source": [
    "biGAP with variables in $\\{0,1\\}$ solved with the epsilon-constraint method using GLPK: "
   ]
  },
  {
   "cell_type": "code",
   "execution_count": 56,
   "metadata": {},
   "outputs": [
    {
     "name": "stdout",
     "output_type": "stream",
     "text": [
      "1: z = [64, 85]\n",
      "2: z = [65, 82]\n",
      "3: z = [66, 81]\n",
      "4: z = [69, 80]\n",
      "5: z = [70, 79]\n",
      "6: z = [71, 76]\n",
      "7: z = [72, 75]\n",
      "8: z = [75, 74]\n",
      "9: z = [78, 69]\n",
      "10: z = [79, 67]\n",
      "11: z = [80, 64]\n",
      "12: z = [82, 62]\n",
      "13: z = [83, 59]\n",
      "14: z = [84, 55]\n",
      "15: z = [86, 51]\n",
      "16: z = [87, 48]\n"
     ]
    }
   ],
   "source": [
    "using JuMP\n",
    "using HiGHS\n",
    "import MultiObjectiveAlgorithms as MOA\n",
    "\n",
    "GAP = Model()\n",
    "@variable(GAP, x[1:m, 1:n], Bin)\n",
    "@expression(GAP, objective1, sum(p1[i,j]*x[i,j] for i = 1:m, j = 1:n) )\n",
    "@expression(GAP, objective2, sum(p2[i,j]*x[i,j] for i = 1:m, j = 1:n) )\n",
    "@objective(GAP, Max, [objective1,objective2])\n",
    "@constraint(GAP, [i=1:m], sum(w[i,j]*x[i,j] for j = 1:n) <= b[i])\n",
    "@constraint(GAP, [j=1:n], sum(x[i,j] for i = 1:m) == 1)\n",
    "\n",
    "set_optimizer(GAP, () -> MOA.Optimizer(HiGHS.Optimizer))\n",
    "set_attribute(GAP, MOA.Algorithm(), MOA.EpsilonConstraint())\n",
    "set_silent(GAP)\n",
    "optimize!(GAP)\n",
    "\n",
    "YN = []\n",
    "for i in 1:result_count(GAP)\n",
    "    y = round.(Int, objective_value(GAP; result = i))\n",
    "    push!(YN,y)\n",
    "    println(i, \": z = \", y)\n",
    "end"
   ]
  },
  {
   "cell_type": "code",
   "execution_count": 57,
   "metadata": {},
   "outputs": [
    {
     "name": "stdout",
     "output_type": "stream",
     "text": [
      "1: z = [87.0, 48.0]\n",
      "2: z = [85.5, 53.25]\n",
      "3: z = [84.75, 55.5]\n",
      "4: z = [83.0, 60.0]\n",
      "5: z = [82.0, 62.0]\n",
      "6: z = [78.0, 69.0]\n",
      "7: z = [75.0, 74.0]\n",
      "8: z = [64.0, 85.0]\n"
     ]
    }
   ],
   "source": [
    "relax = relax_integrality(GAP) # all variables are continuous\n",
    "\n",
    "set_attribute(GAP, MOA.Algorithm(), MOA.Dichotomy())\n",
    "#set_attribute(GAP, MOA.EpsilonConstraintStep(), 0.5)\n",
    "optimize!(GAP)\n",
    "\n",
    "U = []\n",
    "for i in 1:result_count(GAP)\n",
    "    y = objective_value(GAP; result = i)\n",
    "    push!(U,y)\n",
    "    println(i, \": z = \", y)\n",
    "end\n",
    "\n",
    "relax() # restore the definition of variables"
   ]
  },
  {
   "cell_type": "code",
   "execution_count": 58,
   "metadata": {},
   "outputs": [
    {
     "name": "stdout",
     "output_type": "stream",
     "text": [
      "(yfirst, ylast) = ([87.0, 48.0], [64.0, 85.0])\n",
      "(yfirst, ylast) = ([87.0, 0.0], [0.0, 85.0])\n"
     ]
    },
    {
     "data": {
      "text/plain": [
       "10-element Vector{Any}:\n",
       " [87.0, 0.0]\n",
       " [87.0, 48.0]\n",
       " [85.5, 53.25]\n",
       " [84.75, 55.5]\n",
       " [83.0, 60.0]\n",
       " [82.0, 62.0]\n",
       " [78.0, 69.0]\n",
       " [75.0, 74.0]\n",
       " [64.0, 85.0]\n",
       " [0.0, 85.0]"
      ]
     },
     "execution_count": 58,
     "metadata": {},
     "output_type": "execute_result"
    }
   ],
   "source": [
    "yfirst = copy(U[1])\n",
    "ylast = copy(U[end])\n",
    "@show yfirst, ylast\n",
    "yfirst[2]=0.0\n",
    "ylast[1]=0.0\n",
    "@show yfirst, ylast\n",
    "pushfirst!(U,yfirst)\n",
    "push!(U,ylast)"
   ]
  },
  {
   "cell_type": "code",
   "execution_count": 59,
   "metadata": {},
   "outputs": [
    {
     "data": {
      "image/png": "[encoded data removed]",
      "image/svg+xml": [
       "<?xml version=\"1.0\" encoding=\"utf-8\"?>\n",
       "<svg xmlns=\"http://www.w3.org/2000/svg\" xmlns:xlink=\"http://www.w3.org/1999/xlink\" width=\"600\" height=\"400\" viewBox=\"0 0 2400 1600\">\n",
       "<defs>\n",
       "  <clipPath id=\"clip190\">\n",
       "    <rect x=\"0\" y=\"0\" width=\"2400\" height=\"1600\"/>\n",
       "  </clipPath>\n",
       "</defs>\n",
       "<path clip-path=\"url(#clip190)\" d=\"M0 1600 L2400 1600 L2400 8.88178e-14 L0 8.88178e-14  Z\" fill=\"#ffffff\" fill-rule=\"evenodd\" fill-opacity=\"1\"/>\n",
       "<defs>\n",
       "  <clipPath id=\"clip191\">\n",
       "    <rect x=\"480\" y=\"0\" width=\"1681\" height=\"1600\"/>\n",
       "  </clipPath>\n",
       "</defs>\n",
       "<path clip-path=\"url(#clip190)\" d=\"M629.085 1423.18 L1928.79 1423.18 L1928.79 123.472 L629.085 123.472  Z\" fill=\"#ffffff\" fill-rule=\"evenodd\" fill-opacity=\"1\"/>\n",
       "<defs>\n",
       "  <clipPath id=\"clip192\">\n",
       "    <rect x=\"629\" y=\"123\" width=\"1301\" height=\"1301\"/>\n",
       "  </clipPath>\n",
       "</defs>\n",
       "<polyline clip-path=\"url(#clip192)\" style=\"stroke:#000000; stroke-linecap:round; stroke-linejoin:round; stroke-width:2; stroke-opacity:0.1; fill:none\" points=\"629.085,1423.18 629.085,123.472 \"/>\n",
       "<polyline clip-path=\"url(#clip192)\" style=\"stroke:#000000; stroke-linecap:round; stroke-linejoin:round; stroke-width:2; stroke-opacity:0.1; fill:none\" points=\"889.026,1423.18 889.026,123.472 \"/>\n",
       "<polyline clip-path=\"url(#clip192)\" style=\"stroke:#000000; stroke-linecap:round; stroke-linejoin:round; stroke-width:2; stroke-opacity:0.1; fill:none\" points=\"1148.97,1423.18 1148.97,123.472 \"/>\n",
       "<polyline clip-path=\"url(#clip192)\" style=\"stroke:#000000; stroke-linecap:round; stroke-linejoin:round; stroke-width:2; stroke-opacity:0.1; fill:none\" points=\"1408.91,1423.18 1408.91,123.472 \"/>\n",
       "<polyline clip-path=\"url(#clip192)\" style=\"stroke:#000000; stroke-linecap:round; stroke-linejoin:round; stroke-width:2; stroke-opacity:0.1; fill:none\" points=\"1668.85,1423.18 1668.85,123.472 \"/>\n",
       "<polyline clip-path=\"url(#clip192)\" style=\"stroke:#000000; stroke-linecap:round; stroke-linejoin:round; stroke-width:2; stroke-opacity:0.1; fill:none\" points=\"1928.79,1423.18 1928.79,123.472 \"/>\n",
       "<polyline clip-path=\"url(#clip192)\" style=\"stroke:#000000; stroke-linecap:round; stroke-linejoin:round; stroke-width:2; stroke-opacity:0.1; fill:none\" points=\"629.085,1423.18 1928.79,1423.18 \"/>\n",
       "<polyline clip-path=\"url(#clip192)\" style=\"stroke:#000000; stroke-linecap:round; stroke-linejoin:round; stroke-width:2; stroke-opacity:0.1; fill:none\" points=\"629.085,1163.24 1928.79,1163.24 \"/>\n",
       "<polyline clip-path=\"url(#clip192)\" style=\"stroke:#000000; stroke-linecap:round; stroke-linejoin:round; stroke-width:2; stroke-opacity:0.1; fill:none\" points=\"629.085,903.297 1928.79,903.297 \"/>\n",
       "<polyline clip-path=\"url(#clip192)\" style=\"stroke:#000000; stroke-linecap:round; stroke-linejoin:round; stroke-width:2; stroke-opacity:0.1; fill:none\" points=\"629.085,643.355 1928.79,643.355 \"/>\n",
       "<polyline clip-path=\"url(#clip192)\" style=\"stroke:#000000; stroke-linecap:round; stroke-linejoin:round; stroke-width:2; stroke-opacity:0.1; fill:none\" points=\"629.085,383.414 1928.79,383.414 \"/>\n",
       "<polyline clip-path=\"url(#clip192)\" style=\"stroke:#000000; stroke-linecap:round; stroke-linejoin:round; stroke-width:2; stroke-opacity:0.1; fill:none\" points=\"629.085,123.472 1928.79,123.472 \"/>\n",
       "<polyline clip-path=\"url(#clip190)\" style=\"stroke:#000000; stroke-linecap:round; stroke-linejoin:round; stroke-width:4; stroke-opacity:1; fill:none\" points=\"629.085,1423.18 1928.79,1423.18 \"/>\n",
       "<polyline clip-path=\"url(#clip190)\" style=\"stroke:#000000; stroke-linecap:round; stroke-linejoin:round; stroke-width:4; stroke-opacity:1; fill:none\" points=\"629.085,1423.18 629.085,1404.28 \"/>\n",
       "<polyline clip-path=\"url(#clip190)\" style=\"stroke:#000000; stroke-linecap:round; stroke-linejoin:round; stroke-width:4; stroke-opacity:1; fill:none\" points=\"889.026,1423.18 889.026,1404.28 \"/>\n",
       "<polyline clip-path=\"url(#clip190)\" style=\"stroke:#000000; stroke-linecap:round; stroke-linejoin:round; stroke-width:4; stroke-opacity:1; fill:none\" points=\"1148.97,1423.18 1148.97,1404.28 \"/>\n",
       "<polyline clip-path=\"url(#clip190)\" style=\"stroke:#000000; stroke-linecap:round; stroke-linejoin:round; stroke-width:4; stroke-opacity:1; fill:none\" points=\"1408.91,1423.18 1408.91,1404.28 \"/>\n",
       "<polyline clip-path=\"url(#clip190)\" style=\"stroke:#000000; stroke-linecap:round; stroke-linejoin:round; stroke-width:4; stroke-opacity:1; fill:none\" points=\"1668.85,1423.18 1668.85,1404.28 \"/>\n",
       "<polyline clip-path=\"url(#clip190)\" style=\"stroke:#000000; stroke-linecap:round; stroke-linejoin:round; stroke-width:4; stroke-opacity:1; fill:none\" points=\"1928.79,1423.18 1928.79,1404.28 \"/>\n",
       "<path clip-path=\"url(#clip190)\" d=\"M617.256 1455.09 L605.45 1473.54 L617.256 1473.54 L617.256 1455.09 M616.029 1451.02 L621.909 1451.02 L621.909 1473.54 L626.839 1473.54 L626.839 1477.43 L621.909 1477.43 L621.909 1485.58 L617.256 1485.58 L617.256 1477.43 L601.654 1477.43 L601.654 1472.92 L616.029 1451.02 Z\" fill=\"#000000\" fill-rule=\"nonzero\" fill-opacity=\"1\" /><path clip-path=\"url(#clip190)\" d=\"M644.571 1454.1 Q640.96 1454.1 639.131 1457.66 Q637.325 1461.2 637.325 1468.33 Q637.325 1475.44 639.131 1479.01 Q640.96 1482.55 644.571 1482.55 Q648.205 1482.55 650.01 1479.01 Q651.839 1475.44 651.839 1468.33 Q651.839 1461.2 650.01 1457.66 Q648.205 1454.1 644.571 1454.1 M644.571 1450.39 Q650.381 1450.39 653.436 1455 Q656.515 1459.58 656.515 1468.33 Q656.515 1477.06 653.436 1481.67 Q650.381 1486.25 644.571 1486.25 Q638.76 1486.25 635.682 1481.67 Q632.626 1477.06 632.626 1468.33 Q632.626 1459.58 635.682 1455 Q638.76 1450.39 644.571 1450.39 Z\" fill=\"#000000\" fill-rule=\"nonzero\" fill-opacity=\"1\" /><path clip-path=\"url(#clip190)\" d=\"M863.725 1451.02 L882.082 1451.02 L882.082 1454.96 L868.008 1454.96 L868.008 1463.43 Q869.026 1463.08 870.045 1462.92 Q871.063 1462.73 872.082 1462.73 Q877.869 1462.73 881.248 1465.9 Q884.628 1469.08 884.628 1474.49 Q884.628 1480.07 881.156 1483.17 Q877.684 1486.25 871.364 1486.25 Q869.188 1486.25 866.92 1485.88 Q864.674 1485.51 862.267 1484.77 L862.267 1480.07 Q864.35 1481.2 866.573 1481.76 Q868.795 1482.32 871.272 1482.32 Q875.276 1482.32 877.614 1480.21 Q879.952 1478.1 879.952 1474.49 Q879.952 1470.88 877.614 1468.77 Q875.276 1466.67 871.272 1466.67 Q869.397 1466.67 867.522 1467.08 Q865.67 1467.5 863.725 1468.38 L863.725 1451.02 Z\" fill=\"#000000\" fill-rule=\"nonzero\" fill-opacity=\"1\" /><path clip-path=\"url(#clip190)\" d=\"M903.841 1454.1 Q900.23 1454.1 898.401 1457.66 Q896.596 1461.2 896.596 1468.33 Q896.596 1475.44 898.401 1479.01 Q900.23 1482.55 903.841 1482.55 Q907.475 1482.55 909.281 1479.01 Q911.109 1475.44 911.109 1468.33 Q911.109 1461.2 909.281 1457.66 Q907.475 1454.1 903.841 1454.1 M903.841 1450.39 Q909.651 1450.39 912.707 1455 Q915.785 1459.58 915.785 1468.33 Q915.785 1477.06 912.707 1481.67 Q909.651 1486.25 903.841 1486.25 Q898.031 1486.25 894.952 1481.67 Q891.896 1477.06 891.896 1468.33 Q891.896 1459.58 894.952 1455 Q898.031 1450.39 903.841 1450.39 Z\" fill=\"#000000\" fill-rule=\"nonzero\" fill-opacity=\"1\" /><path clip-path=\"url(#clip190)\" d=\"M1134.37 1466.44 Q1131.22 1466.44 1129.37 1468.59 Q1127.54 1470.74 1127.54 1474.49 Q1127.54 1478.22 1129.37 1480.39 Q1131.22 1482.55 1134.37 1482.55 Q1137.52 1482.55 1139.35 1480.39 Q1141.2 1478.22 1141.2 1474.49 Q1141.2 1470.74 1139.35 1468.59 Q1137.52 1466.44 1134.37 1466.44 M1143.66 1451.78 L1143.66 1456.04 Q1141.9 1455.21 1140.09 1454.77 Q1138.31 1454.33 1136.55 1454.33 Q1131.92 1454.33 1129.47 1457.45 Q1127.03 1460.58 1126.69 1466.9 Q1128.05 1464.89 1130.11 1463.82 Q1132.17 1462.73 1134.65 1462.73 Q1139.86 1462.73 1142.87 1465.9 Q1145.9 1469.05 1145.9 1474.49 Q1145.9 1479.82 1142.75 1483.03 Q1139.6 1486.25 1134.37 1486.25 Q1128.38 1486.25 1125.21 1481.67 Q1122.03 1477.06 1122.03 1468.33 Q1122.03 1460.14 1125.92 1455.28 Q1129.81 1450.39 1136.36 1450.39 Q1138.12 1450.39 1139.91 1450.74 Q1141.71 1451.09 1143.66 1451.78 Z\" fill=\"#000000\" fill-rule=\"nonzero\" fill-opacity=\"1\" /><path clip-path=\"url(#clip190)\" d=\"M1163.96 1454.1 Q1160.34 1454.1 1158.52 1457.66 Q1156.71 1461.2 1156.71 1468.33 Q1156.71 1475.44 1158.52 1479.01 Q1160.34 1482.55 1163.96 1482.55 Q1167.59 1482.55 1169.4 1479.01 Q1171.22 1475.44 1171.22 1468.33 Q1171.22 1461.2 1169.4 1457.66 Q1167.59 1454.1 1163.96 1454.1 M1163.96 1450.39 Q1169.77 1450.39 1172.82 1455 Q1175.9 1459.58 1175.9 1468.33 Q1175.9 1477.06 1172.82 1481.67 Q1169.77 1486.25 1163.96 1486.25 Q1158.15 1486.25 1155.07 1481.67 Q1152.01 1477.06 1152.01 1468.33 Q1152.01 1459.58 1155.07 1455 Q1158.15 1450.39 1163.96 1450.39 Z\" fill=\"#000000\" fill-rule=\"nonzero\" fill-opacity=\"1\" /><path clip-path=\"url(#clip190)\" d=\"M1382.27 1451.02 L1404.49 1451.02 L1404.49 1453.01 L1391.94 1485.58 L1387.06 1485.58 L1398.86 1454.96 L1382.27 1454.96 L1382.27 1451.02 Z\" fill=\"#000000\" fill-rule=\"nonzero\" fill-opacity=\"1\" /><path clip-path=\"url(#clip190)\" d=\"M1423.61 1454.1 Q1420 1454.1 1418.17 1457.66 Q1416.36 1461.2 1416.36 1468.33 Q1416.36 1475.44 1418.17 1479.01 Q1420 1482.55 1423.61 1482.55 Q1427.24 1482.55 1429.05 1479.01 Q1430.88 1475.44 1430.88 1468.33 Q1430.88 1461.2 1429.05 1457.66 Q1427.24 1454.1 1423.61 1454.1 M1423.61 1450.39 Q1429.42 1450.39 1432.47 1455 Q1435.55 1459.58 1435.55 1468.33 Q1435.55 1477.06 1432.47 1481.67 Q1429.42 1486.25 1423.61 1486.25 Q1417.8 1486.25 1414.72 1481.67 Q1411.66 1477.06 1411.66 1468.33 Q1411.66 1459.58 1414.72 1455 Q1417.8 1450.39 1423.61 1450.39 Z\" fill=\"#000000\" fill-rule=\"nonzero\" fill-opacity=\"1\" /><path clip-path=\"url(#clip190)\" d=\"M1653.72 1469.17 Q1650.39 1469.17 1648.47 1470.95 Q1646.57 1472.73 1646.57 1475.86 Q1646.57 1478.98 1648.47 1480.77 Q1650.39 1482.55 1653.72 1482.55 Q1657.06 1482.55 1658.98 1480.77 Q1660.9 1478.96 1660.9 1475.86 Q1660.9 1472.73 1658.98 1470.95 Q1657.08 1469.17 1653.72 1469.17 M1649.05 1467.18 Q1646.04 1466.44 1644.35 1464.38 Q1642.68 1462.32 1642.68 1459.35 Q1642.68 1455.21 1645.62 1452.8 Q1648.58 1450.39 1653.72 1450.39 Q1658.89 1450.39 1661.83 1452.8 Q1664.77 1455.21 1664.77 1459.35 Q1664.77 1462.32 1663.08 1464.38 Q1661.41 1466.44 1658.42 1467.18 Q1661.8 1467.96 1663.68 1470.26 Q1665.58 1472.55 1665.58 1475.86 Q1665.58 1480.88 1662.5 1483.57 Q1659.44 1486.25 1653.72 1486.25 Q1648.01 1486.25 1644.93 1483.57 Q1641.87 1480.88 1641.87 1475.86 Q1641.87 1472.55 1643.77 1470.26 Q1645.67 1467.96 1649.05 1467.18 M1647.33 1459.79 Q1647.33 1462.48 1649 1463.98 Q1650.69 1465.49 1653.72 1465.49 Q1656.73 1465.49 1658.42 1463.98 Q1660.14 1462.48 1660.14 1459.79 Q1660.14 1457.11 1658.42 1455.6 Q1656.73 1454.1 1653.72 1454.1 Q1650.69 1454.1 1649 1455.6 Q1647.33 1457.11 1647.33 1459.79 Z\" fill=\"#000000\" fill-rule=\"nonzero\" fill-opacity=\"1\" /><path clip-path=\"url(#clip190)\" d=\"M1683.89 1454.1 Q1680.27 1454.1 1678.45 1457.66 Q1676.64 1461.2 1676.64 1468.33 Q1676.64 1475.44 1678.45 1479.01 Q1680.27 1482.55 1683.89 1482.55 Q1687.52 1482.55 1689.33 1479.01 Q1691.15 1475.44 1691.15 1468.33 Q1691.15 1461.2 1689.33 1457.66 Q1687.52 1454.1 1683.89 1454.1 M1683.89 1450.39 Q1689.7 1450.39 1692.75 1455 Q1695.83 1459.58 1695.83 1468.33 Q1695.83 1477.06 1692.75 1481.67 Q1689.7 1486.25 1683.89 1486.25 Q1678.08 1486.25 1675 1481.67 Q1671.94 1477.06 1671.94 1468.33 Q1671.94 1459.58 1675 1455 Q1678.08 1450.39 1683.89 1450.39 Z\" fill=\"#000000\" fill-rule=\"nonzero\" fill-opacity=\"1\" /><path clip-path=\"url(#clip190)\" d=\"M1903.92 1484.86 L1903.92 1480.6 Q1905.68 1481.44 1907.48 1481.88 Q1909.29 1482.32 1911.03 1482.32 Q1915.66 1482.32 1918.09 1479.21 Q1920.54 1476.09 1920.89 1469.75 Q1919.54 1471.74 1917.48 1472.8 Q1915.42 1473.87 1912.92 1473.87 Q1907.74 1473.87 1904.71 1470.74 Q1901.7 1467.59 1901.7 1462.15 Q1901.7 1456.83 1904.85 1453.61 Q1907.99 1450.39 1913.23 1450.39 Q1919.22 1450.39 1922.37 1455 Q1925.54 1459.58 1925.54 1468.33 Q1925.54 1476.51 1921.65 1481.39 Q1917.79 1486.25 1911.23 1486.25 Q1909.48 1486.25 1907.67 1485.9 Q1905.86 1485.56 1903.92 1484.86 M1913.23 1470.21 Q1916.37 1470.21 1918.2 1468.06 Q1920.05 1465.9 1920.05 1462.15 Q1920.05 1458.43 1918.2 1456.27 Q1916.37 1454.1 1913.23 1454.1 Q1910.08 1454.1 1908.23 1456.27 Q1906.4 1458.43 1906.4 1462.15 Q1906.4 1465.9 1908.23 1468.06 Q1910.08 1470.21 1913.23 1470.21 Z\" fill=\"#000000\" fill-rule=\"nonzero\" fill-opacity=\"1\" /><path clip-path=\"url(#clip190)\" d=\"M1943.94 1454.1 Q1940.33 1454.1 1938.5 1457.66 Q1936.7 1461.2 1936.7 1468.33 Q1936.7 1475.44 1938.5 1479.01 Q1940.33 1482.55 1943.94 1482.55 Q1947.58 1482.55 1949.38 1479.01 Q1951.21 1475.44 1951.21 1468.33 Q1951.21 1461.2 1949.38 1457.66 Q1947.58 1454.1 1943.94 1454.1 M1943.94 1450.39 Q1949.75 1450.39 1952.81 1455 Q1955.89 1459.58 1955.89 1468.33 Q1955.89 1477.06 1952.81 1481.67 Q1949.75 1486.25 1943.94 1486.25 Q1938.13 1486.25 1935.05 1481.67 Q1932 1477.06 1932 1468.33 Q1932 1459.58 1935.05 1455 Q1938.13 1450.39 1943.94 1450.39 Z\" fill=\"#000000\" fill-rule=\"nonzero\" fill-opacity=\"1\" /><path clip-path=\"url(#clip190)\" d=\"M1236.04 1526.02 Q1236.04 1526.25 1235.5 1527.22 Q1234.98 1528.15 1233.08 1530.5 Q1231.18 1532.85 1228.35 1535.59 Q1227.28 1536.65 1225.67 1538.13 Q1224.06 1539.62 1222.97 1540.58 L1221.87 1541.55 Q1217.69 1545.09 1214.01 1549.05 Q1214.27 1548.95 1214.72 1548.92 Q1215.17 1548.86 1215.5 1548.86 L1215.82 1548.86 Q1217.49 1548.86 1220.42 1549.99 Q1223 1550.82 1224.32 1550.82 Q1225.61 1550.82 1227.02 1550.37 Q1228.44 1549.92 1229.99 1548.6 Q1231.53 1547.28 1232.24 1545.28 Q1232.37 1544.96 1232.44 1544.86 Q1232.5 1544.74 1232.69 1544.61 Q1232.89 1544.45 1233.14 1544.45 Q1233.5 1544.45 1233.72 1544.64 Q1233.95 1544.83 1233.95 1545.09 Q1233.95 1545.67 1233.5 1546.83 Q1233.08 1547.99 1232.15 1549.44 Q1231.24 1550.89 1230.05 1552.21 Q1228.89 1553.5 1227.15 1554.4 Q1225.41 1555.27 1223.58 1555.27 Q1222.26 1555.27 1221.29 1554.62 Q1220.33 1554.01 1219.36 1552.82 Q1218.04 1551.31 1217.33 1550.82 Q1216.62 1550.31 1215.53 1550.31 Q1212.6 1550.31 1209.92 1554.4 Q1209.63 1554.98 1209.44 1555.11 Q1209.28 1555.27 1208.89 1555.27 Q1208.09 1555.23 1208.09 1554.59 Q1208.09 1554.33 1208.8 1553.21 Q1209.54 1552.05 1211.18 1550.02 Q1212.85 1547.99 1214.88 1545.96 L1220.81 1540.42 Q1227.38 1534.88 1229.99 1531.76 Q1228.89 1531.76 1228.41 1531.72 Q1227.96 1531.69 1227.06 1531.5 Q1226.16 1531.27 1224.9 1530.79 Q1221.97 1529.79 1220.74 1529.79 Q1220.42 1529.79 1220.07 1529.82 Q1219.71 1529.86 1218.91 1530.02 Q1218.14 1530.18 1217.49 1530.5 Q1216.85 1530.79 1216.17 1531.43 Q1215.5 1532.05 1215.14 1532.88 Q1215.04 1533.14 1214.98 1533.27 Q1214.92 1533.4 1214.72 1533.53 Q1214.56 1533.62 1214.3 1533.62 Q1213.92 1533.62 1213.69 1533.4 Q1213.5 1533.17 1213.5 1532.88 Q1213.5 1532.3 1214.08 1531.11 Q1214.66 1529.92 1215.62 1528.63 Q1216.59 1527.31 1218.17 1526.35 Q1219.75 1525.38 1221.49 1525.38 Q1222.52 1525.38 1223.39 1525.83 Q1224.29 1526.28 1224.74 1526.76 Q1225.22 1527.22 1226.03 1528.21 Q1226.7 1528.99 1227.02 1529.31 Q1227.35 1529.63 1227.99 1529.99 Q1228.67 1530.31 1229.41 1530.31 Q1230.63 1530.31 1231.76 1529.37 Q1232.89 1528.41 1234.34 1526.09 Q1234.72 1525.38 1235.33 1525.38 Q1236.04 1525.38 1236.04 1526.02 Z\" fill=\"#000000\" fill-rule=\"nonzero\" fill-opacity=\"1\" /><path clip-path=\"url(#clip190)\" d=\"M1242.82 1547.18 L1242.82 1545.74 Q1248.36 1545.74 1251.22 1542.79 Q1252.01 1542.79 1252.15 1542.97 Q1252.28 1543.15 1252.28 1543.98 L1252.28 1569.89 Q1252.28 1571.26 1252.96 1571.69 Q1253.64 1572.12 1256.59 1572.12 L1258.06 1572.12 L1258.06 1573.54 Q1256.43 1573.4 1250.57 1573.4 Q1244.71 1573.4 1243.11 1573.54 L1243.11 1572.12 L1244.57 1572.12 Q1247.48 1572.12 1248.18 1571.71 Q1248.88 1571.28 1248.88 1569.89 L1248.88 1545.97 Q1246.47 1547.18 1242.82 1547.18 Z\" fill=\"#000000\" fill-rule=\"nonzero\" fill-opacity=\"1\" /><path clip-path=\"url(#clip190)\" d=\"M1264.95 1538.04 Q1264.95 1526.89 1269.1 1517.91 Q1270.87 1514.14 1273.35 1510.98 Q1275.83 1507.83 1277.48 1506.44 Q1279.12 1505.06 1279.57 1505.06 Q1280.21 1505.06 1280.25 1505.7 Q1280.25 1506.02 1279.38 1506.83 Q1268.75 1517.65 1268.78 1538.04 Q1268.78 1558.49 1279.12 1568.89 Q1280.25 1570.02 1280.25 1570.37 Q1280.25 1571.02 1279.57 1571.02 Q1279.12 1571.02 1277.54 1569.7 Q1275.96 1568.37 1273.52 1565.35 Q1271.07 1562.32 1269.3 1558.62 Q1264.95 1549.63 1264.95 1538.04 Z\" fill=\"#000000\" fill-rule=\"nonzero\" fill-opacity=\"1\" /><path clip-path=\"url(#clip190)\" d=\"M1318.11 1529.73 Q1318.11 1531.53 1316.98 1532.56 Q1315.86 1533.56 1314.57 1533.56 Q1313.34 1533.56 1312.7 1532.85 Q1312.06 1532.14 1312.06 1531.24 Q1312.06 1530.02 1312.96 1528.95 Q1313.86 1527.89 1315.21 1527.67 Q1313.89 1526.83 1311.93 1526.83 Q1310.64 1526.83 1309.51 1527.51 Q1308.42 1528.18 1307.74 1529.05 Q1307.1 1529.92 1306.52 1531.18 Q1305.97 1532.4 1305.74 1533.14 Q1305.55 1533.85 1305.39 1534.62 L1303.13 1543.64 Q1302.04 1547.92 1302.04 1549.44 Q1302.04 1551.31 1302.94 1552.56 Q1303.84 1553.79 1305.65 1553.79 Q1306.36 1553.79 1307.16 1553.59 Q1307.97 1553.37 1309 1552.79 Q1310.06 1552.18 1310.99 1551.27 Q1311.96 1550.34 1312.89 1548.76 Q1313.83 1547.18 1314.44 1545.15 Q1314.63 1544.45 1315.28 1544.45 Q1316.08 1544.45 1316.08 1545.09 Q1316.08 1545.64 1315.63 1546.8 Q1315.21 1547.92 1314.28 1549.41 Q1313.38 1550.85 1312.18 1552.18 Q1310.99 1553.46 1309.22 1554.37 Q1307.45 1555.27 1305.52 1555.27 Q1302.75 1555.27 1300.91 1553.79 Q1299.08 1552.3 1298.4 1550.24 Q1298.24 1550.53 1298.01 1550.92 Q1297.79 1551.31 1297.11 1552.18 Q1296.47 1553.01 1295.73 1553.66 Q1294.99 1554.27 1293.83 1554.75 Q1292.7 1555.27 1291.48 1555.27 Q1289.93 1555.27 1288.55 1554.82 Q1287.19 1554.37 1286.23 1553.33 Q1285.26 1552.3 1285.26 1550.89 Q1285.26 1549.31 1286.32 1548.21 Q1287.42 1547.09 1288.9 1547.09 Q1289.83 1547.09 1290.57 1547.63 Q1291.35 1548.18 1291.35 1549.37 Q1291.35 1550.69 1290.45 1551.69 Q1289.54 1552.69 1288.26 1552.95 Q1289.58 1553.79 1291.54 1553.79 Q1293.67 1553.79 1295.34 1551.92 Q1297.02 1550.05 1297.82 1546.93 Q1299.82 1539.42 1300.59 1536.07 Q1301.36 1532.69 1301.36 1531.24 Q1301.36 1529.89 1301.01 1528.95 Q1300.65 1528.02 1300.04 1527.6 Q1299.46 1527.15 1298.92 1526.99 Q1298.4 1526.83 1297.82 1526.83 Q1296.85 1526.83 1295.76 1527.22 Q1294.7 1527.6 1293.41 1528.5 Q1292.15 1529.37 1290.96 1531.18 Q1289.77 1532.98 1288.96 1535.46 Q1288.8 1536.2 1288.09 1536.2 Q1287.32 1536.17 1287.32 1535.52 Q1287.32 1534.98 1287.74 1533.85 Q1288.19 1532.69 1289.09 1531.24 Q1290.03 1529.79 1291.22 1528.5 Q1292.44 1527.18 1294.21 1526.28 Q1296.02 1525.38 1297.95 1525.38 Q1298.82 1525.38 1299.66 1525.57 Q1300.53 1525.73 1301.56 1526.22 Q1302.62 1526.7 1303.55 1527.76 Q1304.49 1528.83 1305.07 1530.37 Q1305.45 1529.63 1305.97 1528.92 Q1306.52 1528.21 1307.35 1527.34 Q1308.22 1526.44 1309.41 1525.93 Q1310.64 1525.38 1311.99 1525.38 Q1313.31 1525.38 1314.6 1525.73 Q1315.89 1526.06 1316.98 1527.12 Q1318.11 1528.15 1318.11 1529.73 Z\" fill=\"#000000\" fill-rule=\"nonzero\" fill-opacity=\"1\" /><path clip-path=\"url(#clip190)\" d=\"M1324.46 1570.37 Q1324.46 1570.05 1325.3 1569.24 Q1335.93 1558.42 1335.93 1538.04 Q1335.93 1517.59 1325.72 1507.25 Q1324.46 1506.06 1324.46 1505.7 Q1324.46 1505.06 1325.11 1505.06 Q1325.56 1505.06 1327.13 1506.38 Q1328.75 1507.7 1331.16 1510.73 Q1333.61 1513.75 1335.41 1517.46 Q1339.76 1526.44 1339.76 1538.04 Q1339.76 1549.18 1335.6 1558.17 Q1333.83 1561.93 1331.35 1565.09 Q1328.87 1568.25 1327.23 1569.63 Q1325.59 1571.02 1325.11 1571.02 Q1324.46 1571.02 1324.46 1570.37 Z\" fill=\"#000000\" fill-rule=\"nonzero\" fill-opacity=\"1\" /><polyline clip-path=\"url(#clip190)\" style=\"stroke:#000000; stroke-linecap:round; stroke-linejoin:round; stroke-width:4; stroke-opacity:1; fill:none\" points=\"629.085,1423.18 629.085,123.472 \"/>\n",
       "<polyline clip-path=\"url(#clip190)\" style=\"stroke:#000000; stroke-linecap:round; stroke-linejoin:round; stroke-width:4; stroke-opacity:1; fill:none\" points=\"629.085,1423.18 640.521,1423.18 \"/>\n",
       "<polyline clip-path=\"url(#clip190)\" style=\"stroke:#000000; stroke-linecap:round; stroke-linejoin:round; stroke-width:4; stroke-opacity:1; fill:none\" points=\"629.085,1163.24 640.521,1163.24 \"/>\n",
       "<polyline clip-path=\"url(#clip190)\" style=\"stroke:#000000; stroke-linecap:round; stroke-linejoin:round; stroke-width:4; stroke-opacity:1; fill:none\" points=\"629.085,903.297 640.521,903.297 \"/>\n",
       "<polyline clip-path=\"url(#clip190)\" style=\"stroke:#000000; stroke-linecap:round; stroke-linejoin:round; stroke-width:4; stroke-opacity:1; fill:none\" points=\"629.085,643.355 640.521,643.355 \"/>\n",
       "<polyline clip-path=\"url(#clip190)\" style=\"stroke:#000000; stroke-linecap:round; stroke-linejoin:round; stroke-width:4; stroke-opacity:1; fill:none\" points=\"629.085,383.414 640.521,383.414 \"/>\n",
       "<polyline clip-path=\"url(#clip190)\" style=\"stroke:#000000; stroke-linecap:round; stroke-linejoin:round; stroke-width:4; stroke-opacity:1; fill:none\" points=\"629.085,123.472 640.521,123.472 \"/>\n",
       "<path clip-path=\"url(#clip190)\" d=\"M553.826 1409.97 L542.02 1428.42 L553.826 1428.42 L553.826 1409.97 M552.599 1405.9 L558.478 1405.9 L558.478 1428.42 L563.409 1428.42 L563.409 1432.31 L558.478 1432.31 L558.478 1440.46 L553.826 1440.46 L553.826 1432.31 L538.224 1432.31 L538.224 1427.8 L552.599 1405.9 Z\" fill=\"#000000\" fill-rule=\"nonzero\" fill-opacity=\"1\" /><path clip-path=\"url(#clip190)\" d=\"M581.14 1408.98 Q577.529 1408.98 575.7 1412.54 Q573.895 1416.08 573.895 1423.21 Q573.895 1430.32 575.7 1433.89 Q577.529 1437.43 581.14 1437.43 Q584.774 1437.43 586.58 1433.89 Q588.409 1430.32 588.409 1423.21 Q588.409 1416.08 586.58 1412.54 Q584.774 1408.98 581.14 1408.98 M581.14 1405.27 Q586.95 1405.27 590.006 1409.88 Q593.085 1414.46 593.085 1423.21 Q593.085 1431.94 590.006 1436.55 Q586.95 1441.13 581.14 1441.13 Q575.33 1441.13 572.251 1436.55 Q569.196 1431.94 569.196 1423.21 Q569.196 1414.46 572.251 1409.88 Q575.33 1405.27 581.14 1405.27 Z\" fill=\"#000000\" fill-rule=\"nonzero\" fill-opacity=\"1\" /><path clip-path=\"url(#clip190)\" d=\"M541.025 1145.96 L559.381 1145.96 L559.381 1149.89 L545.307 1149.89 L545.307 1158.37 Q546.326 1158.02 547.344 1157.86 Q548.363 1157.67 549.381 1157.67 Q555.168 1157.67 558.548 1160.84 Q561.927 1164.01 561.927 1169.43 Q561.927 1175.01 558.455 1178.11 Q554.983 1181.19 548.664 1181.19 Q546.488 1181.19 544.219 1180.82 Q541.974 1180.45 539.566 1179.71 L539.566 1175.01 Q541.65 1176.14 543.872 1176.7 Q546.094 1177.25 548.571 1177.25 Q552.576 1177.25 554.913 1175.15 Q557.251 1173.04 557.251 1169.43 Q557.251 1165.82 554.913 1163.71 Q552.576 1161.61 548.571 1161.61 Q546.696 1161.61 544.821 1162.02 Q542.969 1162.44 541.025 1163.32 L541.025 1145.96 Z\" fill=\"#000000\" fill-rule=\"nonzero\" fill-opacity=\"1\" /><path clip-path=\"url(#clip190)\" d=\"M581.14 1149.04 Q577.529 1149.04 575.7 1152.6 Q573.895 1156.14 573.895 1163.27 Q573.895 1170.38 575.7 1173.94 Q577.529 1177.49 581.14 1177.49 Q584.774 1177.49 586.58 1173.94 Q588.409 1170.38 588.409 1163.27 Q588.409 1156.14 586.58 1152.6 Q584.774 1149.04 581.14 1149.04 M581.14 1145.33 Q586.95 1145.33 590.006 1149.94 Q593.085 1154.52 593.085 1163.27 Q593.085 1172 590.006 1176.61 Q586.95 1181.19 581.14 1181.19 Q575.33 1181.19 572.251 1176.61 Q569.196 1172 569.196 1163.27 Q569.196 1154.52 572.251 1149.94 Q575.33 1145.33 581.14 1145.33 Z\" fill=\"#000000\" fill-rule=\"nonzero\" fill-opacity=\"1\" /><path clip-path=\"url(#clip190)\" d=\"M551.557 901.433 Q548.409 901.433 546.557 903.586 Q544.728 905.739 544.728 909.489 Q544.728 913.216 546.557 915.392 Q548.409 917.544 551.557 917.544 Q554.705 917.544 556.534 915.392 Q558.386 913.216 558.386 909.489 Q558.386 905.739 556.534 903.586 Q554.705 901.433 551.557 901.433 M560.839 886.781 L560.839 891.04 Q559.08 890.207 557.275 889.767 Q555.492 889.327 553.733 889.327 Q549.103 889.327 546.65 892.452 Q544.219 895.577 543.872 901.896 Q545.238 899.882 547.298 898.818 Q549.358 897.73 551.835 897.73 Q557.043 897.73 560.052 900.901 Q563.085 904.049 563.085 909.489 Q563.085 914.813 559.937 918.03 Q556.788 921.248 551.557 921.248 Q545.562 921.248 542.39 916.665 Q539.219 912.058 539.219 903.331 Q539.219 895.137 543.108 890.276 Q546.997 885.392 553.548 885.392 Q555.307 885.392 557.089 885.739 Q558.895 886.086 560.839 886.781 Z\" fill=\"#000000\" fill-rule=\"nonzero\" fill-opacity=\"1\" /><path clip-path=\"url(#clip190)\" d=\"M581.14 889.095 Q577.529 889.095 575.7 892.66 Q573.895 896.202 573.895 903.331 Q573.895 910.438 575.7 914.003 Q577.529 917.544 581.14 917.544 Q584.774 917.544 586.58 914.003 Q588.409 910.438 588.409 903.331 Q588.409 896.202 586.58 892.66 Q584.774 889.095 581.14 889.095 M581.14 885.392 Q586.95 885.392 590.006 889.998 Q593.085 894.582 593.085 903.331 Q593.085 912.058 590.006 916.665 Q586.95 921.248 581.14 921.248 Q575.33 921.248 572.251 916.665 Q569.196 912.058 569.196 903.331 Q569.196 894.582 572.251 889.998 Q575.33 885.392 581.14 885.392 Z\" fill=\"#000000\" fill-rule=\"nonzero\" fill-opacity=\"1\" /><path clip-path=\"url(#clip190)\" d=\"M539.798 626.075 L562.02 626.075 L562.02 628.066 L549.474 660.635 L544.589 660.635 L556.395 630.01 L539.798 630.01 L539.798 626.075 Z\" fill=\"#000000\" fill-rule=\"nonzero\" fill-opacity=\"1\" /><path clip-path=\"url(#clip190)\" d=\"M581.14 629.154 Q577.529 629.154 575.7 632.719 Q573.895 636.26 573.895 643.39 Q573.895 650.496 575.7 654.061 Q577.529 657.603 581.14 657.603 Q584.774 657.603 586.58 654.061 Q588.409 650.496 588.409 643.39 Q588.409 636.26 586.58 632.719 Q584.774 629.154 581.14 629.154 M581.14 625.45 Q586.95 625.45 590.006 630.057 Q593.085 634.64 593.085 643.39 Q593.085 652.117 590.006 656.723 Q586.95 661.307 581.14 661.307 Q575.33 661.307 572.251 656.723 Q569.196 652.117 569.196 643.39 Q569.196 634.64 572.251 630.057 Q575.33 625.45 581.14 625.45 Z\" fill=\"#000000\" fill-rule=\"nonzero\" fill-opacity=\"1\" /><path clip-path=\"url(#clip190)\" d=\"M550.978 384.282 Q547.645 384.282 545.724 386.064 Q543.826 387.847 543.826 390.971 Q543.826 394.096 545.724 395.879 Q547.645 397.661 550.978 397.661 Q554.312 397.661 556.233 395.879 Q558.154 394.073 558.154 390.971 Q558.154 387.847 556.233 386.064 Q554.335 384.282 550.978 384.282 M546.302 382.291 Q543.293 381.55 541.603 379.49 Q539.937 377.43 539.937 374.467 Q539.937 370.323 542.877 367.916 Q545.839 365.509 550.978 365.509 Q556.14 365.509 559.08 367.916 Q562.02 370.323 562.02 374.467 Q562.02 377.43 560.33 379.49 Q558.663 381.55 555.677 382.291 Q559.057 383.078 560.932 385.37 Q562.83 387.661 562.83 390.971 Q562.83 395.995 559.751 398.68 Q556.696 401.365 550.978 401.365 Q545.261 401.365 542.182 398.68 Q539.127 395.995 539.127 390.971 Q539.127 387.661 541.025 385.37 Q542.923 383.078 546.302 382.291 M544.589 374.907 Q544.589 377.592 546.256 379.097 Q547.946 380.601 550.978 380.601 Q553.988 380.601 555.677 379.097 Q557.39 377.592 557.39 374.907 Q557.39 372.222 555.677 370.717 Q553.988 369.212 550.978 369.212 Q547.946 369.212 546.256 370.717 Q544.589 372.222 544.589 374.907 Z\" fill=\"#000000\" fill-rule=\"nonzero\" fill-opacity=\"1\" /><path clip-path=\"url(#clip190)\" d=\"M581.14 369.212 Q577.529 369.212 575.7 372.777 Q573.895 376.319 573.895 383.448 Q573.895 390.555 575.7 394.12 Q577.529 397.661 581.14 397.661 Q584.774 397.661 586.58 394.12 Q588.409 390.555 588.409 383.448 Q588.409 376.319 586.58 372.777 Q584.774 369.212 581.14 369.212 M581.14 365.509 Q586.95 365.509 590.006 370.115 Q593.085 374.698 593.085 383.448 Q593.085 392.175 590.006 396.782 Q586.95 401.365 581.14 401.365 Q575.33 401.365 572.251 396.782 Q569.196 392.175 569.196 383.448 Q569.196 374.698 572.251 370.115 Q575.33 365.509 581.14 365.509 Z\" fill=\"#000000\" fill-rule=\"nonzero\" fill-opacity=\"1\" /><path clip-path=\"url(#clip190)\" d=\"M541.117 140.035 L541.117 135.775 Q542.877 136.609 544.682 137.048 Q546.488 137.488 548.224 137.488 Q552.853 137.488 555.284 134.386 Q557.738 131.261 558.085 124.919 Q556.742 126.91 554.682 127.974 Q552.622 129.039 550.122 129.039 Q544.937 129.039 541.904 125.914 Q538.895 122.766 538.895 117.326 Q538.895 112.002 542.043 108.785 Q545.191 105.567 550.423 105.567 Q556.418 105.567 559.566 110.174 Q562.738 114.757 562.738 123.507 Q562.738 131.678 558.849 136.562 Q554.983 141.423 548.432 141.423 Q546.673 141.423 544.867 141.076 Q543.062 140.729 541.117 140.035 M550.423 125.382 Q553.571 125.382 555.4 123.229 Q557.251 121.076 557.251 117.326 Q557.251 113.599 555.4 111.447 Q553.571 109.271 550.423 109.271 Q547.275 109.271 545.423 111.447 Q543.594 113.599 543.594 117.326 Q543.594 121.076 545.423 123.229 Q547.275 125.382 550.423 125.382 Z\" fill=\"#000000\" fill-rule=\"nonzero\" fill-opacity=\"1\" /><path clip-path=\"url(#clip190)\" d=\"M581.14 109.271 Q577.529 109.271 575.7 112.836 Q573.895 116.377 573.895 123.507 Q573.895 130.613 575.7 134.178 Q577.529 137.72 581.14 137.72 Q584.774 137.72 586.58 134.178 Q588.409 130.613 588.409 123.507 Q588.409 116.377 586.58 112.836 Q584.774 109.271 581.14 109.271 M581.14 105.567 Q586.95 105.567 590.006 110.174 Q593.085 114.757 593.085 123.507 Q593.085 132.234 590.006 136.84 Q586.95 141.423 581.14 141.423 Q575.33 141.423 572.251 136.84 Q569.196 132.234 569.196 123.507 Q569.196 114.757 572.251 110.174 Q575.33 105.567 581.14 105.567 Z\" fill=\"#000000\" fill-rule=\"nonzero\" fill-opacity=\"1\" /><path clip-path=\"url(#clip190)\" d=\"M460.204 817.802 Q460.43 817.802 461.396 818.35 Q462.33 818.865 464.681 820.765 Q467.032 822.665 469.769 825.5 Q470.832 826.562 472.314 828.173 Q473.795 829.783 474.761 830.878 L475.727 831.973 Q479.27 836.16 483.231 839.831 Q483.135 839.574 483.102 839.123 Q483.038 838.672 483.038 838.35 L483.038 838.028 Q483.038 836.353 484.165 833.422 Q485.003 830.846 485.003 829.525 Q485.003 828.237 484.552 826.82 Q484.101 825.403 482.78 823.857 Q481.46 822.311 479.463 821.603 Q479.141 821.474 479.045 821.409 Q478.916 821.345 478.787 821.152 Q478.626 820.959 478.626 820.701 Q478.626 820.347 478.819 820.121 Q479.012 819.896 479.27 819.896 Q479.85 819.896 481.009 820.347 Q482.169 820.765 483.618 821.699 Q485.067 822.601 486.387 823.793 Q487.676 824.952 488.577 826.691 Q489.447 828.43 489.447 830.266 Q489.447 831.586 488.803 832.553 Q488.191 833.519 486.999 834.485 Q485.486 835.805 485.003 836.514 Q484.487 837.222 484.487 838.317 Q484.487 841.248 488.577 843.921 Q489.157 844.211 489.286 844.404 Q489.447 844.565 489.447 844.952 Q489.415 845.757 488.771 845.757 Q488.513 845.757 487.386 845.049 Q486.226 844.308 484.197 842.665 Q482.169 840.991 480.14 838.962 L474.6 833.036 Q469.061 826.466 465.937 823.857 Q465.937 824.952 465.905 825.435 Q465.872 825.886 465.679 826.788 Q465.454 827.69 464.971 828.946 Q463.972 831.876 463.972 833.1 Q463.972 833.422 464.004 833.776 Q464.037 834.131 464.198 834.936 Q464.359 835.709 464.681 836.353 Q464.971 836.997 465.615 837.673 Q466.227 838.35 467.064 838.704 Q467.322 838.801 467.45 838.865 Q467.579 838.929 467.708 839.123 Q467.805 839.284 467.805 839.541 Q467.805 839.928 467.579 840.153 Q467.354 840.346 467.064 840.346 Q466.484 840.346 465.293 839.767 Q464.101 839.187 462.813 838.221 Q461.492 837.255 460.526 835.677 Q459.56 834.099 459.56 832.359 Q459.56 831.329 460.011 830.459 Q460.462 829.558 460.945 829.107 Q461.396 828.624 462.394 827.818 Q463.167 827.142 463.489 826.82 Q463.811 826.498 464.165 825.854 Q464.487 825.178 464.487 824.437 Q464.487 823.213 463.554 822.086 Q462.587 820.959 460.269 819.509 Q459.56 819.123 459.56 818.511 Q459.56 817.802 460.204 817.802 Z\" fill=\"#000000\" fill-rule=\"nonzero\" fill-opacity=\"1\" /><path clip-path=\"url(#clip190)\" d=\"M507.717 811.03 Q506.883 811.03 506.635 810.962 Q506.387 810.872 506.004 810.511 L496.13 801.651 Q490.674 796.804 485.917 796.804 Q482.829 796.804 480.619 798.427 Q478.41 800.028 478.41 802.981 Q478.41 805.01 479.65 806.724 Q480.89 808.437 483.099 809.226 Q483.054 809.091 483.054 808.617 Q483.054 807.468 483.775 806.836 Q484.497 806.183 485.466 806.183 Q486.706 806.183 487.315 806.994 Q487.901 807.783 487.901 808.572 Q487.901 808.888 487.833 809.316 Q487.766 809.722 487.134 810.376 Q486.481 811.03 485.331 811.03 Q482.107 811.03 479.537 808.595 Q476.967 806.137 476.967 802.395 Q476.967 798.157 479.492 795.384 Q481.994 792.588 485.917 792.588 Q487.292 792.588 488.555 793.017 Q489.795 793.423 490.764 793.986 Q491.733 794.527 493.289 796.015 Q494.845 797.503 495.949 798.698 Q497.054 799.893 499.398 802.576 L504.155 807.468 L504.155 799.149 Q504.155 795.091 503.795 794.775 Q503.141 794.324 499.692 793.761 L499.692 792.588 L507.717 793.896 L507.717 811.03 Z\" fill=\"#000000\" fill-rule=\"nonzero\" fill-opacity=\"1\" /><path clip-path=\"url(#clip190)\" d=\"M472.217 785.735 Q461.074 785.735 452.088 781.58 Q448.32 779.809 445.164 777.329 Q442.008 774.849 440.623 773.207 Q439.238 771.564 439.238 771.113 Q439.238 770.469 439.882 770.437 Q440.204 770.437 441.009 771.307 Q451.831 781.935 472.217 781.902 Q492.668 781.902 503.07 771.564 Q504.197 770.437 504.552 770.437 Q505.196 770.437 505.196 771.113 Q505.196 771.564 503.875 773.142 Q502.555 774.72 499.527 777.168 Q496.5 779.616 492.796 781.387 Q483.811 785.735 472.217 785.735 Z\" fill=\"#000000\" fill-rule=\"nonzero\" fill-opacity=\"1\" /><path clip-path=\"url(#clip190)\" d=\"M463.908 732.573 Q465.711 732.573 466.742 733.701 Q467.74 734.828 467.74 736.116 Q467.74 737.34 467.032 737.984 Q466.323 738.628 465.421 738.628 Q464.198 738.628 463.135 737.726 Q462.072 736.825 461.847 735.472 Q461.009 736.792 461.009 738.757 Q461.009 740.045 461.686 741.172 Q462.362 742.267 463.231 742.944 Q464.101 743.588 465.357 744.168 Q466.581 744.715 467.322 744.941 Q468.03 745.134 468.803 745.295 L477.821 747.549 Q482.104 748.644 483.618 748.644 Q485.486 748.644 486.742 747.742 Q487.966 746.841 487.966 745.037 Q487.966 744.329 487.772 743.523 Q487.547 742.718 486.967 741.688 Q486.355 740.625 485.454 739.691 Q484.52 738.725 482.941 737.791 Q481.363 736.857 479.334 736.245 Q478.626 736.052 478.626 735.408 Q478.626 734.602 479.27 734.602 Q479.817 734.602 480.977 735.053 Q482.104 735.472 483.586 736.406 Q485.035 737.308 486.355 738.499 Q487.644 739.691 488.545 741.462 Q489.447 743.234 489.447 745.166 Q489.447 747.936 487.966 749.771 Q486.484 751.607 484.423 752.283 Q484.713 752.444 485.099 752.67 Q485.486 752.895 486.355 753.572 Q487.193 754.216 487.837 754.957 Q488.449 755.697 488.932 756.857 Q489.447 757.984 489.447 759.208 Q489.447 760.754 488.996 762.138 Q488.545 763.491 487.515 764.457 Q486.484 765.423 485.067 765.423 Q483.489 765.423 482.394 764.361 Q481.267 763.266 481.267 761.784 Q481.267 760.85 481.814 760.109 Q482.362 759.337 483.553 759.337 Q484.874 759.337 485.872 760.238 Q486.871 761.14 487.128 762.428 Q487.966 761.108 487.966 759.143 Q487.966 757.018 486.098 755.343 Q484.23 753.668 481.106 752.863 Q473.602 750.866 470.252 750.093 Q466.871 749.321 465.421 749.321 Q464.069 749.321 463.135 749.675 Q462.201 750.029 461.782 750.641 Q461.331 751.221 461.17 751.768 Q461.009 752.283 461.009 752.863 Q461.009 753.829 461.396 754.924 Q461.782 755.987 462.684 757.275 Q463.554 758.531 465.357 759.723 Q467.161 760.915 469.64 761.72 Q470.381 761.881 470.381 762.589 Q470.349 763.362 469.705 763.362 Q469.157 763.362 468.03 762.944 Q466.871 762.493 465.421 761.591 Q463.972 760.657 462.684 759.465 Q461.364 758.242 460.462 756.47 Q459.56 754.667 459.56 752.734 Q459.56 751.865 459.753 751.027 Q459.914 750.158 460.397 749.127 Q460.88 748.064 461.943 747.131 Q463.006 746.197 464.552 745.617 Q463.811 745.23 463.103 744.715 Q462.394 744.168 461.525 743.33 Q460.623 742.461 460.107 741.269 Q459.56 740.045 459.56 738.693 Q459.56 737.372 459.914 736.084 Q460.236 734.796 461.299 733.701 Q462.33 732.573 463.908 732.573 Z\" fill=\"#000000\" fill-rule=\"nonzero\" fill-opacity=\"1\" /><path clip-path=\"url(#clip190)\" d=\"M504.552 726.222 Q504.23 726.222 503.424 725.385 Q492.603 714.757 472.217 714.757 Q451.766 714.757 441.428 724.966 Q440.236 726.222 439.882 726.222 Q439.238 726.222 439.238 725.578 Q439.238 725.127 440.559 723.549 Q441.879 721.939 444.906 719.524 Q447.934 717.076 451.637 715.272 Q460.623 710.925 472.217 710.925 Q483.36 710.925 492.346 715.079 Q496.114 716.85 499.27 719.33 Q502.426 721.81 503.811 723.453 Q505.196 725.095 505.196 725.578 Q505.196 726.222 504.552 726.222 Z\" fill=\"#000000\" fill-rule=\"nonzero\" fill-opacity=\"1\" /><path clip-path=\"url(#clip190)\" d=\"M839.688 74.202 L839.688 57.9579 L826.32 57.9579 L826.32 51.2334 L847.79 51.2334 L847.79 77.1997 Q843.05 80.5619 837.338 82.3038 Q831.626 84.0052 825.145 84.0052 Q810.967 84.0052 802.946 75.7414 Q794.966 67.437 794.966 52.6512 Q794.966 37.8249 802.946 29.561 Q810.967 21.2567 825.145 21.2567 Q831.059 21.2567 836.366 22.715 Q841.713 24.1733 846.21 27.009 L846.21 35.7184 Q841.673 31.8701 836.569 29.9256 Q831.464 27.9812 825.834 27.9812 Q814.734 27.9812 809.144 34.1791 Q803.594 40.377 803.594 52.6512 Q803.594 64.8849 809.144 71.0828 Q814.734 77.2807 825.834 77.2807 Q830.168 77.2807 833.571 76.5515 Q836.974 75.7819 839.688 74.202 Z\" fill=\"#000000\" fill-rule=\"nonzero\" fill-opacity=\"1\" /><path clip-path=\"url(#clip190)\" d=\"M882.951 30.4117 L871.852 60.51 L894.091 60.51 L882.951 30.4117 M878.333 22.3504 L887.61 22.3504 L910.66 82.8304 L902.153 82.8304 L896.643 67.3155 L869.381 67.3155 L863.872 82.8304 L855.243 82.8304 L878.333 22.3504 Z\" fill=\"#000000\" fill-rule=\"nonzero\" fill-opacity=\"1\" /><path clip-path=\"url(#clip190)\" d=\"M927.673 29.0749 L927.673 51.8005 L937.963 51.8005 Q943.674 51.8005 946.794 48.8434 Q949.913 45.8862 949.913 40.4175 Q949.913 34.9893 946.794 32.0321 Q943.674 29.0749 937.963 29.0749 L927.673 29.0749 M919.491 22.3504 L937.963 22.3504 Q948.13 22.3504 953.316 26.9685 Q958.541 31.546 958.541 40.4175 Q958.541 49.37 953.316 53.9475 Q948.13 58.525 937.963 58.525 L927.673 58.525 L927.673 82.8304 L919.491 82.8304 L919.491 22.3504 Z\" fill=\"#000000\" fill-rule=\"nonzero\" fill-opacity=\"1\" /><path clip-path=\"url(#clip190)\" d=\"M971.099 72.5411 L979.646 72.5411 L979.646 82.8304 L971.099 82.8304 L971.099 72.5411 M971.099 39.9314 L979.646 39.9314 L979.646 50.2207 L971.099 50.2207 L971.099 39.9314 Z\" fill=\"#000000\" fill-rule=\"nonzero\" fill-opacity=\"1\" /><path clip-path=\"url(#clip190)\" d=\"M1048.39 27.9002 Q1039.48 27.9002 1034.21 34.5437 Q1028.99 41.1871 1028.99 52.6512 Q1028.99 64.0748 1034.21 70.7182 Q1039.48 77.3617 1048.39 77.3617 Q1057.3 77.3617 1062.49 70.7182 Q1067.71 64.0748 1067.71 52.6512 Q1067.71 41.1871 1062.49 34.5437 Q1057.3 27.9002 1048.39 27.9002 M1048.39 21.2567 Q1061.11 21.2567 1068.73 29.8041 Q1076.34 38.311 1076.34 52.6512 Q1076.34 66.9509 1068.73 75.4983 Q1061.11 84.0052 1048.39 84.0052 Q1035.63 84.0052 1027.97 75.4983 Q1020.36 66.9914 1020.36 52.6512 Q1020.36 38.311 1027.97 29.8041 Q1035.63 21.2567 1048.39 21.2567 Z\" fill=\"#000000\" fill-rule=\"nonzero\" fill-opacity=\"1\" /><path clip-path=\"url(#clip190)\" d=\"M1121.39 60.1859 Q1121.39 51.9625 1117.98 47.304 Q1114.62 42.605 1108.71 42.605 Q1102.79 42.605 1099.39 47.304 Q1096.03 51.9625 1096.03 60.1859 Q1096.03 68.4092 1099.39 73.1083 Q1102.79 77.7668 1108.71 77.7668 Q1114.62 77.7668 1117.98 73.1083 Q1121.39 68.4092 1121.39 60.1859 M1096.03 44.3468 Q1098.38 40.2959 1101.94 38.3515 Q1105.55 36.3666 1110.53 36.3666 Q1118.8 36.3666 1123.94 42.929 Q1129.12 49.4915 1129.12 60.1859 Q1129.12 70.8803 1123.94 77.4427 Q1118.8 84.0052 1110.53 84.0052 Q1105.55 84.0052 1101.94 82.0608 Q1098.38 80.0758 1096.03 76.0249 L1096.03 82.8304 L1088.53 82.8304 L1088.53 19.7984 L1096.03 19.7984 L1096.03 44.3468 Z\" fill=\"#000000\" fill-rule=\"nonzero\" fill-opacity=\"1\" /><path clip-path=\"url(#clip190)\" d=\"M1141.48 37.4603 L1148.93 37.4603 L1148.93 83.6406 Q1148.93 92.3096 1145.61 96.1984 Q1142.33 100.087 1135 100.087 L1132.16 100.087 L1132.16 93.7679 L1134.15 93.7679 Q1138.4 93.7679 1139.94 91.7829 Q1141.48 89.8385 1141.48 83.6406 L1141.48 37.4603 M1141.48 19.7984 L1148.93 19.7984 L1148.93 29.237 L1141.48 29.237 L1141.48 19.7984 Z\" fill=\"#000000\" fill-rule=\"nonzero\" fill-opacity=\"1\" /><path clip-path=\"url(#clip190)\" d=\"M1203.34 58.282 L1203.34 61.9278 L1169.07 61.9278 Q1169.55 69.6245 1173.68 73.6754 Q1177.86 77.6858 1185.27 77.6858 Q1189.56 77.6858 1193.57 76.6326 Q1197.63 75.5793 1201.6 73.4728 L1201.6 80.5214 Q1197.59 82.2228 1193.37 83.114 Q1189.16 84.0052 1184.82 84.0052 Q1173.97 84.0052 1167.61 77.6858 Q1161.29 71.3664 1161.29 60.591 Q1161.29 49.451 1167.28 42.929 Q1173.32 36.3666 1183.53 36.3666 Q1192.68 36.3666 1197.99 42.2809 Q1203.34 48.1547 1203.34 58.282 M1195.88 56.0945 Q1195.8 49.9776 1192.44 46.3318 Q1189.12 42.686 1183.61 42.686 Q1177.37 42.686 1173.6 46.2103 Q1169.88 49.7346 1169.31 56.135 L1195.88 56.0945 Z\" fill=\"#000000\" fill-rule=\"nonzero\" fill-opacity=\"1\" /><path clip-path=\"url(#clip190)\" d=\"M1248.22 39.2022 L1248.22 46.1698 Q1245.06 44.4279 1241.86 43.5772 Q1238.7 42.686 1235.46 42.686 Q1228.21 42.686 1224.2 47.304 Q1220.19 51.8815 1220.19 60.1859 Q1220.19 68.4902 1224.2 73.1083 Q1228.21 77.6858 1235.46 77.6858 Q1238.7 77.6858 1241.86 76.8351 Q1245.06 75.9439 1248.22 74.202 L1248.22 81.0885 Q1245.1 82.5469 1241.74 83.276 Q1238.42 84.0052 1234.65 84.0052 Q1224.4 84.0052 1218.37 77.5643 Q1212.33 71.1233 1212.33 60.1859 Q1212.33 49.0864 1218.41 42.7265 Q1224.52 36.3666 1235.14 36.3666 Q1238.58 36.3666 1241.86 37.0957 Q1245.14 37.7844 1248.22 39.2022 Z\" fill=\"#000000\" fill-rule=\"nonzero\" fill-opacity=\"1\" /><path clip-path=\"url(#clip190)\" d=\"M1268.56 24.5784 L1268.56 37.4603 L1283.91 37.4603 L1283.91 43.2531 L1268.56 43.2531 L1268.56 67.8826 Q1268.56 73.4323 1270.06 75.0122 Q1271.6 76.592 1276.25 76.592 L1283.91 76.592 L1283.91 82.8304 L1276.25 82.8304 Q1267.63 82.8304 1264.34 79.6302 Q1261.06 76.3895 1261.06 67.8826 L1261.06 43.2531 L1255.59 43.2531 L1255.59 37.4603 L1261.06 37.4603 L1261.06 24.5784 L1268.56 24.5784 Z\" fill=\"#000000\" fill-rule=\"nonzero\" fill-opacity=\"1\" /><path clip-path=\"url(#clip190)\" d=\"M1293.71 37.4603 L1301.17 37.4603 L1301.17 82.8304 L1293.71 82.8304 L1293.71 37.4603 M1293.71 19.7984 L1301.17 19.7984 L1301.17 29.237 L1293.71 29.237 L1293.71 19.7984 Z\" fill=\"#000000\" fill-rule=\"nonzero\" fill-opacity=\"1\" /><path clip-path=\"url(#clip190)\" d=\"M1311.42 37.4603 L1319.31 37.4603 L1333.49 75.5388 L1347.67 37.4603 L1355.57 37.4603 L1338.56 82.8304 L1328.43 82.8304 L1311.42 37.4603 Z\" fill=\"#000000\" fill-rule=\"nonzero\" fill-opacity=\"1\" /><path clip-path=\"url(#clip190)\" d=\"M1404.67 58.282 L1404.67 61.9278 L1370.4 61.9278 Q1370.88 69.6245 1375.01 73.6754 Q1379.19 77.6858 1386.6 77.6858 Q1390.89 77.6858 1394.9 76.6326 Q1398.96 75.5793 1402.93 73.4728 L1402.93 80.5214 Q1398.92 82.2228 1394.7 83.114 Q1390.49 84.0052 1386.15 84.0052 Q1375.3 84.0052 1368.94 77.6858 Q1362.62 71.3664 1362.62 60.591 Q1362.62 49.451 1368.61 42.929 Q1374.65 36.3666 1384.86 36.3666 Q1394.01 36.3666 1399.32 42.2809 Q1404.67 48.1547 1404.67 58.282 M1397.21 56.0945 Q1397.13 49.9776 1393.77 46.3318 Q1390.45 42.686 1384.94 42.686 Q1378.7 42.686 1374.93 46.2103 Q1371.21 49.7346 1370.64 56.135 L1397.21 56.0945 Z\" fill=\"#000000\" fill-rule=\"nonzero\" fill-opacity=\"1\" /><path clip-path=\"url(#clip190)\" d=\"M1479.85 24.3354 L1479.85 32.3157 Q1475.19 30.0877 1471.06 28.9939 Q1466.93 27.9002 1463.08 27.9002 Q1456.4 27.9002 1452.75 30.4928 Q1449.15 33.0853 1449.15 37.8654 Q1449.15 41.8758 1451.54 43.9418 Q1453.97 45.9672 1460.69 47.223 L1465.63 48.2357 Q1474.79 49.9776 1479.12 54.3931 Q1483.5 58.7681 1483.5 66.1407 Q1483.5 74.9312 1477.58 79.4682 Q1471.71 84.0052 1460.33 84.0052 Q1456.03 84.0052 1451.17 83.033 Q1446.35 82.0608 1441.17 80.1568 L1441.17 71.731 Q1446.15 74.5261 1450.93 75.9439 Q1455.71 77.3617 1460.33 77.3617 Q1467.33 77.3617 1471.14 74.6071 Q1474.95 71.8525 1474.95 66.7483 Q1474.95 62.2924 1472.2 59.7808 Q1469.48 57.2692 1463.24 56.0135 L1458.26 55.0412 Q1449.11 53.2183 1445.01 49.3295 Q1440.92 45.4406 1440.92 38.5135 Q1440.92 30.4928 1446.55 25.8747 Q1452.22 21.2567 1462.15 21.2567 Q1466.4 21.2567 1470.82 22.0264 Q1475.23 22.796 1479.85 24.3354 Z\" fill=\"#000000\" fill-rule=\"nonzero\" fill-opacity=\"1\" /><path clip-path=\"url(#clip190)\" d=\"M1503.14 76.0249 L1503.14 100.087 L1495.65 100.087 L1495.65 37.4603 L1503.14 37.4603 L1503.14 44.3468 Q1505.49 40.2959 1509.06 38.3515 Q1512.66 36.3666 1517.65 36.3666 Q1525.91 36.3666 1531.06 42.929 Q1536.24 49.4915 1536.24 60.1859 Q1536.24 70.8803 1531.06 77.4427 Q1525.91 84.0052 1517.65 84.0052 Q1512.66 84.0052 1509.06 82.0608 Q1505.49 80.0758 1503.14 76.0249 M1528.5 60.1859 Q1528.5 51.9625 1525.1 47.304 Q1521.74 42.605 1515.82 42.605 Q1509.91 42.605 1506.51 47.304 Q1503.14 51.9625 1503.14 60.1859 Q1503.14 68.4092 1506.51 73.1083 Q1509.91 77.7668 1515.82 77.7668 Q1521.74 77.7668 1525.1 73.1083 Q1528.5 68.4092 1528.5 60.1859 Z\" fill=\"#000000\" fill-rule=\"nonzero\" fill-opacity=\"1\" /><path clip-path=\"url(#clip190)\" d=\"M1569.22 60.0238 Q1560.18 60.0238 1556.7 62.0898 Q1553.21 64.1558 1553.21 69.1384 Q1553.21 73.1083 1555.81 75.4578 Q1558.44 77.7668 1562.94 77.7668 Q1569.13 77.7668 1572.86 73.3918 Q1576.63 68.9763 1576.63 61.6847 L1576.63 60.0238 L1569.22 60.0238 M1584.08 56.9452 L1584.08 82.8304 L1576.63 82.8304 L1576.63 75.9439 Q1574.08 80.0758 1570.27 82.0608 Q1566.46 84.0052 1560.95 84.0052 Q1553.98 84.0052 1549.85 80.1163 Q1545.76 76.187 1545.76 69.6245 Q1545.76 61.9683 1550.86 58.0794 Q1556.01 54.1905 1566.18 54.1905 L1576.63 54.1905 L1576.63 53.4614 Q1576.63 48.3167 1573.23 45.5216 Q1569.86 42.686 1563.75 42.686 Q1559.86 42.686 1556.17 43.6177 Q1552.48 44.5494 1549.08 46.4128 L1549.08 39.5263 Q1553.17 37.9464 1557.02 37.1767 Q1560.87 36.3666 1564.52 36.3666 Q1574.36 36.3666 1579.22 41.4707 Q1584.08 46.5748 1584.08 56.9452 Z\" fill=\"#000000\" fill-rule=\"nonzero\" fill-opacity=\"1\" /><path clip-path=\"url(#clip190)\" d=\"M1632.09 39.2022 L1632.09 46.1698 Q1628.93 44.4279 1625.73 43.5772 Q1622.57 42.686 1619.32 42.686 Q1612.07 42.686 1608.06 47.304 Q1604.05 51.8815 1604.05 60.1859 Q1604.05 68.4902 1608.06 73.1083 Q1612.07 77.6858 1619.32 77.6858 Q1622.57 77.6858 1625.73 76.8351 Q1628.93 75.9439 1632.09 74.202 L1632.09 81.0885 Q1628.97 82.5469 1625.6 83.276 Q1622.28 84.0052 1618.51 84.0052 Q1608.27 84.0052 1602.23 77.5643 Q1596.19 71.1233 1596.19 60.1859 Q1596.19 49.0864 1602.27 42.7265 Q1608.39 36.3666 1619 36.3666 Q1622.44 36.3666 1625.73 37.0957 Q1629.01 37.7844 1632.09 39.2022 Z\" fill=\"#000000\" fill-rule=\"nonzero\" fill-opacity=\"1\" /><path clip-path=\"url(#clip190)\" d=\"M1683.86 58.282 L1683.86 61.9278 L1649.58 61.9278 Q1650.07 69.6245 1654.2 73.6754 Q1658.38 77.6858 1665.79 77.6858 Q1670.08 77.6858 1674.09 76.6326 Q1678.14 75.5793 1682.11 73.4728 L1682.11 80.5214 Q1678.1 82.2228 1673.89 83.114 Q1669.68 84.0052 1665.34 84.0052 Q1654.49 84.0052 1648.13 77.6858 Q1641.81 71.3664 1641.81 60.591 Q1641.81 49.451 1647.8 42.929 Q1653.84 36.3666 1664.05 36.3666 Q1673.2 36.3666 1678.51 42.2809 Q1683.86 48.1547 1683.86 58.282 M1676.4 56.0945 Q1676.32 49.9776 1672.96 46.3318 Q1669.64 42.686 1664.13 42.686 Q1657.89 42.686 1654.12 46.2103 Q1650.4 49.7346 1649.83 56.135 L1676.4 56.0945 Z\" fill=\"#000000\" fill-rule=\"nonzero\" fill-opacity=\"1\" /><path clip-path=\"url(#clip190)\" d=\"M1775.68 26.5112 Q1775.68 27.044 1775.55 27.3719 Q1775.47 27.6999 1775.14 27.8638 Q1774.86 27.9868 1774.65 28.0278 Q1774.49 28.0688 1773.99 28.1098 Q1771.99 28.2737 1770.31 28.8066 Q1768.63 29.2984 1767.19 30.2822 Q1765.8 31.2659 1765.02 31.9218 Q1764.28 32.5776 1762.97 33.8892 L1761.82 35.0779 L1741 58.9747 Q1740.26 59.7945 1739.81 61.598 L1736.86 73.4439 Q1735.71 78.3626 1735.71 78.7315 Q1735.71 79.4693 1736.12 79.7153 Q1736.57 79.9202 1737.97 80.0432 L1741.16 80.2481 Q1743.05 80.2481 1743.34 80.576 Q1743.5 80.781 1743.5 81.1499 Q1743.5 81.9287 1743.17 82.3386 Q1742.88 82.7075 1742.6 82.7894 Q1742.35 82.8304 1741.9 82.8304 L1731.16 82.5845 L1720.59 82.8304 Q1719.4 82.8304 1719.4 81.8877 Q1719.4 81.2728 1719.48 80.9449 Q1719.6 80.576 1719.97 80.4531 Q1720.34 80.2891 1720.63 80.2891 Q1720.91 80.2481 1721.69 80.2481 Q1723.58 80.2071 1724.52 80.2071 Q1725.5 80.1661 1726.45 79.9202 Q1727.39 79.6743 1727.72 79.5103 Q1728.09 79.3054 1728.5 78.6085 Q1728.95 77.8707 1729.07 77.2969 Q1729.23 76.723 1729.56 75.2884 Q1729.89 74.0177 1731.61 67.0906 Q1733.33 60.1634 1733.33 59.9994 Q1733.33 59.5485 1733.01 58.5648 L1722.68 30.938 Q1722.23 29.7083 1721.86 29.2165 Q1721.49 28.7246 1720.26 28.4377 Q1719.03 28.1098 1716.57 28.1098 Q1715.87 28.1098 1715.54 28.0688 Q1715.22 28.0278 1714.93 27.8228 Q1714.64 27.6179 1714.64 27.167 Q1714.64 26.3882 1714.97 26.0193 Q1715.3 25.6094 1715.54 25.5684 Q1715.83 25.4864 1716.24 25.4864 Q1717.27 25.4864 1720.91 25.6094 Q1724.56 25.7324 1725.63 25.7324 L1736.2 25.4864 Q1737.47 25.4864 1737.47 26.4292 Q1737.47 27.5769 1737.02 27.8638 Q1736.57 28.1098 1735.47 28.1098 Q1730.51 28.1098 1730.51 30.1182 Q1730.51 30.3642 1731 31.5529 L1740.22 56.4743 L1759.69 34.0532 L1759.98 33.7253 Q1760.22 33.3974 1760.43 33.1514 Q1760.63 32.9055 1760.96 32.4546 Q1761.29 32.0037 1761.45 31.6348 Q1761.66 31.2659 1761.82 30.815 Q1761.99 30.3642 1761.99 30.0362 Q1761.99 29.4214 1761.62 29.0115 Q1761.25 28.5606 1760.67 28.3967 Q1760.1 28.2327 1759.69 28.1917 Q1759.28 28.1098 1758.95 28.1098 Q1757.68 28.1098 1757.68 27.085 Q1757.68 26.3472 1758.01 25.9783 Q1758.34 25.5684 1758.58 25.5274 Q1758.87 25.4864 1759.28 25.4864 Q1760.63 25.4864 1763.46 25.6094 Q1766.29 25.7324 1767.68 25.7324 Q1768.83 25.7324 1771.17 25.6094 Q1773.5 25.4864 1774.57 25.4864 Q1775.68 25.4864 1775.68 26.5112 Z\" fill=\"#000000\" fill-rule=\"nonzero\" fill-opacity=\"1\" /><circle clip-path=\"url(#clip192)\" cx=\"1252.94\" cy=\"253.443\" r=\"14.4\" fill=\"#008000\" fill-rule=\"evenodd\" fill-opacity=\"1\" stroke=\"#000000\" stroke-opacity=\"1\" stroke-width=\"3.2\"/>\n",
       "<circle clip-path=\"url(#clip192)\" cx=\"1278.94\" cy=\"331.425\" r=\"14.4\" fill=\"#008000\" fill-rule=\"evenodd\" fill-opacity=\"1\" stroke=\"#000000\" stroke-opacity=\"1\" stroke-width=\"3.2\"/>\n",
       "<circle clip-path=\"url(#clip192)\" cx=\"1304.93\" cy=\"357.42\" r=\"14.4\" fill=\"#008000\" fill-rule=\"evenodd\" fill-opacity=\"1\" stroke=\"#000000\" stroke-opacity=\"1\" stroke-width=\"3.2\"/>\n",
       "<circle clip-path=\"url(#clip192)\" cx=\"1382.92\" cy=\"383.414\" r=\"14.4\" fill=\"#008000\" fill-rule=\"evenodd\" fill-opacity=\"1\" stroke=\"#000000\" stroke-opacity=\"1\" stroke-width=\"3.2\"/>\n",
       "<circle clip-path=\"url(#clip192)\" cx=\"1408.91\" cy=\"409.408\" r=\"14.4\" fill=\"#008000\" fill-rule=\"evenodd\" fill-opacity=\"1\" stroke=\"#000000\" stroke-opacity=\"1\" stroke-width=\"3.2\"/>\n",
       "<circle clip-path=\"url(#clip192)\" cx=\"1434.9\" cy=\"487.39\" r=\"14.4\" fill=\"#008000\" fill-rule=\"evenodd\" fill-opacity=\"1\" stroke=\"#000000\" stroke-opacity=\"1\" stroke-width=\"3.2\"/>\n",
       "<circle clip-path=\"url(#clip192)\" cx=\"1460.9\" cy=\"513.384\" r=\"14.4\" fill=\"#008000\" fill-rule=\"evenodd\" fill-opacity=\"1\" stroke=\"#000000\" stroke-opacity=\"1\" stroke-width=\"3.2\"/>\n",
       "<circle clip-path=\"url(#clip192)\" cx=\"1538.88\" cy=\"539.379\" r=\"14.4\" fill=\"#008000\" fill-rule=\"evenodd\" fill-opacity=\"1\" stroke=\"#000000\" stroke-opacity=\"1\" stroke-width=\"3.2\"/>\n",
       "<circle clip-path=\"url(#clip192)\" cx=\"1616.86\" cy=\"669.349\" r=\"14.4\" fill=\"#008000\" fill-rule=\"evenodd\" fill-opacity=\"1\" stroke=\"#000000\" stroke-opacity=\"1\" stroke-width=\"3.2\"/>\n",
       "<circle clip-path=\"url(#clip192)\" cx=\"1642.86\" cy=\"721.338\" r=\"14.4\" fill=\"#008000\" fill-rule=\"evenodd\" fill-opacity=\"1\" stroke=\"#000000\" stroke-opacity=\"1\" stroke-width=\"3.2\"/>\n",
       "<circle clip-path=\"url(#clip192)\" cx=\"1668.85\" cy=\"799.32\" r=\"14.4\" fill=\"#008000\" fill-rule=\"evenodd\" fill-opacity=\"1\" stroke=\"#000000\" stroke-opacity=\"1\" stroke-width=\"3.2\"/>\n",
       "<circle clip-path=\"url(#clip192)\" cx=\"1720.84\" cy=\"851.308\" r=\"14.4\" fill=\"#008000\" fill-rule=\"evenodd\" fill-opacity=\"1\" stroke=\"#000000\" stroke-opacity=\"1\" stroke-width=\"3.2\"/>\n",
       "<circle clip-path=\"url(#clip192)\" cx=\"1746.83\" cy=\"929.291\" r=\"14.4\" fill=\"#008000\" fill-rule=\"evenodd\" fill-opacity=\"1\" stroke=\"#000000\" stroke-opacity=\"1\" stroke-width=\"3.2\"/>\n",
       "<circle clip-path=\"url(#clip192)\" cx=\"1772.83\" cy=\"1033.27\" r=\"14.4\" fill=\"#008000\" fill-rule=\"evenodd\" fill-opacity=\"1\" stroke=\"#000000\" stroke-opacity=\"1\" stroke-width=\"3.2\"/>\n",
       "<circle clip-path=\"url(#clip192)\" cx=\"1824.82\" cy=\"1137.24\" r=\"14.4\" fill=\"#008000\" fill-rule=\"evenodd\" fill-opacity=\"1\" stroke=\"#000000\" stroke-opacity=\"1\" stroke-width=\"3.2\"/>\n",
       "<circle clip-path=\"url(#clip192)\" cx=\"1850.81\" cy=\"1215.23\" r=\"14.4\" fill=\"#008000\" fill-rule=\"evenodd\" fill-opacity=\"1\" stroke=\"#000000\" stroke-opacity=\"1\" stroke-width=\"3.2\"/>\n",
       "<polyline clip-path=\"url(#clip192)\" style=\"stroke:#ff0000; stroke-linecap:round; stroke-linejoin:round; stroke-width:4; stroke-opacity:1; fill:none\" points=\"1850.81,2462.95 1850.81,1215.23 1811.82,1078.76 1792.32,1020.27 1746.83,903.297 1720.84,851.308 1616.86,669.349 1538.88,539.379 1252.94,253.443 -410.682,253.443 \"/>\n",
       "<line clip-path=\"url(#clip192)\" x1=\"1850.81\" y1=\"1215.23\" x2=\"1830.81\" y2=\"1195.23\" style=\"stroke:#ff0000; stroke-width:4; stroke-opacity:1\"/>\n",
       "<line clip-path=\"url(#clip192)\" x1=\"1850.81\" y1=\"1215.23\" x2=\"1830.81\" y2=\"1235.23\" style=\"stroke:#ff0000; stroke-width:4; stroke-opacity:1\"/>\n",
       "<line clip-path=\"url(#clip192)\" x1=\"1850.81\" y1=\"1215.23\" x2=\"1870.81\" y2=\"1235.23\" style=\"stroke:#ff0000; stroke-width:4; stroke-opacity:1\"/>\n",
       "<line clip-path=\"url(#clip192)\" x1=\"1850.81\" y1=\"1215.23\" x2=\"1870.81\" y2=\"1195.23\" style=\"stroke:#ff0000; stroke-width:4; stroke-opacity:1\"/>\n",
       "<line clip-path=\"url(#clip192)\" x1=\"1811.82\" y1=\"1078.76\" x2=\"1791.82\" y2=\"1058.76\" style=\"stroke:#ff0000; stroke-width:4; stroke-opacity:1\"/>\n",
       "<line clip-path=\"url(#clip192)\" x1=\"1811.82\" y1=\"1078.76\" x2=\"1791.82\" y2=\"1098.76\" style=\"stroke:#ff0000; stroke-width:4; stroke-opacity:1\"/>\n",
       "<line clip-path=\"url(#clip192)\" x1=\"1811.82\" y1=\"1078.76\" x2=\"1831.82\" y2=\"1098.76\" style=\"stroke:#ff0000; stroke-width:4; stroke-opacity:1\"/>\n",
       "<line clip-path=\"url(#clip192)\" x1=\"1811.82\" y1=\"1078.76\" x2=\"1831.82\" y2=\"1058.76\" style=\"stroke:#ff0000; stroke-width:4; stroke-opacity:1\"/>\n",
       "<line clip-path=\"url(#clip192)\" x1=\"1792.32\" y1=\"1020.27\" x2=\"1772.32\" y2=\"1000.27\" style=\"stroke:#ff0000; stroke-width:4; stroke-opacity:1\"/>\n",
       "<line clip-path=\"url(#clip192)\" x1=\"1792.32\" y1=\"1020.27\" x2=\"1772.32\" y2=\"1040.27\" style=\"stroke:#ff0000; stroke-width:4; stroke-opacity:1\"/>\n",
       "<line clip-path=\"url(#clip192)\" x1=\"1792.32\" y1=\"1020.27\" x2=\"1812.32\" y2=\"1040.27\" style=\"stroke:#ff0000; stroke-width:4; stroke-opacity:1\"/>\n",
       "<line clip-path=\"url(#clip192)\" x1=\"1792.32\" y1=\"1020.27\" x2=\"1812.32\" y2=\"1000.27\" style=\"stroke:#ff0000; stroke-width:4; stroke-opacity:1\"/>\n",
       "<line clip-path=\"url(#clip192)\" x1=\"1746.83\" y1=\"903.297\" x2=\"1726.83\" y2=\"883.297\" style=\"stroke:#ff0000; stroke-width:4; stroke-opacity:1\"/>\n",
       "<line clip-path=\"url(#clip192)\" x1=\"1746.83\" y1=\"903.297\" x2=\"1726.83\" y2=\"923.297\" style=\"stroke:#ff0000; stroke-width:4; stroke-opacity:1\"/>\n",
       "<line clip-path=\"url(#clip192)\" x1=\"1746.83\" y1=\"903.297\" x2=\"1766.83\" y2=\"923.297\" style=\"stroke:#ff0000; stroke-width:4; stroke-opacity:1\"/>\n",
       "<line clip-path=\"url(#clip192)\" x1=\"1746.83\" y1=\"903.297\" x2=\"1766.83\" y2=\"883.297\" style=\"stroke:#ff0000; stroke-width:4; stroke-opacity:1\"/>\n",
       "<line clip-path=\"url(#clip192)\" x1=\"1720.84\" y1=\"851.308\" x2=\"1700.84\" y2=\"831.308\" style=\"stroke:#ff0000; stroke-width:4; stroke-opacity:1\"/>\n",
       "<line clip-path=\"url(#clip192)\" x1=\"1720.84\" y1=\"851.308\" x2=\"1700.84\" y2=\"871.308\" style=\"stroke:#ff0000; stroke-width:4; stroke-opacity:1\"/>\n",
       "<line clip-path=\"url(#clip192)\" x1=\"1720.84\" y1=\"851.308\" x2=\"1740.84\" y2=\"871.308\" style=\"stroke:#ff0000; stroke-width:4; stroke-opacity:1\"/>\n",
       "<line clip-path=\"url(#clip192)\" x1=\"1720.84\" y1=\"851.308\" x2=\"1740.84\" y2=\"831.308\" style=\"stroke:#ff0000; stroke-width:4; stroke-opacity:1\"/>\n",
       "<line clip-path=\"url(#clip192)\" x1=\"1616.86\" y1=\"669.349\" x2=\"1596.86\" y2=\"649.349\" style=\"stroke:#ff0000; stroke-width:4; stroke-opacity:1\"/>\n",
       "<line clip-path=\"url(#clip192)\" x1=\"1616.86\" y1=\"669.349\" x2=\"1596.86\" y2=\"689.349\" style=\"stroke:#ff0000; stroke-width:4; stroke-opacity:1\"/>\n",
       "<line clip-path=\"url(#clip192)\" x1=\"1616.86\" y1=\"669.349\" x2=\"1636.86\" y2=\"689.349\" style=\"stroke:#ff0000; stroke-width:4; stroke-opacity:1\"/>\n",
       "<line clip-path=\"url(#clip192)\" x1=\"1616.86\" y1=\"669.349\" x2=\"1636.86\" y2=\"649.349\" style=\"stroke:#ff0000; stroke-width:4; stroke-opacity:1\"/>\n",
       "<line clip-path=\"url(#clip192)\" x1=\"1538.88\" y1=\"539.379\" x2=\"1518.88\" y2=\"519.379\" style=\"stroke:#ff0000; stroke-width:4; stroke-opacity:1\"/>\n",
       "<line clip-path=\"url(#clip192)\" x1=\"1538.88\" y1=\"539.379\" x2=\"1518.88\" y2=\"559.379\" style=\"stroke:#ff0000; stroke-width:4; stroke-opacity:1\"/>\n",
       "<line clip-path=\"url(#clip192)\" x1=\"1538.88\" y1=\"539.379\" x2=\"1558.88\" y2=\"559.379\" style=\"stroke:#ff0000; stroke-width:4; stroke-opacity:1\"/>\n",
       "<line clip-path=\"url(#clip192)\" x1=\"1538.88\" y1=\"539.379\" x2=\"1558.88\" y2=\"519.379\" style=\"stroke:#ff0000; stroke-width:4; stroke-opacity:1\"/>\n",
       "<line clip-path=\"url(#clip192)\" x1=\"1252.94\" y1=\"253.443\" x2=\"1232.94\" y2=\"233.443\" style=\"stroke:#ff0000; stroke-width:4; stroke-opacity:1\"/>\n",
       "<line clip-path=\"url(#clip192)\" x1=\"1252.94\" y1=\"253.443\" x2=\"1232.94\" y2=\"273.443\" style=\"stroke:#ff0000; stroke-width:4; stroke-opacity:1\"/>\n",
       "<line clip-path=\"url(#clip192)\" x1=\"1252.94\" y1=\"253.443\" x2=\"1272.94\" y2=\"273.443\" style=\"stroke:#ff0000; stroke-width:4; stroke-opacity:1\"/>\n",
       "<line clip-path=\"url(#clip192)\" x1=\"1252.94\" y1=\"253.443\" x2=\"1272.94\" y2=\"233.443\" style=\"stroke:#ff0000; stroke-width:4; stroke-opacity:1\"/>\n",
       "<path clip-path=\"url(#clip190)\" d=\"M1569.68 322.316 L1857.2 322.316 L1857.2 166.796 L1569.68 166.796  Z\" fill=\"#ffffff\" fill-rule=\"evenodd\" fill-opacity=\"1\"/>\n",
       "<polyline clip-path=\"url(#clip190)\" style=\"stroke:#000000; stroke-linecap:round; stroke-linejoin:round; stroke-width:4; stroke-opacity:1; fill:none\" points=\"1569.68,322.316 1857.2,322.316 1857.2,166.796 1569.68,166.796 1569.68,322.316 \"/>\n",
       "<circle clip-path=\"url(#clip190)\" cx=\"1665.13\" cy=\"218.636\" r=\"20.48\" fill=\"#008000\" fill-rule=\"evenodd\" fill-opacity=\"1\" stroke=\"#000000\" stroke-opacity=\"1\" stroke-width=\"4.55111\"/>\n",
       "<path clip-path=\"url(#clip190)\" d=\"M1795.46 195.865 Q1795.46 196.169 1795.39 196.357 Q1795.34 196.544 1795.15 196.638 Q1794.99 196.708 1794.87 196.731 Q1794.78 196.755 1794.5 196.778 Q1793.35 196.872 1792.39 197.176 Q1791.43 197.457 1790.61 198.02 Q1789.81 198.582 1789.37 198.956 Q1788.95 199.331 1788.2 200.081 L1787.54 200.76 L1775.64 214.415 Q1775.22 214.884 1774.96 215.914 L1773.28 222.683 Q1772.62 225.494 1772.62 225.705 Q1772.62 226.126 1772.85 226.267 Q1773.11 226.384 1773.91 226.454 L1775.74 226.572 Q1776.81 226.572 1776.98 226.759 Q1777.07 226.876 1777.07 227.087 Q1777.07 227.532 1776.88 227.766 Q1776.72 227.977 1776.56 228.024 Q1776.42 228.047 1776.16 228.047 L1770.02 227.907 L1763.98 228.047 Q1763.3 228.047 1763.3 227.508 Q1763.3 227.157 1763.35 226.97 Q1763.42 226.759 1763.63 226.689 Q1763.84 226.595 1764 226.595 Q1764.17 226.572 1764.61 226.572 Q1765.69 226.548 1766.23 226.548 Q1766.79 226.525 1767.33 226.384 Q1767.87 226.244 1768.05 226.15 Q1768.26 226.033 1768.5 225.635 Q1768.76 225.213 1768.83 224.885 Q1768.92 224.557 1769.11 223.737 Q1769.29 223.011 1770.28 219.053 Q1771.26 215.095 1771.26 215.001 Q1771.26 214.743 1771.07 214.181 L1765.17 198.394 Q1764.91 197.692 1764.7 197.411 Q1764.49 197.129 1763.79 196.966 Q1763.09 196.778 1761.68 196.778 Q1761.28 196.778 1761.1 196.755 Q1760.91 196.731 1760.75 196.614 Q1760.58 196.497 1760.58 196.239 Q1760.58 195.794 1760.77 195.584 Q1760.96 195.349 1761.1 195.326 Q1761.26 195.279 1761.5 195.279 Q1762.08 195.279 1764.17 195.349 Q1766.25 195.42 1766.86 195.42 L1772.9 195.279 Q1773.63 195.279 1773.63 195.818 Q1773.63 196.474 1773.37 196.638 Q1773.11 196.778 1772.48 196.778 Q1769.65 196.778 1769.65 197.926 Q1769.65 198.066 1769.93 198.746 L1775.2 212.986 L1786.32 200.174 L1786.49 199.987 Q1786.63 199.8 1786.74 199.659 Q1786.86 199.519 1787.05 199.261 Q1787.24 199.003 1787.33 198.792 Q1787.45 198.582 1787.54 198.324 Q1787.63 198.066 1787.63 197.879 Q1787.63 197.528 1787.42 197.293 Q1787.21 197.036 1786.88 196.942 Q1786.56 196.848 1786.32 196.825 Q1786.09 196.778 1785.9 196.778 Q1785.18 196.778 1785.18 196.193 Q1785.18 195.771 1785.36 195.56 Q1785.55 195.326 1785.69 195.303 Q1785.85 195.279 1786.09 195.279 Q1786.86 195.279 1788.48 195.349 Q1790.09 195.42 1790.89 195.42 Q1791.55 195.42 1792.88 195.349 Q1794.22 195.279 1794.83 195.279 Q1795.46 195.279 1795.46 195.865 Z\" fill=\"#000000\" fill-rule=\"nonzero\" fill-opacity=\"1\" /><path clip-path=\"url(#clip190)\" d=\"M1828.5 219.117 Q1828.5 219.789 1827.93 219.789 Q1826.07 219.855 1825.32 220.478 Q1824.58 221.084 1824.3 222.265 L1819.61 240.972 Q1819.45 241.563 1819.35 241.628 Q1819.25 241.677 1819.07 241.677 Q1818.84 241.677 1818.71 241.563 Q1818.6 241.448 1818.43 241.038 L1810.07 221.265 Q1810 221.134 1809.92 220.953 Q1809.84 220.773 1809.78 220.658 L1805.33 238.382 Q1805.2 238.89 1805.2 239.152 Q1805.2 239.792 1805.64 240.202 Q1806.1 240.595 1807.41 240.645 Q1808.09 240.645 1808.09 241.005 Q1808.09 241.677 1807.48 241.677 Q1806.92 241.677 1805.76 241.628 Q1804.59 241.579 1804.02 241.579 Q1803.46 241.579 1802.33 241.628 Q1801.2 241.677 1800.66 241.677 Q1800.23 241.677 1800.23 241.3 Q1800.23 241.005 1800.35 240.858 Q1800.46 240.694 1800.56 240.677 Q1800.66 240.645 1800.81 240.645 Q1801.79 240.612 1802.46 240.415 Q1803.13 240.218 1803.51 239.841 Q1803.91 239.464 1804.09 239.087 Q1804.28 238.693 1804.43 238.12 L1808.92 220.084 Q1808.92 219.789 1806.64 219.789 Q1806.25 219.789 1806.09 219.773 Q1805.94 219.756 1805.82 219.674 Q1805.71 219.592 1805.71 219.412 Q1805.71 218.953 1805.91 218.855 Q1806.1 218.74 1806.68 218.74 L1811.19 218.74 Q1811.76 218.74 1811.91 218.838 Q1812.05 218.92 1812.25 219.379 L1819.68 236.906 L1823.43 221.97 Q1823.53 221.675 1823.53 221.265 Q1823.53 220.609 1823.04 220.215 Q1822.56 219.806 1821.25 219.789 Q1820.65 219.789 1820.65 219.412 Q1820.65 219.101 1820.76 218.953 Q1820.89 218.789 1820.99 218.773 Q1821.1 218.74 1821.25 218.74 Q1821.81 218.74 1822.96 218.789 Q1824.1 218.838 1824.68 218.838 Q1825.24 218.838 1826.37 218.789 Q1827.52 218.74 1828.07 218.74 Q1828.27 218.74 1828.37 218.838 Q1828.48 218.92 1828.5 219.019 L1828.5 219.117 Z\" fill=\"#000000\" fill-rule=\"nonzero\" fill-opacity=\"1\" /><polyline clip-path=\"url(#clip190)\" style=\"stroke:#ff0000; stroke-linecap:round; stroke-linejoin:round; stroke-width:4; stroke-opacity:1; fill:none\" points=\"1593.54,270.476 1736.72,270.476 \"/>\n",
       "<line clip-path=\"url(#clip190)\" x1=\"1665.13\" y1=\"270.476\" x2=\"1643.04\" y2=\"248.381\" style=\"stroke:#ff0000; stroke-width:4; stroke-opacity:1\"/>\n",
       "<line clip-path=\"url(#clip190)\" x1=\"1665.13\" y1=\"270.476\" x2=\"1643.04\" y2=\"292.571\" style=\"stroke:#ff0000; stroke-width:4; stroke-opacity:1\"/>\n",
       "<line clip-path=\"url(#clip190)\" x1=\"1665.13\" y1=\"270.476\" x2=\"1687.23\" y2=\"292.571\" style=\"stroke:#ff0000; stroke-width:4; stroke-opacity:1\"/>\n",
       "<line clip-path=\"url(#clip190)\" x1=\"1665.13\" y1=\"270.476\" x2=\"1687.23\" y2=\"248.381\" style=\"stroke:#ff0000; stroke-width:4; stroke-opacity:1\"/>\n",
       "<path clip-path=\"url(#clip190)\" d=\"M1793.82 253.95 Q1793.82 254.91 1793.02 254.91 Q1791.62 254.957 1790.66 255.238 Q1789.7 255.495 1789.13 256.011 Q1788.59 256.526 1788.29 257.088 Q1788.01 257.627 1787.82 258.447 L1783.56 275.475 Q1782.34 280.276 1778.41 283.766 Q1774.47 287.233 1770 287.233 Q1767.44 287.233 1765.31 286.179 Q1763.2 285.125 1761.89 282.993 Q1760.58 280.862 1760.58 278.028 Q1760.58 276.669 1760.93 275.241 L1763.84 263.389 L1764.91 259.173 Q1765.71 256.058 1765.71 255.777 Q1765.71 255.331 1765.43 255.214 Q1765.17 255.074 1764.42 255.004 L1762.6 254.91 Q1762.03 254.91 1761.8 254.886 Q1761.59 254.863 1761.42 254.746 Q1761.26 254.629 1761.26 254.371 Q1761.26 254.043 1761.33 253.832 Q1761.42 253.598 1761.59 253.528 Q1761.75 253.458 1761.87 253.434 Q1761.99 253.411 1762.17 253.411 L1768.36 253.551 L1774.49 253.411 Q1775.17 253.411 1775.17 253.95 Q1775.17 254.629 1774.87 254.769 Q1774.56 254.91 1773.53 254.91 Q1771.78 254.91 1770.98 255.144 Q1770.21 255.355 1769.97 255.73 Q1769.76 256.081 1769.51 257.112 L1764.84 275.779 Q1764.61 276.716 1764.47 277.653 Q1764.35 278.567 1764.35 279.035 L1764.33 279.503 Q1764.33 282.478 1765.97 284.118 Q1767.63 285.757 1770.18 285.757 Q1773.93 285.757 1777.42 282.783 Q1780.94 279.808 1782.13 275.147 L1786.44 258.025 Q1786.58 257.603 1786.58 257.018 Q1786.58 256.081 1785.88 255.519 Q1785.2 254.933 1783.32 254.91 Q1782.46 254.91 1782.46 254.371 Q1782.46 253.926 1782.62 253.715 Q1782.81 253.481 1782.95 253.458 Q1783.11 253.411 1783.32 253.411 Q1784.12 253.411 1785.81 253.481 Q1787.49 253.551 1788.31 253.551 Q1789.13 253.551 1790.77 253.481 Q1792.41 253.411 1793.21 253.411 Q1793.49 253.411 1793.63 253.551 Q1793.79 253.668 1793.82 253.809 L1793.82 253.95 Z\" fill=\"#000000\" fill-rule=\"nonzero\" fill-opacity=\"1\" /></svg>\n"
      ],
      "text/html": [
       "<?xml version=\"1.0\" encoding=\"utf-8\"?>\n",
       "<svg xmlns=\"http://www.w3.org/2000/svg\" xmlns:xlink=\"http://www.w3.org/1999/xlink\" width=\"600\" height=\"400\" viewBox=\"0 0 2400 1600\">\n",
       "<defs>\n",
       "  <clipPath id=\"clip240\">\n",
       "    <rect x=\"0\" y=\"0\" width=\"2400\" height=\"1600\"/>\n",
       "  </clipPath>\n",
       "</defs>\n",
       "<path clip-path=\"url(#clip240)\" d=\"M0 1600 L2400 1600 L2400 8.88178e-14 L0 8.88178e-14  Z\" fill=\"#ffffff\" fill-rule=\"evenodd\" fill-opacity=\"1\"/>\n",
       "<defs>\n",
       "  <clipPath id=\"clip241\">\n",
       "    <rect x=\"480\" y=\"0\" width=\"1681\" height=\"1600\"/>\n",
       "  </clipPath>\n",
       "</defs>\n",
       "<path clip-path=\"url(#clip240)\" d=\"M629.085 1423.18 L1928.79 1423.18 L1928.79 123.472 L629.085 123.472  Z\" fill=\"#ffffff\" fill-rule=\"evenodd\" fill-opacity=\"1\"/>\n",
       "<defs>\n",
       "  <clipPath id=\"clip242\">\n",
       "    <rect x=\"629\" y=\"123\" width=\"1301\" height=\"1301\"/>\n",
       "  </clipPath>\n",
       "</defs>\n",
       "<polyline clip-path=\"url(#clip242)\" style=\"stroke:#000000; stroke-linecap:round; stroke-linejoin:round; stroke-width:2; stroke-opacity:0.1; fill:none\" points=\"629.085,1423.18 629.085,123.472 \"/>\n",
       "<polyline clip-path=\"url(#clip242)\" style=\"stroke:#000000; stroke-linecap:round; stroke-linejoin:round; stroke-width:2; stroke-opacity:0.1; fill:none\" points=\"889.026,1423.18 889.026,123.472 \"/>\n",
       "<polyline clip-path=\"url(#clip242)\" style=\"stroke:#000000; stroke-linecap:round; stroke-linejoin:round; stroke-width:2; stroke-opacity:0.1; fill:none\" points=\"1148.97,1423.18 1148.97,123.472 \"/>\n",
       "<polyline clip-path=\"url(#clip242)\" style=\"stroke:#000000; stroke-linecap:round; stroke-linejoin:round; stroke-width:2; stroke-opacity:0.1; fill:none\" points=\"1408.91,1423.18 1408.91,123.472 \"/>\n",
       "<polyline clip-path=\"url(#clip242)\" style=\"stroke:#000000; stroke-linecap:round; stroke-linejoin:round; stroke-width:2; stroke-opacity:0.1; fill:none\" points=\"1668.85,1423.18 1668.85,123.472 \"/>\n",
       "<polyline clip-path=\"url(#clip242)\" style=\"stroke:#000000; stroke-linecap:round; stroke-linejoin:round; stroke-width:2; stroke-opacity:0.1; fill:none\" points=\"1928.79,1423.18 1928.79,123.472 \"/>\n",
       "<polyline clip-path=\"url(#clip242)\" style=\"stroke:#000000; stroke-linecap:round; stroke-linejoin:round; stroke-width:2; stroke-opacity:0.1; fill:none\" points=\"629.085,1423.18 1928.79,1423.18 \"/>\n",
       "<polyline clip-path=\"url(#clip242)\" style=\"stroke:#000000; stroke-linecap:round; stroke-linejoin:round; stroke-width:2; stroke-opacity:0.1; fill:none\" points=\"629.085,1163.24 1928.79,1163.24 \"/>\n",
       "<polyline clip-path=\"url(#clip242)\" style=\"stroke:#000000; stroke-linecap:round; stroke-linejoin:round; stroke-width:2; stroke-opacity:0.1; fill:none\" points=\"629.085,903.297 1928.79,903.297 \"/>\n",
       "<polyline clip-path=\"url(#clip242)\" style=\"stroke:#000000; stroke-linecap:round; stroke-linejoin:round; stroke-width:2; stroke-opacity:0.1; fill:none\" points=\"629.085,643.355 1928.79,643.355 \"/>\n",
       "<polyline clip-path=\"url(#clip242)\" style=\"stroke:#000000; stroke-linecap:round; stroke-linejoin:round; stroke-width:2; stroke-opacity:0.1; fill:none\" points=\"629.085,383.414 1928.79,383.414 \"/>\n",
       "<polyline clip-path=\"url(#clip242)\" style=\"stroke:#000000; stroke-linecap:round; stroke-linejoin:round; stroke-width:2; stroke-opacity:0.1; fill:none\" points=\"629.085,123.472 1928.79,123.472 \"/>\n",
       "<polyline clip-path=\"url(#clip240)\" style=\"stroke:#000000; stroke-linecap:round; stroke-linejoin:round; stroke-width:4; stroke-opacity:1; fill:none\" points=\"629.085,1423.18 1928.79,1423.18 \"/>\n",
       "<polyline clip-path=\"url(#clip240)\" style=\"stroke:#000000; stroke-linecap:round; stroke-linejoin:round; stroke-width:4; stroke-opacity:1; fill:none\" points=\"629.085,1423.18 629.085,1404.28 \"/>\n",
       "<polyline clip-path=\"url(#clip240)\" style=\"stroke:#000000; stroke-linecap:round; stroke-linejoin:round; stroke-width:4; stroke-opacity:1; fill:none\" points=\"889.026,1423.18 889.026,1404.28 \"/>\n",
       "<polyline clip-path=\"url(#clip240)\" style=\"stroke:#000000; stroke-linecap:round; stroke-linejoin:round; stroke-width:4; stroke-opacity:1; fill:none\" points=\"1148.97,1423.18 1148.97,1404.28 \"/>\n",
       "<polyline clip-path=\"url(#clip240)\" style=\"stroke:#000000; stroke-linecap:round; stroke-linejoin:round; stroke-width:4; stroke-opacity:1; fill:none\" points=\"1408.91,1423.18 1408.91,1404.28 \"/>\n",
       "<polyline clip-path=\"url(#clip240)\" style=\"stroke:#000000; stroke-linecap:round; stroke-linejoin:round; stroke-width:4; stroke-opacity:1; fill:none\" points=\"1668.85,1423.18 1668.85,1404.28 \"/>\n",
       "<polyline clip-path=\"url(#clip240)\" style=\"stroke:#000000; stroke-linecap:round; stroke-linejoin:round; stroke-width:4; stroke-opacity:1; fill:none\" points=\"1928.79,1423.18 1928.79,1404.28 \"/>\n",
       "<path clip-path=\"url(#clip240)\" d=\"M617.256 1455.09 L605.45 1473.54 L617.256 1473.54 L617.256 1455.09 M616.029 1451.02 L621.909 1451.02 L621.909 1473.54 L626.839 1473.54 L626.839 1477.43 L621.909 1477.43 L621.909 1485.58 L617.256 1485.58 L617.256 1477.43 L601.654 1477.43 L601.654 1472.92 L616.029 1451.02 Z\" fill=\"#000000\" fill-rule=\"nonzero\" fill-opacity=\"1\" /><path clip-path=\"url(#clip240)\" d=\"M644.571 1454.1 Q640.96 1454.1 639.131 1457.66 Q637.325 1461.2 637.325 1468.33 Q637.325 1475.44 639.131 1479.01 Q640.96 1482.55 644.571 1482.55 Q648.205 1482.55 650.01 1479.01 Q651.839 1475.44 651.839 1468.33 Q651.839 1461.2 650.01 1457.66 Q648.205 1454.1 644.571 1454.1 M644.571 1450.39 Q650.381 1450.39 653.436 1455 Q656.515 1459.58 656.515 1468.33 Q656.515 1477.06 653.436 1481.67 Q650.381 1486.25 644.571 1486.25 Q638.76 1486.25 635.682 1481.67 Q632.626 1477.06 632.626 1468.33 Q632.626 1459.58 635.682 1455 Q638.76 1450.39 644.571 1450.39 Z\" fill=\"#000000\" fill-rule=\"nonzero\" fill-opacity=\"1\" /><path clip-path=\"url(#clip240)\" d=\"M863.725 1451.02 L882.082 1451.02 L882.082 1454.96 L868.008 1454.96 L868.008 1463.43 Q869.026 1463.08 870.045 1462.92 Q871.063 1462.73 872.082 1462.73 Q877.869 1462.73 881.248 1465.9 Q884.628 1469.08 884.628 1474.49 Q884.628 1480.07 881.156 1483.17 Q877.684 1486.25 871.364 1486.25 Q869.188 1486.25 866.92 1485.88 Q864.674 1485.51 862.267 1484.77 L862.267 1480.07 Q864.35 1481.2 866.573 1481.76 Q868.795 1482.32 871.272 1482.32 Q875.276 1482.32 877.614 1480.21 Q879.952 1478.1 879.952 1474.49 Q879.952 1470.88 877.614 1468.77 Q875.276 1466.67 871.272 1466.67 Q869.397 1466.67 867.522 1467.08 Q865.67 1467.5 863.725 1468.38 L863.725 1451.02 Z\" fill=\"#000000\" fill-rule=\"nonzero\" fill-opacity=\"1\" /><path clip-path=\"url(#clip240)\" d=\"M903.841 1454.1 Q900.23 1454.1 898.401 1457.66 Q896.596 1461.2 896.596 1468.33 Q896.596 1475.44 898.401 1479.01 Q900.23 1482.55 903.841 1482.55 Q907.475 1482.55 909.281 1479.01 Q911.109 1475.44 911.109 1468.33 Q911.109 1461.2 909.281 1457.66 Q907.475 1454.1 903.841 1454.1 M903.841 1450.39 Q909.651 1450.39 912.707 1455 Q915.785 1459.58 915.785 1468.33 Q915.785 1477.06 912.707 1481.67 Q909.651 1486.25 903.841 1486.25 Q898.031 1486.25 894.952 1481.67 Q891.896 1477.06 891.896 1468.33 Q891.896 1459.58 894.952 1455 Q898.031 1450.39 903.841 1450.39 Z\" fill=\"#000000\" fill-rule=\"nonzero\" fill-opacity=\"1\" /><path clip-path=\"url(#clip240)\" d=\"M1134.37 1466.44 Q1131.22 1466.44 1129.37 1468.59 Q1127.54 1470.74 1127.54 1474.49 Q1127.54 1478.22 1129.37 1480.39 Q1131.22 1482.55 1134.37 1482.55 Q1137.52 1482.55 1139.35 1480.39 Q1141.2 1478.22 1141.2 1474.49 Q1141.2 1470.74 1139.35 1468.59 Q1137.52 1466.44 1134.37 1466.44 M1143.66 1451.78 L1143.66 1456.04 Q1141.9 1455.21 1140.09 1454.77 Q1138.31 1454.33 1136.55 1454.33 Q1131.92 1454.33 1129.47 1457.45 Q1127.03 1460.58 1126.69 1466.9 Q1128.05 1464.89 1130.11 1463.82 Q1132.17 1462.73 1134.65 1462.73 Q1139.86 1462.73 1142.87 1465.9 Q1145.9 1469.05 1145.9 1474.49 Q1145.9 1479.82 1142.75 1483.03 Q1139.6 1486.25 1134.37 1486.25 Q1128.38 1486.25 1125.21 1481.67 Q1122.03 1477.06 1122.03 1468.33 Q1122.03 1460.14 1125.92 1455.28 Q1129.81 1450.39 1136.36 1450.39 Q1138.12 1450.39 1139.91 1450.74 Q1141.71 1451.09 1143.66 1451.78 Z\" fill=\"#000000\" fill-rule=\"nonzero\" fill-opacity=\"1\" /><path clip-path=\"url(#clip240)\" d=\"M1163.96 1454.1 Q1160.34 1454.1 1158.52 1457.66 Q1156.71 1461.2 1156.71 1468.33 Q1156.71 1475.44 1158.52 1479.01 Q1160.34 1482.55 1163.96 1482.55 Q1167.59 1482.55 1169.4 1479.01 Q1171.22 1475.44 1171.22 1468.33 Q1171.22 1461.2 1169.4 1457.66 Q1167.59 1454.1 1163.96 1454.1 M1163.96 1450.39 Q1169.77 1450.39 1172.82 1455 Q1175.9 1459.58 1175.9 1468.33 Q1175.9 1477.06 1172.82 1481.67 Q1169.77 1486.25 1163.96 1486.25 Q1158.15 1486.25 1155.07 1481.67 Q1152.01 1477.06 1152.01 1468.33 Q1152.01 1459.58 1155.07 1455 Q1158.15 1450.39 1163.96 1450.39 Z\" fill=\"#000000\" fill-rule=\"nonzero\" fill-opacity=\"1\" /><path clip-path=\"url(#clip240)\" d=\"M1382.27 1451.02 L1404.49 1451.02 L1404.49 1453.01 L1391.94 1485.58 L1387.06 1485.58 L1398.86 1454.96 L1382.27 1454.96 L1382.27 1451.02 Z\" fill=\"#000000\" fill-rule=\"nonzero\" fill-opacity=\"1\" /><path clip-path=\"url(#clip240)\" d=\"M1423.61 1454.1 Q1420 1454.1 1418.17 1457.66 Q1416.36 1461.2 1416.36 1468.33 Q1416.36 1475.44 1418.17 1479.01 Q1420 1482.55 1423.61 1482.55 Q1427.24 1482.55 1429.05 1479.01 Q1430.88 1475.44 1430.88 1468.33 Q1430.88 1461.2 1429.05 1457.66 Q1427.24 1454.1 1423.61 1454.1 M1423.61 1450.39 Q1429.42 1450.39 1432.47 1455 Q1435.55 1459.58 1435.55 1468.33 Q1435.55 1477.06 1432.47 1481.67 Q1429.42 1486.25 1423.61 1486.25 Q1417.8 1486.25 1414.72 1481.67 Q1411.66 1477.06 1411.66 1468.33 Q1411.66 1459.58 1414.72 1455 Q1417.8 1450.39 1423.61 1450.39 Z\" fill=\"#000000\" fill-rule=\"nonzero\" fill-opacity=\"1\" /><path clip-path=\"url(#clip240)\" d=\"M1653.72 1469.17 Q1650.39 1469.17 1648.47 1470.95 Q1646.57 1472.73 1646.57 1475.86 Q1646.57 1478.98 1648.47 1480.77 Q1650.39 1482.55 1653.72 1482.55 Q1657.06 1482.55 1658.98 1480.77 Q1660.9 1478.96 1660.9 1475.86 Q1660.9 1472.73 1658.98 1470.95 Q1657.08 1469.17 1653.72 1469.17 M1649.05 1467.18 Q1646.04 1466.44 1644.35 1464.38 Q1642.68 1462.32 1642.68 1459.35 Q1642.68 1455.21 1645.62 1452.8 Q1648.58 1450.39 1653.72 1450.39 Q1658.89 1450.39 1661.83 1452.8 Q1664.77 1455.21 1664.77 1459.35 Q1664.77 1462.32 1663.08 1464.38 Q1661.41 1466.44 1658.42 1467.18 Q1661.8 1467.96 1663.68 1470.26 Q1665.58 1472.55 1665.58 1475.86 Q1665.58 1480.88 1662.5 1483.57 Q1659.44 1486.25 1653.72 1486.25 Q1648.01 1486.25 1644.93 1483.57 Q1641.87 1480.88 1641.87 1475.86 Q1641.87 1472.55 1643.77 1470.26 Q1645.67 1467.96 1649.05 1467.18 M1647.33 1459.79 Q1647.33 1462.48 1649 1463.98 Q1650.69 1465.49 1653.72 1465.49 Q1656.73 1465.49 1658.42 1463.98 Q1660.14 1462.48 1660.14 1459.79 Q1660.14 1457.11 1658.42 1455.6 Q1656.73 1454.1 1653.72 1454.1 Q1650.69 1454.1 1649 1455.6 Q1647.33 1457.11 1647.33 1459.79 Z\" fill=\"#000000\" fill-rule=\"nonzero\" fill-opacity=\"1\" /><path clip-path=\"url(#clip240)\" d=\"M1683.89 1454.1 Q1680.27 1454.1 1678.45 1457.66 Q1676.64 1461.2 1676.64 1468.33 Q1676.64 1475.44 1678.45 1479.01 Q1680.27 1482.55 1683.89 1482.55 Q1687.52 1482.55 1689.33 1479.01 Q1691.15 1475.44 1691.15 1468.33 Q1691.15 1461.2 1689.33 1457.66 Q1687.52 1454.1 1683.89 1454.1 M1683.89 1450.39 Q1689.7 1450.39 1692.75 1455 Q1695.83 1459.58 1695.83 1468.33 Q1695.83 1477.06 1692.75 1481.67 Q1689.7 1486.25 1683.89 1486.25 Q1678.08 1486.25 1675 1481.67 Q1671.94 1477.06 1671.94 1468.33 Q1671.94 1459.58 1675 1455 Q1678.08 1450.39 1683.89 1450.39 Z\" fill=\"#000000\" fill-rule=\"nonzero\" fill-opacity=\"1\" /><path clip-path=\"url(#clip240)\" d=\"M1903.92 1484.86 L1903.92 1480.6 Q1905.68 1481.44 1907.48 1481.88 Q1909.29 1482.32 1911.03 1482.32 Q1915.66 1482.32 1918.09 1479.21 Q1920.54 1476.09 1920.89 1469.75 Q1919.54 1471.74 1917.48 1472.8 Q1915.42 1473.87 1912.92 1473.87 Q1907.74 1473.87 1904.71 1470.74 Q1901.7 1467.59 1901.7 1462.15 Q1901.7 1456.83 1904.85 1453.61 Q1907.99 1450.39 1913.23 1450.39 Q1919.22 1450.39 1922.37 1455 Q1925.54 1459.58 1925.54 1468.33 Q1925.54 1476.51 1921.65 1481.39 Q1917.79 1486.25 1911.23 1486.25 Q1909.48 1486.25 1907.67 1485.9 Q1905.86 1485.56 1903.92 1484.86 M1913.23 1470.21 Q1916.37 1470.21 1918.2 1468.06 Q1920.05 1465.9 1920.05 1462.15 Q1920.05 1458.43 1918.2 1456.27 Q1916.37 1454.1 1913.23 1454.1 Q1910.08 1454.1 1908.23 1456.27 Q1906.4 1458.43 1906.4 1462.15 Q1906.4 1465.9 1908.23 1468.06 Q1910.08 1470.21 1913.23 1470.21 Z\" fill=\"#000000\" fill-rule=\"nonzero\" fill-opacity=\"1\" /><path clip-path=\"url(#clip240)\" d=\"M1943.94 1454.1 Q1940.33 1454.1 1938.5 1457.66 Q1936.7 1461.2 1936.7 1468.33 Q1936.7 1475.44 1938.5 1479.01 Q1940.33 1482.55 1943.94 1482.55 Q1947.58 1482.55 1949.38 1479.01 Q1951.21 1475.44 1951.21 1468.33 Q1951.21 1461.2 1949.38 1457.66 Q1947.58 1454.1 1943.94 1454.1 M1943.94 1450.39 Q1949.75 1450.39 1952.81 1455 Q1955.89 1459.58 1955.89 1468.33 Q1955.89 1477.06 1952.81 1481.67 Q1949.75 1486.25 1943.94 1486.25 Q1938.13 1486.25 1935.05 1481.67 Q1932 1477.06 1932 1468.33 Q1932 1459.58 1935.05 1455 Q1938.13 1450.39 1943.94 1450.39 Z\" fill=\"#000000\" fill-rule=\"nonzero\" fill-opacity=\"1\" /><path clip-path=\"url(#clip240)\" d=\"M1236.04 1526.02 Q1236.04 1526.25 1235.5 1527.22 Q1234.98 1528.15 1233.08 1530.5 Q1231.18 1532.85 1228.35 1535.59 Q1227.28 1536.65 1225.67 1538.13 Q1224.06 1539.62 1222.97 1540.58 L1221.87 1541.55 Q1217.69 1545.09 1214.01 1549.05 Q1214.27 1548.95 1214.72 1548.92 Q1215.17 1548.86 1215.5 1548.86 L1215.82 1548.86 Q1217.49 1548.86 1220.42 1549.99 Q1223 1550.82 1224.32 1550.82 Q1225.61 1550.82 1227.02 1550.37 Q1228.44 1549.92 1229.99 1548.6 Q1231.53 1547.28 1232.24 1545.28 Q1232.37 1544.96 1232.44 1544.86 Q1232.5 1544.74 1232.69 1544.61 Q1232.89 1544.45 1233.14 1544.45 Q1233.5 1544.45 1233.72 1544.64 Q1233.95 1544.83 1233.95 1545.09 Q1233.95 1545.67 1233.5 1546.83 Q1233.08 1547.99 1232.15 1549.44 Q1231.24 1550.89 1230.05 1552.21 Q1228.89 1553.5 1227.15 1554.4 Q1225.41 1555.27 1223.58 1555.27 Q1222.26 1555.27 1221.29 1554.62 Q1220.33 1554.01 1219.36 1552.82 Q1218.04 1551.31 1217.33 1550.82 Q1216.62 1550.31 1215.53 1550.31 Q1212.6 1550.31 1209.92 1554.4 Q1209.63 1554.98 1209.44 1555.11 Q1209.28 1555.27 1208.89 1555.27 Q1208.09 1555.23 1208.09 1554.59 Q1208.09 1554.33 1208.8 1553.21 Q1209.54 1552.05 1211.18 1550.02 Q1212.85 1547.99 1214.88 1545.96 L1220.81 1540.42 Q1227.38 1534.88 1229.99 1531.76 Q1228.89 1531.76 1228.41 1531.72 Q1227.96 1531.69 1227.06 1531.5 Q1226.16 1531.27 1224.9 1530.79 Q1221.97 1529.79 1220.74 1529.79 Q1220.42 1529.79 1220.07 1529.82 Q1219.71 1529.86 1218.91 1530.02 Q1218.14 1530.18 1217.49 1530.5 Q1216.85 1530.79 1216.17 1531.43 Q1215.5 1532.05 1215.14 1532.88 Q1215.04 1533.14 1214.98 1533.27 Q1214.92 1533.4 1214.72 1533.53 Q1214.56 1533.62 1214.3 1533.62 Q1213.92 1533.62 1213.69 1533.4 Q1213.5 1533.17 1213.5 1532.88 Q1213.5 1532.3 1214.08 1531.11 Q1214.66 1529.92 1215.62 1528.63 Q1216.59 1527.31 1218.17 1526.35 Q1219.75 1525.38 1221.49 1525.38 Q1222.52 1525.38 1223.39 1525.83 Q1224.29 1526.28 1224.74 1526.76 Q1225.22 1527.22 1226.03 1528.21 Q1226.7 1528.99 1227.02 1529.31 Q1227.35 1529.63 1227.99 1529.99 Q1228.67 1530.31 1229.41 1530.31 Q1230.63 1530.31 1231.76 1529.37 Q1232.89 1528.41 1234.34 1526.09 Q1234.72 1525.38 1235.33 1525.38 Q1236.04 1525.38 1236.04 1526.02 Z\" fill=\"#000000\" fill-rule=\"nonzero\" fill-opacity=\"1\" /><path clip-path=\"url(#clip240)\" d=\"M1242.82 1547.18 L1242.82 1545.74 Q1248.36 1545.74 1251.22 1542.79 Q1252.01 1542.79 1252.15 1542.97 Q1252.28 1543.15 1252.28 1543.98 L1252.28 1569.89 Q1252.28 1571.26 1252.96 1571.69 Q1253.64 1572.12 1256.59 1572.12 L1258.06 1572.12 L1258.06 1573.54 Q1256.43 1573.4 1250.57 1573.4 Q1244.71 1573.4 1243.11 1573.54 L1243.11 1572.12 L1244.57 1572.12 Q1247.48 1572.12 1248.18 1571.71 Q1248.88 1571.28 1248.88 1569.89 L1248.88 1545.97 Q1246.47 1547.18 1242.82 1547.18 Z\" fill=\"#000000\" fill-rule=\"nonzero\" fill-opacity=\"1\" /><path clip-path=\"url(#clip240)\" d=\"M1264.95 1538.04 Q1264.95 1526.89 1269.1 1517.91 Q1270.87 1514.14 1273.35 1510.98 Q1275.83 1507.83 1277.48 1506.44 Q1279.12 1505.06 1279.57 1505.06 Q1280.21 1505.06 1280.25 1505.7 Q1280.25 1506.02 1279.38 1506.83 Q1268.75 1517.65 1268.78 1538.04 Q1268.78 1558.49 1279.12 1568.89 Q1280.25 1570.02 1280.25 1570.37 Q1280.25 1571.02 1279.57 1571.02 Q1279.12 1571.02 1277.54 1569.7 Q1275.96 1568.37 1273.52 1565.35 Q1271.07 1562.32 1269.3 1558.62 Q1264.95 1549.63 1264.95 1538.04 Z\" fill=\"#000000\" fill-rule=\"nonzero\" fill-opacity=\"1\" /><path clip-path=\"url(#clip240)\" d=\"M1318.11 1529.73 Q1318.11 1531.53 1316.98 1532.56 Q1315.86 1533.56 1314.57 1533.56 Q1313.34 1533.56 1312.7 1532.85 Q1312.06 1532.14 1312.06 1531.24 Q1312.06 1530.02 1312.96 1528.95 Q1313.86 1527.89 1315.21 1527.67 Q1313.89 1526.83 1311.93 1526.83 Q1310.64 1526.83 1309.51 1527.51 Q1308.42 1528.18 1307.74 1529.05 Q1307.1 1529.92 1306.52 1531.18 Q1305.97 1532.4 1305.74 1533.14 Q1305.55 1533.85 1305.39 1534.62 L1303.13 1543.64 Q1302.04 1547.92 1302.04 1549.44 Q1302.04 1551.31 1302.94 1552.56 Q1303.84 1553.79 1305.65 1553.79 Q1306.36 1553.79 1307.16 1553.59 Q1307.97 1553.37 1309 1552.79 Q1310.06 1552.18 1310.99 1551.27 Q1311.96 1550.34 1312.89 1548.76 Q1313.83 1547.18 1314.44 1545.15 Q1314.63 1544.45 1315.28 1544.45 Q1316.08 1544.45 1316.08 1545.09 Q1316.08 1545.64 1315.63 1546.8 Q1315.21 1547.92 1314.28 1549.41 Q1313.38 1550.85 1312.18 1552.18 Q1310.99 1553.46 1309.22 1554.37 Q1307.45 1555.27 1305.52 1555.27 Q1302.75 1555.27 1300.91 1553.79 Q1299.08 1552.3 1298.4 1550.24 Q1298.24 1550.53 1298.01 1550.92 Q1297.79 1551.31 1297.11 1552.18 Q1296.47 1553.01 1295.73 1553.66 Q1294.99 1554.27 1293.83 1554.75 Q1292.7 1555.27 1291.48 1555.27 Q1289.93 1555.27 1288.55 1554.82 Q1287.19 1554.37 1286.23 1553.33 Q1285.26 1552.3 1285.26 1550.89 Q1285.26 1549.31 1286.32 1548.21 Q1287.42 1547.09 1288.9 1547.09 Q1289.83 1547.09 1290.57 1547.63 Q1291.35 1548.18 1291.35 1549.37 Q1291.35 1550.69 1290.45 1551.69 Q1289.54 1552.69 1288.26 1552.95 Q1289.58 1553.79 1291.54 1553.79 Q1293.67 1553.79 1295.34 1551.92 Q1297.02 1550.05 1297.82 1546.93 Q1299.82 1539.42 1300.59 1536.07 Q1301.36 1532.69 1301.36 1531.24 Q1301.36 1529.89 1301.01 1528.95 Q1300.65 1528.02 1300.04 1527.6 Q1299.46 1527.15 1298.92 1526.99 Q1298.4 1526.83 1297.82 1526.83 Q1296.85 1526.83 1295.76 1527.22 Q1294.7 1527.6 1293.41 1528.5 Q1292.15 1529.37 1290.96 1531.18 Q1289.77 1532.98 1288.96 1535.46 Q1288.8 1536.2 1288.09 1536.2 Q1287.32 1536.17 1287.32 1535.52 Q1287.32 1534.98 1287.74 1533.85 Q1288.19 1532.69 1289.09 1531.24 Q1290.03 1529.79 1291.22 1528.5 Q1292.44 1527.18 1294.21 1526.28 Q1296.02 1525.38 1297.95 1525.38 Q1298.82 1525.38 1299.66 1525.57 Q1300.53 1525.73 1301.56 1526.22 Q1302.62 1526.7 1303.55 1527.76 Q1304.49 1528.83 1305.07 1530.37 Q1305.45 1529.63 1305.97 1528.92 Q1306.52 1528.21 1307.35 1527.34 Q1308.22 1526.44 1309.41 1525.93 Q1310.64 1525.38 1311.99 1525.38 Q1313.31 1525.38 1314.6 1525.73 Q1315.89 1526.06 1316.98 1527.12 Q1318.11 1528.15 1318.11 1529.73 Z\" fill=\"#000000\" fill-rule=\"nonzero\" fill-opacity=\"1\" /><path clip-path=\"url(#clip240)\" d=\"M1324.46 1570.37 Q1324.46 1570.05 1325.3 1569.24 Q1335.93 1558.42 1335.93 1538.04 Q1335.93 1517.59 1325.72 1507.25 Q1324.46 1506.06 1324.46 1505.7 Q1324.46 1505.06 1325.11 1505.06 Q1325.56 1505.06 1327.13 1506.38 Q1328.75 1507.7 1331.16 1510.73 Q1333.61 1513.75 1335.41 1517.46 Q1339.76 1526.44 1339.76 1538.04 Q1339.76 1549.18 1335.6 1558.17 Q1333.83 1561.93 1331.35 1565.09 Q1328.87 1568.25 1327.23 1569.63 Q1325.59 1571.02 1325.11 1571.02 Q1324.46 1571.02 1324.46 1570.37 Z\" fill=\"#000000\" fill-rule=\"nonzero\" fill-opacity=\"1\" /><polyline clip-path=\"url(#clip240)\" style=\"stroke:#000000; stroke-linecap:round; stroke-linejoin:round; stroke-width:4; stroke-opacity:1; fill:none\" points=\"629.085,1423.18 629.085,123.472 \"/>\n",
       "<polyline clip-path=\"url(#clip240)\" style=\"stroke:#000000; stroke-linecap:round; stroke-linejoin:round; stroke-width:4; stroke-opacity:1; fill:none\" points=\"629.085,1423.18 640.521,1423.18 \"/>\n",
       "<polyline clip-path=\"url(#clip240)\" style=\"stroke:#000000; stroke-linecap:round; stroke-linejoin:round; stroke-width:4; stroke-opacity:1; fill:none\" points=\"629.085,1163.24 640.521,1163.24 \"/>\n",
       "<polyline clip-path=\"url(#clip240)\" style=\"stroke:#000000; stroke-linecap:round; stroke-linejoin:round; stroke-width:4; stroke-opacity:1; fill:none\" points=\"629.085,903.297 640.521,903.297 \"/>\n",
       "<polyline clip-path=\"url(#clip240)\" style=\"stroke:#000000; stroke-linecap:round; stroke-linejoin:round; stroke-width:4; stroke-opacity:1; fill:none\" points=\"629.085,643.355 640.521,643.355 \"/>\n",
       "<polyline clip-path=\"url(#clip240)\" style=\"stroke:#000000; stroke-linecap:round; stroke-linejoin:round; stroke-width:4; stroke-opacity:1; fill:none\" points=\"629.085,383.414 640.521,383.414 \"/>\n",
       "<polyline clip-path=\"url(#clip240)\" style=\"stroke:#000000; stroke-linecap:round; stroke-linejoin:round; stroke-width:4; stroke-opacity:1; fill:none\" points=\"629.085,123.472 640.521,123.472 \"/>\n",
       "<path clip-path=\"url(#clip240)\" d=\"M553.826 1409.97 L542.02 1428.42 L553.826 1428.42 L553.826 1409.97 M552.599 1405.9 L558.478 1405.9 L558.478 1428.42 L563.409 1428.42 L563.409 1432.31 L558.478 1432.31 L558.478 1440.46 L553.826 1440.46 L553.826 1432.31 L538.224 1432.31 L538.224 1427.8 L552.599 1405.9 Z\" fill=\"#000000\" fill-rule=\"nonzero\" fill-opacity=\"1\" /><path clip-path=\"url(#clip240)\" d=\"M581.14 1408.98 Q577.529 1408.98 575.7 1412.54 Q573.895 1416.08 573.895 1423.21 Q573.895 1430.32 575.7 1433.89 Q577.529 1437.43 581.14 1437.43 Q584.774 1437.43 586.58 1433.89 Q588.409 1430.32 588.409 1423.21 Q588.409 1416.08 586.58 1412.54 Q584.774 1408.98 581.14 1408.98 M581.14 1405.27 Q586.95 1405.27 590.006 1409.88 Q593.085 1414.46 593.085 1423.21 Q593.085 1431.94 590.006 1436.55 Q586.95 1441.13 581.14 1441.13 Q575.33 1441.13 572.251 1436.55 Q569.196 1431.94 569.196 1423.21 Q569.196 1414.46 572.251 1409.88 Q575.33 1405.27 581.14 1405.27 Z\" fill=\"#000000\" fill-rule=\"nonzero\" fill-opacity=\"1\" /><path clip-path=\"url(#clip240)\" d=\"M541.025 1145.96 L559.381 1145.96 L559.381 1149.89 L545.307 1149.89 L545.307 1158.37 Q546.326 1158.02 547.344 1157.86 Q548.363 1157.67 549.381 1157.67 Q555.168 1157.67 558.548 1160.84 Q561.927 1164.01 561.927 1169.43 Q561.927 1175.01 558.455 1178.11 Q554.983 1181.19 548.664 1181.19 Q546.488 1181.19 544.219 1180.82 Q541.974 1180.45 539.566 1179.71 L539.566 1175.01 Q541.65 1176.14 543.872 1176.7 Q546.094 1177.25 548.571 1177.25 Q552.576 1177.25 554.913 1175.15 Q557.251 1173.04 557.251 1169.43 Q557.251 1165.82 554.913 1163.71 Q552.576 1161.61 548.571 1161.61 Q546.696 1161.61 544.821 1162.02 Q542.969 1162.44 541.025 1163.32 L541.025 1145.96 Z\" fill=\"#000000\" fill-rule=\"nonzero\" fill-opacity=\"1\" /><path clip-path=\"url(#clip240)\" d=\"M581.14 1149.04 Q577.529 1149.04 575.7 1152.6 Q573.895 1156.14 573.895 1163.27 Q573.895 1170.38 575.7 1173.94 Q577.529 1177.49 581.14 1177.49 Q584.774 1177.49 586.58 1173.94 Q588.409 1170.38 588.409 1163.27 Q588.409 1156.14 586.58 1152.6 Q584.774 1149.04 581.14 1149.04 M581.14 1145.33 Q586.95 1145.33 590.006 1149.94 Q593.085 1154.52 593.085 1163.27 Q593.085 1172 590.006 1176.61 Q586.95 1181.19 581.14 1181.19 Q575.33 1181.19 572.251 1176.61 Q569.196 1172 569.196 1163.27 Q569.196 1154.52 572.251 1149.94 Q575.33 1145.33 581.14 1145.33 Z\" fill=\"#000000\" fill-rule=\"nonzero\" fill-opacity=\"1\" /><path clip-path=\"url(#clip240)\" d=\"M551.557 901.433 Q548.409 901.433 546.557 903.586 Q544.728 905.739 544.728 909.489 Q544.728 913.216 546.557 915.392 Q548.409 917.544 551.557 917.544 Q554.705 917.544 556.534 915.392 Q558.386 913.216 558.386 909.489 Q558.386 905.739 556.534 903.586 Q554.705 901.433 551.557 901.433 M560.839 886.781 L560.839 891.04 Q559.08 890.207 557.275 889.767 Q555.492 889.327 553.733 889.327 Q549.103 889.327 546.65 892.452 Q544.219 895.577 543.872 901.896 Q545.238 899.882 547.298 898.818 Q549.358 897.73 551.835 897.73 Q557.043 897.73 560.052 900.901 Q563.085 904.049 563.085 909.489 Q563.085 914.813 559.937 918.03 Q556.788 921.248 551.557 921.248 Q545.562 921.248 542.39 916.665 Q539.219 912.058 539.219 903.331 Q539.219 895.137 543.108 890.276 Q546.997 885.392 553.548 885.392 Q555.307 885.392 557.089 885.739 Q558.895 886.086 560.839 886.781 Z\" fill=\"#000000\" fill-rule=\"nonzero\" fill-opacity=\"1\" /><path clip-path=\"url(#clip240)\" d=\"M581.14 889.095 Q577.529 889.095 575.7 892.66 Q573.895 896.202 573.895 903.331 Q573.895 910.438 575.7 914.003 Q577.529 917.544 581.14 917.544 Q584.774 917.544 586.58 914.003 Q588.409 910.438 588.409 903.331 Q588.409 896.202 586.58 892.66 Q584.774 889.095 581.14 889.095 M581.14 885.392 Q586.95 885.392 590.006 889.998 Q593.085 894.582 593.085 903.331 Q593.085 912.058 590.006 916.665 Q586.95 921.248 581.14 921.248 Q575.33 921.248 572.251 916.665 Q569.196 912.058 569.196 903.331 Q569.196 894.582 572.251 889.998 Q575.33 885.392 581.14 885.392 Z\" fill=\"#000000\" fill-rule=\"nonzero\" fill-opacity=\"1\" /><path clip-path=\"url(#clip240)\" d=\"M539.798 626.075 L562.02 626.075 L562.02 628.066 L549.474 660.635 L544.589 660.635 L556.395 630.01 L539.798 630.01 L539.798 626.075 Z\" fill=\"#000000\" fill-rule=\"nonzero\" fill-opacity=\"1\" /><path clip-path=\"url(#clip240)\" d=\"M581.14 629.154 Q577.529 629.154 575.7 632.719 Q573.895 636.26 573.895 643.39 Q573.895 650.496 575.7 654.061 Q577.529 657.603 581.14 657.603 Q584.774 657.603 586.58 654.061 Q588.409 650.496 588.409 643.39 Q588.409 636.26 586.58 632.719 Q584.774 629.154 581.14 629.154 M581.14 625.45 Q586.95 625.45 590.006 630.057 Q593.085 634.64 593.085 643.39 Q593.085 652.117 590.006 656.723 Q586.95 661.307 581.14 661.307 Q575.33 661.307 572.251 656.723 Q569.196 652.117 569.196 643.39 Q569.196 634.64 572.251 630.057 Q575.33 625.45 581.14 625.45 Z\" fill=\"#000000\" fill-rule=\"nonzero\" fill-opacity=\"1\" /><path clip-path=\"url(#clip240)\" d=\"M550.978 384.282 Q547.645 384.282 545.724 386.064 Q543.826 387.847 543.826 390.971 Q543.826 394.096 545.724 395.879 Q547.645 397.661 550.978 397.661 Q554.312 397.661 556.233 395.879 Q558.154 394.073 558.154 390.971 Q558.154 387.847 556.233 386.064 Q554.335 384.282 550.978 384.282 M546.302 382.291 Q543.293 381.55 541.603 379.49 Q539.937 377.43 539.937 374.467 Q539.937 370.323 542.877 367.916 Q545.839 365.509 550.978 365.509 Q556.14 365.509 559.08 367.916 Q562.02 370.323 562.02 374.467 Q562.02 377.43 560.33 379.49 Q558.663 381.55 555.677 382.291 Q559.057 383.078 560.932 385.37 Q562.83 387.661 562.83 390.971 Q562.83 395.995 559.751 398.68 Q556.696 401.365 550.978 401.365 Q545.261 401.365 542.182 398.68 Q539.127 395.995 539.127 390.971 Q539.127 387.661 541.025 385.37 Q542.923 383.078 546.302 382.291 M544.589 374.907 Q544.589 377.592 546.256 379.097 Q547.946 380.601 550.978 380.601 Q553.988 380.601 555.677 379.097 Q557.39 377.592 557.39 374.907 Q557.39 372.222 555.677 370.717 Q553.988 369.212 550.978 369.212 Q547.946 369.212 546.256 370.717 Q544.589 372.222 544.589 374.907 Z\" fill=\"#000000\" fill-rule=\"nonzero\" fill-opacity=\"1\" /><path clip-path=\"url(#clip240)\" d=\"M581.14 369.212 Q577.529 369.212 575.7 372.777 Q573.895 376.319 573.895 383.448 Q573.895 390.555 575.7 394.12 Q577.529 397.661 581.14 397.661 Q584.774 397.661 586.58 394.12 Q588.409 390.555 588.409 383.448 Q588.409 376.319 586.58 372.777 Q584.774 369.212 581.14 369.212 M581.14 365.509 Q586.95 365.509 590.006 370.115 Q593.085 374.698 593.085 383.448 Q593.085 392.175 590.006 396.782 Q586.95 401.365 581.14 401.365 Q575.33 401.365 572.251 396.782 Q569.196 392.175 569.196 383.448 Q569.196 374.698 572.251 370.115 Q575.33 365.509 581.14 365.509 Z\" fill=\"#000000\" fill-rule=\"nonzero\" fill-opacity=\"1\" /><path clip-path=\"url(#clip240)\" d=\"M541.117 140.035 L541.117 135.775 Q542.877 136.609 544.682 137.048 Q546.488 137.488 548.224 137.488 Q552.853 137.488 555.284 134.386 Q557.738 131.261 558.085 124.919 Q556.742 126.91 554.682 127.974 Q552.622 129.039 550.122 129.039 Q544.937 129.039 541.904 125.914 Q538.895 122.766 538.895 117.326 Q538.895 112.002 542.043 108.785 Q545.191 105.567 550.423 105.567 Q556.418 105.567 559.566 110.174 Q562.738 114.757 562.738 123.507 Q562.738 131.678 558.849 136.562 Q554.983 141.423 548.432 141.423 Q546.673 141.423 544.867 141.076 Q543.062 140.729 541.117 140.035 M550.423 125.382 Q553.571 125.382 555.4 123.229 Q557.251 121.076 557.251 117.326 Q557.251 113.599 555.4 111.447 Q553.571 109.271 550.423 109.271 Q547.275 109.271 545.423 111.447 Q543.594 113.599 543.594 117.326 Q543.594 121.076 545.423 123.229 Q547.275 125.382 550.423 125.382 Z\" fill=\"#000000\" fill-rule=\"nonzero\" fill-opacity=\"1\" /><path clip-path=\"url(#clip240)\" d=\"M581.14 109.271 Q577.529 109.271 575.7 112.836 Q573.895 116.377 573.895 123.507 Q573.895 130.613 575.7 134.178 Q577.529 137.72 581.14 137.72 Q584.774 137.72 586.58 134.178 Q588.409 130.613 588.409 123.507 Q588.409 116.377 586.58 112.836 Q584.774 109.271 581.14 109.271 M581.14 105.567 Q586.95 105.567 590.006 110.174 Q593.085 114.757 593.085 123.507 Q593.085 132.234 590.006 136.84 Q586.95 141.423 581.14 141.423 Q575.33 141.423 572.251 136.84 Q569.196 132.234 569.196 123.507 Q569.196 114.757 572.251 110.174 Q575.33 105.567 581.14 105.567 Z\" fill=\"#000000\" fill-rule=\"nonzero\" fill-opacity=\"1\" /><path clip-path=\"url(#clip240)\" d=\"M460.204 817.802 Q460.43 817.802 461.396 818.35 Q462.33 818.865 464.681 820.765 Q467.032 822.665 469.769 825.5 Q470.832 826.562 472.314 828.173 Q473.795 829.783 474.761 830.878 L475.727 831.973 Q479.27 836.16 483.231 839.831 Q483.135 839.574 483.102 839.123 Q483.038 838.672 483.038 838.35 L483.038 838.028 Q483.038 836.353 484.165 833.422 Q485.003 830.846 485.003 829.525 Q485.003 828.237 484.552 826.82 Q484.101 825.403 482.78 823.857 Q481.46 822.311 479.463 821.603 Q479.141 821.474 479.045 821.409 Q478.916 821.345 478.787 821.152 Q478.626 820.959 478.626 820.701 Q478.626 820.347 478.819 820.121 Q479.012 819.896 479.27 819.896 Q479.85 819.896 481.009 820.347 Q482.169 820.765 483.618 821.699 Q485.067 822.601 486.387 823.793 Q487.676 824.952 488.577 826.691 Q489.447 828.43 489.447 830.266 Q489.447 831.586 488.803 832.553 Q488.191 833.519 486.999 834.485 Q485.486 835.805 485.003 836.514 Q484.487 837.222 484.487 838.317 Q484.487 841.248 488.577 843.921 Q489.157 844.211 489.286 844.404 Q489.447 844.565 489.447 844.952 Q489.415 845.757 488.771 845.757 Q488.513 845.757 487.386 845.049 Q486.226 844.308 484.197 842.665 Q482.169 840.991 480.14 838.962 L474.6 833.036 Q469.061 826.466 465.937 823.857 Q465.937 824.952 465.905 825.435 Q465.872 825.886 465.679 826.788 Q465.454 827.69 464.971 828.946 Q463.972 831.876 463.972 833.1 Q463.972 833.422 464.004 833.776 Q464.037 834.131 464.198 834.936 Q464.359 835.709 464.681 836.353 Q464.971 836.997 465.615 837.673 Q466.227 838.35 467.064 838.704 Q467.322 838.801 467.45 838.865 Q467.579 838.929 467.708 839.123 Q467.805 839.284 467.805 839.541 Q467.805 839.928 467.579 840.153 Q467.354 840.346 467.064 840.346 Q466.484 840.346 465.293 839.767 Q464.101 839.187 462.813 838.221 Q461.492 837.255 460.526 835.677 Q459.56 834.099 459.56 832.359 Q459.56 831.329 460.011 830.459 Q460.462 829.558 460.945 829.107 Q461.396 828.624 462.394 827.818 Q463.167 827.142 463.489 826.82 Q463.811 826.498 464.165 825.854 Q464.487 825.178 464.487 824.437 Q464.487 823.213 463.554 822.086 Q462.587 820.959 460.269 819.509 Q459.56 819.123 459.56 818.511 Q459.56 817.802 460.204 817.802 Z\" fill=\"#000000\" fill-rule=\"nonzero\" fill-opacity=\"1\" /><path clip-path=\"url(#clip240)\" d=\"M507.717 811.03 Q506.883 811.03 506.635 810.962 Q506.387 810.872 506.004 810.511 L496.13 801.651 Q490.674 796.804 485.917 796.804 Q482.829 796.804 480.619 798.427 Q478.41 800.028 478.41 802.981 Q478.41 805.01 479.65 806.724 Q480.89 808.437 483.099 809.226 Q483.054 809.091 483.054 808.617 Q483.054 807.468 483.775 806.836 Q484.497 806.183 485.466 806.183 Q486.706 806.183 487.315 806.994 Q487.901 807.783 487.901 808.572 Q487.901 808.888 487.833 809.316 Q487.766 809.722 487.134 810.376 Q486.481 811.03 485.331 811.03 Q482.107 811.03 479.537 808.595 Q476.967 806.137 476.967 802.395 Q476.967 798.157 479.492 795.384 Q481.994 792.588 485.917 792.588 Q487.292 792.588 488.555 793.017 Q489.795 793.423 490.764 793.986 Q491.733 794.527 493.289 796.015 Q494.845 797.503 495.949 798.698 Q497.054 799.893 499.398 802.576 L504.155 807.468 L504.155 799.149 Q504.155 795.091 503.795 794.775 Q503.141 794.324 499.692 793.761 L499.692 792.588 L507.717 793.896 L507.717 811.03 Z\" fill=\"#000000\" fill-rule=\"nonzero\" fill-opacity=\"1\" /><path clip-path=\"url(#clip240)\" d=\"M472.217 785.735 Q461.074 785.735 452.088 781.58 Q448.32 779.809 445.164 777.329 Q442.008 774.849 440.623 773.207 Q439.238 771.564 439.238 771.113 Q439.238 770.469 439.882 770.437 Q440.204 770.437 441.009 771.307 Q451.831 781.935 472.217 781.902 Q492.668 781.902 503.07 771.564 Q504.197 770.437 504.552 770.437 Q505.196 770.437 505.196 771.113 Q505.196 771.564 503.875 773.142 Q502.555 774.72 499.527 777.168 Q496.5 779.616 492.796 781.387 Q483.811 785.735 472.217 785.735 Z\" fill=\"#000000\" fill-rule=\"nonzero\" fill-opacity=\"1\" /><path clip-path=\"url(#clip240)\" d=\"M463.908 732.573 Q465.711 732.573 466.742 733.701 Q467.74 734.828 467.74 736.116 Q467.74 737.34 467.032 737.984 Q466.323 738.628 465.421 738.628 Q464.198 738.628 463.135 737.726 Q462.072 736.825 461.847 735.472 Q461.009 736.792 461.009 738.757 Q461.009 740.045 461.686 741.172 Q462.362 742.267 463.231 742.944 Q464.101 743.588 465.357 744.168 Q466.581 744.715 467.322 744.941 Q468.03 745.134 468.803 745.295 L477.821 747.549 Q482.104 748.644 483.618 748.644 Q485.486 748.644 486.742 747.742 Q487.966 746.841 487.966 745.037 Q487.966 744.329 487.772 743.523 Q487.547 742.718 486.967 741.688 Q486.355 740.625 485.454 739.691 Q484.52 738.725 482.941 737.791 Q481.363 736.857 479.334 736.245 Q478.626 736.052 478.626 735.408 Q478.626 734.602 479.27 734.602 Q479.817 734.602 480.977 735.053 Q482.104 735.472 483.586 736.406 Q485.035 737.308 486.355 738.499 Q487.644 739.691 488.545 741.462 Q489.447 743.234 489.447 745.166 Q489.447 747.936 487.966 749.771 Q486.484 751.607 484.423 752.283 Q484.713 752.444 485.099 752.67 Q485.486 752.895 486.355 753.572 Q487.193 754.216 487.837 754.957 Q488.449 755.697 488.932 756.857 Q489.447 757.984 489.447 759.208 Q489.447 760.754 488.996 762.138 Q488.545 763.491 487.515 764.457 Q486.484 765.423 485.067 765.423 Q483.489 765.423 482.394 764.361 Q481.267 763.266 481.267 761.784 Q481.267 760.85 481.814 760.109 Q482.362 759.337 483.553 759.337 Q484.874 759.337 485.872 760.238 Q486.871 761.14 487.128 762.428 Q487.966 761.108 487.966 759.143 Q487.966 757.018 486.098 755.343 Q484.23 753.668 481.106 752.863 Q473.602 750.866 470.252 750.093 Q466.871 749.321 465.421 749.321 Q464.069 749.321 463.135 749.675 Q462.201 750.029 461.782 750.641 Q461.331 751.221 461.17 751.768 Q461.009 752.283 461.009 752.863 Q461.009 753.829 461.396 754.924 Q461.782 755.987 462.684 757.275 Q463.554 758.531 465.357 759.723 Q467.161 760.915 469.64 761.72 Q470.381 761.881 470.381 762.589 Q470.349 763.362 469.705 763.362 Q469.157 763.362 468.03 762.944 Q466.871 762.493 465.421 761.591 Q463.972 760.657 462.684 759.465 Q461.364 758.242 460.462 756.47 Q459.56 754.667 459.56 752.734 Q459.56 751.865 459.753 751.027 Q459.914 750.158 460.397 749.127 Q460.88 748.064 461.943 747.131 Q463.006 746.197 464.552 745.617 Q463.811 745.23 463.103 744.715 Q462.394 744.168 461.525 743.33 Q460.623 742.461 460.107 741.269 Q459.56 740.045 459.56 738.693 Q459.56 737.372 459.914 736.084 Q460.236 734.796 461.299 733.701 Q462.33 732.573 463.908 732.573 Z\" fill=\"#000000\" fill-rule=\"nonzero\" fill-opacity=\"1\" /><path clip-path=\"url(#clip240)\" d=\"M504.552 726.222 Q504.23 726.222 503.424 725.385 Q492.603 714.757 472.217 714.757 Q451.766 714.757 441.428 724.966 Q440.236 726.222 439.882 726.222 Q439.238 726.222 439.238 725.578 Q439.238 725.127 440.559 723.549 Q441.879 721.939 444.906 719.524 Q447.934 717.076 451.637 715.272 Q460.623 710.925 472.217 710.925 Q483.36 710.925 492.346 715.079 Q496.114 716.85 499.27 719.33 Q502.426 721.81 503.811 723.453 Q505.196 725.095 505.196 725.578 Q505.196 726.222 504.552 726.222 Z\" fill=\"#000000\" fill-rule=\"nonzero\" fill-opacity=\"1\" /><path clip-path=\"url(#clip240)\" d=\"M839.688 74.202 L839.688 57.9579 L826.32 57.9579 L826.32 51.2334 L847.79 51.2334 L847.79 77.1997 Q843.05 80.5619 837.338 82.3038 Q831.626 84.0052 825.145 84.0052 Q810.967 84.0052 802.946 75.7414 Q794.966 67.437 794.966 52.6512 Q794.966 37.8249 802.946 29.561 Q810.967 21.2567 825.145 21.2567 Q831.059 21.2567 836.366 22.715 Q841.713 24.1733 846.21 27.009 L846.21 35.7184 Q841.673 31.8701 836.569 29.9256 Q831.464 27.9812 825.834 27.9812 Q814.734 27.9812 809.144 34.1791 Q803.594 40.377 803.594 52.6512 Q803.594 64.8849 809.144 71.0828 Q814.734 77.2807 825.834 77.2807 Q830.168 77.2807 833.571 76.5515 Q836.974 75.7819 839.688 74.202 Z\" fill=\"#000000\" fill-rule=\"nonzero\" fill-opacity=\"1\" /><path clip-path=\"url(#clip240)\" d=\"M882.951 30.4117 L871.852 60.51 L894.091 60.51 L882.951 30.4117 M878.333 22.3504 L887.61 22.3504 L910.66 82.8304 L902.153 82.8304 L896.643 67.3155 L869.381 67.3155 L863.872 82.8304 L855.243 82.8304 L878.333 22.3504 Z\" fill=\"#000000\" fill-rule=\"nonzero\" fill-opacity=\"1\" /><path clip-path=\"url(#clip240)\" d=\"M927.673 29.0749 L927.673 51.8005 L937.963 51.8005 Q943.674 51.8005 946.794 48.8434 Q949.913 45.8862 949.913 40.4175 Q949.913 34.9893 946.794 32.0321 Q943.674 29.0749 937.963 29.0749 L927.673 29.0749 M919.491 22.3504 L937.963 22.3504 Q948.13 22.3504 953.316 26.9685 Q958.541 31.546 958.541 40.4175 Q958.541 49.37 953.316 53.9475 Q948.13 58.525 937.963 58.525 L927.673 58.525 L927.673 82.8304 L919.491 82.8304 L919.491 22.3504 Z\" fill=\"#000000\" fill-rule=\"nonzero\" fill-opacity=\"1\" /><path clip-path=\"url(#clip240)\" d=\"M971.099 72.5411 L979.646 72.5411 L979.646 82.8304 L971.099 82.8304 L971.099 72.5411 M971.099 39.9314 L979.646 39.9314 L979.646 50.2207 L971.099 50.2207 L971.099 39.9314 Z\" fill=\"#000000\" fill-rule=\"nonzero\" fill-opacity=\"1\" /><path clip-path=\"url(#clip240)\" d=\"M1048.39 27.9002 Q1039.48 27.9002 1034.21 34.5437 Q1028.99 41.1871 1028.99 52.6512 Q1028.99 64.0748 1034.21 70.7182 Q1039.48 77.3617 1048.39 77.3617 Q1057.3 77.3617 1062.49 70.7182 Q1067.71 64.0748 1067.71 52.6512 Q1067.71 41.1871 1062.49 34.5437 Q1057.3 27.9002 1048.39 27.9002 M1048.39 21.2567 Q1061.11 21.2567 1068.73 29.8041 Q1076.34 38.311 1076.34 52.6512 Q1076.34 66.9509 1068.73 75.4983 Q1061.11 84.0052 1048.39 84.0052 Q1035.63 84.0052 1027.97 75.4983 Q1020.36 66.9914 1020.36 52.6512 Q1020.36 38.311 1027.97 29.8041 Q1035.63 21.2567 1048.39 21.2567 Z\" fill=\"#000000\" fill-rule=\"nonzero\" fill-opacity=\"1\" /><path clip-path=\"url(#clip240)\" d=\"M1121.39 60.1859 Q1121.39 51.9625 1117.98 47.304 Q1114.62 42.605 1108.71 42.605 Q1102.79 42.605 1099.39 47.304 Q1096.03 51.9625 1096.03 60.1859 Q1096.03 68.4092 1099.39 73.1083 Q1102.79 77.7668 1108.71 77.7668 Q1114.62 77.7668 1117.98 73.1083 Q1121.39 68.4092 1121.39 60.1859 M1096.03 44.3468 Q1098.38 40.2959 1101.94 38.3515 Q1105.55 36.3666 1110.53 36.3666 Q1118.8 36.3666 1123.94 42.929 Q1129.12 49.4915 1129.12 60.1859 Q1129.12 70.8803 1123.94 77.4427 Q1118.8 84.0052 1110.53 84.0052 Q1105.55 84.0052 1101.94 82.0608 Q1098.38 80.0758 1096.03 76.0249 L1096.03 82.8304 L1088.53 82.8304 L1088.53 19.7984 L1096.03 19.7984 L1096.03 44.3468 Z\" fill=\"#000000\" fill-rule=\"nonzero\" fill-opacity=\"1\" /><path clip-path=\"url(#clip240)\" d=\"M1141.48 37.4603 L1148.93 37.4603 L1148.93 83.6406 Q1148.93 92.3096 1145.61 96.1984 Q1142.33 100.087 1135 100.087 L1132.16 100.087 L1132.16 93.7679 L1134.15 93.7679 Q1138.4 93.7679 1139.94 91.7829 Q1141.48 89.8385 1141.48 83.6406 L1141.48 37.4603 M1141.48 19.7984 L1148.93 19.7984 L1148.93 29.237 L1141.48 29.237 L1141.48 19.7984 Z\" fill=\"#000000\" fill-rule=\"nonzero\" fill-opacity=\"1\" /><path clip-path=\"url(#clip240)\" d=\"M1203.34 58.282 L1203.34 61.9278 L1169.07 61.9278 Q1169.55 69.6245 1173.68 73.6754 Q1177.86 77.6858 1185.27 77.6858 Q1189.56 77.6858 1193.57 76.6326 Q1197.63 75.5793 1201.6 73.4728 L1201.6 80.5214 Q1197.59 82.2228 1193.37 83.114 Q1189.16 84.0052 1184.82 84.0052 Q1173.97 84.0052 1167.61 77.6858 Q1161.29 71.3664 1161.29 60.591 Q1161.29 49.451 1167.28 42.929 Q1173.32 36.3666 1183.53 36.3666 Q1192.68 36.3666 1197.99 42.2809 Q1203.34 48.1547 1203.34 58.282 M1195.88 56.0945 Q1195.8 49.9776 1192.44 46.3318 Q1189.12 42.686 1183.61 42.686 Q1177.37 42.686 1173.6 46.2103 Q1169.88 49.7346 1169.31 56.135 L1195.88 56.0945 Z\" fill=\"#000000\" fill-rule=\"nonzero\" fill-opacity=\"1\" /><path clip-path=\"url(#clip240)\" d=\"M1248.22 39.2022 L1248.22 46.1698 Q1245.06 44.4279 1241.86 43.5772 Q1238.7 42.686 1235.46 42.686 Q1228.21 42.686 1224.2 47.304 Q1220.19 51.8815 1220.19 60.1859 Q1220.19 68.4902 1224.2 73.1083 Q1228.21 77.6858 1235.46 77.6858 Q1238.7 77.6858 1241.86 76.8351 Q1245.06 75.9439 1248.22 74.202 L1248.22 81.0885 Q1245.1 82.5469 1241.74 83.276 Q1238.42 84.0052 1234.65 84.0052 Q1224.4 84.0052 1218.37 77.5643 Q1212.33 71.1233 1212.33 60.1859 Q1212.33 49.0864 1218.41 42.7265 Q1224.52 36.3666 1235.14 36.3666 Q1238.58 36.3666 1241.86 37.0957 Q1245.14 37.7844 1248.22 39.2022 Z\" fill=\"#000000\" fill-rule=\"nonzero\" fill-opacity=\"1\" /><path clip-path=\"url(#clip240)\" d=\"M1268.56 24.5784 L1268.56 37.4603 L1283.91 37.4603 L1283.91 43.2531 L1268.56 43.2531 L1268.56 67.8826 Q1268.56 73.4323 1270.06 75.0122 Q1271.6 76.592 1276.25 76.592 L1283.91 76.592 L1283.91 82.8304 L1276.25 82.8304 Q1267.63 82.8304 1264.34 79.6302 Q1261.06 76.3895 1261.06 67.8826 L1261.06 43.2531 L1255.59 43.2531 L1255.59 37.4603 L1261.06 37.4603 L1261.06 24.5784 L1268.56 24.5784 Z\" fill=\"#000000\" fill-rule=\"nonzero\" fill-opacity=\"1\" /><path clip-path=\"url(#clip240)\" d=\"M1293.71 37.4603 L1301.17 37.4603 L1301.17 82.8304 L1293.71 82.8304 L1293.71 37.4603 M1293.71 19.7984 L1301.17 19.7984 L1301.17 29.237 L1293.71 29.237 L1293.71 19.7984 Z\" fill=\"#000000\" fill-rule=\"nonzero\" fill-opacity=\"1\" /><path clip-path=\"url(#clip240)\" d=\"M1311.42 37.4603 L1319.31 37.4603 L1333.49 75.5388 L1347.67 37.4603 L1355.57 37.4603 L1338.56 82.8304 L1328.43 82.8304 L1311.42 37.4603 Z\" fill=\"#000000\" fill-rule=\"nonzero\" fill-opacity=\"1\" /><path clip-path=\"url(#clip240)\" d=\"M1404.67 58.282 L1404.67 61.9278 L1370.4 61.9278 Q1370.88 69.6245 1375.01 73.6754 Q1379.19 77.6858 1386.6 77.6858 Q1390.89 77.6858 1394.9 76.6326 Q1398.96 75.5793 1402.93 73.4728 L1402.93 80.5214 Q1398.92 82.2228 1394.7 83.114 Q1390.49 84.0052 1386.15 84.0052 Q1375.3 84.0052 1368.94 77.6858 Q1362.62 71.3664 1362.62 60.591 Q1362.62 49.451 1368.61 42.929 Q1374.65 36.3666 1384.86 36.3666 Q1394.01 36.3666 1399.32 42.2809 Q1404.67 48.1547 1404.67 58.282 M1397.21 56.0945 Q1397.13 49.9776 1393.77 46.3318 Q1390.45 42.686 1384.94 42.686 Q1378.7 42.686 1374.93 46.2103 Q1371.21 49.7346 1370.64 56.135 L1397.21 56.0945 Z\" fill=\"#000000\" fill-rule=\"nonzero\" fill-opacity=\"1\" /><path clip-path=\"url(#clip240)\" d=\"M1479.85 24.3354 L1479.85 32.3157 Q1475.19 30.0877 1471.06 28.9939 Q1466.93 27.9002 1463.08 27.9002 Q1456.4 27.9002 1452.75 30.4928 Q1449.15 33.0853 1449.15 37.8654 Q1449.15 41.8758 1451.54 43.9418 Q1453.97 45.9672 1460.69 47.223 L1465.63 48.2357 Q1474.79 49.9776 1479.12 54.3931 Q1483.5 58.7681 1483.5 66.1407 Q1483.5 74.9312 1477.58 79.4682 Q1471.71 84.0052 1460.33 84.0052 Q1456.03 84.0052 1451.17 83.033 Q1446.35 82.0608 1441.17 80.1568 L1441.17 71.731 Q1446.15 74.5261 1450.93 75.9439 Q1455.71 77.3617 1460.33 77.3617 Q1467.33 77.3617 1471.14 74.6071 Q1474.95 71.8525 1474.95 66.7483 Q1474.95 62.2924 1472.2 59.7808 Q1469.48 57.2692 1463.24 56.0135 L1458.26 55.0412 Q1449.11 53.2183 1445.01 49.3295 Q1440.92 45.4406 1440.92 38.5135 Q1440.92 30.4928 1446.55 25.8747 Q1452.22 21.2567 1462.15 21.2567 Q1466.4 21.2567 1470.82 22.0264 Q1475.23 22.796 1479.85 24.3354 Z\" fill=\"#000000\" fill-rule=\"nonzero\" fill-opacity=\"1\" /><path clip-path=\"url(#clip240)\" d=\"M1503.14 76.0249 L1503.14 100.087 L1495.65 100.087 L1495.65 37.4603 L1503.14 37.4603 L1503.14 44.3468 Q1505.49 40.2959 1509.06 38.3515 Q1512.66 36.3666 1517.65 36.3666 Q1525.91 36.3666 1531.06 42.929 Q1536.24 49.4915 1536.24 60.1859 Q1536.24 70.8803 1531.06 77.4427 Q1525.91 84.0052 1517.65 84.0052 Q1512.66 84.0052 1509.06 82.0608 Q1505.49 80.0758 1503.14 76.0249 M1528.5 60.1859 Q1528.5 51.9625 1525.1 47.304 Q1521.74 42.605 1515.82 42.605 Q1509.91 42.605 1506.51 47.304 Q1503.14 51.9625 1503.14 60.1859 Q1503.14 68.4092 1506.51 73.1083 Q1509.91 77.7668 1515.82 77.7668 Q1521.74 77.7668 1525.1 73.1083 Q1528.5 68.4092 1528.5 60.1859 Z\" fill=\"#000000\" fill-rule=\"nonzero\" fill-opacity=\"1\" /><path clip-path=\"url(#clip240)\" d=\"M1569.22 60.0238 Q1560.18 60.0238 1556.7 62.0898 Q1553.21 64.1558 1553.21 69.1384 Q1553.21 73.1083 1555.81 75.4578 Q1558.44 77.7668 1562.94 77.7668 Q1569.13 77.7668 1572.86 73.3918 Q1576.63 68.9763 1576.63 61.6847 L1576.63 60.0238 L1569.22 60.0238 M1584.08 56.9452 L1584.08 82.8304 L1576.63 82.8304 L1576.63 75.9439 Q1574.08 80.0758 1570.27 82.0608 Q1566.46 84.0052 1560.95 84.0052 Q1553.98 84.0052 1549.85 80.1163 Q1545.76 76.187 1545.76 69.6245 Q1545.76 61.9683 1550.86 58.0794 Q1556.01 54.1905 1566.18 54.1905 L1576.63 54.1905 L1576.63 53.4614 Q1576.63 48.3167 1573.23 45.5216 Q1569.86 42.686 1563.75 42.686 Q1559.86 42.686 1556.17 43.6177 Q1552.48 44.5494 1549.08 46.4128 L1549.08 39.5263 Q1553.17 37.9464 1557.02 37.1767 Q1560.87 36.3666 1564.52 36.3666 Q1574.36 36.3666 1579.22 41.4707 Q1584.08 46.5748 1584.08 56.9452 Z\" fill=\"#000000\" fill-rule=\"nonzero\" fill-opacity=\"1\" /><path clip-path=\"url(#clip240)\" d=\"M1632.09 39.2022 L1632.09 46.1698 Q1628.93 44.4279 1625.73 43.5772 Q1622.57 42.686 1619.32 42.686 Q1612.07 42.686 1608.06 47.304 Q1604.05 51.8815 1604.05 60.1859 Q1604.05 68.4902 1608.06 73.1083 Q1612.07 77.6858 1619.32 77.6858 Q1622.57 77.6858 1625.73 76.8351 Q1628.93 75.9439 1632.09 74.202 L1632.09 81.0885 Q1628.97 82.5469 1625.6 83.276 Q1622.28 84.0052 1618.51 84.0052 Q1608.27 84.0052 1602.23 77.5643 Q1596.19 71.1233 1596.19 60.1859 Q1596.19 49.0864 1602.27 42.7265 Q1608.39 36.3666 1619 36.3666 Q1622.44 36.3666 1625.73 37.0957 Q1629.01 37.7844 1632.09 39.2022 Z\" fill=\"#000000\" fill-rule=\"nonzero\" fill-opacity=\"1\" /><path clip-path=\"url(#clip240)\" d=\"M1683.86 58.282 L1683.86 61.9278 L1649.58 61.9278 Q1650.07 69.6245 1654.2 73.6754 Q1658.38 77.6858 1665.79 77.6858 Q1670.08 77.6858 1674.09 76.6326 Q1678.14 75.5793 1682.11 73.4728 L1682.11 80.5214 Q1678.1 82.2228 1673.89 83.114 Q1669.68 84.0052 1665.34 84.0052 Q1654.49 84.0052 1648.13 77.6858 Q1641.81 71.3664 1641.81 60.591 Q1641.81 49.451 1647.8 42.929 Q1653.84 36.3666 1664.05 36.3666 Q1673.2 36.3666 1678.51 42.2809 Q1683.86 48.1547 1683.86 58.282 M1676.4 56.0945 Q1676.32 49.9776 1672.96 46.3318 Q1669.64 42.686 1664.13 42.686 Q1657.89 42.686 1654.12 46.2103 Q1650.4 49.7346 1649.83 56.135 L1676.4 56.0945 Z\" fill=\"#000000\" fill-rule=\"nonzero\" fill-opacity=\"1\" /><path clip-path=\"url(#clip240)\" d=\"M1775.68 26.5112 Q1775.68 27.044 1775.55 27.3719 Q1775.47 27.6999 1775.14 27.8638 Q1774.86 27.9868 1774.65 28.0278 Q1774.49 28.0688 1773.99 28.1098 Q1771.99 28.2737 1770.31 28.8066 Q1768.63 29.2984 1767.19 30.2822 Q1765.8 31.2659 1765.02 31.9218 Q1764.28 32.5776 1762.97 33.8892 L1761.82 35.0779 L1741 58.9747 Q1740.26 59.7945 1739.81 61.598 L1736.86 73.4439 Q1735.71 78.3626 1735.71 78.7315 Q1735.71 79.4693 1736.12 79.7153 Q1736.57 79.9202 1737.97 80.0432 L1741.16 80.2481 Q1743.05 80.2481 1743.34 80.576 Q1743.5 80.781 1743.5 81.1499 Q1743.5 81.9287 1743.17 82.3386 Q1742.88 82.7075 1742.6 82.7894 Q1742.35 82.8304 1741.9 82.8304 L1731.16 82.5845 L1720.59 82.8304 Q1719.4 82.8304 1719.4 81.8877 Q1719.4 81.2728 1719.48 80.9449 Q1719.6 80.576 1719.97 80.4531 Q1720.34 80.2891 1720.63 80.2891 Q1720.91 80.2481 1721.69 80.2481 Q1723.58 80.2071 1724.52 80.2071 Q1725.5 80.1661 1726.45 79.9202 Q1727.39 79.6743 1727.72 79.5103 Q1728.09 79.3054 1728.5 78.6085 Q1728.95 77.8707 1729.07 77.2969 Q1729.23 76.723 1729.56 75.2884 Q1729.89 74.0177 1731.61 67.0906 Q1733.33 60.1634 1733.33 59.9994 Q1733.33 59.5485 1733.01 58.5648 L1722.68 30.938 Q1722.23 29.7083 1721.86 29.2165 Q1721.49 28.7246 1720.26 28.4377 Q1719.03 28.1098 1716.57 28.1098 Q1715.87 28.1098 1715.54 28.0688 Q1715.22 28.0278 1714.93 27.8228 Q1714.64 27.6179 1714.64 27.167 Q1714.64 26.3882 1714.97 26.0193 Q1715.3 25.6094 1715.54 25.5684 Q1715.83 25.4864 1716.24 25.4864 Q1717.27 25.4864 1720.91 25.6094 Q1724.56 25.7324 1725.63 25.7324 L1736.2 25.4864 Q1737.47 25.4864 1737.47 26.4292 Q1737.47 27.5769 1737.02 27.8638 Q1736.57 28.1098 1735.47 28.1098 Q1730.51 28.1098 1730.51 30.1182 Q1730.51 30.3642 1731 31.5529 L1740.22 56.4743 L1759.69 34.0532 L1759.98 33.7253 Q1760.22 33.3974 1760.43 33.1514 Q1760.63 32.9055 1760.96 32.4546 Q1761.29 32.0037 1761.45 31.6348 Q1761.66 31.2659 1761.82 30.815 Q1761.99 30.3642 1761.99 30.0362 Q1761.99 29.4214 1761.62 29.0115 Q1761.25 28.5606 1760.67 28.3967 Q1760.1 28.2327 1759.69 28.1917 Q1759.28 28.1098 1758.95 28.1098 Q1757.68 28.1098 1757.68 27.085 Q1757.68 26.3472 1758.01 25.9783 Q1758.34 25.5684 1758.58 25.5274 Q1758.87 25.4864 1759.28 25.4864 Q1760.63 25.4864 1763.46 25.6094 Q1766.29 25.7324 1767.68 25.7324 Q1768.83 25.7324 1771.17 25.6094 Q1773.5 25.4864 1774.57 25.4864 Q1775.68 25.4864 1775.68 26.5112 Z\" fill=\"#000000\" fill-rule=\"nonzero\" fill-opacity=\"1\" /><circle clip-path=\"url(#clip242)\" cx=\"1252.94\" cy=\"253.443\" r=\"14.4\" fill=\"#008000\" fill-rule=\"evenodd\" fill-opacity=\"1\" stroke=\"#000000\" stroke-opacity=\"1\" stroke-width=\"3.2\"/>\n",
       "<circle clip-path=\"url(#clip242)\" cx=\"1278.94\" cy=\"331.425\" r=\"14.4\" fill=\"#008000\" fill-rule=\"evenodd\" fill-opacity=\"1\" stroke=\"#000000\" stroke-opacity=\"1\" stroke-width=\"3.2\"/>\n",
       "<circle clip-path=\"url(#clip242)\" cx=\"1304.93\" cy=\"357.42\" r=\"14.4\" fill=\"#008000\" fill-rule=\"evenodd\" fill-opacity=\"1\" stroke=\"#000000\" stroke-opacity=\"1\" stroke-width=\"3.2\"/>\n",
       "<circle clip-path=\"url(#clip242)\" cx=\"1382.92\" cy=\"383.414\" r=\"14.4\" fill=\"#008000\" fill-rule=\"evenodd\" fill-opacity=\"1\" stroke=\"#000000\" stroke-opacity=\"1\" stroke-width=\"3.2\"/>\n",
       "<circle clip-path=\"url(#clip242)\" cx=\"1408.91\" cy=\"409.408\" r=\"14.4\" fill=\"#008000\" fill-rule=\"evenodd\" fill-opacity=\"1\" stroke=\"#000000\" stroke-opacity=\"1\" stroke-width=\"3.2\"/>\n",
       "<circle clip-path=\"url(#clip242)\" cx=\"1434.9\" cy=\"487.39\" r=\"14.4\" fill=\"#008000\" fill-rule=\"evenodd\" fill-opacity=\"1\" stroke=\"#000000\" stroke-opacity=\"1\" stroke-width=\"3.2\"/>\n",
       "<circle clip-path=\"url(#clip242)\" cx=\"1460.9\" cy=\"513.384\" r=\"14.4\" fill=\"#008000\" fill-rule=\"evenodd\" fill-opacity=\"1\" stroke=\"#000000\" stroke-opacity=\"1\" stroke-width=\"3.2\"/>\n",
       "<circle clip-path=\"url(#clip242)\" cx=\"1538.88\" cy=\"539.379\" r=\"14.4\" fill=\"#008000\" fill-rule=\"evenodd\" fill-opacity=\"1\" stroke=\"#000000\" stroke-opacity=\"1\" stroke-width=\"3.2\"/>\n",
       "<circle clip-path=\"url(#clip242)\" cx=\"1616.86\" cy=\"669.349\" r=\"14.4\" fill=\"#008000\" fill-rule=\"evenodd\" fill-opacity=\"1\" stroke=\"#000000\" stroke-opacity=\"1\" stroke-width=\"3.2\"/>\n",
       "<circle clip-path=\"url(#clip242)\" cx=\"1642.86\" cy=\"721.338\" r=\"14.4\" fill=\"#008000\" fill-rule=\"evenodd\" fill-opacity=\"1\" stroke=\"#000000\" stroke-opacity=\"1\" stroke-width=\"3.2\"/>\n",
       "<circle clip-path=\"url(#clip242)\" cx=\"1668.85\" cy=\"799.32\" r=\"14.4\" fill=\"#008000\" fill-rule=\"evenodd\" fill-opacity=\"1\" stroke=\"#000000\" stroke-opacity=\"1\" stroke-width=\"3.2\"/>\n",
       "<circle clip-path=\"url(#clip242)\" cx=\"1720.84\" cy=\"851.308\" r=\"14.4\" fill=\"#008000\" fill-rule=\"evenodd\" fill-opacity=\"1\" stroke=\"#000000\" stroke-opacity=\"1\" stroke-width=\"3.2\"/>\n",
       "<circle clip-path=\"url(#clip242)\" cx=\"1746.83\" cy=\"929.291\" r=\"14.4\" fill=\"#008000\" fill-rule=\"evenodd\" fill-opacity=\"1\" stroke=\"#000000\" stroke-opacity=\"1\" stroke-width=\"3.2\"/>\n",
       "<circle clip-path=\"url(#clip242)\" cx=\"1772.83\" cy=\"1033.27\" r=\"14.4\" fill=\"#008000\" fill-rule=\"evenodd\" fill-opacity=\"1\" stroke=\"#000000\" stroke-opacity=\"1\" stroke-width=\"3.2\"/>\n",
       "<circle clip-path=\"url(#clip242)\" cx=\"1824.82\" cy=\"1137.24\" r=\"14.4\" fill=\"#008000\" fill-rule=\"evenodd\" fill-opacity=\"1\" stroke=\"#000000\" stroke-opacity=\"1\" stroke-width=\"3.2\"/>\n",
       "<circle clip-path=\"url(#clip242)\" cx=\"1850.81\" cy=\"1215.23\" r=\"14.4\" fill=\"#008000\" fill-rule=\"evenodd\" fill-opacity=\"1\" stroke=\"#000000\" stroke-opacity=\"1\" stroke-width=\"3.2\"/>\n",
       "<polyline clip-path=\"url(#clip242)\" style=\"stroke:#ff0000; stroke-linecap:round; stroke-linejoin:round; stroke-width:4; stroke-opacity:1; fill:none\" points=\"1850.81,2462.95 1850.81,1215.23 1811.82,1078.76 1792.32,1020.27 1746.83,903.297 1720.84,851.308 1616.86,669.349 1538.88,539.379 1252.94,253.443 -410.682,253.443 \"/>\n",
       "<line clip-path=\"url(#clip242)\" x1=\"1850.81\" y1=\"1215.23\" x2=\"1830.81\" y2=\"1195.23\" style=\"stroke:#ff0000; stroke-width:4; stroke-opacity:1\"/>\n",
       "<line clip-path=\"url(#clip242)\" x1=\"1850.81\" y1=\"1215.23\" x2=\"1830.81\" y2=\"1235.23\" style=\"stroke:#ff0000; stroke-width:4; stroke-opacity:1\"/>\n",
       "<line clip-path=\"url(#clip242)\" x1=\"1850.81\" y1=\"1215.23\" x2=\"1870.81\" y2=\"1235.23\" style=\"stroke:#ff0000; stroke-width:4; stroke-opacity:1\"/>\n",
       "<line clip-path=\"url(#clip242)\" x1=\"1850.81\" y1=\"1215.23\" x2=\"1870.81\" y2=\"1195.23\" style=\"stroke:#ff0000; stroke-width:4; stroke-opacity:1\"/>\n",
       "<line clip-path=\"url(#clip242)\" x1=\"1811.82\" y1=\"1078.76\" x2=\"1791.82\" y2=\"1058.76\" style=\"stroke:#ff0000; stroke-width:4; stroke-opacity:1\"/>\n",
       "<line clip-path=\"url(#clip242)\" x1=\"1811.82\" y1=\"1078.76\" x2=\"1791.82\" y2=\"1098.76\" style=\"stroke:#ff0000; stroke-width:4; stroke-opacity:1\"/>\n",
       "<line clip-path=\"url(#clip242)\" x1=\"1811.82\" y1=\"1078.76\" x2=\"1831.82\" y2=\"1098.76\" style=\"stroke:#ff0000; stroke-width:4; stroke-opacity:1\"/>\n",
       "<line clip-path=\"url(#clip242)\" x1=\"1811.82\" y1=\"1078.76\" x2=\"1831.82\" y2=\"1058.76\" style=\"stroke:#ff0000; stroke-width:4; stroke-opacity:1\"/>\n",
       "<line clip-path=\"url(#clip242)\" x1=\"1792.32\" y1=\"1020.27\" x2=\"1772.32\" y2=\"1000.27\" style=\"stroke:#ff0000; stroke-width:4; stroke-opacity:1\"/>\n",
       "<line clip-path=\"url(#clip242)\" x1=\"1792.32\" y1=\"1020.27\" x2=\"1772.32\" y2=\"1040.27\" style=\"stroke:#ff0000; stroke-width:4; stroke-opacity:1\"/>\n",
       "<line clip-path=\"url(#clip242)\" x1=\"1792.32\" y1=\"1020.27\" x2=\"1812.32\" y2=\"1040.27\" style=\"stroke:#ff0000; stroke-width:4; stroke-opacity:1\"/>\n",
       "<line clip-path=\"url(#clip242)\" x1=\"1792.32\" y1=\"1020.27\" x2=\"1812.32\" y2=\"1000.27\" style=\"stroke:#ff0000; stroke-width:4; stroke-opacity:1\"/>\n",
       "<line clip-path=\"url(#clip242)\" x1=\"1746.83\" y1=\"903.297\" x2=\"1726.83\" y2=\"883.297\" style=\"stroke:#ff0000; stroke-width:4; stroke-opacity:1\"/>\n",
       "<line clip-path=\"url(#clip242)\" x1=\"1746.83\" y1=\"903.297\" x2=\"1726.83\" y2=\"923.297\" style=\"stroke:#ff0000; stroke-width:4; stroke-opacity:1\"/>\n",
       "<line clip-path=\"url(#clip242)\" x1=\"1746.83\" y1=\"903.297\" x2=\"1766.83\" y2=\"923.297\" style=\"stroke:#ff0000; stroke-width:4; stroke-opacity:1\"/>\n",
       "<line clip-path=\"url(#clip242)\" x1=\"1746.83\" y1=\"903.297\" x2=\"1766.83\" y2=\"883.297\" style=\"stroke:#ff0000; stroke-width:4; stroke-opacity:1\"/>\n",
       "<line clip-path=\"url(#clip242)\" x1=\"1720.84\" y1=\"851.308\" x2=\"1700.84\" y2=\"831.308\" style=\"stroke:#ff0000; stroke-width:4; stroke-opacity:1\"/>\n",
       "<line clip-path=\"url(#clip242)\" x1=\"1720.84\" y1=\"851.308\" x2=\"1700.84\" y2=\"871.308\" style=\"stroke:#ff0000; stroke-width:4; stroke-opacity:1\"/>\n",
       "<line clip-path=\"url(#clip242)\" x1=\"1720.84\" y1=\"851.308\" x2=\"1740.84\" y2=\"871.308\" style=\"stroke:#ff0000; stroke-width:4; stroke-opacity:1\"/>\n",
       "<line clip-path=\"url(#clip242)\" x1=\"1720.84\" y1=\"851.308\" x2=\"1740.84\" y2=\"831.308\" style=\"stroke:#ff0000; stroke-width:4; stroke-opacity:1\"/>\n",
       "<line clip-path=\"url(#clip242)\" x1=\"1616.86\" y1=\"669.349\" x2=\"1596.86\" y2=\"649.349\" style=\"stroke:#ff0000; stroke-width:4; stroke-opacity:1\"/>\n",
       "<line clip-path=\"url(#clip242)\" x1=\"1616.86\" y1=\"669.349\" x2=\"1596.86\" y2=\"689.349\" style=\"stroke:#ff0000; stroke-width:4; stroke-opacity:1\"/>\n",
       "<line clip-path=\"url(#clip242)\" x1=\"1616.86\" y1=\"669.349\" x2=\"1636.86\" y2=\"689.349\" style=\"stroke:#ff0000; stroke-width:4; stroke-opacity:1\"/>\n",
       "<line clip-path=\"url(#clip242)\" x1=\"1616.86\" y1=\"669.349\" x2=\"1636.86\" y2=\"649.349\" style=\"stroke:#ff0000; stroke-width:4; stroke-opacity:1\"/>\n",
       "<line clip-path=\"url(#clip242)\" x1=\"1538.88\" y1=\"539.379\" x2=\"1518.88\" y2=\"519.379\" style=\"stroke:#ff0000; stroke-width:4; stroke-opacity:1\"/>\n",
       "<line clip-path=\"url(#clip242)\" x1=\"1538.88\" y1=\"539.379\" x2=\"1518.88\" y2=\"559.379\" style=\"stroke:#ff0000; stroke-width:4; stroke-opacity:1\"/>\n",
       "<line clip-path=\"url(#clip242)\" x1=\"1538.88\" y1=\"539.379\" x2=\"1558.88\" y2=\"559.379\" style=\"stroke:#ff0000; stroke-width:4; stroke-opacity:1\"/>\n",
       "<line clip-path=\"url(#clip242)\" x1=\"1538.88\" y1=\"539.379\" x2=\"1558.88\" y2=\"519.379\" style=\"stroke:#ff0000; stroke-width:4; stroke-opacity:1\"/>\n",
       "<line clip-path=\"url(#clip242)\" x1=\"1252.94\" y1=\"253.443\" x2=\"1232.94\" y2=\"233.443\" style=\"stroke:#ff0000; stroke-width:4; stroke-opacity:1\"/>\n",
       "<line clip-path=\"url(#clip242)\" x1=\"1252.94\" y1=\"253.443\" x2=\"1232.94\" y2=\"273.443\" style=\"stroke:#ff0000; stroke-width:4; stroke-opacity:1\"/>\n",
       "<line clip-path=\"url(#clip242)\" x1=\"1252.94\" y1=\"253.443\" x2=\"1272.94\" y2=\"273.443\" style=\"stroke:#ff0000; stroke-width:4; stroke-opacity:1\"/>\n",
       "<line clip-path=\"url(#clip242)\" x1=\"1252.94\" y1=\"253.443\" x2=\"1272.94\" y2=\"233.443\" style=\"stroke:#ff0000; stroke-width:4; stroke-opacity:1\"/>\n",
       "<path clip-path=\"url(#clip240)\" d=\"M1569.68 322.316 L1857.2 322.316 L1857.2 166.796 L1569.68 166.796  Z\" fill=\"#ffffff\" fill-rule=\"evenodd\" fill-opacity=\"1\"/>\n",
       "<polyline clip-path=\"url(#clip240)\" style=\"stroke:#000000; stroke-linecap:round; stroke-linejoin:round; stroke-width:4; stroke-opacity:1; fill:none\" points=\"1569.68,322.316 1857.2,322.316 1857.2,166.796 1569.68,166.796 1569.68,322.316 \"/>\n",
       "<circle clip-path=\"url(#clip240)\" cx=\"1665.13\" cy=\"218.636\" r=\"20.48\" fill=\"#008000\" fill-rule=\"evenodd\" fill-opacity=\"1\" stroke=\"#000000\" stroke-opacity=\"1\" stroke-width=\"4.55111\"/>\n",
       "<path clip-path=\"url(#clip240)\" d=\"M1795.46 195.865 Q1795.46 196.169 1795.39 196.357 Q1795.34 196.544 1795.15 196.638 Q1794.99 196.708 1794.87 196.731 Q1794.78 196.755 1794.5 196.778 Q1793.35 196.872 1792.39 197.176 Q1791.43 197.457 1790.61 198.02 Q1789.81 198.582 1789.37 198.956 Q1788.95 199.331 1788.2 200.081 L1787.54 200.76 L1775.64 214.415 Q1775.22 214.884 1774.96 215.914 L1773.28 222.683 Q1772.62 225.494 1772.62 225.705 Q1772.62 226.126 1772.85 226.267 Q1773.11 226.384 1773.91 226.454 L1775.74 226.572 Q1776.81 226.572 1776.98 226.759 Q1777.07 226.876 1777.07 227.087 Q1777.07 227.532 1776.88 227.766 Q1776.72 227.977 1776.56 228.024 Q1776.42 228.047 1776.16 228.047 L1770.02 227.907 L1763.98 228.047 Q1763.3 228.047 1763.3 227.508 Q1763.3 227.157 1763.35 226.97 Q1763.42 226.759 1763.63 226.689 Q1763.84 226.595 1764 226.595 Q1764.17 226.572 1764.61 226.572 Q1765.69 226.548 1766.23 226.548 Q1766.79 226.525 1767.33 226.384 Q1767.87 226.244 1768.05 226.15 Q1768.26 226.033 1768.5 225.635 Q1768.76 225.213 1768.83 224.885 Q1768.92 224.557 1769.11 223.737 Q1769.29 223.011 1770.28 219.053 Q1771.26 215.095 1771.26 215.001 Q1771.26 214.743 1771.07 214.181 L1765.17 198.394 Q1764.91 197.692 1764.7 197.411 Q1764.49 197.129 1763.79 196.966 Q1763.09 196.778 1761.68 196.778 Q1761.28 196.778 1761.1 196.755 Q1760.91 196.731 1760.75 196.614 Q1760.58 196.497 1760.58 196.239 Q1760.58 195.794 1760.77 195.584 Q1760.96 195.349 1761.1 195.326 Q1761.26 195.279 1761.5 195.279 Q1762.08 195.279 1764.17 195.349 Q1766.25 195.42 1766.86 195.42 L1772.9 195.279 Q1773.63 195.279 1773.63 195.818 Q1773.63 196.474 1773.37 196.638 Q1773.11 196.778 1772.48 196.778 Q1769.65 196.778 1769.65 197.926 Q1769.65 198.066 1769.93 198.746 L1775.2 212.986 L1786.32 200.174 L1786.49 199.987 Q1786.63 199.8 1786.74 199.659 Q1786.86 199.519 1787.05 199.261 Q1787.24 199.003 1787.33 198.792 Q1787.45 198.582 1787.54 198.324 Q1787.63 198.066 1787.63 197.879 Q1787.63 197.528 1787.42 197.293 Q1787.21 197.036 1786.88 196.942 Q1786.56 196.848 1786.32 196.825 Q1786.09 196.778 1785.9 196.778 Q1785.18 196.778 1785.18 196.193 Q1785.18 195.771 1785.36 195.56 Q1785.55 195.326 1785.69 195.303 Q1785.85 195.279 1786.09 195.279 Q1786.86 195.279 1788.48 195.349 Q1790.09 195.42 1790.89 195.42 Q1791.55 195.42 1792.88 195.349 Q1794.22 195.279 1794.83 195.279 Q1795.46 195.279 1795.46 195.865 Z\" fill=\"#000000\" fill-rule=\"nonzero\" fill-opacity=\"1\" /><path clip-path=\"url(#clip240)\" d=\"M1828.5 219.117 Q1828.5 219.789 1827.93 219.789 Q1826.07 219.855 1825.32 220.478 Q1824.58 221.084 1824.3 222.265 L1819.61 240.972 Q1819.45 241.563 1819.35 241.628 Q1819.25 241.677 1819.07 241.677 Q1818.84 241.677 1818.71 241.563 Q1818.6 241.448 1818.43 241.038 L1810.07 221.265 Q1810 221.134 1809.92 220.953 Q1809.84 220.773 1809.78 220.658 L1805.33 238.382 Q1805.2 238.89 1805.2 239.152 Q1805.2 239.792 1805.64 240.202 Q1806.1 240.595 1807.41 240.645 Q1808.09 240.645 1808.09 241.005 Q1808.09 241.677 1807.48 241.677 Q1806.92 241.677 1805.76 241.628 Q1804.59 241.579 1804.02 241.579 Q1803.46 241.579 1802.33 241.628 Q1801.2 241.677 1800.66 241.677 Q1800.23 241.677 1800.23 241.3 Q1800.23 241.005 1800.35 240.858 Q1800.46 240.694 1800.56 240.677 Q1800.66 240.645 1800.81 240.645 Q1801.79 240.612 1802.46 240.415 Q1803.13 240.218 1803.51 239.841 Q1803.91 239.464 1804.09 239.087 Q1804.28 238.693 1804.43 238.12 L1808.92 220.084 Q1808.92 219.789 1806.64 219.789 Q1806.25 219.789 1806.09 219.773 Q1805.94 219.756 1805.82 219.674 Q1805.71 219.592 1805.71 219.412 Q1805.71 218.953 1805.91 218.855 Q1806.1 218.74 1806.68 218.74 L1811.19 218.74 Q1811.76 218.74 1811.91 218.838 Q1812.05 218.92 1812.25 219.379 L1819.68 236.906 L1823.43 221.97 Q1823.53 221.675 1823.53 221.265 Q1823.53 220.609 1823.04 220.215 Q1822.56 219.806 1821.25 219.789 Q1820.65 219.789 1820.65 219.412 Q1820.65 219.101 1820.76 218.953 Q1820.89 218.789 1820.99 218.773 Q1821.1 218.74 1821.25 218.74 Q1821.81 218.74 1822.96 218.789 Q1824.1 218.838 1824.68 218.838 Q1825.24 218.838 1826.37 218.789 Q1827.52 218.74 1828.07 218.74 Q1828.27 218.74 1828.37 218.838 Q1828.48 218.92 1828.5 219.019 L1828.5 219.117 Z\" fill=\"#000000\" fill-rule=\"nonzero\" fill-opacity=\"1\" /><polyline clip-path=\"url(#clip240)\" style=\"stroke:#ff0000; stroke-linecap:round; stroke-linejoin:round; stroke-width:4; stroke-opacity:1; fill:none\" points=\"1593.54,270.476 1736.72,270.476 \"/>\n",
       "<line clip-path=\"url(#clip240)\" x1=\"1665.13\" y1=\"270.476\" x2=\"1643.04\" y2=\"248.381\" style=\"stroke:#ff0000; stroke-width:4; stroke-opacity:1\"/>\n",
       "<line clip-path=\"url(#clip240)\" x1=\"1665.13\" y1=\"270.476\" x2=\"1643.04\" y2=\"292.571\" style=\"stroke:#ff0000; stroke-width:4; stroke-opacity:1\"/>\n",
       "<line clip-path=\"url(#clip240)\" x1=\"1665.13\" y1=\"270.476\" x2=\"1687.23\" y2=\"292.571\" style=\"stroke:#ff0000; stroke-width:4; stroke-opacity:1\"/>\n",
       "<line clip-path=\"url(#clip240)\" x1=\"1665.13\" y1=\"270.476\" x2=\"1687.23\" y2=\"248.381\" style=\"stroke:#ff0000; stroke-width:4; stroke-opacity:1\"/>\n",
       "<path clip-path=\"url(#clip240)\" d=\"M1793.82 253.95 Q1793.82 254.91 1793.02 254.91 Q1791.62 254.957 1790.66 255.238 Q1789.7 255.495 1789.13 256.011 Q1788.59 256.526 1788.29 257.088 Q1788.01 257.627 1787.82 258.447 L1783.56 275.475 Q1782.34 280.276 1778.41 283.766 Q1774.47 287.233 1770 287.233 Q1767.44 287.233 1765.31 286.179 Q1763.2 285.125 1761.89 282.993 Q1760.58 280.862 1760.58 278.028 Q1760.58 276.669 1760.93 275.241 L1763.84 263.389 L1764.91 259.173 Q1765.71 256.058 1765.71 255.777 Q1765.71 255.331 1765.43 255.214 Q1765.17 255.074 1764.42 255.004 L1762.6 254.91 Q1762.03 254.91 1761.8 254.886 Q1761.59 254.863 1761.42 254.746 Q1761.26 254.629 1761.26 254.371 Q1761.26 254.043 1761.33 253.832 Q1761.42 253.598 1761.59 253.528 Q1761.75 253.458 1761.87 253.434 Q1761.99 253.411 1762.17 253.411 L1768.36 253.551 L1774.49 253.411 Q1775.17 253.411 1775.17 253.95 Q1775.17 254.629 1774.87 254.769 Q1774.56 254.91 1773.53 254.91 Q1771.78 254.91 1770.98 255.144 Q1770.21 255.355 1769.97 255.73 Q1769.76 256.081 1769.51 257.112 L1764.84 275.779 Q1764.61 276.716 1764.47 277.653 Q1764.35 278.567 1764.35 279.035 L1764.33 279.503 Q1764.33 282.478 1765.97 284.118 Q1767.63 285.757 1770.18 285.757 Q1773.93 285.757 1777.42 282.783 Q1780.94 279.808 1782.13 275.147 L1786.44 258.025 Q1786.58 257.603 1786.58 257.018 Q1786.58 256.081 1785.88 255.519 Q1785.2 254.933 1783.32 254.91 Q1782.46 254.91 1782.46 254.371 Q1782.46 253.926 1782.62 253.715 Q1782.81 253.481 1782.95 253.458 Q1783.11 253.411 1783.32 253.411 Q1784.12 253.411 1785.81 253.481 Q1787.49 253.551 1788.31 253.551 Q1789.13 253.551 1790.77 253.481 Q1792.41 253.411 1793.21 253.411 Q1793.49 253.411 1793.63 253.551 Q1793.79 253.668 1793.82 253.809 L1793.82 253.95 Z\" fill=\"#000000\" fill-rule=\"nonzero\" fill-opacity=\"1\" /></svg>\n"
      ]
     },
     "execution_count": 59,
     "metadata": {},
     "output_type": "execute_result"
    }
   ],
   "source": [
    "using Plots\n",
    "\n",
    "Plots.scatter(\n",
    "      [YN[i][1] for i in 1:length(YN)],\n",
    "      [YN[i][2] for i in 1:length(YN)];\n",
    "      aspect_ratio=:equal,\n",
    "      markercolor = :green,\n",
    "      xlabel = \"\\$z_1(x)\\$\",\n",
    "      ylabel = \"\\$z_2(x)\\$\",\n",
    "      title  = \"GAP: Objective Space \\$Y\\$\",\n",
    "      label  = \"\\$Y_N\\$\",\n",
    "      xlims  = (40, 80),\n",
    "      ylims  = (40, 80),\n",
    ")\n",
    "Plots.plot!(\n",
    "      [U[i][1] for i in 1:length(U)],\n",
    "      [U[i][2] for i in 1:length(U)];\n",
    "      linecolor = :red,\n",
    "      markershape = :xcross,\n",
    "      markercolor = :red,\n",
    "      markersize = 5,\n",
    "      label  = \"\\$U\\$\",\n",
    "      xlims  = (40, 90),\n",
    "      ylims  = (40, 90),\n",
    ")\n"
   ]
  },
  {
   "cell_type": "code",
   "execution_count": null,
   "metadata": {},
   "outputs": [],
   "source": []
  }
 ],
 "metadata": {
  "celltoolbar": "Raw Cell Format",
  "kernelspec": {
   "display_name": "Julia 1.10.5",
   "language": "julia",
   "name": "julia-1.10"
  },
  "language_info": {
   "file_extension": ".jl",
   "mimetype": "application/julia",
   "name": "julia",
   "version": "1.10.5"
  }
 },
 "nbformat": 4,
 "nbformat_minor": 4
}
