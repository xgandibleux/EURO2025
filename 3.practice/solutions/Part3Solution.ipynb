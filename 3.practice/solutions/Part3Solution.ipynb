{
 "cells": [
  {
   "cell_type": "markdown",
   "metadata": {},
   "source": [
    "## Disclaimer\n",
    "\n",
    "**Environment:** This notebook has been tested with:\n",
    "\n",
    "- Julia v1.11.x\n",
    "- JuMP.jl v1.26.x\n",
    "- HiGHS v1.18.1\n",
    "\n",
    "**Author:** Xavier Gandibleux, Nantes (France)\n"
   ]
  },
  {
   "cell_type": "markdown",
   "metadata": {},
   "source": [
    "----"
   ]
  },
  {
   "cell_type": "markdown",
   "metadata": {},
   "source": [
    "## Part 3: Multi-Objective Optimization\n",
    "\n",
    "Given the bi-objective 01 Unidimensional Knapsack Problem (bi-01UKP) formulated by \n",
    "$$z=\\max\\big\\{(p^1x,\\ p^2x) \\mid wx \\le c, \\ x\\in\\{0,1\\}^n\\big\\}$$\n",
    "\n",
    "and the numerical instance corresponding to \n",
    "$$n=5$$\n",
    "$$p^1=(6, \\ 4, \\ 4, \\ 4, \\ 3)$$\n",
    "$$p^2=(12, 10, \\ 5, \\ 3, \\ 1)$$\n",
    "$$w=(\\ 8, \\ 6, \\ 4, \\ 3, \\ 2)$$\n",
    "$$c=15$$\n",
    "\n",
    "answer to the following questions:\n",
    "\n",
    "1. using the package `JuMP`, implement an implicit formulation of the bi-01UKP and display the model.\n",
    "2. using the package `MultiObjectiveAlgorithms`, compute and display $X_E$ and $Y_N$, a set of efficient solutions and the set of non-dominated points.\n",
    "3. using the package `Plots`, display $Y_N$ in the objective space $Y$\n"
   ]
  },
  {
   "cell_type": "markdown",
   "metadata": {},
   "source": [
    "## Answers:\n",
    "\n",
    "----\n",
    "### 1. using the package `JuMP`, implement an implicit formulation of the bi-01UKP and display the model."
   ]
  },
  {
   "cell_type": "markdown",
   "metadata": {},
   "source": [
    "#### declare the package(s) to use:"
   ]
  },
  {
   "cell_type": "code",
   "execution_count": 1,
   "metadata": {},
   "outputs": [],
   "source": [
    "using JuMP, HiGHS\n",
    "import MultiObjectiveAlgorithms as MOA"
   ]
  },
  {
   "cell_type": "markdown",
   "metadata": {},
   "source": [
    "<br>\n",
    "\n",
    "#### setup the instance to solve"
   ]
  },
  {
   "cell_type": "code",
   "execution_count": 2,
   "metadata": {},
   "outputs": [
    {
     "data": {
      "text/plain": [
       "5"
      ]
     },
     "execution_count": 2,
     "metadata": {},
     "output_type": "execute_result"
    }
   ],
   "source": [
    "p1 = [  6,  4, 4, 4, 3 ] # profit 1\n",
    "p2 = [ 12, 10, 5, 3, 1 ] # profit 2\n",
    "w  = [  8,  6, 4, 3, 2 ] # weight\n",
    "c  = 15                                        # capacity\n",
    "n  = length(p1)           # number of items"
   ]
  },
  {
   "cell_type": "markdown",
   "metadata": {},
   "source": [
    "<br>\n",
    "\n",
    "#### setup the formulation"
   ]
  },
  {
   "cell_type": "code",
   "execution_count": 3,
   "metadata": {},
   "outputs": [
    {
     "data": {
      "text/latex": [
       "$$ \\begin{aligned}\n",
       "\\max\\quad & [6 x_{1} + 4 x_{2} + 4 x_{3} + 4 x_{4} + 3 x_{5}, 12 x_{1} + 10 x_{2} + 5 x_{3} + 3 x_{4} + x_{5}]\\\\\n",
       "\\text{Subject to} \\quad & 8 x_{1} + 6 x_{2} + 4 x_{3} + 3 x_{4} + 2 x_{5} \\leq 15\\\\\n",
       " & x_{1} \\in \\{0, 1\\}\\\\\n",
       " & x_{2} \\in \\{0, 1\\}\\\\\n",
       " & x_{3} \\in \\{0, 1\\}\\\\\n",
       " & x_{4} \\in \\{0, 1\\}\\\\\n",
       " & x_{5} \\in \\{0, 1\\}\\\\\n",
       "\\end{aligned} $$"
      ]
     },
     "metadata": {},
     "output_type": "display_data"
    }
   ],
   "source": [
    "bi01UKP = Model( )\n",
    "\n",
    "@variable(bi01UKP, x[1:n], Bin)\n",
    "\n",
    "@expression(bi01UKP, objective1, sum(p1[i] * x[i] for i in 1:n))\n",
    "@expression(bi01UKP, objective2, sum(p2[i] * x[i] for i in 1:n))\n",
    "@objective(bi01UKP, Max, [objective1, objective2])\n",
    "\n",
    "@constraint(bi01UKP, sum(w[i] * x[i] for i in 1:n) ≤ c)\n",
    "\n",
    "print(bi01UKP)"
   ]
  },
  {
   "cell_type": "markdown",
   "metadata": {},
   "source": [
    "<br>\n",
    "\n",
    "---- \n",
    "### 2. using the package `MultiObjectiveAlgorithms`, compute $Y_N$, the set of non-dominated points."
   ]
  },
  {
   "cell_type": "markdown",
   "metadata": {},
   "source": [
    "#### setup the MIP solver to use\n",
    "<ins>Hints:</ins> see `set_optimizer()`"
   ]
  },
  {
   "cell_type": "code",
   "execution_count": 4,
   "metadata": {},
   "outputs": [],
   "source": [
    "set_optimizer(bi01UKP, () -> MOA.Optimizer(HiGHS.Optimizer))"
   ]
  },
  {
   "cell_type": "markdown",
   "metadata": {},
   "source": [
    "<br>\n",
    "\n",
    "#### setup the algorithm to use\n",
    "<ins>Hints:</ins> see `set_attribute()`"
   ]
  },
  {
   "cell_type": "code",
   "execution_count": 5,
   "metadata": {},
   "outputs": [],
   "source": [
    "set_attribute(bi01UKP, MOA.Algorithm(), MOA.EpsilonConstraint())"
   ]
  },
  {
   "cell_type": "markdown",
   "metadata": {},
   "source": [
    "<br>\n",
    "\n",
    "#### solve the problem"
   ]
  },
  {
   "cell_type": "code",
   "execution_count": 6,
   "metadata": {},
   "outputs": [],
   "source": [
    "set_silent(bi01UKP)\n",
    "optimize!(bi01UKP)\n",
    "@assert is_solved_and_feasible(bi01UKP)"
   ]
  },
  {
   "cell_type": "markdown",
   "metadata": {},
   "source": [
    "<br>\n",
    "\n",
    "#### query the number of points in $Y_N$\n",
    "<ins>Hints:</ins> see `result_count()`"
   ]
  },
  {
   "cell_type": "code",
   "execution_count": 7,
   "metadata": {},
   "outputs": [
    {
     "data": {
      "text/plain": [
       "3"
      ]
     },
     "execution_count": 7,
     "metadata": {},
     "output_type": "execute_result"
    }
   ],
   "source": [
    "result_count(bi01UKP)"
   ]
  },
  {
   "cell_type": "markdown",
   "metadata": {},
   "source": [
    "<br>\n",
    "\n",
    "#### query the vector values of the 3rd point"
   ]
  },
  {
   "cell_type": "code",
   "execution_count": 8,
   "metadata": {},
   "outputs": [
    {
     "data": {
      "text/plain": [
       "2-element Vector{Float64}:\n",
       " 15.0\n",
       " 19.0"
      ]
     },
     "execution_count": 8,
     "metadata": {},
     "output_type": "execute_result"
    }
   ],
   "source": [
    "objective_value(bi01UKP; result = 3)"
   ]
  },
  {
   "cell_type": "markdown",
   "metadata": {},
   "source": [
    "<br>\n",
    "\n",
    "#### query the value for the first objective of the 3rd point"
   ]
  },
  {
   "cell_type": "code",
   "execution_count": 9,
   "metadata": {},
   "outputs": [
    {
     "data": {
      "text/plain": [
       "15.0"
      ]
     },
     "execution_count": 9,
     "metadata": {},
     "output_type": "execute_result"
    }
   ],
   "source": [
    "value(objective1; result = 3)"
   ]
  },
  {
   "cell_type": "markdown",
   "metadata": {},
   "source": [
    "<br>\n",
    "\n",
    "#### display $X_E$ and $Y_N$"
   ]
  },
  {
   "cell_type": "code",
   "execution_count": 10,
   "metadata": {},
   "outputs": [
    {
     "name": "stdout",
     "output_type": "stream",
     "text": [
      "1: x = [1, 1, 0, 0, 0] | z = [10, 22]\n",
      "2: x = [1, 0, 1, 1, 0] | z = [14, 20]\n",
      "3: x = [0, 1, 1, 1, 1] | z = [15, 19]\n"
     ]
    }
   ],
   "source": [
    "for i in 1:result_count(bi01UKP)\n",
    "    @assert is_solved_and_feasible(bi01UKP; result = i)\n",
    "    print(i, \": x = \", round.(Int, value.(x; result = i)), \" | \")\n",
    "    println(\"z = \", round.(Int, objective_value(bi01UKP; result = i)))\n",
    "end"
   ]
  },
  {
   "cell_type": "markdown",
   "metadata": {},
   "source": [
    "<br>\n",
    "\n",
    "----\n",
    "### 3. using the package `Plots`, display $Y_N$ in the objective space $Y$"
   ]
  },
  {
   "cell_type": "markdown",
   "metadata": {},
   "source": [
    "#### declare the package(s) to use:"
   ]
  },
  {
   "cell_type": "code",
   "execution_count": null,
   "metadata": {},
   "outputs": [],
   "source": [
    "using Plots"
   ]
  },
  {
   "cell_type": "markdown",
   "metadata": {},
   "source": [
    "<br> \n",
    "\n",
    "#### plot $Y_N$ in $Y$:"
   ]
  },
  {
   "cell_type": "code",
   "execution_count": null,
   "metadata": {},
   "outputs": [],
   "source": [
    "Plots.scatter(\n",
    "      [value(objective1; result = i) for i in 1:result_count(bi01UKP)],\n",
    "      [value(objective2; result = i) for i in 1:result_count(bi01UKP)];\n",
    "      xlabel = \"\\$z_1(x)\\$\",\n",
    "      ylabel = \"\\$z_2(x)\\$\",\n",
    "      title  = \"Knapsack: Objective space \\$Y\\$\",\n",
    "      label  = \"\",\n",
    "      xlims  = (5, 25),\n",
    "      ylims  = (5, 25),\n",
    "      aspect_ratio=:equal\n",
    ")\n",
    "\n",
    "for i in 1:result_count(bi01UKP)\n",
    "    y = objective_value(bi01UKP; result = i)\n",
    "    Plots.annotate!(y[1] - 0.75, y[2] - 0.75, (i, 8))\n",
    "end\n",
    "\n",
    "ideal_point = objective_bound(bi01UKP)\n",
    "Plots.scatter!([ideal_point[1]], [ideal_point[2]]; label = \"Ideal point\")"
   ]
  },
  {
   "cell_type": "code",
   "execution_count": null,
   "metadata": {},
   "outputs": [],
   "source": []
  }
 ],
 "metadata": {
  "celltoolbar": "Raw Cell Format",
  "kernelspec": {
   "display_name": "Julia 1.10.5",
   "language": "julia",
   "name": "julia-1.10"
  },
  "language_info": {
   "file_extension": ".jl",
   "mimetype": "application/julia",
   "name": "julia",
   "version": "1.10.5"
  }
 },
 "nbformat": 4,
 "nbformat_minor": 4
}
