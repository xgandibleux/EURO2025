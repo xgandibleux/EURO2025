{
 "cells": [
  {
   "cell_type": "markdown",
   "metadata": {},
   "source": [
    "## Disclaimer\n",
    "\n",
    "**Environment:** This notebook has been tested with:\n",
    "\n",
    "- Julia v1.11.x\n",
    "- JuMP.jl v1.26.x\n",
    "- HiGHS v1.18.1\n",
    "\n",
    "**Author:** Xavier Gandibleux, Nantes (France)\n"
   ]
  },
  {
   "cell_type": "markdown",
   "metadata": {},
   "source": [
    "----"
   ]
  },
  {
   "cell_type": "markdown",
   "metadata": {},
   "source": [
    "## Part 2: Single-Objective Optimization\n",
    "\n",
    "Given the 01 Unidimensional Knapsack Problem (01UKP) formulated by \n",
    "$$z=\\max\\big\\{px \\mid wx \\le c, \\ x\\in\\{0,1\\}^n\\big\\}$$\n",
    "\n",
    "and the numerical instance corresponding to \n",
    "$$n=5$$\n",
    "$$p=(5, 3, 2, 7, 4)$$\n",
    "$$w=(2, 8, 4, 2, 5)$$\n",
    "$$c=10$$\n",
    "\n",
    "answer to the following questions:\n",
    "\n",
    "1. implement an explicit formulation of the 01UKP with JuMP and display the model.\n",
    "2. compute the optimal solution using HiGHS as MIP solver and display the solution.\n",
    "3. compute the linear relaxation using HiGHS as LP solver and display the solution.\n"
   ]
  },
  {
   "cell_type": "markdown",
   "metadata": {},
   "source": [
    "## Answers:"
   ]
  },
  {
   "cell_type": "markdown",
   "metadata": {},
   "source": [
    "----\n",
    "### 1. implement and display an explicit formulation of the 01UKP with JuMP.\n",
    "\n",
    "<ins>indications:</ins> an explicit formulation is a description in extension of a mathematical model (composed of variable(s), function(s), constraint(s)), and data. \n",
    "<br>\n",
    "<ins>Hints:</ins> the formulation to implement in JuMP is the following:\n",
    "$$ \\begin{aligned}\n",
    "\\max\\quad & 5 x_1 + 3 x_2 + 2 x_3 + 7 x_4 + 4 x_5\\\\\n",
    "\\text{Subject to} \\quad & 2 x_1 + 8 x_2 + 4 x_3 + 2 x_4 + 5 x_5 \\leq 10\\\\\n",
    " & x_1, x_2, x_3, x_4, x_5 \\in \\{0, 1\\}\\\\\n",
    "\\end{aligned} $$"
   ]
  },
  {
   "cell_type": "markdown",
   "metadata": {},
   "source": [
    "#### declare the package(s) to use:"
   ]
  },
  {
   "cell_type": "code",
   "execution_count": null,
   "metadata": {},
   "outputs": [],
   "source": [
    "using JuMP, HiGHS"
   ]
  },
  {
   "cell_type": "markdown",
   "metadata": {},
   "source": [
    "<br>\n",
    "\n",
    "#### setup the formulation:"
   ]
  },
  {
   "cell_type": "code",
   "execution_count": null,
   "metadata": {},
   "outputs": [],
   "source": [
    "kp = Model( )\n",
    "\n",
    "@variable(kp, x1, Bin)\n",
    "@variable(kp, x2, Bin)\n",
    "@variable(kp, x3, Bin)\n",
    "@variable(kp, x4, Bin)\n",
    "@variable(kp, x5, Bin)\n",
    "@objective(kp, Max, 5x1 + 3x2 + 2x3 + 7x4 + 4x5)\n",
    "@constraint(kp, 2x1 + 8x2 + 4x3 + 2x4 + 5x5 ≤ 10)"
   ]
  },
  {
   "cell_type": "markdown",
   "metadata": {},
   "source": [
    "<br>\n",
    "\n",
    "#### display the model:\n",
    "<ins>Hints:</ins> see `print()`"
   ]
  },
  {
   "cell_type": "code",
   "execution_count": null,
   "metadata": {},
   "outputs": [],
   "source": [
    "print(kp)"
   ]
  },
  {
   "cell_type": "markdown",
   "metadata": {},
   "source": [
    "<br>\n",
    "\n",
    "----\n",
    "### 2. Compute and display the optimal solution of the 01UKP solved using HiGHS as MIP solver. "
   ]
  },
  {
   "cell_type": "markdown",
   "metadata": {},
   "source": [
    "#### setup the MIP solver to use:"
   ]
  },
  {
   "cell_type": "code",
   "execution_count": null,
   "metadata": {},
   "outputs": [],
   "source": [
    "set_optimizer(kp, HiGHS.Optimizer)\n",
    "set_silent(kp)"
   ]
  },
  {
   "cell_type": "markdown",
   "metadata": {},
   "source": [
    "<br>\n",
    "\n",
    "#### compute the optimal solution:"
   ]
  },
  {
   "cell_type": "code",
   "execution_count": null,
   "metadata": {},
   "outputs": [],
   "source": [
    "optimize!(kp)"
   ]
  },
  {
   "cell_type": "markdown",
   "metadata": {},
   "source": [
    "<br>\n",
    "\n",
    "#### display the results:"
   ]
  },
  {
   "cell_type": "code",
   "execution_count": null,
   "metadata": {},
   "outputs": [],
   "source": [
    "if is_solved_and_feasible(kp)\n",
    "    println(\"zOpt: \", objective_value(kp))\n",
    "    println(\"xOpt: \", value(x1),\"|1  \", value(x2),\"|2  \", value(x3),\"|3  \", value(x4),\"|4  \", value(x5),\"|5\")\n",
    "end"
   ]
  },
  {
   "cell_type": "markdown",
   "metadata": {},
   "source": [
    "<br>\n",
    "<ins> Remark:</ins> use `value(kp[:x1])` for refering a variable using the name of a model"
   ]
  },
  {
   "cell_type": "markdown",
   "metadata": {},
   "source": [
    "<br>\n",
    "<ins> Remark:</ins> in general, a MIP solver manages all decision variables as floating type variables. The values returned may be an approximation of integer values. Refine the output consequently. \n",
    "\n",
    "<ins> Hints:</ins> see functions `convert()` and `round()`."
   ]
  },
  {
   "cell_type": "code",
   "execution_count": null,
   "metadata": {},
   "outputs": [],
   "source": [
    "convert(Int,value(x1))"
   ]
  },
  {
   "cell_type": "code",
   "execution_count": null,
   "metadata": {},
   "outputs": [],
   "source": [
    "round(0.999,digits=0)"
   ]
  },
  {
   "cell_type": "code",
   "execution_count": null,
   "metadata": {},
   "outputs": [],
   "source": [
    "convert(Int, round(0.999,digits=0))"
   ]
  },
  {
   "cell_type": "code",
   "execution_count": null,
   "metadata": {},
   "outputs": [],
   "source": [
    "if is_solved_and_feasible(kp)\n",
    "    println(\"zOpt: \", convert(Int, round(objective_value(kp))))\n",
    "    println(\"xOpt: \", convert(Int, round(value(x1),digits=0)),\"|1  \",\n",
    "                      convert(Int, round(value(x2),digits=0)),\"|2  \", \n",
    "                      convert(Int, round(value(x3),digits=0)),\"|3  \", \n",
    "                      convert(Int, round(value(x4),digits=0)),\"|4  \", \n",
    "                      convert(Int, round(value(x5),digits=0)),\"|5\")\n",
    "end"
   ]
  },
  {
   "cell_type": "markdown",
   "metadata": {},
   "source": [
    "<br> \n",
    "\n",
    "----\n",
    "### 3. Compute the linear relaxation using HiGHS as LP solver and display the solution.\n",
    "<ins>Hints:</ins> see the type of variables of a JuMP model"
   ]
  },
  {
   "cell_type": "code",
   "execution_count": null,
   "metadata": {},
   "outputs": [],
   "source": [
    "kpLP = Model( )\n",
    "\n",
    "@variable(kpLP, 0≤x1lp≤1)\n",
    "@variable(kpLP, 0≤x2lp≤1)\n",
    "@variable(kpLP, 0≤x3lp≤1)\n",
    "@variable(kpLP, 0≤x4lp≤1)\n",
    "@variable(kpLP, 0≤x5lp≤1)\n",
    "@objective(kpLP, Max, 5x1lp + 3x2lp + 2x3lp + 7x4lp + 4x5lp)\n",
    "@constraint(kpLP, 2x1lp + 8x2lp + 4x3lp + 2x4lp + 5x5lp ≤ 10)\n",
    "\n",
    "set_optimizer(kpLP, HiGHS.Optimizer)\n",
    "set_silent(kpLP)\n",
    "\n",
    "optimize!(kpLP)\n",
    "\n",
    "if is_solved_and_feasible(kpLP)\n",
    "    println(\"zOpt: \", objective_value(kpLP))\n",
    "    println(\"xOpt: \", value(x1lp),\"|1  \", value(x2lp),\"|2  \", value(x3lp),\"|3  \", value(x4lp),\"|4  \", value(x5lp),\"|5\")\n",
    "end"
   ]
  },
  {
   "cell_type": "markdown",
   "metadata": {},
   "source": [
    "<ins>Hints:</ins> see `relax_integrality()`"
   ]
  },
  {
   "cell_type": "code",
   "execution_count": null,
   "metadata": {},
   "outputs": [],
   "source": [
    "relax = relax_integrality(kp) # all variables are continuous and 0 ≤ x_i ≤ 1\n",
    "print(kp)\n",
    "\n",
    "optimize!(kp)\n",
    "println(\"zOpt: \", objective_value(kp))\n",
    "println(\"xOpt:  1| \", value(x1),\"  2| \", value(x2),\"  3| \", value(x3),\"  4| \", value(x4),\"  5| \", value(x5))\n",
    "\n",
    "relax() # restore the definition of variables"
   ]
  }
 ],
 "metadata": {
  "celltoolbar": "Raw Cell Format",
  "kernelspec": {
   "display_name": "Julia 1.10.5",
   "language": "julia",
   "name": "julia-1.10"
  },
  "language_info": {
   "file_extension": ".jl",
   "mimetype": "application/julia",
   "name": "julia",
   "version": "1.10.5"
  }
 },
 "nbformat": 4,
 "nbformat_minor": 4
}
