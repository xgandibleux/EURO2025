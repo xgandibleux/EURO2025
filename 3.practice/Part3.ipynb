{
 "cells": [
  {
   "cell_type": "markdown",
   "metadata": {},
   "source": [
    "## Disclaimer\n",
    "\n",
    "**Environment:** This notebook has been tested with:\n",
    "\n",
    "- Julia v1.11.x\n",
    "- JuMP.jl v1.26.x\n",
    "- HiGHS v1.18.1\n",
    "\n",
    "**Author:** Xavier Gandibleux, Nantes (France)\n"
   ]
  },
  {
   "cell_type": "markdown",
   "metadata": {},
   "source": [
    "----"
   ]
  },
  {
   "cell_type": "markdown",
   "metadata": {},
   "source": [
    "## Part 3: Multi-Objective Optimization\n",
    "\n",
    "Given the bi-objective 01 Unidimensional Knapsack Problem (bi-01UKP) formulated by \n",
    "$$z=\\max\\big\\{(p^1x,\\ p^2x) \\mid wx \\le c, \\ x\\in\\{0,1\\}^n\\big\\}$$\n",
    "\n",
    "and the numerical instance corresponding to \n",
    "$$n=5$$\n",
    "$$p^1=(6, \\ 4, \\ 4, \\ 4, \\ 3)$$\n",
    "$$p^2=(12, 10, \\ 5, \\ 3, \\ 1)$$\n",
    "$$w=(\\ 8, \\ 6, \\ 4, \\ 3, \\ 2)$$\n",
    "$$c=15$$\n",
    "\n",
    "answer to the following questions:\n",
    "\n",
    "1. using the package `JuMP`, implement an implicit formulation of the bi-01UKP and display the model.\n",
    "2. using the package `MultiObjectiveAlgorithms`, compute and display $X_E$ and $Y_N$, a set of efficient solutions and the set of non-dominated points.\n",
    "3. using the package `Plots`, display $Y_N$ in the objective space $Y$\n",
    "4. using this learning, implement the required codes to solve instances of the bi-objective General Assignment Problem (biGAP).\n"
   ]
  },
  {
   "cell_type": "markdown",
   "metadata": {},
   "source": [
    "## Answers:\n",
    "\n",
    "----\n",
    "### 1. using the package `JuMP`, implement an implicit formulation of the bi-01UKP and display the model."
   ]
  },
  {
   "cell_type": "markdown",
   "metadata": {},
   "source": [
    "#### declare the package(s) to use:"
   ]
  },
  {
   "cell_type": "code",
   "execution_count": null,
   "metadata": {},
   "outputs": [],
   "source": []
  },
  {
   "cell_type": "markdown",
   "metadata": {},
   "source": [
    "#### setup the instance to solve"
   ]
  },
  {
   "cell_type": "code",
   "execution_count": null,
   "metadata": {},
   "outputs": [],
   "source": []
  },
  {
   "cell_type": "markdown",
   "metadata": {},
   "source": [
    "#### setup the formulation"
   ]
  },
  {
   "cell_type": "code",
   "execution_count": null,
   "metadata": {},
   "outputs": [],
   "source": []
  },
  {
   "cell_type": "markdown",
   "metadata": {},
   "source": [
    "---- \n",
    "### 2. using the package `MultiObjectiveAlgorithms`, compute $Y_N$, the set of non-dominated points."
   ]
  },
  {
   "cell_type": "markdown",
   "metadata": {},
   "source": [
    "#### setup the MIP solver to use"
   ]
  },
  {
   "cell_type": "code",
   "execution_count": null,
   "metadata": {},
   "outputs": [],
   "source": []
  },
  {
   "cell_type": "markdown",
   "metadata": {},
   "source": [
    "#### setup the algorithm to use"
   ]
  },
  {
   "cell_type": "code",
   "execution_count": null,
   "metadata": {},
   "outputs": [],
   "source": []
  },
  {
   "cell_type": "markdown",
   "metadata": {},
   "source": [
    "#### solve the problem"
   ]
  },
  {
   "cell_type": "code",
   "execution_count": null,
   "metadata": {},
   "outputs": [],
   "source": []
  },
  {
   "cell_type": "markdown",
   "metadata": {},
   "source": [
    "#### query the number of points in $Y_N$"
   ]
  },
  {
   "cell_type": "code",
   "execution_count": null,
   "metadata": {},
   "outputs": [],
   "source": []
  },
  {
   "cell_type": "markdown",
   "metadata": {},
   "source": [
    "#### query the summary of the 3rd point"
   ]
  },
  {
   "cell_type": "code",
   "execution_count": null,
   "metadata": {},
   "outputs": [],
   "source": []
  },
  {
   "cell_type": "markdown",
   "metadata": {},
   "source": [
    "#### query the vector values of the 3rd point"
   ]
  },
  {
   "cell_type": "code",
   "execution_count": null,
   "metadata": {},
   "outputs": [],
   "source": []
  },
  {
   "cell_type": "markdown",
   "metadata": {},
   "source": [
    "#### query the value for the first objective of the 3rd point"
   ]
  },
  {
   "cell_type": "code",
   "execution_count": null,
   "metadata": {},
   "outputs": [],
   "source": []
  },
  {
   "cell_type": "markdown",
   "metadata": {},
   "source": [
    "#### display $X_E$ and $Y_N$"
   ]
  },
  {
   "cell_type": "code",
   "execution_count": null,
   "metadata": {},
   "outputs": [],
   "source": []
  },
  {
   "cell_type": "markdown",
   "metadata": {},
   "source": [
    "----\n",
    "### 3. using the package `Plots`, display $Y_N$ in the objective space $Y$"
   ]
  },
  {
   "cell_type": "markdown",
   "metadata": {},
   "source": [
    "#### declare the package(s) to use:"
   ]
  },
  {
   "cell_type": "code",
   "execution_count": null,
   "metadata": {},
   "outputs": [],
   "source": []
  },
  {
   "cell_type": "markdown",
   "metadata": {},
   "source": [
    "#### plot $Y_N$ in $Y$:"
   ]
  },
  {
   "cell_type": "code",
   "execution_count": null,
   "metadata": {},
   "outputs": [],
   "source": []
  }
 ],
 "metadata": {
  "celltoolbar": "Raw Cell Format",
  "kernelspec": {
   "display_name": "Julia 1.10.5",
   "language": "julia",
   "name": "julia-1.10"
  },
  "language_info": {
   "file_extension": ".jl",
   "mimetype": "application/julia",
   "name": "julia",
   "version": "1.10.5"
  }
 },
 "nbformat": 4,
 "nbformat_minor": 4
}
