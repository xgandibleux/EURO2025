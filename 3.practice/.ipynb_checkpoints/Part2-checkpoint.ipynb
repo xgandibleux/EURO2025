{
 "cells": [
  {
   "cell_type": "markdown",
   "metadata": {},
   "source": [
    "## Disclaimer\n",
    "\n",
    "**Environment:** This notebook has been tested with:\n",
    "\n",
    "- Julia v1.11.x\n",
    "- JuMP.jl v1.26.x\n",
    "- HiGHS v1.18.1\n",
    "\n",
    "**Author:** Xavier Gandibleux, Nantes (France)\n"
   ]
  },
  {
   "cell_type": "markdown",
   "metadata": {},
   "source": [
    "----"
   ]
  },
  {
   "cell_type": "markdown",
   "metadata": {},
   "source": [
    "## Part 2: Single-Objective Optimization\n",
    "\n",
    "Given the 01 Unidimensional Knapsack Problem (01UKP) formulated by \n",
    "$$z=\\max\\big\\{px \\mid wx \\le c, \\ x\\in\\{0,1\\}^n\\big\\}$$\n",
    "\n",
    "and the numerical instance corresponding to \n",
    "$$n=5$$\n",
    "$$p=(5, 3, 2, 7, 4)$$\n",
    "$$w=(2, 8, 4, 2, 5)$$\n",
    "$$c=10$$\n",
    "\n",
    "answer to the following questions:\n",
    "\n",
    "1. implement an explicit formulation of the 01UKP with JuMP and display the model.\n",
    "2. compute the optimal solution using HiGHS as MIP solver and display the solution.\n",
    "3. compute the linear relaxation using HiGHS as LP solver and display the solution.\n"
   ]
  },
  {
   "cell_type": "markdown",
   "metadata": {},
   "source": [
    "## Answers:"
   ]
  },
  {
   "cell_type": "markdown",
   "metadata": {},
   "source": [
    "----\n",
    "### 1. implement and display an explicit formulation of the 01UKP with JuMP.\n",
    "\n",
    "<ins>indications:</ins> an explicit formulation is a description in extension of a mathematical model (composed of variable(s), function(s), constraint(s)), and data. \n",
    "<br>\n",
    "<ins>Hints:</ins> the formulation to implement in JuMP is the following:\n",
    "$$ \\begin{aligned}\n",
    "\\max\\quad & 5 x_1 + 3 x_2 + 2 x_3 + 7 x_4 + 4 x_5\\\\\n",
    "\\text{Subject to} \\quad & 2 x_1 + 8 x_2 + 4 x_3 + 2 x_4 + 5 x_5 \\leq 10\\\\\n",
    " & x_1, x_2, x_3, x_4, x_5 \\in \\{0, 1\\}\\\\\n",
    "\\end{aligned} $$"
   ]
  },
  {
   "cell_type": "markdown",
   "metadata": {},
   "source": [
    "#### declare the package(s) to use:"
   ]
  },
  {
   "cell_type": "code",
   "execution_count": null,
   "metadata": {},
   "outputs": [],
   "source": []
  },
  {
   "cell_type": "markdown",
   "metadata": {},
   "source": [
    "<br>\n",
    "\n",
    "#### setup the formulation:"
   ]
  },
  {
   "cell_type": "code",
   "execution_count": null,
   "metadata": {},
   "outputs": [],
   "source": []
  },
  {
   "cell_type": "markdown",
   "metadata": {},
   "source": [
    "<br>\n",
    "\n",
    "#### display the model:\n",
    "<ins>Hints:</ins> see `print()`"
   ]
  },
  {
   "cell_type": "code",
   "execution_count": null,
   "metadata": {},
   "outputs": [],
   "source": []
  },
  {
   "cell_type": "markdown",
   "metadata": {},
   "source": [
    "<br>\n",
    "\n",
    "----\n",
    "### 2. Compute and display the optimal solution of the 01UKP solved using HiGHS as MIP solver. "
   ]
  },
  {
   "cell_type": "markdown",
   "metadata": {},
   "source": [
    "#### setup the MIP solver to use:"
   ]
  },
  {
   "cell_type": "code",
   "execution_count": null,
   "metadata": {},
   "outputs": [],
   "source": []
  },
  {
   "cell_type": "markdown",
   "metadata": {},
   "source": [
    "<br>\n",
    "\n",
    "#### compute the optimal solution:"
   ]
  },
  {
   "cell_type": "code",
   "execution_count": null,
   "metadata": {},
   "outputs": [],
   "source": []
  },
  {
   "cell_type": "markdown",
   "metadata": {},
   "source": [
    "<br>\n",
    "\n",
    "#### display the results:"
   ]
  },
  {
   "cell_type": "code",
   "execution_count": null,
   "metadata": {},
   "outputs": [],
   "source": []
  },
  {
   "cell_type": "markdown",
   "metadata": {},
   "source": [
    "<br>\n",
    "<ins> Remark:</ins> in general, a MIP solver manages all decision variables as floating type variables. The values returned may be an approximation of integer values. Refine the output consequently. \n",
    "\n",
    "<ins> Hints:</ins> see functions `convert()` and `round()`."
   ]
  },
  {
   "cell_type": "code",
   "execution_count": null,
   "metadata": {},
   "outputs": [],
   "source": []
  },
  {
   "cell_type": "markdown",
   "metadata": {},
   "source": [
    "<br> \n",
    "\n",
    "----\n",
    "### 3. Compute the linear relaxation using HiGHS as LP solver and display the solution.\n",
    "<ins>Hints:</ins> see the type of variables of a JuMP model"
   ]
  },
  {
   "cell_type": "code",
   "execution_count": null,
   "metadata": {},
   "outputs": [],
   "source": []
  },
  {
   "cell_type": "markdown",
   "metadata": {},
   "source": [
    "<ins>Hints:</ins> see `relax_integrality()`"
   ]
  },
  {
   "cell_type": "code",
   "execution_count": null,
   "metadata": {},
   "outputs": [],
   "source": []
  }
 ],
 "metadata": {
  "celltoolbar": "Raw Cell Format",
  "kernelspec": {
   "display_name": "Julia 1.10.5",
   "language": "julia",
   "name": "julia-1.10"
  },
  "language_info": {
   "file_extension": ".jl",
   "mimetype": "application/julia",
   "name": "julia",
   "version": "1.10.5"
  }
 },
 "nbformat": 4,
 "nbformat_minor": 4
}
