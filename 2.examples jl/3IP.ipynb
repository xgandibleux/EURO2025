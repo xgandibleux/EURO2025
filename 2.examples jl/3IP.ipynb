{
 "cells": [
  {
   "cell_type": "markdown",
   "id": "0519b386-299e-4422-b95e-679b67105ecb",
   "metadata": {},
   "source": [
    "# The 3-IP model"
   ]
  },
  {
   "cell_type": "markdown",
   "id": "2fa02492-9bcc-489d-8467-c7b6b3f3cc0a",
   "metadata": {},
   "source": [
    "$$\n",
    "\\begin{array}{crrcrrrl}\n",
    "\\max z_1 & = & x_1 & + & x_2  \\\\\n",
    "\\max z_2 & = & x_1 & + & 3x_2 \\\\\n",
    "\\max z_2 & = & 6x_1 & + & 2x_2 \\\\\n",
    "s.t. & \\\\\n",
    "    &&  2x_1 & + &  3x_2 & \\le & 30 \\\\\n",
    "    &&  3x_1 & + &  2x_2 & \\le & 30 \\\\\n",
    "    &&   x_1 & - &   x_2 & \\le & 5.5 \\\\\n",
    "    &&   x_1 & , &   x_2 & \\in & \\mathbb{N}\n",
    "\\end{array}\n",
    "$$"
   ]
  },
  {
   "cell_type": "markdown",
   "id": "e7cfb9a7-1705-4a6b-b9b1-98e7e6e6e6c9",
   "metadata": {},
   "source": [
    "------"
   ]
  },
  {
   "cell_type": "markdown",
   "id": "d23691af-3751-48d0-b8aa-33c5f7a46c72",
   "metadata": {},
   "source": [
    "# The JuMP model"
   ]
  },
  {
   "cell_type": "code",
   "execution_count": null,
   "id": "1b089261-a309-4ac7-b362-43ee66bafd1a",
   "metadata": {},
   "outputs": [],
   "source": [
    "using JuMP, HiGHS\n",
    "import MultiObjectiveAlgorithms as MOA"
   ]
  },
  {
   "cell_type": "code",
   "execution_count": null,
   "id": "011e050a-242b-45e5-8e40-ff3caa7e52dc",
   "metadata": {},
   "outputs": [],
   "source": [
    "model = Model( )\n",
    "@variable(model, x1≥0, Int)\n",
    "@variable(model, x2≥0, Int)\n",
    "@expression(model, fct1, x1 + x2)\n",
    "@expression(model, fct2, x1 + 3 * x2)\n",
    "@expression(model, fct3, 6*x1 + 2 * x2)\n",
    "@objective(model, Max, [fct1, fct2, fct3])\n",
    "@constraint(model, 2*x1 + 3*x2 ≤ 30)\n",
    "@constraint(model, 3*x1 + 2*x2 ≤ 30)\n",
    "@constraint(model, x1 - x2 ≤ 5.5)\n",
    "print(model)"
   ]
  },
  {
   "cell_type": "code",
   "execution_count": null,
   "id": "fd7a0097-bc79-4942-945c-dae6c78fdf32",
   "metadata": {},
   "outputs": [],
   "source": [
    "set_optimizer(model,()->MOA.Optimizer(HiGHS.Optimizer))\n",
    "set_attribute(model, MOA.Algorithm(), MOA.KirlikSayin())\n",
    "#set_attribute(model, MOA.Algorithm(), MOA.DominguezRios())\n",
    "#set_attribute(model, MOA.Algorithm(), MOA.TambyVanderpooten())\n",
    "set_silent(model)\n",
    "optimize!(model)"
   ]
  },
  {
   "cell_type": "code",
   "execution_count": null,
   "id": "8717580a-f0f0-40dd-8c56-0450864881e0",
   "metadata": {},
   "outputs": [],
   "source": [
    "for i in 1:result_count(model)\n",
    "       z1_opt = objective_value(model; result = i)[1]\n",
    "       z2_opt = objective_value(model; result = i)[2]\n",
    "       z3_opt = objective_value(model; result = i)[3]\n",
    "       x1_opt = value(x1; result = i)\n",
    "       x2_opt = value(x2; result = i)\n",
    "       println(\"$i: x=($x1_opt, $x2_opt) || y=f(x)=( $z1_opt , $z2_opt , $z3_opt)\")\n",
    "end"
   ]
  },
  {
   "cell_type": "code",
   "execution_count": null,
   "id": "9850317d-47b2-4400-9f0b-bd4bcf1fb53e",
   "metadata": {},
   "outputs": [],
   "source": []
  }
 ],
 "metadata": {
  "kernelspec": {
   "display_name": "Julia 1.10.5",
   "language": "julia",
   "name": "julia-1.10"
  },
  "language_info": {
   "file_extension": ".jl",
   "mimetype": "application/julia",
   "name": "julia",
   "version": "1.10.5"
  }
 },
 "nbformat": 4,
 "nbformat_minor": 5
}
